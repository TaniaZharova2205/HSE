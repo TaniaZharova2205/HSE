{
 "cells": [
  {
   "cell_type": "markdown",
   "id": "588cfb3e",
   "metadata": {},
   "source": [
    "Палиндром - это строка, которая читается одинаково как справа налево, так и слева направо.\n",
    "\n",
    "На вход программы поступает набор больших латинских букв (не обязательно различных). Разрешается переставлять буквы, а также удалять некоторые буквы. Требуется из данных букв по указанным правилам составить палиндром наибольшей длины, а если таких палиндромов несколько, то выбрать первый из них в алфавитном порядке.\n",
    "\n",
    "*Формат ввода*\n",
    "В первой строке входных данных содержится целое число $n(1\\le n \\le 10^4)$.\n",
    "\n",
    "Во второй строке задается последовательность из n больших латинских букв (буквы записаны без пробелов).\n",
    "\n",
    "*Формат вывода*\n",
    "\n",
    "В единственной строке выходных данных выдайте искомый палиндром."
   ]
  },
  {
   "cell_type": "code",
   "execution_count": 1,
   "id": "f86b06a7",
   "metadata": {},
   "outputs": [
    {
     "name": "stdout",
     "output_type": "stream",
     "text": [
      "AQZZQA\n"
     ]
    },
    {
     "data": {
      "text/plain": [
       "'\\n6\\nQAZQAZ\\n'"
      ]
     },
     "execution_count": 1,
     "metadata": {},
     "output_type": "execute_result"
    }
   ],
   "source": [
    "n = int(input())\n",
    "st = list(input())\n",
    "d = {}\n",
    "\n",
    "for i in range(n - 1):\n",
    "    m = i\n",
    "    for j in range(i + 1, n):\n",
    "        if st[j] < st[m]:\n",
    "            m = j\n",
    "    st[i], st[m] = st[m], st[i]\n",
    "        \n",
    "for i in st:\n",
    "    if i in d.keys():\n",
    "        d[i] += 1\n",
    "    else:\n",
    "        d[i] = 1\n",
    "st = ''\n",
    "l = 'Я' \n",
    "for key, value in d.items():\n",
    "    st += key * (value // 2)\n",
    "    if value % 2 == 1 and key < l:\n",
    "        l = key\n",
    "if l != 'Я':\n",
    "    print(st+l+st[::-1])\n",
    "else:\n",
    "    print(st+st[::-1])\n",
    "\n",
    "'''\n",
    "6\n",
    "QAZQAZ\n",
    "'''"
   ]
  },
  {
   "cell_type": "markdown",
   "id": "124fa7ea",
   "metadata": {},
   "source": [
    "Дана строка s, состоящая из строчных букв латинского алфавита. Будем считать, что элементы строки нумеруются от 0 до ∣s∣−1.\n",
    "\n",
    "Требуется для всех i от 0 до ∣s∣−1 вычислить её префикс-функцию π[i].\n",
    "\n",
    "*Формат ввода*\n",
    "\n",
    "Одна строка $s(1≤∣s∣≤10^6)$, состоящая из строчных букв латинского алфавита.\n",
    "\n",
    "*Формат вывода*\n",
    "\n",
    "Выведите ∣s∣ чисел – значения префикс-функции для каждой позиции, разделённые пробелом."
   ]
  },
  {
   "cell_type": "code",
   "execution_count": 2,
   "id": "20c97c84",
   "metadata": {},
   "outputs": [
    {
     "name": "stdout",
     "output_type": "stream",
     "text": [
      "0 0 0 1 0 1 0 1 2 3 4\n"
     ]
    },
    {
     "data": {
      "text/plain": [
       "'\\nabracadabra\\n'"
      ]
     },
     "execution_count": 2,
     "metadata": {},
     "output_type": "execute_result"
    }
   ],
   "source": [
    "def prefix_function(s):\n",
    "    n = len(s)\n",
    "    pi = [0] * n\n",
    "    for i in range(1, n):\n",
    "        j = pi[i - 1]\n",
    "        while j > 0 and s[i] != s[j]:\n",
    "            j = pi[j - 1]\n",
    "        if s[i] == s[j]:\n",
    "            j += 1\n",
    "        pi[i] = j\n",
    "    return pi\n",
    "s = input()\n",
    "print(' '.join(map(str, prefix_function(s))))\n",
    "\n",
    "'''\n",
    "abracadabra\n",
    "'''"
   ]
  },
  {
   "cell_type": "markdown",
   "id": "7e226f13",
   "metadata": {},
   "source": [
    "Реализовать алгоритм Кнута - Морриса - Пратта для поиска подстроки в строке.\n",
    "\n",
    "*Формат ввода*\n",
    "\n",
    "Первая строка – $s(0≤∣s∣≤1000)$ – строка, вхождения которой ищем.\n",
    "\n",
    "Вторая строка – $t(0≤∣t∣≤10^7)$ – текст, в котором ищутся вхождения строки.\n",
    "\n",
    "Гарантируется, что строки состоят только из букв латинского алфавита.\n",
    "\n",
    "*Формат вывода*\n",
    "\n",
    "На первой строке выходного файла – количество вхождений строки в текст.\n",
    "\n",
    "Гарантируется, что количество вхождений строки в текст не превышает $10^6$.\n",
    "\n",
    "На каждой следующей строке выходного файла номера позиций (индексирование ведётся с 0), с которых начинаются очередные вхождения строки. За последним номером также следует перенос строки."
   ]
  },
  {
   "cell_type": "code",
   "execution_count": 3,
   "id": "4e394602",
   "metadata": {},
   "outputs": [
    {
     "name": "stdout",
     "output_type": "stream",
     "text": [
      "3\n",
      "5\n",
      "11\n",
      "15\n"
     ]
    },
    {
     "data": {
      "text/plain": [
       "'\\nbc\\ndcbbabcaababcccbcbba\\n'"
      ]
     },
     "execution_count": 3,
     "metadata": {},
     "output_type": "execute_result"
    }
   ],
   "source": [
    "def prefix_function(s):\n",
    "    n = len(s)\n",
    "    pi = [0] * n\n",
    "    for i in range(1, n):\n",
    "        j = pi[i - 1]\n",
    "        while j > 0 and s[i] != s[j]:\n",
    "            j = pi[j - 1]\n",
    "        if s[i] == s[j]:\n",
    "            j += 1\n",
    "        pi[i] = j\n",
    "    return pi\n",
    "    \n",
    "pattern = input()\n",
    "text = input()\n",
    "br = prefix_function(pattern + '#' + text)\n",
    "count = 0\n",
    "lst = []\n",
    "for i in range(len(br)):\n",
    "    if br[i] == len(pattern):\n",
    "        count += 1\n",
    "        lst.append(i - 2 * len(pattern))\n",
    "print(count)\n",
    "for i in lst:\n",
    "    print(i)\n",
    "\n",
    "'''\n",
    "bc\n",
    "dcbbabcaababcccbcbba\n",
    "'''"
   ]
  },
  {
   "cell_type": "markdown",
   "id": "7cab8f8f",
   "metadata": {},
   "source": [
    "В данной задаче вы должны реализовать поиск расстояния Левенштейна между строками.\n",
    "\n",
    "*Формат ввода*\n",
    "\n",
    "В первой строке число $n(1≤n≤10^6)$ - количество пар строк, которые надо сравнить и вычислить расстояния Левенштейна.\n",
    "\n",
    "Затем идут $2⋅n$ строк $s_i(0≤∣s_i∣≤4000)$, которые и надо сравнить попарно.\n",
    "\n",
    "Смотрите примеры для лучшего понимания.\n",
    "\n",
    "*Формат вывода*\n",
    "\n",
    "На выходе - одна строка, в которой n чисел, разделенных пробелами, каждое число - это минимальное расстояние Левенштейна для пары строк.\n",
    "\n",
    "Расстояния должны соответствовать порядку пар строк для сравнения на входе (1-е число - расстояние для 1-й пары, 2-е число - расстояние для 2-й пары...)."
   ]
  },
  {
   "cell_type": "code",
   "execution_count": 5,
   "id": "642f2600",
   "metadata": {},
   "outputs": [
    {
     "name": "stdout",
     "output_type": "stream",
     "text": [
      "3 2\n"
     ]
    },
    {
     "data": {
      "text/plain": [
       "'\\n2\\nsunday\\nsaturday\\nsunday\\nsudnay\\n\\n'"
      ]
     },
     "execution_count": 5,
     "metadata": {},
     "output_type": "execute_result"
    }
   ],
   "source": [
    "def wagner_fischer(s, t):\n",
    "    n, m = len(s), len(t)\n",
    "    dp = [[0] * (m + 1) for _ in range(n + 1)]\n",
    "\n",
    "    for i in range(n + 1):\n",
    "        dp[i][0] = i\n",
    "    for j in range(m + 1):\n",
    "        dp[0][j] = j\n",
    "\n",
    "    for i in range(1, n + 1):\n",
    "        for j in range(1, m + 1):\n",
    "            cost = 0 if s[i - 1] == t[j - 1] else 1\n",
    "            dp[i][j] = min(\n",
    "                dp[i - 1][j] + 1,\n",
    "                dp[i][j - 1] + 1,\n",
    "                dp[i - 1][j - 1] + cost\n",
    "            )\n",
    "    return dp[n][m]\n",
    "\n",
    "n = int(input())\n",
    "lst = []\n",
    "while n > 0:\n",
    "    s1 = input()\n",
    "    s2 = input()\n",
    "    lst.append(wagner_fischer(s1, s2))\n",
    "    n -= 1\n",
    "print(' '.join(map(str, lst)))\n",
    "\n",
    "'''\n",
    "2\n",
    "sunday\n",
    "saturday\n",
    "sunday\n",
    "sudnay\n",
    "\n",
    "'''"
   ]
  },
  {
   "cell_type": "markdown",
   "id": "61e6093e",
   "metadata": {},
   "source": [
    "Найти все вхождения строки S в строку T.\n",
    "\n",
    "*Формат ввода*\n",
    "\n",
    "Первые две строки входных данных содержат строки T и S соответственно. Длины строк больше 0 и меньше 50000, строки содержат только строчные латинские буквы.\n",
    "\n",
    "*Формат вывода*\n",
    "\n",
    "Выведите номера символов, начиная с которых строка S входит в строку T, в порядке возрастания."
   ]
  },
  {
   "cell_type": "code",
   "execution_count": 6,
   "id": "977b05ba",
   "metadata": {},
   "outputs": [
    {
     "name": "stdout",
     "output_type": "stream",
     "text": [
      "0 5 7\n"
     ]
    },
    {
     "data": {
      "text/plain": [
       "'\\nababbababa\\naba\\n\\n'"
      ]
     },
     "execution_count": 6,
     "metadata": {},
     "output_type": "execute_result"
    }
   ],
   "source": [
    "def prefix_function(s):\n",
    "    n = len(s)\n",
    "    pi = [0] * n\n",
    "    for i in range(1, n):\n",
    "        j = pi[i - 1]\n",
    "        while j > 0 and s[i] != s[j]:\n",
    "            j = pi[j - 1]\n",
    "        if s[i] == s[j]:\n",
    "            j += 1\n",
    "        pi[i] = j\n",
    "    return pi\n",
    "    \n",
    "text = input()\n",
    "pattern = input()\n",
    "br = prefix_function(pattern + '#' + text)\n",
    "lst = []\n",
    "for i in range(len(br)):\n",
    "    if br[i] == len(pattern):\n",
    "        lst.append(i - 2 * len(pattern))\n",
    "print(' '.join(map(str, lst)))\n",
    "\n",
    "'''\n",
    "ababbababa\n",
    "aba\n",
    "\n",
    "'''"
   ]
  }
 ],
 "metadata": {
  "kernelspec": {
   "display_name": "Python 3",
   "language": "python",
   "name": "python3"
  },
  "language_info": {
   "codemirror_mode": {
    "name": "ipython",
    "version": 3
   },
   "file_extension": ".py",
   "mimetype": "text/x-python",
   "name": "python",
   "nbconvert_exporter": "python",
   "pygments_lexer": "ipython3",
   "version": "3.10.6"
  }
 },
 "nbformat": 4,
 "nbformat_minor": 5
}
