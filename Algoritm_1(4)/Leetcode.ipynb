{
 "cells": [
  {
   "cell_type": "code",
   "execution_count": 4,
   "id": "8f063a74",
   "metadata": {},
   "outputs": [],
   "source": [
    "from typing import List"
   ]
  },
  {
   "cell_type": "markdown",
   "id": "af14d8e4",
   "metadata": {},
   "source": [
    "# Лекция 1. Асимптотика. Введение в алгоритмы"
   ]
  },
  {
   "cell_type": "code",
   "execution_count": 5,
   "id": "6ef8cd7e",
   "metadata": {},
   "outputs": [
    {
     "data": {
      "text/plain": [
       "12.75"
      ]
     },
     "execution_count": 5,
     "metadata": {},
     "output_type": "execute_result"
    }
   ],
   "source": [
    "#https://leetcode.com/problems/maximum-average-subarray-i/description/\n",
    "def findMaxAverage(nums, k):\n",
    "    n = len(nums)\n",
    "    summa = []\n",
    "    summa.append(nums[0])\n",
    "    for i in range(1, n):\n",
    "        summa.append(summa[i-1]+nums[i])\n",
    "    if k==n:\n",
    "        return summa[n-1]/k\n",
    "    maximum = summa[k-1]\n",
    "    for i in range(k, n):\n",
    "        curr = summa[i] - summa[i-k]\n",
    "        if curr>maximum:\n",
    "            maximum = curr\n",
    "    return maximum / k\n",
    "findMaxAverage([1,12,-5,-6,50,3], 4) # should return 12.75"
   ]
  },
  {
   "cell_type": "code",
   "execution_count": 2,
   "id": "299a4d4c",
   "metadata": {},
   "outputs": [
    {
     "data": {
      "text/plain": [
       "2"
      ]
     },
     "execution_count": 2,
     "metadata": {},
     "output_type": "execute_result"
    }
   ],
   "source": [
    "#https://leetcode.com/problems/missing-number/description/\n",
    "def missingNumber(nums):\n",
    "    n = len(nums)\n",
    "    for i in range(0, n):\n",
    "        if i not in nums:\n",
    "            return i\n",
    "    return n\n",
    "missingNumber([3,0,1]) # should return 2"
   ]
  },
  {
   "cell_type": "code",
   "execution_count": 3,
   "id": "6c3306ca",
   "metadata": {},
   "outputs": [
    {
     "data": {
      "text/plain": [
       "4"
      ]
     },
     "execution_count": 3,
     "metadata": {},
     "output_type": "execute_result"
    }
   ],
   "source": [
    "#https://leetcode.com/problems/single-number/description/\n",
    "def singleNumber(nums) -> int:\n",
    "    d = {}\n",
    "    if len(nums) == 1:\n",
    "        return nums[0]\n",
    "    for i in nums:\n",
    "        if i in d.keys():\n",
    "            d[i] = d[i]+1\n",
    "        else:\n",
    "            d[i] = 1\n",
    "    for key, value in d.items():\n",
    "        if value%2!=0:\n",
    "            return key\n",
    "singleNumber([4,1,2,1,2]) # should return 4"
   ]
  },
  {
   "cell_type": "code",
   "execution_count": 4,
   "id": "a2b787af",
   "metadata": {},
   "outputs": [
    {
     "data": {
      "text/plain": [
       "3"
      ]
     },
     "execution_count": 4,
     "metadata": {},
     "output_type": "execute_result"
    }
   ],
   "source": [
    "#https://leetcode.com/problems/majority-element/description/\n",
    "def majorityElement(nums) -> int:\n",
    "    d = dict()\n",
    "    n = len(nums)\n",
    "    for i in nums:\n",
    "        if i in d:\n",
    "            d[i] = d[i] + 1\n",
    "        else:\n",
    "            d[i] = 1\n",
    "    for key, value in d.items():\n",
    "        if value > n//2:\n",
    "            return key\n",
    "majorityElement([3,2,3]) # should return 3"
   ]
  },
  {
   "cell_type": "markdown",
   "id": "7c26af93",
   "metadata": {},
   "source": [
    "# Лекция 2. Поиск. Бинарный поиск. Вещественный поиск. Интерполяционный поиск."
   ]
  },
  {
   "cell_type": "code",
   "execution_count": 8,
   "id": "d631fe09",
   "metadata": {},
   "outputs": [
    {
     "data": {
      "text/plain": [
       "9"
      ]
     },
     "execution_count": 8,
     "metadata": {},
     "output_type": "execute_result"
    }
   ],
   "source": [
    "#https://leetcode.com/problems/kth-missing-positive-number/description/\n",
    "def findKthPositive(arr, k):\n",
    "    n = len(arr)\n",
    "    missing = []\n",
    "    for i in range(1, n+1+k):\n",
    "        if i not in arr:\n",
    "            missing.append(i)\n",
    "    if k <= len(missing):\n",
    "        return missing[k-1]\n",
    "    else:\n",
    "        return -1\n",
    "findKthPositive([2,3,4,7,11], 5) # should return 9"
   ]
  },
  {
   "cell_type": "code",
   "execution_count": 3,
   "id": "9659d519",
   "metadata": {},
   "outputs": [
    {
     "data": {
      "text/plain": [
       "3"
      ]
     },
     "execution_count": 3,
     "metadata": {},
     "output_type": "execute_result"
    }
   ],
   "source": [
    "#https://leetcode.com/problems/single-element-in-a-sorted-array/\n",
    "def singleNonDuplicate(nums) -> int:\n",
    "    d = []\n",
    "    for i in nums:\n",
    "        if i in d:\n",
    "            d.remove(i)\n",
    "        else:\n",
    "            d.append(i)\n",
    "    return d[0]\n",
    "singleNonDuplicate([1,2,2,3,4,4,5,5,1]) # should return 3"
   ]
  },
  {
   "cell_type": "code",
   "execution_count": 7,
   "id": "28491f03",
   "metadata": {},
   "outputs": [
    {
     "data": {
      "text/plain": [
       "4"
      ]
     },
     "execution_count": 7,
     "metadata": {},
     "output_type": "execute_result"
    }
   ],
   "source": [
    "#https://leetcode.com/problems/search-in-rotated-sorted-array/description/\n",
    "def search(nums: List[int], target: int) -> int:\n",
    "    for i in range(len(nums)):\n",
    "        if nums[i] == target:\n",
    "            return i\n",
    "    return -1\n",
    "search([4,5,6,7,0,1,2], 0) # should return 4"
   ]
  },
  {
   "cell_type": "code",
   "execution_count": 9,
   "id": "6dfbf47e",
   "metadata": {},
   "outputs": [
    {
     "data": {
      "text/plain": [
       "True"
      ]
     },
     "execution_count": 9,
     "metadata": {},
     "output_type": "execute_result"
    }
   ],
   "source": [
    "#https://leetcode.com/problems/valid-perfect-square/\n",
    "def isPerfectSquare(num: int) -> bool:\n",
    "    l = -1\n",
    "    r = num\n",
    "    while l < r - 1:\n",
    "        m = (l + r) // 2\n",
    "        if m*m < num:\n",
    "            l = m\n",
    "        else:\n",
    "            r = m\n",
    "    if r*r == num:\n",
    "        return True\n",
    "    else:\n",
    "        return False\n",
    "isPerfectSquare(9) # should return true"
   ]
  },
  {
   "cell_type": "code",
   "execution_count": 10,
   "id": "1f294c73",
   "metadata": {},
   "outputs": [
    {
     "data": {
      "text/plain": [
       "1"
      ]
     },
     "execution_count": 10,
     "metadata": {},
     "output_type": "execute_result"
    }
   ],
   "source": [
    "#https://leetcode.com/problems/find-minimum-in-rotated-sorted-array/description/\n",
    "def findMin(nums: List[int]) -> int:\n",
    "    for i in range(1, len(nums)):\n",
    "        if nums[i]<nums[i-1]:\n",
    "            return nums[i]\n",
    "    return nums[0]\n",
    "findMin([3,4,5,1,2]) # should return 1"
   ]
  },
  {
   "cell_type": "markdown",
   "id": "9546548f",
   "metadata": {},
   "source": [
    "# Лекция 3. Базовые алгоритмы сортировки. Итеративные сортировки (пузырек, вставки, выбором). Интересные алгоритмы (префиксные суммы, сортировка событий)"
   ]
  },
  {
   "cell_type": "code",
   "execution_count": 12,
   "id": "83125fcf",
   "metadata": {},
   "outputs": [
    {
     "data": {
      "text/plain": [
       "[3]"
      ]
     },
     "execution_count": 12,
     "metadata": {},
     "output_type": "execute_result"
    }
   ],
   "source": [
    "#https://leetcode.com/problems/majority-element-ii/description/\n",
    "def majorityElement(nums: List[int]) -> List[int]:\n",
    "    d={}\n",
    "    res=[]\n",
    "    n = len(nums)/3\n",
    "    for i in nums:\n",
    "        if i in d:\n",
    "            d[i] += 1\n",
    "        else:\n",
    "            d[i] = 1\n",
    "    for key, value in d.items():\n",
    "        if value > n:\n",
    "            res.append(key)\n",
    "    return res\n",
    "majorityElement([3,2,3]) # should return [3]"
   ]
  },
  {
   "cell_type": "code",
   "execution_count": 16,
   "id": "cd648bea",
   "metadata": {},
   "outputs": [
    {
     "data": {
      "text/plain": [
       "'9534330'"
      ]
     },
     "execution_count": 16,
     "metadata": {},
     "output_type": "execute_result"
    }
   ],
   "source": [
    "#https://leetcode.com/problems/largest-number/submissions/1649786159/\n",
    "def largestNumber(nums: List[int]) -> str:\n",
    "    nums = list(map(str, nums))  \n",
    "    n = len(nums)\n",
    "    \n",
    "    for i in range(n):\n",
    "        max_idx = i  \n",
    "        for j in range(i + 1, n):\n",
    "            if nums[j] + nums[max_idx] > nums[max_idx] + nums[j]:\n",
    "                max_idx = j\n",
    "        nums[i], nums[max_idx] = nums[max_idx], nums[i]  \n",
    "    \n",
    "    result = ''.join(nums)\n",
    "    return '0' if result[0] == '0' else result \n",
    "largestNumber([3,30,34,5,9]) # should return 9534330"
   ]
  },
  {
   "cell_type": "code",
   "execution_count": null,
   "id": "a7ecb243",
   "metadata": {},
   "outputs": [
    {
     "data": {
      "text/plain": [
       "3"
      ]
     },
     "execution_count": 19,
     "metadata": {},
     "output_type": "execute_result"
    }
   ],
   "source": [
    "def arrayPairSum(nums: List[int]) -> int:\n",
    "    n = len(nums)\n",
    "    s = 0\n",
    "    for i in range(n-1):\n",
    "        min_idx = i\n",
    "        for j in range(i+1, n):\n",
    "            if nums[j] < nums[min_idx]:\n",
    "                min_idx = j\n",
    "        nums[min_idx], nums[i] = nums[i], nums[min_idx]\n",
    "        if i % 2 == 0:\n",
    "            s += nums[i]\n",
    "    return s\n",
    "arrayPairSum([1,2,3,2]) # should return 3"
   ]
  },
  {
   "cell_type": "code",
   "execution_count": 24,
   "id": "aa5ae2b5",
   "metadata": {},
   "outputs": [
    {
     "data": {
      "text/plain": [
       "10"
      ]
     },
     "execution_count": 24,
     "metadata": {},
     "output_type": "execute_result"
    }
   ],
   "source": [
    "#https://leetcode.com/problems/array-partition/\n",
    "def arrayPairSum(nums: List[int]) -> int:\n",
    "    counts = [0] * 20001  \n",
    "    min_val, max_val = -10000, 10000\n",
    "    \n",
    "    for num in nums:\n",
    "        counts[num + 10000] += 1\n",
    "    s = 0\n",
    "    is_even = True  \n",
    "    \n",
    "    for num in range(min_val, max_val + 1):\n",
    "        idx = num + 10000\n",
    "        while counts[idx] > 0:\n",
    "            if is_even:\n",
    "                s += num\n",
    "            is_even = not is_even\n",
    "            counts[idx] -= 1\n",
    "    \n",
    "    return s\n",
    "arrayPairSum([1,2,6,6,3,5]) # should return 10"
   ]
  },
  {
   "cell_type": "code",
   "execution_count": 27,
   "id": "b309c6cf",
   "metadata": {},
   "outputs": [
    {
     "data": {
      "text/plain": [
       "'eert'"
      ]
     },
     "execution_count": 27,
     "metadata": {},
     "output_type": "execute_result"
    }
   ],
   "source": [
    "# https://leetcode.com/problems/sort-characters-by-frequency/description/\n",
    "def frequencySort(s: str) -> str:\n",
    "    d = {}\n",
    "    str = \"\"\n",
    "    for i in s:\n",
    "        if i in d:\n",
    "            d[i] += 1\n",
    "        else:\n",
    "            d[i] = 1\n",
    "    chars = list(d.items())\n",
    "    n = len(chars)\n",
    "    for i in range(n-1):\n",
    "        max_idx = i\n",
    "        for j in range(i + 1, n):\n",
    "            if chars[j][1] > chars[max_idx][1]:\n",
    "                max_idx = j\n",
    "        chars[i], chars[max_idx] = chars[max_idx], chars[i]\n",
    "    \n",
    "    result = []\n",
    "    for char, count in chars:\n",
    "        result.append(char * count)\n",
    "    \n",
    "    return ''.join(result)\n",
    "frequencySort('tree') # should return eert"
   ]
  },
  {
   "cell_type": "markdown",
   "id": "a4546fb6",
   "metadata": {},
   "source": [
    "# Лекция 4. Рекурсия. Задачи на рекурсию"
   ]
  },
  {
   "cell_type": "code",
   "execution_count": 63,
   "id": "601793af",
   "metadata": {},
   "outputs": [
    {
     "data": {
      "text/plain": [
       "0"
      ]
     },
     "execution_count": 63,
     "metadata": {},
     "output_type": "execute_result"
    }
   ],
   "source": [
    "#https://leetcode.com/problems/find-kth-bit-in-nth-binary-string/description/\n",
    "def recursion(n,k):\n",
    "    if n==1:\n",
    "        return 0\n",
    "    elif k == 1<<(n-1):\n",
    "        return 1\n",
    "    elif k < 1<<(n-1):\n",
    "        return recursion(n-1, k)\n",
    "    else:\n",
    "        return recursion(n-1, (1<<n) - k)^1\n",
    "recursion(3, 1) # should return 0"
   ]
  },
  {
   "cell_type": "code",
   "execution_count": 56,
   "id": "c6201a31",
   "metadata": {},
   "outputs": [
    {
     "data": {
      "text/plain": [
       "0"
      ]
     },
     "execution_count": 56,
     "metadata": {},
     "output_type": "execute_result"
    }
   ],
   "source": [
    "#https://leetcode.com/problems/k-th-symbol-in-grammar/\n",
    "def recursion(n, k):\n",
    "    if n==1:\n",
    "        return 0\n",
    "    if k <= 1<<(n - 2):\n",
    "        return recursion(n-1, k)\n",
    "    else:\n",
    "        return recursion(n-1, k - (1<<(n-2)))^1\n",
    "recursion(2,1) # should return 0"
   ]
  },
  {
   "cell_type": "code",
   "execution_count": 65,
   "id": "a358bb25",
   "metadata": {},
   "outputs": [
    {
     "data": {
      "text/plain": [
       "True"
      ]
     },
     "execution_count": 65,
     "metadata": {},
     "output_type": "execute_result"
    }
   ],
   "source": [
    "#https://leetcode.com/problems/power-of-four/description/\n",
    "def rec(n):\n",
    "    if n==1:\n",
    "        return True\n",
    "    elif n == 0:\n",
    "        return False\n",
    "    return rec(n/4)\n",
    "rec(4) # should return True"
   ]
  },
  {
   "cell_type": "code",
   "execution_count": 66,
   "id": "02145f1a",
   "metadata": {},
   "outputs": [
    {
     "data": {
      "text/plain": [
       "True"
      ]
     },
     "execution_count": 66,
     "metadata": {},
     "output_type": "execute_result"
    }
   ],
   "source": [
    "#https://leetcode.com/problems/power-of-three/\n",
    "def rec(n):\n",
    "    if n==1:\n",
    "        return True\n",
    "    elif n == 0:\n",
    "        return False\n",
    "    return rec(n/3)\n",
    "rec(3) # should return True"
   ]
  },
  {
   "cell_type": "code",
   "execution_count": 67,
   "id": "e12a06b8",
   "metadata": {},
   "outputs": [
    {
     "data": {
      "text/plain": [
       "True"
      ]
     },
     "execution_count": 67,
     "metadata": {},
     "output_type": "execute_result"
    }
   ],
   "source": [
    "#https://leetcode.com/problems/power-of-two/submissions/1649936469/\n",
    "def rec(n):\n",
    "    if n==1:\n",
    "        return True\n",
    "    elif n == 0:\n",
    "        return False\n",
    "    return rec(n/2)\n",
    "rec(2) # should return True"
   ]
  }
 ],
 "metadata": {
  "kernelspec": {
   "display_name": "Python 3",
   "language": "python",
   "name": "python3"
  },
  "language_info": {
   "codemirror_mode": {
    "name": "ipython",
    "version": 3
   },
   "file_extension": ".py",
   "mimetype": "text/x-python",
   "name": "python",
   "nbconvert_exporter": "python",
   "pygments_lexer": "ipython3",
   "version": "3.10.6"
  }
 },
 "nbformat": 4,
 "nbformat_minor": 5
}
