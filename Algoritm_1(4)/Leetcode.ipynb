{
 "cells": [
  {
   "cell_type": "markdown",
   "id": "af14d8e4",
   "metadata": {},
   "source": [
    "# Лекция 1. Асимптотика. Введение в алгоритмы"
   ]
  },
  {
   "cell_type": "code",
   "execution_count": 5,
   "id": "6ef8cd7e",
   "metadata": {},
   "outputs": [
    {
     "data": {
      "text/plain": [
       "12.75"
      ]
     },
     "execution_count": 5,
     "metadata": {},
     "output_type": "execute_result"
    }
   ],
   "source": [
    "#https://leetcode.com/problems/maximum-average-subarray-i/description/\n",
    "def findMaxAverage(nums, k):\n",
    "    n = len(nums)\n",
    "    summa = []\n",
    "    summa.append(nums[0])\n",
    "    for i in range(1, n):\n",
    "        summa.append(summa[i-1]+nums[i])\n",
    "    if k==n:\n",
    "        return summa[n-1]/k\n",
    "    maximum = summa[k-1]\n",
    "    for i in range(k, n):\n",
    "        curr = summa[i] - summa[i-k]\n",
    "        if curr>maximum:\n",
    "            maximum = curr\n",
    "    return maximum / k\n",
    "findMaxAverage([1,12,-5,-6,50,3], 4) # should return 12.75"
   ]
  },
  {
   "cell_type": "code",
   "execution_count": 2,
   "id": "299a4d4c",
   "metadata": {},
   "outputs": [
    {
     "data": {
      "text/plain": [
       "2"
      ]
     },
     "execution_count": 2,
     "metadata": {},
     "output_type": "execute_result"
    }
   ],
   "source": [
    "#https://leetcode.com/problems/missing-number/description/\n",
    "def missingNumber(nums):\n",
    "    n = len(nums)\n",
    "    for i in range(0, n):\n",
    "        if i not in nums:\n",
    "            return i\n",
    "    return n\n",
    "missingNumber([3,0,1]) # should return 2"
   ]
  },
  {
   "cell_type": "code",
   "execution_count": 3,
   "id": "6c3306ca",
   "metadata": {},
   "outputs": [
    {
     "data": {
      "text/plain": [
       "4"
      ]
     },
     "execution_count": 3,
     "metadata": {},
     "output_type": "execute_result"
    }
   ],
   "source": [
    "#https://leetcode.com/problems/single-number/description/\n",
    "def singleNumber(nums) -> int:\n",
    "    d = {}\n",
    "    if len(nums) == 1:\n",
    "        return nums[0]\n",
    "    for i in nums:\n",
    "        if i in d.keys():\n",
    "            d[i] = d[i]+1\n",
    "        else:\n",
    "            d[i] = 1\n",
    "    for key, value in d.items():\n",
    "        if value%2!=0:\n",
    "            return key\n",
    "singleNumber([4,1,2,1,2]) # should return 4"
   ]
  },
  {
   "cell_type": "code",
   "execution_count": 4,
   "id": "a2b787af",
   "metadata": {},
   "outputs": [
    {
     "data": {
      "text/plain": [
       "3"
      ]
     },
     "execution_count": 4,
     "metadata": {},
     "output_type": "execute_result"
    }
   ],
   "source": [
    "#https://leetcode.com/problems/majority-element/description/\n",
    "def majorityElement(nums) -> int:\n",
    "    d = dict()\n",
    "    n = len(nums)\n",
    "    for i in nums:\n",
    "        if i in d:\n",
    "            d[i] = d[i] + 1\n",
    "        else:\n",
    "            d[i] = 1\n",
    "    for key, value in d.items():\n",
    "        if value > n//2:\n",
    "            return key\n",
    "majorityElement([3,2,3]) # should return 3"
   ]
  },
  {
   "cell_type": "markdown",
   "id": "7c26af93",
   "metadata": {},
   "source": [
    "# Лекция 2. Поиск. Бинарный поиск. Вещественный поиск. Интерполяционный поиск."
   ]
  },
  {
   "cell_type": "code",
   "execution_count": 8,
   "id": "d631fe09",
   "metadata": {},
   "outputs": [
    {
     "data": {
      "text/plain": [
       "9"
      ]
     },
     "execution_count": 8,
     "metadata": {},
     "output_type": "execute_result"
    }
   ],
   "source": [
    "#https://leetcode.com/problems/kth-missing-positive-number/description/\n",
    "def findKthPositive(arr, k):\n",
    "    n = len(arr)\n",
    "    missing = []\n",
    "    for i in range(1, n+1+k):\n",
    "        if i not in arr:\n",
    "            missing.append(i)\n",
    "    if k <= len(missing):\n",
    "        return missing[k-1]\n",
    "    else:\n",
    "        return -1\n",
    "findKthPositive([2,3,4,7,11], 5) # should return 9"
   ]
  },
  {
   "cell_type": "code",
   "execution_count": null,
   "id": "9659d519",
   "metadata": {},
   "outputs": [],
   "source": []
  }
 ],
 "metadata": {
  "kernelspec": {
   "display_name": "Python 3",
   "language": "python",
   "name": "python3"
  },
  "language_info": {
   "codemirror_mode": {
    "name": "ipython",
    "version": 3
   },
   "file_extension": ".py",
   "mimetype": "text/x-python",
   "name": "python",
   "nbconvert_exporter": "python",
   "pygments_lexer": "ipython3",
   "version": "3.10.11"
  }
 },
 "nbformat": 4,
 "nbformat_minor": 5
}
