{
 "cells": [
  {
   "cell_type": "code",
   "execution_count": null,
   "id": "4ecb8f0e",
   "metadata": {},
   "outputs": [
    {
     "data": {
      "text/plain": [
       "8"
      ]
     },
     "execution_count": 17,
     "metadata": {},
     "output_type": "execute_result"
    }
   ],
   "source": [
    "def pow_a_n(a, n):\n",
    "    if n == 0: \n",
    "        return 1\n",
    "    elif n % 2 == 0:\n",
    "        return pow_a_n(a*a, n//2)\n",
    "    else:\n",
    "        return a * pow_a_n(a, n-1)\n",
    "\n",
    "a = 2\n",
    "n = 3\n",
    "pow_a_n(a, n)"
   ]
  },
  {
   "cell_type": "code",
   "execution_count": 54,
   "id": "a4dbbef0",
   "metadata": {},
   "outputs": [
    {
     "name": "stdout",
     "output_type": "stream",
     "text": [
      "150\n",
      "100\n"
     ]
    }
   ],
   "source": [
    "n = int(input())\n",
    "max_1 = n\n",
    "max_2 = 0\n",
    "while n != 0:\n",
    "    n = int(input())\n",
    "    if n > max_1:\n",
    "        max_2 = max_1\n",
    "        max_1 = n\n",
    "    elif n > max_2:\n",
    "        max_2 = n\n",
    "print(max_1)\n",
    "print(max_2)"
   ]
  },
  {
   "cell_type": "code",
   "execution_count": 58,
   "id": "5128f3c0",
   "metadata": {},
   "outputs": [
    {
     "name": "stdout",
     "output_type": "stream",
     "text": [
      "0\n"
     ]
    }
   ],
   "source": [
    "n = 11\n",
    "s = \"\"\n",
    "for i in range(n + 1):\n",
    "    s += str(i)\n",
    "    if len(s)>n:\n",
    "        break\n",
    "print(s[n])"
   ]
  },
  {
   "cell_type": "code",
   "execution_count": null,
   "id": "729cc6f8",
   "metadata": {},
   "outputs": [
    {
     "name": "stdout",
     "output_type": "stream",
     "text": [
      "13\n"
     ]
    }
   ],
   "source": [
    "def sort_min(res, k):\n",
    "    len_res = len(res)\n",
    "    for i in range(len_res-1):\n",
    "        minimum = i\n",
    "        for j in range(i+1,len_res):\n",
    "            if res[j] < res[minimum]:\n",
    "                minimum = j\n",
    "        res[i], res[minimum] = res[minimum], res[i]\n",
    "        if minimum == k:\n",
    "            return minimum\n",
    "    return res[minimum]\n",
    "n, k = map(int, input().split())\n",
    "res = []\n",
    "for i in range(n):\n",
    "    res += list(map(int, input().split()))\n",
    "if n == 1:\n",
    "    print(res[k-1])\n",
    "else:\n",
    "    print(sort_min(res, k))\n"
   ]
  },
  {
   "cell_type": "code",
   "execution_count": null,
   "id": "470ee73a",
   "metadata": {},
   "outputs": [],
   "source": []
  }
 ],
 "metadata": {
  "kernelspec": {
   "display_name": "Python 3",
   "language": "python",
   "name": "python3"
  },
  "language_info": {
   "codemirror_mode": {
    "name": "ipython",
    "version": 3
   },
   "file_extension": ".py",
   "mimetype": "text/x-python",
   "name": "python",
   "nbconvert_exporter": "python",
   "pygments_lexer": "ipython3",
   "version": "3.10.6"
  }
 },
 "nbformat": 4,
 "nbformat_minor": 5
}
