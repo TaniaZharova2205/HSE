{
 "cells": [
  {
   "cell_type": "markdown",
   "id": "42be6a45",
   "metadata": {},
   "source": [
    "Даны два натуральных числа N и K. Требуется вывести все цепочки $x_1, x_2, ..., x_N$ такие, что $x_i$ - натуральное и $1 ≤ x_i ≤ K$.\n",
    "\n",
    "*Формат ввода*\n",
    "\n",
    "Вводятся два натуральных числа N и K (N, K ≤ 6).\n",
    "\n",
    "*Формат вывода*\n",
    "\n",
    "Выведите все требуемые цепочки в лексикографическом порядке – по одной на строке. Никакая цепочка не должна встречаться более одного раза."
   ]
  },
  {
   "cell_type": "code",
   "execution_count": null,
   "id": "c33aa74c",
   "metadata": {},
   "outputs": [
    {
     "name": "stdout",
     "output_type": "stream",
     "text": [
      "1 1\n",
      "1 2\n",
      "1 3\n",
      "2 1\n",
      "2 2\n",
      "2 3\n",
      "3 1\n",
      "3 2\n",
      "3 3\n"
     ]
    }
   ],
   "source": [
    "def string_n(curr_list):\n",
    "    if len(curr_list) == n:\n",
    "        print(' '.join(map(str, curr_list)))\n",
    "        return\n",
    "    for i in range(1, k + 1):\n",
    "        string_n(curr_list + [i])\n",
    "n, k = map(int, input().split())\n",
    "string_n([])\n",
    "'''\n",
    "2 3\n",
    "'''"
   ]
  },
  {
   "cell_type": "markdown",
   "id": "dcb2a815",
   "metadata": {},
   "source": [
    "По данному числу N выведите все строки длины N из нулей и единиц в лексикографическом порядке.\n",
    "\n",
    "Данную задачу нужно решить используя рекурсивную функцию. Нельзя использовать bin() и битовые сдвиги.\n",
    "\n",
    "*Формат ввода*\n",
    "\n",
    "Задано единственное число N. (натуральное, 1 ≤ N ≤ 10)\n",
    "\n",
    "*Формат вывода*\n",
    "\n",
    "Необходимо вывести все строки длины N из нулей и единиц в лексикографическом порядке, по одной на строке"
   ]
  },
  {
   "cell_type": "code",
   "execution_count": 3,
   "id": "43d48dd6",
   "metadata": {},
   "outputs": [
    {
     "name": "stdout",
     "output_type": "stream",
     "text": [
      "000\n",
      "001\n",
      "010\n",
      "011\n",
      "100\n",
      "101\n",
      "110\n",
      "111\n"
     ]
    },
    {
     "data": {
      "text/plain": [
       "'\\n3\\n'"
      ]
     },
     "execution_count": 3,
     "metadata": {},
     "output_type": "execute_result"
    }
   ],
   "source": [
    "def num_sys2(curr_list):\n",
    "    if len(curr_list) == n:\n",
    "        print(''.join(map(str, curr_list)))\n",
    "        return\n",
    "    for i in range(2):\n",
    "        num_sys2(curr_list + [i])\n",
    "n = int(input())\n",
    "num_sys2([])\n",
    "'''\n",
    "3\n",
    "'''"
   ]
  },
  {
   "cell_type": "markdown",
   "id": "87ea9209",
   "metadata": {},
   "source": [
    "По данному числу N выведите все строки длины N из нулей и единиц в обратном лексикографическом порядке.\n",
    "\n",
    "*Формат ввода*\n",
    "\n",
    "Задано единственное число N. (1 ≤ N ≤ 10)\n",
    "\n",
    "*Формат вывода*\n",
    "\n",
    "Необходимо вывести все строки длины N из нулей и единиц в обратном лексикографическом порядке."
   ]
  },
  {
   "cell_type": "code",
   "execution_count": 5,
   "id": "a9e8a9de",
   "metadata": {},
   "outputs": [
    {
     "name": "stdout",
     "output_type": "stream",
     "text": [
      "11\n",
      "10\n",
      "01\n",
      "00\n"
     ]
    },
    {
     "data": {
      "text/plain": [
       "'\\n2\\n'"
      ]
     },
     "execution_count": 5,
     "metadata": {},
     "output_type": "execute_result"
    }
   ],
   "source": [
    "def num_sys2(curr_list):\n",
    "    if len(curr_list) == n:\n",
    "        print(''.join(map(str, curr_list)))\n",
    "        return\n",
    "    for i in range(1, -1, -1):\n",
    "        num_sys2(curr_list + [i])\n",
    "n = int(input())\n",
    "num_sys2([])\n",
    "'''\n",
    "2\n",
    "'''"
   ]
  },
  {
   "cell_type": "markdown",
   "id": "48f20dcb",
   "metadata": {},
   "source": [
    "По данным числам N и K выведите все строки длины N из символов 0..K-1 в лексикографическом порядке.\n",
    "\n",
    "*Формат ввода*\n",
    "\n",
    "Заданы 2 числа: N и K (N, K <= 10; N+K < 15)\n",
    "\n",
    "*Формат вывода*\n",
    "\n",
    "Необходимо вывести все строки длины N из символов 0..K-1 в лексикографическом порядке."
   ]
  },
  {
   "cell_type": "code",
   "execution_count": 1,
   "id": "21eb2062",
   "metadata": {},
   "outputs": [
    {
     "name": "stdout",
     "output_type": "stream",
     "text": [
      "00\n",
      "01\n",
      "02\n",
      "10\n",
      "11\n",
      "12\n",
      "20\n",
      "21\n",
      "22\n"
     ]
    },
    {
     "data": {
      "text/plain": [
       "'\\n2 3\\n'"
      ]
     },
     "execution_count": 1,
     "metadata": {},
     "output_type": "execute_result"
    }
   ],
   "source": [
    "def num_sys2(curr_list):\n",
    "    if len(curr_list) == n:\n",
    "        print(''.join(map(str, curr_list)))\n",
    "        return\n",
    "    for i in range(0, k):\n",
    "        num_sys2(curr_list + [i])\n",
    "n, k = map(int, input().split())\n",
    "num_sys2([])\n",
    "'''\n",
    "2 3\n",
    "'''"
   ]
  },
  {
   "cell_type": "markdown",
   "id": "343ef4a8",
   "metadata": {},
   "source": [
    "Головоломка “Ханойские башни” состоит из трех стержней, пронумерованных числами 1, 2, 3. На стержень 1 надета пирамидка из n дисков различного диаметра в порядке возрастания диаметра. Диски можно перекладывать с одного стержня на другой по одному, при этом диск нельзя класть на диск меньшего диаметра. Необходимо переложить всю пирамидку со стержня 1 на стержень 3 за минимальное число перекладываний.\n",
    "\n",
    "Напишите программу, которая решает головоломку; для данного числа дисков n печатает последовательность перекладываний в формате a b c, где a — номер перекладываемого диска, b — номер стержня с которого снимается данный диск, c — номер стержня на который надевается данный диск.\n",
    "\n",
    "Например, строка 1 2 3 означает перемещение диска номер 1 со стержня 2 на стержень 3. В одной строке печатается одна команда. Диски пронумерованы числами от 1 до n в порядке возрастания диаметров.\n",
    "\n",
    "*Формат ввода*\n",
    "\n",
    "Вводится натуральное число n <= 10.\n",
    "\n",
    "*Формат вывода*\n",
    "\n",
    "Программа должна вывести минимальный (по количеству произведенных операций) способ перекладывания пирамидки из данного числа дисков."
   ]
  },
  {
   "cell_type": "code",
   "execution_count": 8,
   "id": "eabb3b17",
   "metadata": {},
   "outputs": [
    {
     "name": "stdout",
     "output_type": "stream",
     "text": [
      "1 1 3\n",
      "2 1 2\n",
      "1 3 2\n",
      "3 1 3\n",
      "1 2 1\n",
      "2 2 3\n",
      "1 1 3\n"
     ]
    },
    {
     "data": {
      "text/plain": [
       "'\\n3\\n'"
      ]
     },
     "execution_count": 8,
     "metadata": {},
     "output_type": "execute_result"
    }
   ],
   "source": [
    "def Hanoi(n, source, by, dest):\n",
    "    if n==1:\n",
    "        print (1, source, dest)\n",
    "        return\n",
    "    Hanoi(n - 1, source, dest, by)\n",
    "    print (n, source, dest)\n",
    "    Hanoi(n - 1, by, source, dest)\n",
    "\n",
    "n = int(input())\n",
    "Hanoi(n, 1, 2, 3)\n",
    "'''\n",
    "3\n",
    "'''\n"
   ]
  },
  {
   "cell_type": "markdown",
   "id": "80ded2e4",
   "metadata": {},
   "source": [
    "Возводить в степень можно гораздо быстрее, чем за n умножений! Для этого нужно воспользоваться следующими рекуррентными соотношениями:\n",
    "\n",
    "$a_n = (a^2)^{n/2}$ при четном n,\n",
    "\n",
    "$a^n = a*a^{n-1}$ при нечетном n.\n",
    "\n",
    "Реализуйте алгоритм быстрого возведения в степень. Если вы все сделаете правильно, то сложность вашего алгоритма будет O(logn) .\n",
    "\n",
    "*Формат ввода*\n",
    "\n",
    "Вводится действительное число a и целое неотрицательное число n.\n",
    "\n",
    "*Формат вывода*\n",
    "\n",
    "Выведите ответ на задачу."
   ]
  },
  {
   "cell_type": "code",
   "execution_count": 11,
   "id": "363793a3",
   "metadata": {},
   "outputs": [
    {
     "name": "stdout",
     "output_type": "stream",
     "text": [
      "16.0\n"
     ]
    },
    {
     "data": {
      "text/plain": [
       "'\\n2\\n4\\n'"
      ]
     },
     "execution_count": 11,
     "metadata": {},
     "output_type": "execute_result"
    }
   ],
   "source": [
    "def pow_a_n(a, n):\n",
    "    if n == 0:\n",
    "        return 1\n",
    "    if n % 2 == 0:\n",
    "        return pow_a_n(a * a, n // 2)\n",
    "    else:\n",
    "        return a * pow_a_n(a, n - 1)\n",
    "    \n",
    "\n",
    "a = float(input())\n",
    "n = int(input())\n",
    "print(pow_a_n(a, n))\n",
    "'''\n",
    "2\n",
    "4\n",
    "'''\n"
   ]
  }
 ],
 "metadata": {
  "kernelspec": {
   "display_name": "Python 3",
   "language": "python",
   "name": "python3"
  },
  "language_info": {
   "codemirror_mode": {
    "name": "ipython",
    "version": 3
   },
   "file_extension": ".py",
   "mimetype": "text/x-python",
   "name": "python",
   "nbconvert_exporter": "python",
   "pygments_lexer": "ipython3",
   "version": "3.10.6"
  }
 },
 "nbformat": 4,
 "nbformat_minor": 5
}
