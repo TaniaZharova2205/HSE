{
 "cells": [
  {
   "cell_type": "markdown",
   "id": "99d377fb",
   "metadata": {},
   "source": [
    "Требуется отсортировать массив по неубыванию методом \"выбор максимума\".\n",
    "\n",
    "*Формат ввода*\n",
    "\n",
    "В первой строке вводится одно натуральное число, не превосходящее 1000 – размер массива. Во второй строке задаются N чисел – элементы массива (целые числа, не превосходящие по модулю 1000).\n",
    "\n",
    "*Формат вывода*\n",
    "\n",
    "Вывести получившийся массив."
   ]
  },
  {
   "cell_type": "code",
   "execution_count": 7,
   "id": "ab5c6068",
   "metadata": {},
   "outputs": [
    {
     "name": "stdout",
     "output_type": "stream",
     "text": [
      "1 3\n"
     ]
    },
    {
     "data": {
      "text/plain": [
       "'\\n2\\n3 1\\n'"
      ]
     },
     "execution_count": 7,
     "metadata": {},
     "output_type": "execute_result"
    }
   ],
   "source": [
    "n = int(input())\n",
    "lst = list(map(int, input().split()))\n",
    "\n",
    "def sort_change(lst, n):\n",
    "    sorter = True\n",
    "    for i in range(n - 1):\n",
    "        if lst[i] > lst[i+1]:\n",
    "            sorter = False\n",
    "            break\n",
    "    if sorter:\n",
    "        return lst\n",
    "\n",
    "    for i in range(n - 1):\n",
    "        maximum = n - i - 1\n",
    "        for j in range(n - i - 1):\n",
    "            if lst[j] > lst[maximum]:\n",
    "                maximum = j\n",
    "        lst[maximum], lst[n - i - 1] = lst[n - i - 1], lst[maximum]\n",
    "    return lst\n",
    "print(' '.join(map(str, sort_change(lst, n))))\n",
    "\n",
    "'''\n",
    "2\n",
    "3 1\n",
    "'''"
   ]
  },
  {
   "cell_type": "markdown",
   "id": "35d3a982",
   "metadata": {},
   "source": [
    "В одномерном массиве, заполненном произвольными целыми числами, за один проход найдите непрерывный кусок, сумма чисел в котором максимальна.\n",
    "\n",
    "Примечание. Фактически требуется найти такие i и j $(i≤j)$, что сумма всех элементов массива от $a_i$ до $a_j$ включительно будет максимальна.\n",
    "\n",
    "*Формат ввода*\n",
    "На вход программе сначала подается натуральное \n",
    "Unexpected text node: $n(1≤n≤10^5)$ – количество элементов в массиве.\n",
    "\n",
    "Далее, по одному в строке расположены сами элементы массива – целые числа, по модулю не превосходящие $3 * 10^4$\n",
    "\n",
    "*Формат вывода*\n",
    "\n",
    "Выдайте пару искомых значений индексов. Если таких пар несколько, то j должно быть минимально возможным, а при равных j значение i должно быть максимально возможным"
   ]
  },
  {
   "cell_type": "code",
   "execution_count": 6,
   "id": "15c3f489",
   "metadata": {},
   "outputs": [
    {
     "name": "stdout",
     "output_type": "stream",
     "text": [
      "3 7\n"
     ]
    },
    {
     "data": {
      "text/plain": [
       "'\\n10\\n-5 -8 -9 7 4 -1 6 8 -1 1\\n'"
      ]
     },
     "execution_count": 6,
     "metadata": {},
     "output_type": "execute_result"
    }
   ],
   "source": [
    "n = int(input())\n",
    "lst = list(map(int, input().split()))\n",
    "\n",
    "def max_line(n, arr):\n",
    "    max_sum = -3e5\n",
    "    curr_sum = 0\n",
    "    l = 0\n",
    "    r = 0\n",
    "    k = 0\n",
    "    for i in range(n):\n",
    "        curr_sum += arr[i]\n",
    "        if curr_sum <= arr[i]:\n",
    "            curr_sum = arr[i]\n",
    "            k = i\n",
    "        if curr_sum > max_sum:\n",
    "            max_sum = curr_sum\n",
    "            r = i\n",
    "            l = k\n",
    "        elif curr_sum == max_sum:\n",
    "            if r > i:\n",
    "                r = i\n",
    "            elif r == i and l < k:\n",
    "                l = k\n",
    "    return l, r\n",
    "\n",
    "l,r = max_line(n, lst)\n",
    "\n",
    "print(l,r)\n",
    "\n",
    "'''\n",
    "10\n",
    "-5 -8 -9 7 4 -1 6 8 -1 1\n",
    "'''"
   ]
  },
  {
   "cell_type": "markdown",
   "id": "148e1190",
   "metadata": {},
   "source": [
    "Вам необходимо реализовать сортировку простыми вставками по неубыванию и посчитать количество элементов, которые при добавлении к сортированной части уже находились на своём месте, то есть которые не пришлось двигать.\n",
    "\n",
    "*Формат ввода*\n",
    "\n",
    "В первой строке - одно целое число $n(0≤n≤10^4)$– количество чисел, которые надо отсортировать.\n",
    "\n",
    "Во второй строке записано n целых положительных чисел, не превышающих $10^9$.\n",
    "\n",
    "*Формат вывода*\n",
    "\n",
    "Сначала выведите отсортированный массив через пробел, а затем в новой строке одно число – количество элементов, которые уже находились на своём месте при сортировке.\n"
   ]
  },
  {
   "cell_type": "code",
   "execution_count": 5,
   "id": "2afec14b",
   "metadata": {},
   "outputs": [
    {
     "name": "stdout",
     "output_type": "stream",
     "text": [
      "1 2 3 4 5\n",
      "2\n"
     ]
    },
    {
     "data": {
      "text/plain": [
       "'\\n5\\n1 2 5 3 4\\n'"
      ]
     },
     "execution_count": 5,
     "metadata": {},
     "output_type": "execute_result"
    }
   ],
   "source": [
    "n = int(input())\n",
    "a = list(map(int, input().split()))\n",
    "all_count = 0\n",
    "count = 0\n",
    "for i in range(1, n):\n",
    "    key = a[i]\n",
    "    j = i - 1\n",
    "    if a[j] <= key:\n",
    "        all_count += 1\n",
    "    else:\n",
    "        while j >= 0 and a[j] > key:\n",
    "            a[j + 1] = a[j]\n",
    "            j = j - 1\n",
    "            count += 1\n",
    "            all_count += 1\n",
    "    a[j + 1] = key\n",
    "\n",
    "print(' '.join(map(str, a)))\n",
    "print(all_count - count)\n",
    "\n",
    "'''\n",
    "5\n",
    "1 2 5 3 4\n",
    "'''"
   ]
  },
  {
   "cell_type": "markdown",
   "id": "33a6173c",
   "metadata": {},
   "source": [
    "Дано число N, а затем N строк. Необходимо отсортировать строки по возрастанию длины, причём строки одинаковой длины должны выводиться в том же порядке, в котором они были во вводе.\n",
    "\n",
    "*Формат ввода*\n",
    "\n",
    "Сначала на вход подается целое положительное число N, а затем N строк.\n",
    "\n",
    "*Формат вывода*\n",
    "\n",
    "N строк, отсортированных в порядке возрастания их длин (количество строк не более 500)."
   ]
  },
  {
   "cell_type": "code",
   "execution_count": 4,
   "id": "366f9dfc",
   "metadata": {},
   "outputs": [
    {
     "name": "stdout",
     "output_type": "stream",
     "text": [
      "line\n",
      "word\n",
      "string\n",
      "hello world\n",
      "welcome to python\n"
     ]
    },
    {
     "data": {
      "text/plain": [
       "'\\n5\\nhello world\\nstring\\nline\\nword\\nwelcome to python\\n'"
      ]
     },
     "execution_count": 4,
     "metadata": {},
     "output_type": "execute_result"
    }
   ],
   "source": [
    "a = int(input())\n",
    "lst_len = []\n",
    "lst = []\n",
    "while a > 0:\n",
    "    st = input()\n",
    "    lst.append(st)\n",
    "    lst_len.append(len(st))\n",
    "    a -= 1\n",
    "    \n",
    "for i in range(1, len(lst)):\n",
    "    j = i - 1\n",
    "    key = lst[i]\n",
    "    key_len = lst_len[i]\n",
    "    while j >= 0 and lst_len[j]>key_len:\n",
    "        lst[j + 1] = lst[j]\n",
    "        lst_len[j + 1] = lst_len[j]\n",
    "        j -= 1\n",
    "    lst[j + 1] = key\n",
    "    lst_len[j + 1] = key_len\n",
    "\n",
    "for i in lst:\n",
    "    print(i)\n",
    "\n",
    "'''\n",
    "5\n",
    "hello world\n",
    "string\n",
    "line\n",
    "word\n",
    "welcome to python\n",
    "'''"
   ]
  },
  {
   "cell_type": "markdown",
   "id": "0ae57b67",
   "metadata": {},
   "source": [
    "Поступают запросы на вычисление количества нулей на некотором интервале заданного одномерного массива.\n",
    "\n",
    "Реализуйте эффективную обработку большого числа таких запросов.\n",
    "\n",
    "*Формат ввода*\n",
    "В первой строке вводится одно натуральное число $n(1≤n≤10^7)$ – количество чисел в массиве.\n",
    "\n",
    "Во второй строке вводятся n чисел от 0 до 9 – элементы массива.\n",
    "\n",
    "В третьей строке вводится одно натуральное число $k(1≤k≤10^6)$– количество запросов на вычисление количества нулей.\n",
    "\n",
    "В следующих k строках вводится по два числа l и r через пробел – номера левого и правого элементов отрезка массива $(1≤l≤r≤n)$. Считается, что элементы нумеруются с единицы.\n",
    "\n",
    "*Формат вывода*\n",
    "\n",
    "В одной строке – выведите через пробел количество нулей каждого запроса на соответствующем отрезке массива."
   ]
  },
  {
   "cell_type": "code",
   "execution_count": 3,
   "id": "932e34a6",
   "metadata": {},
   "outputs": [
    {
     "name": "stdout",
     "output_type": "stream",
     "text": [
      "0 0 0 0 0 1 0 0 1 0\n"
     ]
    },
    {
     "data": {
      "text/plain": [
       "'\\n5\\n0 9 5 2 2 \\n10\\n3 3\\n3 4\\n2 5\\n2 4\\n3 4\\n1 5\\n3 5\\n2 4\\n1 3\\n3 5\\n'"
      ]
     },
     "execution_count": 3,
     "metadata": {},
     "output_type": "execute_result"
    }
   ],
   "source": [
    "n = int(input())\n",
    "arr = list(map(int, input().split()))\n",
    "\n",
    "count_zero_lst = [0]*(n+1)\n",
    "count = 0\n",
    "for i in range(n):\n",
    "    if arr[i] == 0:\n",
    "        count_zero_lst[i + 1] = 1\n",
    "\n",
    "k = int(input())\n",
    "ans = [0]*k\n",
    "for i in range(k):\n",
    "    l, r = map(int, input().split())\n",
    "    ans[i] = sum(count_zero_lst[l:r+1])\n",
    "\n",
    "print(' '.join(map(str, ans)))\n",
    "\n",
    "'''\n",
    "5\n",
    "0 9 5 2 2 \n",
    "10\n",
    "3 3\n",
    "3 4\n",
    "2 5\n",
    "2 4\n",
    "3 4\n",
    "1 5\n",
    "3 5\n",
    "2 4\n",
    "1 3\n",
    "3 5\n",
    "'''"
   ]
  },
  {
   "cell_type": "markdown",
   "id": "4378fb7b",
   "metadata": {},
   "source": [
    "У Олега есть матрица целых чисел $n×m$. Его очень часто просят узнать сумму всех элементов матрицы в прямоугольнике с левым верхним углом \n",
    "$(x_1, y_1)$ и правым нижним $(x_2, y_2)$. Помогите ему в этом.\n",
    "\n",
    "*Формат ввода*\n",
    "\n",
    "В первой строке вводятся числа n и m $(1≤n,m≤1000)$ – размеры матрицы и $q(1\\le q\\le 10^5)$ – количество запросов.\n",
    "\n",
    "Каждая из следующих n строк содержит по m чисел - элементы соответствующей строки матрицы (по модулю не превосходят $10^9$).\n",
    "\n",
    "Последующие q строк содержат по 4 целых числа, разделенных пробелом – $x_1, y_1, x_2, y_2$ – запрос на сумму элементов матрице в прямоугольнике ($(1\\le x_1\\le x_2 \\le n, 1\\le y_1\\le y_2 \\le m)$)\n",
    "\n",
    "Формат вывода\n",
    "Для каждого запроса на отдельной строке выведите его результат – сумму всех чисел в элементов матрице в прямоугольнике $(x_1, y_1)$, $(x_2, y_2)$."
   ]
  },
  {
   "cell_type": "code",
   "execution_count": 2,
   "id": "2aa7bb0e",
   "metadata": {},
   "outputs": [
    {
     "name": "stdout",
     "output_type": "stream",
     "text": [
      "70\n",
      "9\n",
      "14\n",
      "42\n",
      "42\n",
      "13\n"
     ]
    },
    {
     "data": {
      "text/plain": [
       "'\\n3 6 6\\n1 2 3 4 5 6\\n7 8 9 10 11 12\\n13 14 15 16 17 183 \\n1 2 2 6\\n1 4 1 5\\n1 4 2 4\\n2 3 2 6\\n1 3 2 5\\n3 1 3 1\\n'"
      ]
     },
     "execution_count": 2,
     "metadata": {},
     "output_type": "execute_result"
    }
   ],
   "source": [
    "n, m, q = map(int, input().split())\n",
    "lst = []\n",
    "pref = [0]*(n + 2)\n",
    "for i in range(n):\n",
    "    lst.append(list(map(int, input().split())))\n",
    "    pref[i] = [0] * (m + 2)\n",
    "pref[n] = [0] * (m + 2)\n",
    "pref[n + 1] = [0] * (m + 2)\n",
    "for i in range(1, n + 1):\n",
    "    for j in range(1, m + 1):\n",
    "        pref[i][j] = pref[i-1][j] + pref[i][j-1] - pref[i-1][j-1] + lst[i - 1][j - 1]\n",
    "for i in range(q):\n",
    "    x1, y1, x2, y2 = map(int, input().split())\n",
    "    print(pref[x2][y2] - pref[x1-1][y2] - pref[x2][y1-1] + pref[x1-1][y1-1])\n",
    "\n",
    "\"\"\"\n",
    "3 6 6\n",
    "1 2 3 4 5 6\n",
    "7 8 9 10 11 12\n",
    "13 14 15 16 17 18\n",
    "1 2 2 6\n",
    "1 4 1 5\n",
    "1 4 2 4\n",
    "2 3 2 6\n",
    "1 3 2 5\n",
    "3 1 3 1\n",
    "\"\"\""
   ]
  }
 ],
 "metadata": {
  "kernelspec": {
   "display_name": "Python 3",
   "language": "python",
   "name": "python3"
  },
  "language_info": {
   "codemirror_mode": {
    "name": "ipython",
    "version": 3
   },
   "file_extension": ".py",
   "mimetype": "text/x-python",
   "name": "python",
   "nbconvert_exporter": "python",
   "pygments_lexer": "ipython3",
   "version": "3.10.11"
  }
 },
 "nbformat": 4,
 "nbformat_minor": 5
}
