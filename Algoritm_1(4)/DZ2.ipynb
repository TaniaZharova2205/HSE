{
 "cells": [
  {
   "cell_type": "markdown",
   "id": "775f27a5",
   "metadata": {},
   "source": [
    "Найдите такое число x, что $x^2+\\sqrt{x}=C$, с точностью не менее 6 знаков после точки.\n",
    "\n",
    "*Формат ввода*\n",
    "\n",
    "В единственной строке содержится вещественное число $1.0 \\le C \\le 10^{10}$\n",
    "\n",
    "*Формат вывода*\n",
    "\n",
    "Выведите одно число — искомый x"
   ]
  },
  {
   "cell_type": "code",
   "execution_count": 27,
   "id": "fa3c0ac6",
   "metadata": {},
   "outputs": [
    {
     "name": "stdout",
     "output_type": "stream",
     "text": [
      "244.57668209075928\n"
     ]
    }
   ],
   "source": [
    "def f(x):\n",
    "    return x**2 + x**(0.5)\n",
    "\n",
    "def findLeftBoard(C):\n",
    "    x = 0\n",
    "    while f(x) > C:\n",
    "        x = x * 2\n",
    "    return x \n",
    "\n",
    "def findRightBoard(C):\n",
    "    x = 1\n",
    "    while f(x) < C:\n",
    "        x = x * 2\n",
    "    return x\n",
    "\n",
    "def binSearch(C, eps):\n",
    "    left = findLeftBoard(C)\n",
    "    right = findRightBoard(C)\n",
    "    while right - left > eps:\n",
    "        mid = (left + right) / 2\n",
    "        if f(mid) < C:\n",
    "            left = mid\n",
    "        else:\n",
    "            right = mid\n",
    "    return right\n",
    "\n",
    "n = float(input())\n",
    "eps = 1e-6\n",
    "result = binSearch(n, eps)\n",
    "print(result)"
   ]
  },
  {
   "cell_type": "markdown",
   "id": "193bb08b",
   "metadata": {},
   "source": [
    "Дано два списка чисел, числа в первом списке упорядочены по неубыванию. Для каждого числа из второго списка определите номер первого и последнего появления этого числа в первом списке.\n",
    "\n",
    "*Формат ввода*\n",
    "\n",
    "В первой строке входных данных записано два числа N и M (1 <= N, M <= 20000). Во второй строке записано N упорядоченных по неубыванию целых чисел — элементы первого списка. В третьей строке записаны M целых неотрицательных чисел - элементы второго списка. Все числа в списках - целые 32-битные знаковые.\n",
    "\n",
    "*Формат вывода*\n",
    "\n",
    "Программа должна вывести M строчек. Для каждого числа из второго списка нужно вывести номер его первого и последнего вхождения в первый список. Нумерация начинается с единицы. Если число не входит в первый список, нужно вывести одно число 0."
   ]
  },
  {
   "cell_type": "code",
   "execution_count": 3,
   "id": "be47b58e",
   "metadata": {},
   "outputs": [
    {
     "name": "stdout",
     "output_type": "stream",
     "text": [
      "6 10\n",
      "1 5\n",
      "6 10\n",
      "1 5\n",
      "6 10\n"
     ]
    }
   ],
   "source": [
    "def binary_search_max(arr, target):\n",
    "    left, right = 0, len(arr) - 1\n",
    "    maximum = -1\n",
    "    while left <= right:\n",
    "        mid = (left + right) // 2\n",
    "        if arr[mid] == target:\n",
    "            maximum = mid\n",
    "            left = mid + 1\n",
    "        elif arr[mid] < target:\n",
    "            left = mid + 1\n",
    "        else:\n",
    "            right = mid - 1\n",
    "    return maximum + 1\n",
    "    \n",
    "def binary_search_min(arr, target):\n",
    "    left, right = 0, len(arr) - 1\n",
    "    minimum = right + 1\n",
    "    while left <= right:\n",
    "        mid = (left + right) // 2\n",
    "        if arr[mid] == target:\n",
    "            minimum = mid\n",
    "            right = mid - 1\n",
    "        elif arr[mid] < target:\n",
    "            left = mid + 1\n",
    "        else:\n",
    "            right = mid - 1\n",
    "    return minimum + 1\n",
    "\n",
    "n, m = map(int, input().split())\n",
    "a = list(map(int, input().split()))\n",
    "b = list(map(int, input().split()))\n",
    "\n",
    "for target in b:\n",
    "    maximum = binary_search_max(a, target)\n",
    "    if maximum == 0:\n",
    "        print(0)\n",
    "        continue\n",
    "    minimum = binary_search_min(a, target)\n",
    "    print(minimum, maximum)"
   ]
  },
  {
   "cell_type": "markdown",
   "id": "85e74043",
   "metadata": {},
   "source": [
    "На прямой расположены стойла, в которые необходимо расставить коров так, чтобы минимальное расcтояние между коровами было как можно больше.\n",
    "\n",
    "*Формат ввода*\n",
    "\n",
    "В первой строке вводятся числа $N (2 < N \\le 10^4)$ — количество стойл и $K (1 < K < N)$ — количество коров. Во второй строке задаются N натуральных чисел в порядке возрастания – координаты стойл (координаты не превосходят $10^9$).\n",
    "\n",
    "*Формат вывода*\n",
    "\n",
    "Выведите одно число — наибольшее возможное допустимое расстояние."
   ]
  },
  {
   "cell_type": "code",
   "execution_count": null,
   "id": "257eed2c",
   "metadata": {},
   "outputs": [],
   "source": [
    "n, m = map(int, input().split())\n",
    "arr = list(map(int, input().split()))\n",
    "\n",
    "left = 1\n",
    "right = arr[-1] - arr[0]\n",
    "\n",
    "while left <= right:\n",
    "    cow = 1\n",
    "    mid = (right + left) // 2\n",
    "    last_cow = arr[0]\n",
    "    for i in range(1, n):\n",
    "        if arr[i] - last_cow >= mid:\n",
    "            cow += 1\n",
    "            last_cow = arr[i]\n",
    "    if cow >= m:\n",
    "        left = mid + 1\n",
    "    else:\n",
    "        right = mid - 1\n",
    "print(right)"
   ]
  },
  {
   "cell_type": "markdown",
   "id": "b03ae029",
   "metadata": {},
   "source": [
    "Когда Петя учился в школе, он часто участвовал в олимпиадах по информатике, математике и физике. Так как он был достаточно способным мальчиком и усердно учился, то на многих из этих олимпиад он получал дипломы. К окончанию школы у него скопилось n дипломов, причем, как оказалось, все они имели одинаковые размеры: w – в ширину и h – в высоту.\n",
    "\n",
    "Сейчас Петя учится в одном из лучших российских университетов и живет в общежитии со своими одногруппниками. Он решил украсить свою комнату, повесив на одну из стен свои дипломы за школьные олимпиады. Так как к бетонной стене прикрепить дипломы достаточно трудно, то он решил купить специальную доску из пробкового дерева, чтобы прикрепить ее к стене, а к ней – дипломы. Для того чтобы эта конструкция выглядела более красиво, Петя хочет, чтобы доска была квадратной и занимала как можно меньше места на стене. Каждый диплом должен быть размещен строго в прямоугольнике размером w на h. Прямоугольники, соответствующие различным дипломам, не должны иметь общих внутренних точек.\n",
    "\n",
    "Требуется написать программу, которая вычислит минимальный размер стороны доски, которая потребуется Пете для размещения всех своих дипломов.\n",
    "\n",
    "*Формат ввода*\n",
    "\n",
    "Входной файл содержит три целых числа: $w, h, n  (1 \\le w, h, n \\le 10^9)$\n",
    "\n",
    "*Формат вывода*\n",
    "\n",
    "В выходной файл необходимо вывести ответ на поставленную задачу."
   ]
  },
  {
   "cell_type": "code",
   "execution_count": 4,
   "id": "dcd41512",
   "metadata": {},
   "outputs": [
    {
     "name": "stdout",
     "output_type": "stream",
     "text": [
      "9\n"
     ]
    }
   ],
   "source": [
    "w, h, n = map(int, input().split())\n",
    "\n",
    "left = min(w, h)\n",
    "right = max(w, h) * n\n",
    "\n",
    "while left <= right:\n",
    "    mid = (left + right) // 2\n",
    "    count_dip = (mid // w) * (mid // h)\n",
    "    if count_dip < n:\n",
    "        left = mid + 1 \n",
    "    else:\n",
    "        right = mid - 1\n",
    "print(left)"
   ]
  },
  {
   "cell_type": "markdown",
   "id": "8f5bee7b",
   "metadata": {},
   "source": [
    "Дан целочисленный массив nums, отсортированный по возрастанию (все значения различны).\n",
    "\n",
    "Элементы массива циклически сдвигаются на некоторое число k (1 <= k < nums.length), так что результирующий массив имеет вид [nums[k], nums[k+1],... , nums[n-1], nums[0], nums[1], ..., nums[k-1]] (с индексом 0). Например, [0,1,2,4,5,6,7] можно сдвинуть на 3 элемента и превратить в [4,5,6,7,0,1,2].\n",
    "\n",
    "Нужно вернуть индекс искомого элемента target в массиве после сдвига.\n",
    "\n",
    "Вы должны написать алгоритм со сложностью выполнения O(log n).\n",
    "\n",
    "*Формат ввода*\n",
    "\n",
    "На первой строке целое число n - размер массива (не более 10000). На второй строке сами элементы через пробел (каждый, не более 10000 по модулю). На третьей строке искомое значение.\n",
    "\n",
    "*Формат вывода*\n",
    "\n",
    "Вернуть индекс элемента или -1, если элемента в массиве нет."
   ]
  }
 ],
 "metadata": {
  "kernelspec": {
   "display_name": "Python 3",
   "language": "python",
   "name": "python3"
  },
  "language_info": {
   "codemirror_mode": {
    "name": "ipython",
    "version": 3
   },
   "file_extension": ".py",
   "mimetype": "text/x-python",
   "name": "python",
   "nbconvert_exporter": "python",
   "pygments_lexer": "ipython3",
   "version": "3.10.11"
  }
 },
 "nbformat": 4,
 "nbformat_minor": 5
}
