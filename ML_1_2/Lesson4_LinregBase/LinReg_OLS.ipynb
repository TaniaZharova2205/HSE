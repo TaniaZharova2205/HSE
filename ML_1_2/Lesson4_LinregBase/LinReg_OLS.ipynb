{
  "nbformat": 4,
  "nbformat_minor": 0,
  "metadata": {
    "colab": {
      "provenance": [],
      "authorship_tag": "ABX9TyMJf/ZKtEkcnmV30RiW99NL",
      "include_colab_link": true
    },
    "kernelspec": {
      "name": "python3",
      "display_name": "Python 3"
    },
    "language_info": {
      "name": "python"
    }
  },
  "cells": [
    {
      "cell_type": "markdown",
      "metadata": {
        "id": "view-in-github",
        "colab_type": "text"
      },
      "source": [
        "<a href=\"https://colab.research.google.com/github/Murcha1990/ML_AI24/blob/main/Lesson4_LinregBase/LinReg_OLS.ipynb\" target=\"_parent\"><img src=\"https://colab.research.google.com/assets/colab-badge.svg\" alt=\"Open In Colab\"/></a>"
      ]
    },
    {
      "cell_type": "markdown",
      "source": [
        "# Одномерная линейная регрессия"
      ],
      "metadata": {
        "id": "YXgJLtrOxGzj"
      }
    },
    {
      "cell_type": "markdown",
      "source": [
        "Для одномерной линейной регрессии модель предсказания целевого значения $y$ описывается уравнением прямой:\n",
        "\n",
        "$$\n",
        "y = \\theta_0 + \\theta_1 \\cdot x\n",
        "$$\n",
        "\n",
        "где:\n",
        "- $ \\theta_0 $ — свободный член, или смещение, представляющий значение $ y $ при $ x = 0 $.\n",
        "- $ \\theta_1 $ — коэффициент наклона прямой, описывающий изменение $ y $ при изменении $ x $.\n",
        "\n",
        "### Постановка задачи\n",
        "Цель — найти такие параметры $ \\theta_0 $ и $ \\theta_1 $, которые минимизируют ошибку предсказаний. Мы используем **метод наименьших квадратов** (OLS), который минимизирует сумму квадратов отклонений между реальными значениями $ y $ и предсказанными значениями $ \\hat{y} $:\n",
        "\n",
        "$$\n",
        "\\text{Loss} = \\sum_{i=1}^n (y_i - \\hat{y}_i)^2\n",
        "$$\n",
        "\n",
        "где $ y_i $ — истинное значение, $ \\hat{y}_i = \\theta_0 + \\theta_1 \\cdot x_i $ — предсказанное значение.\n",
        "\n",
        "### Вывод формул для коэффициентов\n",
        "\n",
        "Чтобы найти оптимальные $ \\theta_0 $ и $ \\theta_1 $, рассмотрим частные производные функции потерь по этим параметрам и приравняем их к нулю.\n",
        "\n",
        "1. **Средние значения**:\n",
        "\n",
        "   Пусть $ x_{\\text{mean}} $ и $ y_{\\text{mean}} $ обозначают средние значения по всем $ x_i $ и $ y_i $ соответственно:\n",
        "\n",
        "   $$\n",
        "   x_{\\text{mean}} = \\frac{1}{n} \\sum_{i=1}^n x_i, \\quad y_{\\text{mean}} = \\frac{1}{n} \\sum_{i=1}^n y_i\n",
        "   $$\n",
        "\n",
        "2. **Формула для наклона $ \\theta_1 $**:\n",
        "\n",
        "   Производную функции потерь по $ \\theta_1 $ приравниваем к нулю, что приводит к следующему уравнению для $ \\theta_1 $:\n",
        "\n",
        "   $$\n",
        "   \\theta_1 = \\frac{\\sum_{i=1}^n (x_i - x_{\\text{mean}})(y_i - y_{\\text{mean}})}{\\sum_{i=1}^n (x_i - x_{\\text{mean}})^2}\n",
        "   $$\n",
        "\n",
        "   Этот результат можно интерпретировать как соотношение между совместной ковариацией $ x $ и $ y $ к дисперсии $ x $.\n",
        "\n",
        "3. **Формула для смещения $ \\theta_0 $**:\n",
        "\n",
        "   Подставим найденное значение $ \\theta_1 $ в уравнение для среднего значения предсказаний $ \\hat{y}_{\\text{mean}} $:\n",
        "\n",
        "   $$\n",
        "   y_{\\text{mean}} = \\theta_0 + \\theta_1 \\cdot x_{\\text{mean}}\n",
        "   $$\n",
        "\n",
        "   Отсюда:\n",
        "\n",
        "   $$\n",
        "   \\theta_0 = y_{\\text{mean}} - \\theta_1 \\cdot x_{\\text{mean}}\n",
        "   $$\n",
        "\n",
        "### Итоговые формулы\n",
        "\n",
        "Таким образом, мы получаем следующие аналитические выражения для коэффициентов линейной регрессии:\n",
        "\n",
        "$$\n",
        "\\theta_1 = \\frac{\\sum_{i=1}^n (x_i - x_{\\text{mean}})(y_i - y_{\\text{mean}})}{\\sum_{i=1}^n (x_i - x_{\\text{mean}})^2}\n",
        "$$\n",
        "\n",
        "$$\n",
        "\\theta_0 = y_{\\text{mean}} - \\theta_1 \\cdot x_{\\text{mean}}\n",
        "$$\n",
        "\n",
        "Эти формулы позволяют нам найти параметры прямой, которые минимизируют сумму квадратов ошибок для данных точек $ (x_i, y_i) $."
      ],
      "metadata": {
        "id": "ysIwDyTFyLLA"
      }
    },
    {
      "cell_type": "code",
      "execution_count": 34,
      "metadata": {
        "id": "KezlGMMxxDfx"
      },
      "outputs": [],
      "source": [
        "import numpy as np\n",
        "\n",
        "class SimpleLinearRegression:\n",
        "    def __init__(self):\n",
        "        self.theta_0 = 0  # Свободный член (перехват)\n",
        "        self.theta_1 = 0  # Коэффициент наклона\n",
        "\n",
        "    def fit(self, X, y):\n",
        "        \"\"\"\n",
        "        Метод для обучения модели одномерной линейной регрессии.\n",
        "        Параметры:\n",
        "        X : numpy.ndarray : Вектор признаков (размерности [n_samples])\n",
        "        y : numpy.ndarray : Вектор целевых значений (размерности [n_samples])\n",
        "        \"\"\"\n",
        "        # Вычисляем средние значения X и y\n",
        "        x_mean = np.mean(X)\n",
        "        y_mean = np.mean(y)\n",
        "\n",
        "        # Вычисляем theta_1 и theta_0\n",
        "        numerator = np.sum((X - x_mean) * (y - y_mean))\n",
        "        denominator = np.sum((X - x_mean) ** 2)\n",
        "        self.theta_1 = numerator / denominator\n",
        "        self.theta_0 = y_mean - self.theta_1 * x_mean\n",
        "\n",
        "    def predict(self, X):\n",
        "        \"\"\"\n",
        "        Метод для предсказания значений.\n",
        "        Параметры:\n",
        "        X : numpy.ndarray : Вектор признаков (размерности [n_samples])\n",
        "\n",
        "        Возвращает:\n",
        "        y_pred : numpy.ndarray : Предсказанные значения (размерности [n_samples])\n",
        "        \"\"\"\n",
        "        return self.theta_0 + self.theta_1 * X"
      ]
    },
    {
      "cell_type": "code",
      "source": [
        "import numpy as np\n",
        "import pandas as pd\n",
        "\n",
        "# Параметры для генерации данных\n",
        "np.random.seed(42)  # для воспроизводимости результатов\n",
        "n_points = 100\n",
        "true_w = 2.5  # истинный вес (наклон линии)\n",
        "true_b = 1.0  # истинное смещение\n",
        "noise_std = 3.0  # стандартное отклонение шума\n",
        "\n",
        "# Генерация данных\n",
        "X = np.random.uniform(-10, 10, n_points)  # равномерно распределенные значения признака x\n",
        "noise = np.random.normal(0, noise_std, n_points)  # нормально распределенный шум\n",
        "y = true_w * X + true_b + noise  # истинная линейная зависимость с добавлением шума\n",
        "\n",
        "# Создаем DataFrame для удобства\n",
        "data = pd.DataFrame({'x': X, 'y': y})\n",
        "\n",
        "# Вывод первых пяти строк данных для проверки\n",
        "print(data.head())"
      ],
      "metadata": {
        "colab": {
          "base_uri": "https://localhost:8080/"
        },
        "id": "tLBi_EF8DZkB",
        "outputId": "71e5784b-4530-41e4-c70b-9ad4a5eab5f0"
      },
      "execution_count": 35,
      "outputs": [
        {
          "output_type": "stream",
          "name": "stdout",
          "text": [
            "          x          y\n",
            "0 -2.509198  -5.011853\n",
            "1  9.014286  22.638693\n",
            "2  4.639879  12.874979\n",
            "3  1.973170  -0.029783\n",
            "4 -6.879627 -16.858084\n"
          ]
        }
      ]
    },
    {
      "cell_type": "code",
      "source": [
        "# Создаем экземпляр модели и обучаем её\n",
        "model = SimpleLinearRegression()\n",
        "model.fit(X, y)\n",
        "\n",
        "# Делаем предсказания\n",
        "y_pred = model.predict(X)\n",
        "\n",
        "print(\"Веса:\", model.theta_0, model.theta_1)\n",
        "print(\"Предсказанные значения:\", y_pred[:10])"
      ],
      "metadata": {
        "colab": {
          "base_uri": "https://localhost:8080/"
        },
        "id": "7KEvjjnMzEku",
        "outputId": "990b64a3-6de4-4c68-8923-416bd8e5db4a"
      },
      "execution_count": 40,
      "outputs": [
        {
          "output_type": "stream",
          "name": "stdout",
          "text": [
            "Веса: 0.9556286319556975 2.4310340159315453\n",
            "Предсказанные значения: [ -5.14431614  22.86966484  12.23533191   5.75247125 -15.76897909\n",
            " -15.77015182 -20.53064679  18.75936196   5.87190929  11.07225892]\n"
          ]
        }
      ]
    },
    {
      "cell_type": "code",
      "source": [
        "from matplotlib import pyplot as plt\n",
        "\n",
        "plt.scatter(X, y)\n",
        "plt.plot(X, y_pred, color='red')"
      ],
      "metadata": {
        "colab": {
          "base_uri": "https://localhost:8080/",
          "height": 470
        },
        "id": "CKUoJsWVDmnn",
        "outputId": "311a48ad-76f8-4d3b-a492-a20f6f25c83c"
      },
      "execution_count": 37,
      "outputs": [
        {
          "output_type": "execute_result",
          "data": {
            "text/plain": [
              "[<matplotlib.lines.Line2D at 0x7edbd09e26b0>]"
            ]
          },
          "metadata": {},
          "execution_count": 37
        },
        {
          "output_type": "display_data",
          "data": {
            "text/plain": [
              "<Figure size 640x480 with 1 Axes>"
            ],
            "image/png": "[encoded data removed]"
          },
          "metadata": {}
        }
      ]
    },
    {
      "cell_type": "markdown",
      "source": [
        "Добавим три выброса"
      ],
      "metadata": {
        "id": "N8TiqJF4EWb5"
      }
    },
    {
      "cell_type": "code",
      "source": [
        "outliers_X = np.array([-7, -2, -5])  # координаты по x для выбросов\n",
        "outliers_y = np.array([200, 150, 500])  # координаты по y для выбросов\n",
        "\n",
        "# Объединяем исходные данные с выбросами\n",
        "X_with_outliers = np.concatenate([X, outliers_X])\n",
        "y_with_outliers = np.concatenate([y, outliers_y])"
      ],
      "metadata": {
        "id": "NTPXhPJHEprh"
      },
      "execution_count": 77,
      "outputs": []
    },
    {
      "cell_type": "code",
      "source": [
        "model.fit(X_with_outliers, y_with_outliers)\n",
        "\n",
        "# Делаем предсказания\n",
        "y_pred = model.predict(X_with_outliers)\n",
        "\n",
        "print(\"Веса:\", model.theta_0, model.theta_1)"
      ],
      "metadata": {
        "colab": {
          "base_uri": "https://localhost:8080/"
        },
        "id": "0cBJCi78El57",
        "outputId": "99cc1018-7586-4c53-97cf-4563efe11141"
      },
      "execution_count": 78,
      "outputs": [
        {
          "output_type": "stream",
          "name": "stdout",
          "text": [
            "Веса: 8.759475047309191 1.3803418422610148\n"
          ]
        }
      ]
    },
    {
      "cell_type": "code",
      "source": [
        "plt.scatter(X_with_outliers, y_with_outliers)\n",
        "plt.plot(X_with_outliers, y_pred, color='red')"
      ],
      "metadata": {
        "colab": {
          "base_uri": "https://localhost:8080/",
          "height": 467
        },
        "id": "ElReFiLRFKJm",
        "outputId": "72d8515a-33ab-496d-d854-8fdc8866a1e9"
      },
      "execution_count": 79,
      "outputs": [
        {
          "output_type": "execute_result",
          "data": {
            "text/plain": [
              "[<matplotlib.lines.Line2D at 0x7edbd07c7d60>]"
            ]
          },
          "metadata": {},
          "execution_count": 79
        },
        {
          "output_type": "display_data",
          "data": {
            "text/plain": [
              "<Figure size 640x480 with 1 Axes>"
            ],
            "image/png": "[encoded data removed]"
          },
          "metadata": {}
        }
      ]
    },
    {
      "cell_type": "markdown",
      "source": [
        "Какие выводы мы сделаем?"
      ],
      "metadata": {
        "id": "9pqiYALOFwkz"
      }
    },
    {
      "cell_type": "markdown",
      "source": [
        "# Многомерная линейная регрессия"
      ],
      "metadata": {
        "id": "JCWjQRqLy3xV"
      }
    },
    {
      "cell_type": "markdown",
      "source": [
        "Формула для вычисления весов $ \\theta $ линейной регрессии методом наименьших квадратов (МНК) в матричном виде выглядит следующим образом:\n",
        "\n",
        "$$\n",
        "\\theta = (X^T X)^{-1} X^T y\n",
        "$$\n",
        "\n",
        "где:\n",
        "- $ X $ — матрица признаков размерности $ (n \\times d) $, где $ n $ — количество наблюдений, а $ d $ — количество признаков (с добавленным столбцом единиц для учёта свободного члена)\n",
        "- $ y $ — вектор значений целевой переменной размерности $ (n \\times 1) $"
      ],
      "metadata": {
        "id": "SkMuW4nQ0J7U"
      }
    },
    {
      "cell_type": "code",
      "source": [
        "import numpy as np\n",
        "\n",
        "class LinearRegressionOLS:\n",
        "    def __init__(self):\n",
        "        self.theta = None  # Коэффициенты модели\n",
        "\n",
        "    def fit(self, X, y):\n",
        "        \"\"\"\n",
        "        Метод для обучения модели линейной регрессии.\n",
        "        Параметры:\n",
        "        X : numpy.ndarray : Матрица признаков (размерности [n_samples, n_features])\n",
        "        y : numpy.ndarray : Вектор целевых значений (размерности [n_samples])\n",
        "        \"\"\"\n",
        "        # Добавляем единичный столбец к X для учета свободного члена\n",
        "        X_bias = np.c_[np.ones(X.shape[0]), X]\n",
        "\n",
        "        # Вычисляем параметры с использованием формулы OLS\n",
        "        self.theta = np.linalg.inv(X_bias.T @ X_bias) @ X_bias.T @ y\n",
        "\n",
        "    def predict(self, X):\n",
        "        \"\"\"\n",
        "        Метод для предсказания значений.\n",
        "        Параметры:\n",
        "        X : numpy.ndarray : Матрица признаков (размерности [n_samples, n_features])\n",
        "\n",
        "        Возвращает:\n",
        "        y_pred : numpy.ndarray : Предсказанные значения (размерности [n_samples])\n",
        "        \"\"\"\n",
        "        # Проверяем, что модель обучена\n",
        "        if self.theta is None:\n",
        "            raise ValueError(\"Модель не обучена. Сначала вызовите метод fit.\")\n",
        "\n",
        "        # Добавляем единичный столбец к X\n",
        "        X_bias = np.c_[np.ones(X.shape[0]), X]\n",
        "\n",
        "        # Предсказание\n",
        "        return X_bias @ self.theta"
      ],
      "metadata": {
        "id": "I8qVDGqPy5Yf"
      },
      "execution_count": null,
      "outputs": []
    },
    {
      "cell_type": "code",
      "source": [
        "# Пример данных\n",
        "X = np.array([[1, 5], [2, 4], [3, 5], [4, -1], [5, 8]])  # Признаки\n",
        "y = np.array([2, 3, 4, 5, 6])  # Целевые значения\n",
        "\n",
        "# Создаем экземпляр модели и обучаем её\n",
        "model = LinearRegressionOLS()\n",
        "model.fit(X, y)\n",
        "\n",
        "# Делаем предсказания\n",
        "X_new = np.array([[6, 6], [0, 7]])\n",
        "y_pred = model.predict(X_new)\n",
        "\n",
        "print(\"Веса:\", model.theta)\n",
        "print(\"Предсказанные значения:\", y_pred)"
      ],
      "metadata": {
        "colab": {
          "base_uri": "https://localhost:8080/"
        },
        "id": "Jbr0vfF-zNAO",
        "outputId": "21099c00-d2ae-4f77-e7e8-4c6d62d9830d"
      },
      "execution_count": null,
      "outputs": [
        {
          "output_type": "stream",
          "name": "stdout",
          "text": [
            "Веса: [1.00000000e+00 1.00000000e+00 1.38777878e-16]\n",
            "Предсказанные значения: [7. 1.]\n"
          ]
        }
      ]
    }
  ]
}