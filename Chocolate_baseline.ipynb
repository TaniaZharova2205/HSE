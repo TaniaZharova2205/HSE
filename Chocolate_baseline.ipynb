{
  "nbformat": 4,
  "nbformat_minor": 0,
  "metadata": {
    "colab": {
      "provenance": [],
      "include_colab_link": true
    },
    "kernelspec": {
      "name": "python3",
      "display_name": "Python 3"
    },
    "language_info": {
      "name": "python"
    }
  },
  "cells": [
    {
      "cell_type": "markdown",
      "metadata": {
        "id": "view-in-github",
        "colab_type": "text"
      },
      "source": [
        "<a href=\"https://colab.research.google.com/github/TaniaZharova2205/HSE/blob/main/Chocolate_baseline.ipynb\" target=\"_parent\"><img src=\"https://colab.research.google.com/assets/colab-badge.svg\" alt=\"Open In Colab\"/></a>"
      ]
    },
    {
      "cell_type": "markdown",
      "source": [
        "# Baseline-решение"
      ],
      "metadata": {
        "id": "6HMi8qdjx79-"
      }
    },
    {
      "cell_type": "markdown",
      "source": [
        "## Импорт библиотек, загрузка данных"
      ],
      "metadata": {
        "id": "PqJfFxWo3NAh"
      }
    },
    {
      "cell_type": "code",
      "source": [
        "import pandas as pd\n",
        "import numpy as np"
      ],
      "metadata": {
        "id": "XBVPSLy-3Gqt"
      },
      "execution_count": 1,
      "outputs": []
    },
    {
      "cell_type": "code",
      "source": [
        "TRAIN = \"https://raw.githubusercontent.com/evgpat/edu_stepik_practical_ml/main/datasets/chocolate_train.csv\"\n",
        "TEST = \"https://raw.githubusercontent.com/evgpat/edu_stepik_practical_ml/main/datasets/chocolate_test_new.csv\""
      ],
      "metadata": {
        "id": "-_2mzgiX3USQ"
      },
      "execution_count": 2,
      "outputs": []
    },
    {
      "cell_type": "code",
      "source": [
        "train_df = pd.read_csv(TRAIN)"
      ],
      "metadata": {
        "id": "-RR6A-W_3D_C"
      },
      "execution_count": 3,
      "outputs": []
    },
    {
      "cell_type": "markdown",
      "source": [
        "## Обзор данных, подготовка к обучению"
      ],
      "metadata": {
        "id": "VuXd0Zvb4wrZ"
      }
    },
    {
      "cell_type": "code",
      "source": [
        "train_df.head()"
      ],
      "metadata": {
        "colab": {
          "base_uri": "https://localhost:8080/",
          "height": 206
        },
        "id": "MiVYgV1_5Qwn",
        "outputId": "de32190a-b587-4474-9765-118349c8319a"
      },
      "execution_count": 4,
      "outputs": [
        {
          "output_type": "execute_result",
          "data": {
            "text/plain": [
              "                        Company                Specific Bean Origin   REF  \\\n",
              "0                Willie's Cacao                          Rio Caribe   457   \n",
              "1            Beschle (Felchlin)  Ocumare, Premier Cru, Quizas No. 2   508   \n",
              "2                   Dark Forest                            Tanzania  1554   \n",
              "3  Brasstown aka It's Chocolate                          Cooproagro  1125   \n",
              "4                        Pralus                     Java, Indonesie    32   \n",
              "\n",
              "   Review Cocoa Percent Company Location  Rating   Bean Type  \\\n",
              "0    2009           72%             U.K.    3.25  Trinitario   \n",
              "1    2010           72%      Switzerland    3.50               \n",
              "2    2015           70%           U.S.A.    3.00               \n",
              "3    2013           72%           U.S.A.    3.00  Trinitario   \n",
              "4    2006           75%           France    3.50     Criollo   \n",
              "\n",
              "    Broad Bean Origin  \n",
              "0           Venezuela  \n",
              "1           Venezuela  \n",
              "2            Tanzania  \n",
              "3  Dominican Republic  \n",
              "4           Indonesia  "
            ],
            "text/html": [
              "\n",
              "  <div id=\"df-9308aaee-f838-48ba-885d-2c7da83a1265\" class=\"colab-df-container\">\n",
              "    <div>\n",
              "<style scoped>\n",
              "    .dataframe tbody tr th:only-of-type {\n",
              "        vertical-align: middle;\n",
              "    }\n",
              "\n",
              "    .dataframe tbody tr th {\n",
              "        vertical-align: top;\n",
              "    }\n",
              "\n",
              "    .dataframe thead th {\n",
              "        text-align: right;\n",
              "    }\n",
              "</style>\n",
              "<table border=\"1\" class=\"dataframe\">\n",
              "  <thead>\n",
              "    <tr style=\"text-align: right;\">\n",
              "      <th></th>\n",
              "      <th>Company</th>\n",
              "      <th>Specific Bean Origin</th>\n",
              "      <th>REF</th>\n",
              "      <th>Review</th>\n",
              "      <th>Cocoa Percent</th>\n",
              "      <th>Company Location</th>\n",
              "      <th>Rating</th>\n",
              "      <th>Bean Type</th>\n",
              "      <th>Broad Bean Origin</th>\n",
              "    </tr>\n",
              "  </thead>\n",
              "  <tbody>\n",
              "    <tr>\n",
              "      <th>0</th>\n",
              "      <td>Willie's Cacao</td>\n",
              "      <td>Rio Caribe</td>\n",
              "      <td>457</td>\n",
              "      <td>2009</td>\n",
              "      <td>72%</td>\n",
              "      <td>U.K.</td>\n",
              "      <td>3.25</td>\n",
              "      <td>Trinitario</td>\n",
              "      <td>Venezuela</td>\n",
              "    </tr>\n",
              "    <tr>\n",
              "      <th>1</th>\n",
              "      <td>Beschle (Felchlin)</td>\n",
              "      <td>Ocumare, Premier Cru, Quizas No. 2</td>\n",
              "      <td>508</td>\n",
              "      <td>2010</td>\n",
              "      <td>72%</td>\n",
              "      <td>Switzerland</td>\n",
              "      <td>3.50</td>\n",
              "      <td></td>\n",
              "      <td>Venezuela</td>\n",
              "    </tr>\n",
              "    <tr>\n",
              "      <th>2</th>\n",
              "      <td>Dark Forest</td>\n",
              "      <td>Tanzania</td>\n",
              "      <td>1554</td>\n",
              "      <td>2015</td>\n",
              "      <td>70%</td>\n",
              "      <td>U.S.A.</td>\n",
              "      <td>3.00</td>\n",
              "      <td></td>\n",
              "      <td>Tanzania</td>\n",
              "    </tr>\n",
              "    <tr>\n",
              "      <th>3</th>\n",
              "      <td>Brasstown aka It's Chocolate</td>\n",
              "      <td>Cooproagro</td>\n",
              "      <td>1125</td>\n",
              "      <td>2013</td>\n",
              "      <td>72%</td>\n",
              "      <td>U.S.A.</td>\n",
              "      <td>3.00</td>\n",
              "      <td>Trinitario</td>\n",
              "      <td>Dominican Republic</td>\n",
              "    </tr>\n",
              "    <tr>\n",
              "      <th>4</th>\n",
              "      <td>Pralus</td>\n",
              "      <td>Java, Indonesie</td>\n",
              "      <td>32</td>\n",
              "      <td>2006</td>\n",
              "      <td>75%</td>\n",
              "      <td>France</td>\n",
              "      <td>3.50</td>\n",
              "      <td>Criollo</td>\n",
              "      <td>Indonesia</td>\n",
              "    </tr>\n",
              "  </tbody>\n",
              "</table>\n",
              "</div>\n",
              "    <div class=\"colab-df-buttons\">\n",
              "\n",
              "  <div class=\"colab-df-container\">\n",
              "    <button class=\"colab-df-convert\" onclick=\"convertToInteractive('df-9308aaee-f838-48ba-885d-2c7da83a1265')\"\n",
              "            title=\"Convert this dataframe to an interactive table.\"\n",
              "            style=\"display:none;\">\n",
              "\n",
              "  <svg xmlns=\"http://www.w3.org/2000/svg\" height=\"24px\" viewBox=\"0 -960 960 960\">\n",
              "    <path d=\"M120-120v-720h720v720H120Zm60-500h600v-160H180v160Zm220 220h160v-160H400v160Zm0 220h160v-160H400v160ZM180-400h160v-160H180v160Zm440 0h160v-160H620v160ZM180-180h160v-160H180v160Zm440 0h160v-160H620v160Z\"/>\n",
              "  </svg>\n",
              "    </button>\n",
              "\n",
              "  <style>\n",
              "    .colab-df-container {\n",
              "      display:flex;\n",
              "      gap: 12px;\n",
              "    }\n",
              "\n",
              "    .colab-df-convert {\n",
              "      background-color: #E8F0FE;\n",
              "      border: none;\n",
              "      border-radius: 50%;\n",
              "      cursor: pointer;\n",
              "      display: none;\n",
              "      fill: #1967D2;\n",
              "      height: 32px;\n",
              "      padding: 0 0 0 0;\n",
              "      width: 32px;\n",
              "    }\n",
              "\n",
              "    .colab-df-convert:hover {\n",
              "      background-color: #E2EBFA;\n",
              "      box-shadow: 0px 1px 2px rgba(60, 64, 67, 0.3), 0px 1px 3px 1px rgba(60, 64, 67, 0.15);\n",
              "      fill: #174EA6;\n",
              "    }\n",
              "\n",
              "    .colab-df-buttons div {\n",
              "      margin-bottom: 4px;\n",
              "    }\n",
              "\n",
              "    [theme=dark] .colab-df-convert {\n",
              "      background-color: #3B4455;\n",
              "      fill: #D2E3FC;\n",
              "    }\n",
              "\n",
              "    [theme=dark] .colab-df-convert:hover {\n",
              "      background-color: #434B5C;\n",
              "      box-shadow: 0px 1px 3px 1px rgba(0, 0, 0, 0.15);\n",
              "      filter: drop-shadow(0px 1px 2px rgba(0, 0, 0, 0.3));\n",
              "      fill: #FFFFFF;\n",
              "    }\n",
              "  </style>\n",
              "\n",
              "    <script>\n",
              "      const buttonEl =\n",
              "        document.querySelector('#df-9308aaee-f838-48ba-885d-2c7da83a1265 button.colab-df-convert');\n",
              "      buttonEl.style.display =\n",
              "        google.colab.kernel.accessAllowed ? 'block' : 'none';\n",
              "\n",
              "      async function convertToInteractive(key) {\n",
              "        const element = document.querySelector('#df-9308aaee-f838-48ba-885d-2c7da83a1265');\n",
              "        const dataTable =\n",
              "          await google.colab.kernel.invokeFunction('convertToInteractive',\n",
              "                                                    [key], {});\n",
              "        if (!dataTable) return;\n",
              "\n",
              "        const docLinkHtml = 'Like what you see? Visit the ' +\n",
              "          '<a target=\"_blank\" href=https://colab.research.google.com/notebooks/data_table.ipynb>data table notebook</a>'\n",
              "          + ' to learn more about interactive tables.';\n",
              "        element.innerHTML = '';\n",
              "        dataTable['output_type'] = 'display_data';\n",
              "        await google.colab.output.renderOutput(dataTable, element);\n",
              "        const docLink = document.createElement('div');\n",
              "        docLink.innerHTML = docLinkHtml;\n",
              "        element.appendChild(docLink);\n",
              "      }\n",
              "    </script>\n",
              "  </div>\n",
              "\n",
              "\n",
              "<div id=\"df-d27f41e2-04fd-4b8c-95b1-d623b0da8d2b\">\n",
              "  <button class=\"colab-df-quickchart\" onclick=\"quickchart('df-d27f41e2-04fd-4b8c-95b1-d623b0da8d2b')\"\n",
              "            title=\"Suggest charts\"\n",
              "            style=\"display:none;\">\n",
              "\n",
              "<svg xmlns=\"http://www.w3.org/2000/svg\" height=\"24px\"viewBox=\"0 0 24 24\"\n",
              "     width=\"24px\">\n",
              "    <g>\n",
              "        <path d=\"M19 3H5c-1.1 0-2 .9-2 2v14c0 1.1.9 2 2 2h14c1.1 0 2-.9 2-2V5c0-1.1-.9-2-2-2zM9 17H7v-7h2v7zm4 0h-2V7h2v10zm4 0h-2v-4h2v4z\"/>\n",
              "    </g>\n",
              "</svg>\n",
              "  </button>\n",
              "\n",
              "<style>\n",
              "  .colab-df-quickchart {\n",
              "      --bg-color: #E8F0FE;\n",
              "      --fill-color: #1967D2;\n",
              "      --hover-bg-color: #E2EBFA;\n",
              "      --hover-fill-color: #174EA6;\n",
              "      --disabled-fill-color: #AAA;\n",
              "      --disabled-bg-color: #DDD;\n",
              "  }\n",
              "\n",
              "  [theme=dark] .colab-df-quickchart {\n",
              "      --bg-color: #3B4455;\n",
              "      --fill-color: #D2E3FC;\n",
              "      --hover-bg-color: #434B5C;\n",
              "      --hover-fill-color: #FFFFFF;\n",
              "      --disabled-bg-color: #3B4455;\n",
              "      --disabled-fill-color: #666;\n",
              "  }\n",
              "\n",
              "  .colab-df-quickchart {\n",
              "    background-color: var(--bg-color);\n",
              "    border: none;\n",
              "    border-radius: 50%;\n",
              "    cursor: pointer;\n",
              "    display: none;\n",
              "    fill: var(--fill-color);\n",
              "    height: 32px;\n",
              "    padding: 0;\n",
              "    width: 32px;\n",
              "  }\n",
              "\n",
              "  .colab-df-quickchart:hover {\n",
              "    background-color: var(--hover-bg-color);\n",
              "    box-shadow: 0 1px 2px rgba(60, 64, 67, 0.3), 0 1px 3px 1px rgba(60, 64, 67, 0.15);\n",
              "    fill: var(--button-hover-fill-color);\n",
              "  }\n",
              "\n",
              "  .colab-df-quickchart-complete:disabled,\n",
              "  .colab-df-quickchart-complete:disabled:hover {\n",
              "    background-color: var(--disabled-bg-color);\n",
              "    fill: var(--disabled-fill-color);\n",
              "    box-shadow: none;\n",
              "  }\n",
              "\n",
              "  .colab-df-spinner {\n",
              "    border: 2px solid var(--fill-color);\n",
              "    border-color: transparent;\n",
              "    border-bottom-color: var(--fill-color);\n",
              "    animation:\n",
              "      spin 1s steps(1) infinite;\n",
              "  }\n",
              "\n",
              "  @keyframes spin {\n",
              "    0% {\n",
              "      border-color: transparent;\n",
              "      border-bottom-color: var(--fill-color);\n",
              "      border-left-color: var(--fill-color);\n",
              "    }\n",
              "    20% {\n",
              "      border-color: transparent;\n",
              "      border-left-color: var(--fill-color);\n",
              "      border-top-color: var(--fill-color);\n",
              "    }\n",
              "    30% {\n",
              "      border-color: transparent;\n",
              "      border-left-color: var(--fill-color);\n",
              "      border-top-color: var(--fill-color);\n",
              "      border-right-color: var(--fill-color);\n",
              "    }\n",
              "    40% {\n",
              "      border-color: transparent;\n",
              "      border-right-color: var(--fill-color);\n",
              "      border-top-color: var(--fill-color);\n",
              "    }\n",
              "    60% {\n",
              "      border-color: transparent;\n",
              "      border-right-color: var(--fill-color);\n",
              "    }\n",
              "    80% {\n",
              "      border-color: transparent;\n",
              "      border-right-color: var(--fill-color);\n",
              "      border-bottom-color: var(--fill-color);\n",
              "    }\n",
              "    90% {\n",
              "      border-color: transparent;\n",
              "      border-bottom-color: var(--fill-color);\n",
              "    }\n",
              "  }\n",
              "</style>\n",
              "\n",
              "  <script>\n",
              "    async function quickchart(key) {\n",
              "      const quickchartButtonEl =\n",
              "        document.querySelector('#' + key + ' button');\n",
              "      quickchartButtonEl.disabled = true;  // To prevent multiple clicks.\n",
              "      quickchartButtonEl.classList.add('colab-df-spinner');\n",
              "      try {\n",
              "        const charts = await google.colab.kernel.invokeFunction(\n",
              "            'suggestCharts', [key], {});\n",
              "      } catch (error) {\n",
              "        console.error('Error during call to suggestCharts:', error);\n",
              "      }\n",
              "      quickchartButtonEl.classList.remove('colab-df-spinner');\n",
              "      quickchartButtonEl.classList.add('colab-df-quickchart-complete');\n",
              "    }\n",
              "    (() => {\n",
              "      let quickchartButtonEl =\n",
              "        document.querySelector('#df-d27f41e2-04fd-4b8c-95b1-d623b0da8d2b button');\n",
              "      quickchartButtonEl.style.display =\n",
              "        google.colab.kernel.accessAllowed ? 'block' : 'none';\n",
              "    })();\n",
              "  </script>\n",
              "</div>\n",
              "\n",
              "    </div>\n",
              "  </div>\n"
            ],
            "application/vnd.google.colaboratory.intrinsic+json": {
              "type": "dataframe",
              "variable_name": "train_df",
              "summary": "{\n  \"name\": \"train_df\",\n  \"rows\": 1255,\n  \"fields\": [\n    {\n      \"column\": \"Company\",\n      \"properties\": {\n        \"dtype\": \"category\",\n        \"num_unique_values\": 376,\n        \"samples\": [\n          \"Malmo\",\n          \"Whittakers\",\n          \"El Rey\"\n        ],\n        \"semantic_type\": \"\",\n        \"description\": \"\"\n      }\n    },\n    {\n      \"column\": \"Specific Bean Origin\",\n      \"properties\": {\n        \"dtype\": \"string\",\n        \"num_unique_values\": 762,\n        \"samples\": [\n          \"Venezuela; Barinos, Merida, Tachron\",\n          \"Akesson's, batch 4411\",\n          \"Ambanja, Sambirano Valley\"\n        ],\n        \"semantic_type\": \"\",\n        \"description\": \"\"\n      }\n    },\n    {\n      \"column\": \"REF\",\n      \"properties\": {\n        \"dtype\": \"number\",\n        \"std\": 551,\n        \"min\": 5,\n        \"max\": 1952,\n        \"num_unique_values\": 433,\n        \"samples\": [\n          1383,\n          1478,\n          56\n        ],\n        \"semantic_type\": \"\",\n        \"description\": \"\"\n      }\n    },\n    {\n      \"column\": \"Review\",\n      \"properties\": {\n        \"dtype\": \"number\",\n        \"std\": 2,\n        \"min\": 2006,\n        \"max\": 2017,\n        \"num_unique_values\": 12,\n        \"samples\": [\n          2007,\n          2012,\n          2009\n        ],\n        \"semantic_type\": \"\",\n        \"description\": \"\"\n      }\n    },\n    {\n      \"column\": \"Cocoa Percent\",\n      \"properties\": {\n        \"dtype\": \"category\",\n        \"num_unique_values\": 40,\n        \"samples\": [\n          \"91%\",\n          \"81%\",\n          \"76%\"\n        ],\n        \"semantic_type\": \"\",\n        \"description\": \"\"\n      }\n    },\n    {\n      \"column\": \"Company Location\",\n      \"properties\": {\n        \"dtype\": \"category\",\n        \"num_unique_values\": 58,\n        \"samples\": [\n          \"U.K.\",\n          \"Colombia\",\n          \"Scotland\"\n        ],\n        \"semantic_type\": \"\",\n        \"description\": \"\"\n      }\n    },\n    {\n      \"column\": \"Rating\",\n      \"properties\": {\n        \"dtype\": \"number\",\n        \"std\": 0.47894802129397895,\n        \"min\": 1.0,\n        \"max\": 5.0,\n        \"num_unique_values\": 13,\n        \"samples\": [\n          1.75,\n          2.0,\n          3.25\n        ],\n        \"semantic_type\": \"\",\n        \"description\": \"\"\n      }\n    },\n    {\n      \"column\": \"Bean Type\",\n      \"properties\": {\n        \"dtype\": \"category\",\n        \"num_unique_values\": 38,\n        \"samples\": [\n          \"Blend-Forastero,Criollo\",\n          \"Trinitario, Nacional\",\n          \"Forastero (Arriba)\"\n        ],\n        \"semantic_type\": \"\",\n        \"description\": \"\"\n      }\n    },\n    {\n      \"column\": \"Broad Bean Origin\",\n      \"properties\": {\n        \"dtype\": \"category\",\n        \"num_unique_values\": 84,\n        \"samples\": [\n          \"Indonesia, Ghana\",\n          \"Venezuela\",\n          \"Gabon\"\n        ],\n        \"semantic_type\": \"\",\n        \"description\": \"\"\n      }\n    }\n  ]\n}"
            }
          },
          "metadata": {},
          "execution_count": 4
        }
      ]
    },
    {
      "cell_type": "markdown",
      "source": [
        "Удаляем все строки с пропусками"
      ],
      "metadata": {
        "id": "vmO4anS2yAr9"
      }
    },
    {
      "cell_type": "code",
      "source": [
        "train_df.dropna(axis=0, inplace=True)"
      ],
      "metadata": {
        "id": "YhykpDEprgj3"
      },
      "execution_count": 5,
      "outputs": []
    },
    {
      "cell_type": "markdown",
      "source": [
        "Выделяем матрицу объект-признак и вектор с целевой переменной"
      ],
      "metadata": {
        "id": "LTFDmWziyFLY"
      }
    },
    {
      "cell_type": "code",
      "source": [
        "X_train = train_df.drop('Rating', axis=1)\n",
        "y_train = train_df['Rating']"
      ],
      "metadata": {
        "id": "Xlfs7w8irPwX"
      },
      "execution_count": 6,
      "outputs": []
    },
    {
      "cell_type": "code",
      "source": [
        "from sklearn.model_selection import train_test_split\n",
        "Xtrain, Xval, ytrain, yval = train_test_split(X_train, y_train, test_size=0.2, random_state=42)"
      ],
      "metadata": {
        "id": "1maKM6r_anC3"
      },
      "execution_count": 7,
      "outputs": []
    },
    {
      "cell_type": "markdown",
      "source": [
        "## Обучение модели"
      ],
      "metadata": {
        "id": "Ni840rPy43jU"
      }
    },
    {
      "cell_type": "markdown",
      "source": [
        "Устанавливаем катбуст и обучаем его с гиперпараметрами по умолчанию на всех данных"
      ],
      "metadata": {
        "id": "VMj-qSISyMZG"
      }
    },
    {
      "cell_type": "code",
      "source": [
        "!pip install catboost -q"
      ],
      "metadata": {
        "id": "G6ovzNIIq8BI"
      },
      "execution_count": 8,
      "outputs": []
    },
    {
      "cell_type": "code",
      "source": [
        "Xtrain.info()"
      ],
      "metadata": {
        "id": "QGV0TmU16oKZ",
        "colab": {
          "base_uri": "https://localhost:8080/"
        },
        "outputId": "0689f06c-9415-4acf-bcef-63924f6203fa"
      },
      "execution_count": 9,
      "outputs": [
        {
          "output_type": "stream",
          "name": "stdout",
          "text": [
            "<class 'pandas.core.frame.DataFrame'>\n",
            "Index: 1002 entries, 199 to 1128\n",
            "Data columns (total 8 columns):\n",
            " #   Column                Non-Null Count  Dtype \n",
            "---  ------                --------------  ----- \n",
            " 0   Company               1002 non-null   object\n",
            " 1   Specific Bean Origin  1002 non-null   object\n",
            " 2   REF                   1002 non-null   int64 \n",
            " 3   Review                1002 non-null   int64 \n",
            " 4   Cocoa Percent         1002 non-null   object\n",
            " 5   Company Location      1002 non-null   object\n",
            " 6   Bean Type             1002 non-null   object\n",
            " 7   Broad Bean Origin     1002 non-null   object\n",
            "dtypes: int64(2), object(6)\n",
            "memory usage: 70.5+ KB\n"
          ]
        }
      ]
    },
    {
      "cell_type": "code",
      "source": [
        "cat_features = [0, 1, 4, 5, 6, 7]"
      ],
      "metadata": {
        "id": "vlmT3XVcq-c4"
      },
      "execution_count": 10,
      "outputs": []
    },
    {
      "cell_type": "code",
      "source": [
        "from catboost import CatBoostRegressor\n",
        "from sklearn.preprocessing import StandardScaler\n",
        "\n",
        "num_features = ['REF', 'Review']\n",
        "scaler = StandardScaler()\n",
        "Xtrain[num_features] = scaler.fit_transform(Xtrain[num_features])\n",
        "Xval[num_features] = scaler.transform(Xval[num_features])"
      ],
      "metadata": {
        "id": "RwaBUtymrEMK"
      },
      "execution_count": 11,
      "outputs": []
    },
    {
      "cell_type": "code",
      "source": [
        "from sklearn.model_selection import GridSearchCV\n",
        "\n",
        "params = {\n",
        "    'depth': [6, 8, 10],\n",
        "    'learning_rate': [0.01, 0.03, 0.1],\n",
        "    'l2_leaf_reg': [1, 3, 5],\n",
        "    'iterations': [1000, 2000]\n",
        "}\n",
        "\n",
        "grid = GridSearchCV(\n",
        "    CatBoostRegressor(cat_features=cat_features, loss_function='RMSE', verbose=0),\n",
        "    param_grid=params,\n",
        "    cv=5,\n",
        "    scoring='r2',\n",
        "    n_jobs=-1\n",
        ")\n",
        "\n",
        "grid.fit(Xtrain, ytrain)\n",
        "print(\"Лучшие параметры:\", grid.best_params_)"
      ],
      "metadata": {
        "id": "zzH9QnP-eOz4",
        "outputId": "ffaa8f5a-2aba-477c-892d-89ad721cd798",
        "colab": {
          "base_uri": "https://localhost:8080/"
        }
      },
      "execution_count": 13,
      "outputs": [
        {
          "output_type": "stream",
          "name": "stdout",
          "text": [
            "Лучшие параметры: {'depth': 8, 'iterations': 1000, 'l2_leaf_reg': 1, 'learning_rate': 0.01}\n"
          ]
        }
      ]
    },
    {
      "cell_type": "markdown",
      "source": [
        "## Предсказание на тестовых данных"
      ],
      "metadata": {
        "id": "MMgg_SNc4_L_"
      }
    },
    {
      "cell_type": "code",
      "source": [
        "from sklearn.metrics import r2_score\n",
        "pred = grid.predict(Xval)\n",
        "r2_score(yval, pred)"
      ],
      "metadata": {
        "id": "834vNAwQbAPC",
        "outputId": "7efecf4d-fc46-4cd7-c485-544847a35948",
        "colab": {
          "base_uri": "https://localhost:8080/"
        }
      },
      "execution_count": 14,
      "outputs": [
        {
          "output_type": "execute_result",
          "data": {
            "text/plain": [
              "0.11188073409276023"
            ]
          },
          "metadata": {},
          "execution_count": 14
        }
      ]
    },
    {
      "cell_type": "markdown",
      "source": [
        "Загружаем тестовые данные"
      ],
      "metadata": {
        "id": "bMXSM7qlyTbk"
      }
    },
    {
      "cell_type": "code",
      "source": [
        "test_df = pd.read_csv(TEST)"
      ],
      "metadata": {
        "id": "yKKM4gSNr1YS"
      },
      "execution_count": 15,
      "outputs": []
    },
    {
      "cell_type": "code",
      "source": [
        "test_df.info()"
      ],
      "metadata": {
        "colab": {
          "base_uri": "https://localhost:8080/"
        },
        "id": "prhc5WB8r4Wu",
        "outputId": "e145fedb-5c0d-432b-add3-d9064ea8887b"
      },
      "execution_count": 16,
      "outputs": [
        {
          "output_type": "stream",
          "name": "stdout",
          "text": [
            "<class 'pandas.core.frame.DataFrame'>\n",
            "RangeIndex: 540 entries, 0 to 539\n",
            "Data columns (total 8 columns):\n",
            " #   Column                Non-Null Count  Dtype \n",
            "---  ------                --------------  ----- \n",
            " 0   Company               540 non-null    object\n",
            " 1   Specific Bean Origin  540 non-null    object\n",
            " 2   REF                   540 non-null    int64 \n",
            " 3   Review                540 non-null    int64 \n",
            " 4   Cocoa Percent         540 non-null    object\n",
            " 5   Company Location      540 non-null    object\n",
            " 6   Bean Type             540 non-null    object\n",
            " 7   Broad Bean Origin     540 non-null    object\n",
            "dtypes: int64(2), object(6)\n",
            "memory usage: 33.9+ KB\n"
          ]
        }
      ]
    },
    {
      "cell_type": "code",
      "source": [
        "scaler = StandardScaler()\n",
        "X_train[num_features] = scaler.fit_transform(X_train[num_features])\n",
        "test_df[num_features] = scaler.transform(test_df[num_features])\n",
        "grid.fit(X_train, y_train)\n",
        "print(\"Лучшие параметры:\", grid.best_params_)"
      ],
      "metadata": {
        "id": "NjPe5UNT4cLl"
      },
      "execution_count": null,
      "outputs": []
    },
    {
      "cell_type": "markdown",
      "source": [
        "Делаем предсказание"
      ],
      "metadata": {
        "id": "UZmGeQUOyWkL"
      }
    },
    {
      "cell_type": "code",
      "source": [
        "pred = grid.predict(test_df)"
      ],
      "metadata": {
        "id": "B5FVzK3KrYDM"
      },
      "execution_count": null,
      "outputs": []
    },
    {
      "cell_type": "markdown",
      "source": [
        "Сохраняем предсказание в файл в нужном формате"
      ],
      "metadata": {
        "id": "ZLqUnP6IyZ7e"
      }
    },
    {
      "cell_type": "code",
      "source": [
        "test_df['id'] = np.arange(len(test_df))\n",
        "test_df['Rating'] = pred\n",
        "\n",
        "test_df[['id','Rating']].to_csv(\"baseline_submission.csv\", index=False)"
      ],
      "metadata": {
        "id": "2VSWIf46ycv7"
      },
      "execution_count": null,
      "outputs": []
    }
  ]
}