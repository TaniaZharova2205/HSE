{
  "nbformat": 4,
  "nbformat_minor": 0,
  "metadata": {
    "colab": {
      "provenance": []
    },
    "kernelspec": {
      "name": "python3",
      "display_name": "Python 3"
    },
    "language_info": {
      "name": "python"
    }
  },
  "cells": [
    {
      "cell_type": "markdown",
      "source": [
        "# Аннотации типов"
      ],
      "metadata": {
        "id": "MSvQ9jdEhgZg"
      }
    },
    {
      "cell_type": "code",
      "source": [
        "!python3 --version"
      ],
      "metadata": {
        "id": "bwKoOtjTqqgE",
        "colab": {
          "base_uri": "https://localhost:8080/"
        },
        "outputId": "8135f328-5428-47ec-e504-80296120b9a0"
      },
      "execution_count": null,
      "outputs": [
        {
          "output_type": "stream",
          "name": "stdout",
          "text": [
            "Python 3.10.12\n"
          ]
        }
      ]
    },
    {
      "cell_type": "markdown",
      "source": [
        "Аннотации типов — это возможность указать типы параметров и возвращаемое значение у функции в Python. Это не является обязательным требованием языка, но может помочь программистам в дальнейшей разработке, улучшить читаемость кода и повысить его надежность."
      ],
      "metadata": {
        "id": "5nQh2F_XuBiz"
      }
    },
    {
      "cell_type": "markdown",
      "source": [
        "Аннотация типов добавлялась постепенно в Python 3.x. Начиная с версии Python 3.0 была доступна аннотация функций, а в Python 3.6 была добавлена аннотация для переменных."
      ],
      "metadata": {
        "id": "9fqFSe1TuLZ9"
      }
    },
    {
      "cell_type": "markdown",
      "source": [
        "### Утиная типизация"
      ],
      "metadata": {
        "id": "W1WGXa9VxURf"
      }
    },
    {
      "cell_type": "code",
      "source": [
        "def duck(x):\n",
        "  x.swim()\n",
        "  x.quack()\n",
        "  return"
      ],
      "metadata": {
        "id": "1P2CVKt1xZ6w"
      },
      "execution_count": null,
      "outputs": []
    },
    {
      "cell_type": "markdown",
      "source": [
        "Такая функция duck отработает корректно, только если:\n",
        "\n",
        "* У x есть атрибут swim. Иначе, AttributeError;\n",
        "\n",
        "* Этот атрибут является методом (ведёт себя как функция). Иначе, TypeError;\n",
        "\n",
        "* Этот метод может быть вызван без параметров. Иначе, TypeError.\n",
        "\n",
        "* То же самое про quack: есть атрибут, он является методом и может быть вызван без параметров."
      ],
      "metadata": {
        "id": "SefjIEw-xcjy"
      }
    },
    {
      "cell_type": "markdown",
      "source": [
        "**Если это выглядит как утка, плавает как утка и крякает как утка, то это, вероятно, и есть утка.**"
      ],
      "metadata": {
        "id": "VxvD0lhoxhBN"
      }
    },
    {
      "cell_type": "markdown",
      "source": [
        "На примере с функцией duck это выражение перекладывается приблизительно так: если x имеет метод swim, имеет метод quack, и оба они могут быть вызваны без аргументов, то это, вероятно, объект допустимого для функции duck типа.\n",
        "\n",
        "В программе может объявлено несколько типов, каждый из которых реализует необходимый набор методов. В таком случае говорят, что эти типы реализуют интерфейс. Каждая функция в свою очередь задаёт интерфейс, которому необходимо удовлетворять, чтобы вызов функции завершился без ошибок."
      ],
      "metadata": {
        "id": "aXhPzWo3xoU9"
      }
    },
    {
      "cell_type": "markdown",
      "source": [
        "### Аннотации типов данных"
      ],
      "metadata": {
        "id": "MGmabgLJyKxR"
      }
    },
    {
      "cell_type": "markdown",
      "source": [
        "* `int` — целые числа;\n",
        "* `float` — числа с запятой;\n",
        "* `str` — строки;\n",
        "* `bool` — булевы значения True и False;\n",
        "* `list` — список;\n",
        "* `dict` — словарь;\n",
        "* `set` — множество;\n",
        "* `tuple` — кортеж;\n",
        "* `callable` — объекты, которые могут быть вызваны как функции;\n",
        "* `type` — аннотация для объектов, представляющих классы;\n",
        "* `None`"
      ],
      "metadata": {
        "id": "1H92gk-BmcSb"
      }
    },
    {
      "cell_type": "code",
      "source": [
        "length: int = 5\n",
        "summ: float = 5.5\n",
        "skip_line: bool = True\n",
        "line: str = \"switchport mode access\""
      ],
      "metadata": {
        "id": "PjoKg6l9wBJK"
      },
      "execution_count": null,
      "outputs": []
    },
    {
      "cell_type": "markdown",
      "source": [
        "### Аннотации коллекций"
      ],
      "metadata": {
        "id": "WZrM2XxfBQD2"
      }
    },
    {
      "cell_type": "code",
      "source": [
        "from typing import List, Set, Dict"
      ],
      "metadata": {
        "id": "2XmdE7N1BSw7"
      },
      "execution_count": null,
      "outputs": []
    },
    {
      "cell_type": "code",
      "source": [
        "my_list: list[int] = [1, 2, 3]"
      ],
      "metadata": {
        "id": "dvxitYMHmyJK"
      },
      "execution_count": null,
      "outputs": []
    },
    {
      "cell_type": "code",
      "source": [
        "# объявляем переменную, указываем для неё ожидаемый тип\n",
        "# «множество» и добавляем аннотацию, что множество\n",
        "# my_set задумано как множество целых чисел\n",
        "my_set: set[int] = (1, 2, 3)"
      ],
      "metadata": {
        "id": "8WWqYC_dmzoL"
      },
      "execution_count": null,
      "outputs": []
    },
    {
      "cell_type": "code",
      "source": [
        "# объявляем переменную, указываем для неё ожидаемый тип\n",
        "# «словарь» и добавляем аннотацию, что ключи\n",
        "# предполагаются типа «строка», а значение — типа «целое число»\n",
        "my_dict: dict[str, int] = {'Номер ячейки': 42}"
      ],
      "metadata": {
        "id": "3Dj4PH2tm11S"
      },
      "execution_count": null,
      "outputs": []
    },
    {
      "cell_type": "code",
      "source": [
        "# объявляем переменную, указываем для неё ожидаемый тип\n",
        "# «кортеж» и добавляем аннотацию для каждого типа\n",
        "my_tuple: tuple[int, str, int] = (33, 'is', 33)"
      ],
      "metadata": {
        "id": "q4b6LEQ5m3DX"
      },
      "execution_count": null,
      "outputs": []
    },
    {
      "cell_type": "markdown",
      "source": [
        "### Аннотации функций"
      ],
      "metadata": {
        "id": "n7DLJ43lBZkE"
      }
    },
    {
      "cell_type": "code",
      "source": [
        "def find_max(numbers: list[int]) -> int:\n",
        "    if not numbers:\n",
        "        raise ValueError(\"Список пуст\")\n",
        "    max_value: int = numbers[0]\n",
        "\n",
        "    for num in numbers:\n",
        "        if num > max_value:\n",
        "            max_value = num\n",
        "\n",
        "    return max_value"
      ],
      "metadata": {
        "id": "NPjQwRtxnEC0"
      },
      "execution_count": null,
      "outputs": []
    },
    {
      "cell_type": "code",
      "source": [
        "class Employee:\n",
        "    def __init__(self, employee_id: str, salary: float):\n",
        "        self.employee_id: str = employee_id\n",
        "        self.salary: float = salary"
      ],
      "metadata": {
        "id": "2flGZis8lO5C"
      },
      "execution_count": null,
      "outputs": []
    },
    {
      "cell_type": "code",
      "source": [
        "class Circle:\n",
        "    def __init__(self, radius: float):\n",
        "        self.radius: float = radius\n",
        "\n",
        "    def area(self) -> float:\n",
        "        return 3.14159 * self.radius**2"
      ],
      "metadata": {
        "id": "qVfJg9dLlSsY"
      },
      "execution_count": null,
      "outputs": []
    },
    {
      "cell_type": "markdown",
      "source": [
        "### Дополнительные типы для аннотаций"
      ],
      "metadata": {
        "id": "ayGXhUyepJwP"
      }
    },
    {
      "cell_type": "code",
      "source": [
        "from typing import Union, Any, Optional, Callable"
      ],
      "metadata": {
        "id": "c2M-EuDXlXDl"
      },
      "execution_count": null,
      "outputs": []
    },
    {
      "cell_type": "code",
      "source": [
        "# тип данных для переменной x — целое число или строка\n",
        "x: Union[int, str]\n",
        "x = 10\n",
        "x = 'Можно положить в переменную число или строку'\n",
        "\n",
        "# объявляем переменную, указываем для неё ожидаемый тип\n",
        "# типа «словарь» и добавляем аннотацию, что ключи и значения\n",
        "# предполагаются типа «строка» или «целое число»\n",
        "my_dict: dict[Union[int, str], Union[int, str]]\n",
        "my_dict = {'Номер ячейки': 'Сорок два'}\n",
        "my_dict = {42: 84}"
      ],
      "metadata": {
        "id": "vQil23uIpOnH"
      },
      "execution_count": null,
      "outputs": []
    },
    {
      "cell_type": "code",
      "source": [
        "# тип данных для переменной y — любой\n",
        "y: Any = 'Привет, КОД!'\n",
        "y = 333\n",
        "y = [12, 'строка', 98]\n",
        "Y = {'Номер сроки кода': 71}\n",
        "\n",
        "# объявляем переменную, указываем для неё ожидаемый тип «кортеж»\n",
        "# добавляем аннотацию, что элементы могут быть любого типа\n",
        "my_tuple: tuple[Any, Any, Any] = (33, 'is', 33)"
      ],
      "metadata": {
        "id": "lN_OJOMQpPp0"
      },
      "execution_count": null,
      "outputs": []
    },
    {
      "cell_type": "code",
      "source": [
        "# тип данных для переменной z — словарь\n",
        "# объявляем переменную и говорим, что её значение может быть None\n",
        "z: Optional[dict]\n",
        "z: Union[dict, None]"
      ],
      "metadata": {
        "id": "fhD2FFTqpRUD"
      },
      "execution_count": null,
      "outputs": []
    },
    {
      "cell_type": "code",
      "source": [
        "# функция func принимает в качестве аргумента функцию another_func\n",
        "# при вызове внутри функции func в another_func должны быть переданы\n",
        "# два аргумента: целое число и строка, а возвращаемое значение должно быть словарём\n",
        "def func(another_func: Callable[[int, str], dict]):\n",
        "   another_func(11, 'строка')"
      ],
      "metadata": {
        "id": "vL7qBZq5pTDd"
      },
      "execution_count": null,
      "outputs": []
    },
    {
      "cell_type": "markdown",
      "source": [
        "### Пользовательские типы для аннотаций"
      ],
      "metadata": {
        "id": "1zKoOxkTpuur"
      }
    },
    {
      "cell_type": "code",
      "source": [
        "# кортеж с 3 типами значений\n",
        "my_tuple: tuple[int, str, int]"
      ],
      "metadata": {
        "id": "VUg1-YPIp2UV"
      },
      "execution_count": null,
      "outputs": []
    },
    {
      "cell_type": "code",
      "source": [
        "# объявляем переменную, которая будет хранить тип сложного значения\n",
        "# названия таких переменных принято писать с заглавной буквы\n",
        "Custom_type = tuple[int, str, int]"
      ],
      "metadata": {
        "id": "JxLw2Uz_p0lH"
      },
      "execution_count": null,
      "outputs": []
    },
    {
      "cell_type": "code",
      "source": [
        "# объявляем переменную, которая принимает аргумент типа\n",
        "# Custom_type и возвращает значение такого же типа\n",
        "def new_func(x: Custom_type) -> Custom_type:\n",
        "    return x"
      ],
      "metadata": {
        "id": "9z5a2Gvcp5Y9"
      },
      "execution_count": null,
      "outputs": []
    },
    {
      "cell_type": "code",
      "source": [
        "from typing import TypeAlias\n",
        "\n",
        "UserID: TypeAlias = int\n",
        "\n",
        "def get_user_name(user_id: UserID) -> str:\n",
        "    # Логика для получения имени пользователя по его ID\n",
        "    return \"Alice\""
      ],
      "metadata": {
        "id": "ytXbWlaOdvAt"
      },
      "execution_count": null,
      "outputs": []
    },
    {
      "cell_type": "code",
      "source": [
        "from typing import Any, Tuple\n",
        "\n",
        "# аннотации для функции с неизвестным числом аргументов\n",
        "def log(message: str, *args: Tuple[Any, ...]) -> None:\n",
        "    print(message.format(*args))"
      ],
      "metadata": {
        "id": "oErBi3mXGU3p"
      },
      "execution_count": null,
      "outputs": []
    },
    {
      "cell_type": "markdown",
      "source": [
        "## Dataclass'ы"
      ],
      "metadata": {
        "id": "-jtLimGjUAn8"
      }
    },
    {
      "cell_type": "code",
      "source": [
        "class Person:\n",
        "    def __init__(self, name, age):\n",
        "        self.name = name\n",
        "        self.age = age"
      ],
      "metadata": {
        "id": "kguLmjBeUkHK"
      },
      "execution_count": null,
      "outputs": []
    },
    {
      "cell_type": "code",
      "source": [
        "tom = Person(\"Tom\", 38)\n",
        "print(f\"Name: {tom.name}  Age: {tom.age}\")"
      ],
      "metadata": {
        "colab": {
          "base_uri": "https://localhost:8080/"
        },
        "id": "pLS5Qmt8UnGu",
        "outputId": "04d34979-691a-4ed5-a639-75f43ed9ab23"
      },
      "execution_count": null,
      "outputs": [
        {
          "output_type": "stream",
          "name": "stdout",
          "text": [
            "Name: Tom  Age: 38\n"
          ]
        }
      ]
    },
    {
      "cell_type": "code",
      "source": [
        "from dataclasses import dataclass\n",
        "\n",
        "@dataclass\n",
        "class Person:\n",
        "    name: str\n",
        "    age: int"
      ],
      "metadata": {
        "id": "EWb9N6bPUNuq"
      },
      "execution_count": null,
      "outputs": []
    },
    {
      "cell_type": "code",
      "source": [
        "tom = Person(\"Tom\", 38)\n",
        "print(f\"Name: {tom.name}  Age: {tom.age}\")"
      ],
      "metadata": {
        "colab": {
          "base_uri": "https://localhost:8080/"
        },
        "id": "V4dBlnmHUUd8",
        "outputId": "fd6f786d-cfab-4d89-de44-7dcaf62f2e74"
      },
      "execution_count": null,
      "outputs": [
        {
          "output_type": "stream",
          "name": "stdout",
          "text": [
            "Name: Tom  Age: 38\n"
          ]
        }
      ]
    },
    {
      "cell_type": "code",
      "source": [
        "class Person:\n",
        "    def __init__(self, name, age):\n",
        "        self.name = name\n",
        "        self.age = age\n",
        "\n",
        "    def __repr__(self):\n",
        "        return f\"Person(name={self.name!r}, age={self.age!r}\"\n",
        "\n",
        "    def __eq__(self, other):\n",
        "        if other.__class__ is self.__class__:\n",
        "            return (self.name, self.age) == (other.name, other.age)\n",
        "        return NotImplemented"
      ],
      "metadata": {
        "id": "453hrruZUvwQ"
      },
      "execution_count": null,
      "outputs": []
    },
    {
      "cell_type": "markdown",
      "source": [
        "### Значения по умолчанию"
      ],
      "metadata": {
        "id": "PhAZxZBeX3iP"
      }
    },
    {
      "cell_type": "code",
      "source": [
        "@dataclass\n",
        "class CircleArea:\n",
        "    r: int\n",
        "    pi: float = 3.14\n",
        "\n",
        "    @property\n",
        "    def area(self):\n",
        "        return self.pi * (self.r ** 2)"
      ],
      "metadata": {
        "id": "1KY2dIjkX8hR"
      },
      "execution_count": null,
      "outputs": []
    },
    {
      "cell_type": "code",
      "source": [
        "a = CircleArea(2)\n",
        "print(repr(a))   # вернется: CircleArea(r=2, pi=3.14)\n",
        "print(a.area)    # вернется: 12.56"
      ],
      "metadata": {
        "id": "mCtjzAekX9cC"
      },
      "execution_count": null,
      "outputs": []
    },
    {
      "cell_type": "markdown",
      "source": [
        "### Изменяемый и неизменяемый dataclass"
      ],
      "metadata": {
        "id": "WkPVjGp_X_zY"
      }
    },
    {
      "cell_type": "code",
      "source": [
        "@dataclass\n",
        "class CircleArea:\n",
        "    r: int\n",
        "    pi: float = 3.14\n",
        "\n",
        "    @property\n",
        "    def area(self):\n",
        "        return self.pi * (self.r ** 2)"
      ],
      "metadata": {
        "id": "xqmu1JCSYG8G"
      },
      "execution_count": null,
      "outputs": []
    },
    {
      "cell_type": "code",
      "source": [
        "a = CircleArea(2)\n",
        "a.r = 5\n",
        "print(repr(a))     # вернется: CircleArea(r=5, pi=3.14)\n",
        "print(a.area)      # вернется: 78.5"
      ],
      "metadata": {
        "id": "N9RgIgV-YJGS",
        "colab": {
          "base_uri": "https://localhost:8080/"
        },
        "outputId": "38cc1303-b0b1-41f9-a8f9-b76a9a32dbee"
      },
      "execution_count": null,
      "outputs": [
        {
          "output_type": "stream",
          "name": "stdout",
          "text": [
            "CircleArea(r=5, pi=3.14)\n",
            "78.5\n"
          ]
        }
      ]
    },
    {
      "cell_type": "code",
      "source": [
        "@dataclass(frozen=True)\n",
        "class CircleArea:\n",
        "    r: int\n",
        "    pi: float = 3.14\n",
        "\n",
        "    @property\n",
        "    def area(self):\n",
        "        return self.pi * (self.r ** 2)"
      ],
      "metadata": {
        "id": "AjLbL1afYKQh"
      },
      "execution_count": null,
      "outputs": []
    },
    {
      "cell_type": "code",
      "source": [
        "# a = CircleArea(2)\n",
        "# a.r = 5"
      ],
      "metadata": {
        "id": "8j1rGoJlYMl-"
      },
      "execution_count": null,
      "outputs": []
    },
    {
      "cell_type": "markdown",
      "source": [
        "### Конвертация"
      ],
      "metadata": {
        "id": "Ok6sHrPqYRrS"
      }
    },
    {
      "cell_type": "code",
      "source": [
        "@dataclass\n",
        "class Vector:\n",
        "    x: int\n",
        "    y: int\n",
        "    z: int"
      ],
      "metadata": {
        "id": "KIzNznffYUr8"
      },
      "execution_count": null,
      "outputs": []
    },
    {
      "cell_type": "code",
      "source": [
        "from dataclasses import dataclass, asdict, astuple\n",
        "\n",
        "v = Vector(4, 5, 7)\n",
        "print(asdict(v))\n",
        "print(astuple(v))"
      ],
      "metadata": {
        "colab": {
          "base_uri": "https://localhost:8080/"
        },
        "id": "bsJ216W0YVbs",
        "outputId": "61f0b7ca-86eb-43af-c195-e8677c20b93c"
      },
      "execution_count": null,
      "outputs": [
        {
          "output_type": "stream",
          "name": "stdout",
          "text": [
            "{'x': 4, 'y': 5, 'z': 7}\n",
            "(4, 5, 7)\n"
          ]
        }
      ]
    },
    {
      "cell_type": "markdown",
      "source": [
        "### Наследование"
      ],
      "metadata": {
        "id": "bKxFkngaY6-I"
      }
    },
    {
      "cell_type": "code",
      "source": [
        "@dataclass\n",
        "class Employee:\n",
        "    name: str\n",
        "    lang: str\n",
        "\n",
        "\n",
        "@dataclass\n",
        "class Developer(Employee):\n",
        "    salary: int"
      ],
      "metadata": {
        "id": "Z8pVrJAoZJ3D"
      },
      "execution_count": null,
      "outputs": []
    },
    {
      "cell_type": "code",
      "source": [
        "Alex = Developer('Alex', 'Python', 5000)\n",
        "print(Alex)"
      ],
      "metadata": {
        "id": "boozhm6bZNKt"
      },
      "execution_count": null,
      "outputs": []
    },
    {
      "cell_type": "markdown",
      "source": [
        "Но есть нюансы!"
      ],
      "metadata": {
        "id": "Lfq5Gs-mHdnX"
      }
    },
    {
      "cell_type": "code",
      "source": [
        "@dataclass\n",
        "class Employee:\n",
        "    name: str\n",
        "    lang: str = 'Python'\n",
        "\n",
        "\n",
        "@dataclass\n",
        "class Developer(Employee):\n",
        "    salary: int"
      ],
      "metadata": {
        "id": "gI40sL2pZgyP"
      },
      "execution_count": null,
      "outputs": []
    },
    {
      "cell_type": "markdown",
      "source": [
        "Исправляем!!"
      ],
      "metadata": {
        "id": "LNsSEBhWHljf"
      }
    },
    {
      "cell_type": "code",
      "source": [
        "@dataclass\n",
        "class Employee:\n",
        "    name: str\n",
        "    lang: str = 'Python'\n",
        "\n",
        "\n",
        "@dataclass\n",
        "class Developer(Employee):\n",
        "    salary: int = 0"
      ],
      "metadata": {
        "id": "Wbbohc5daUNv"
      },
      "execution_count": null,
      "outputs": []
    },
    {
      "cell_type": "markdown",
      "source": [
        "### Параметры декоратора `dataclass`"
      ],
      "metadata": {
        "id": "YOxVPGf4Vd17"
      }
    },
    {
      "cell_type": "code",
      "source": [
        "from dataclasses import dataclass\n",
        "\n",
        "@dataclass(*, init=True, repr=True, eq=True,\n",
        "           order=False, unsafe_hash=False, frozen=False,\n",
        "           match_args=True, kw_only=False, slots=False, weakref_slot=False)\n",
        "class MyType:\n",
        "  ..."
      ],
      "metadata": {
        "id": "WA5UGaeUJvyJ"
      },
      "execution_count": null,
      "outputs": []
    },
    {
      "cell_type": "markdown",
      "source": [
        "### Параметры полей\n",
        "\n"
      ],
      "metadata": {
        "id": "EozQWdqIalG7"
      }
    },
    {
      "cell_type": "code",
      "source": [
        "import dataclasses\n",
        "\n",
        "dataclasses.field(*, default=MISSING, default_factory=MISSING,\n",
        "                  repr=True, hash=None, init=True,\n",
        "                  compare=True, metadata=None)"
      ],
      "metadata": {
        "id": "vyjlOLGOMYZ1"
      },
      "execution_count": null,
      "outputs": []
    },
    {
      "cell_type": "code",
      "source": [
        "from dataclasses import field\n",
        "\n",
        "@dataclass\n",
        "class C:\n",
        "    mylist: list[int] = field(default_factory=list)\n",
        "\n",
        "c = C()\n",
        "c.mylist += [1, 2, 3]"
      ],
      "metadata": {
        "id": "piPLiTCjMcNJ"
      },
      "execution_count": null,
      "outputs": []
    },
    {
      "cell_type": "markdown",
      "source": [
        "### Добавление функций"
      ],
      "metadata": {
        "id": "pZAMbkXdVjDP"
      }
    },
    {
      "cell_type": "code",
      "source": [
        "from dataclasses import dataclass\n",
        "\n",
        "@dataclass\n",
        "class Person:\n",
        "    name: str\n",
        "    age: int\n",
        "\n",
        "    def say_hello(self):\n",
        "        print(f\"{self.name} says hello\")"
      ],
      "metadata": {
        "id": "xVNRyzheVVls"
      },
      "execution_count": null,
      "outputs": []
    },
    {
      "cell_type": "code",
      "source": [
        "tom = Person(\"Tom\", 38)\n",
        "tom.say_hello()"
      ],
      "metadata": {
        "id": "MFl9sLXYVbUH"
      },
      "execution_count": null,
      "outputs": []
    },
    {
      "cell_type": "markdown",
      "source": [
        "### `__slots__`"
      ],
      "metadata": {
        "id": "qB_S9STgLd_A"
      }
    },
    {
      "cell_type": "markdown",
      "source": [
        "Слоты нужны для использования меньшего количества памяти и более быстрого доступа к атрибутам."
      ],
      "metadata": {
        "id": "SHIXCo_9L_Dr"
      }
    },
    {
      "cell_type": "code",
      "source": [
        "!pip install pympler"
      ],
      "metadata": {
        "id": "GQXrFCMkLpg9"
      },
      "execution_count": null,
      "outputs": []
    },
    {
      "cell_type": "code",
      "source": [
        "from dataclasses import dataclass\n",
        "from typing import NamedTuple\n",
        "\n",
        "from pympler import asizeof\n",
        "\n",
        "@dataclass\n",
        "class CoordinatesDT:\n",
        "    longitude: float\n",
        "    latitude: float\n",
        "\n",
        "class CoordinatesNT(NamedTuple):\n",
        "    longitude: float\n",
        "    latitude: float\n",
        "\n",
        "\n",
        "coordinates_dt = CoordinatesDT(longitude=10.0, latitude=20.0)\n",
        "coordinates_nt = CoordinatesNT(longitude=10.0, latitude=20.0)\n",
        "\n",
        "print(\"dataclass\", asizeof.asized(coordinates_dt).size)    # 328 bytes\n",
        "print(\"namedtuple:\", asizeof.asized(coordinates_nt).size)  # 104 bytes"
      ],
      "metadata": {
        "colab": {
          "base_uri": "https://localhost:8080/"
        },
        "id": "lzhqWrOWLxib",
        "outputId": "fd7beaaf-14f5-4952-a458-67fdd8f0346a"
      },
      "execution_count": null,
      "outputs": [
        {
          "output_type": "stream",
          "name": "stdout",
          "text": [
            "dataclass 328\n",
            "namedtuple: 104\n"
          ]
        }
      ]
    },
    {
      "cell_type": "code",
      "source": [
        "from dataclasses import dataclass\n",
        "from pympler import asizeof\n",
        "\n",
        "\n",
        "@dataclass(slots=True, frozen=True)\n",
        "class CoordinatesDT2:\n",
        "    longitude: float\n",
        "    latitude: float\n",
        "\n",
        "coordinates_dt2 = CoordinatesDT2(longitude=10.0, latitude=20.0)\n",
        "print(\"dataclass with frozen and slots:\", asizeof.asized(coordinates_dt2).size)"
      ],
      "metadata": {
        "colab": {
          "base_uri": "https://localhost:8080/"
        },
        "id": "VPilmDXfLlKN",
        "outputId": "b8cb10a4-df30-41c0-9aa9-d2819793c009"
      },
      "execution_count": null,
      "outputs": [
        {
          "output_type": "stream",
          "name": "stdout",
          "text": [
            "dataclass with frozen and slots: 96\n"
          ]
        }
      ]
    },
    {
      "cell_type": "markdown",
      "source": [
        "## Дженерики"
      ],
      "metadata": {
        "id": "30mv7-hebk9N"
      }
    },
    {
      "cell_type": "code",
      "source": [
        "from typing import TypeVar\n",
        "\n",
        "T = TypeVar('T')\n",
        "\n",
        "def get_first_element(elements: list[T]) -> T:\n",
        "    return elements[0]"
      ],
      "metadata": {
        "id": "zmSVj2SOboI5"
      },
      "execution_count": null,
      "outputs": []
    },
    {
      "cell_type": "code",
      "source": [
        "numbers = [1, 2, 3]\n",
        "print(get_first_element(numbers))       # выведет 1\n",
        "\n",
        "words = [\"apple\", \"banana\", \"cherry\"]\n",
        "print(get_first_element(words))         # выведет apple"
      ],
      "metadata": {
        "colab": {
          "base_uri": "https://localhost:8080/"
        },
        "id": "GNLx0ntFbtS_",
        "outputId": "cd31dd11-24b6-4945-991e-3a100e0d036a"
      },
      "execution_count": null,
      "outputs": [
        {
          "output_type": "stream",
          "name": "stdout",
          "text": [
            "1\n",
            "apple\n"
          ]
        }
      ]
    },
    {
      "cell_type": "markdown",
      "source": [
        "#### Дженерики с классами"
      ],
      "metadata": {
        "id": "bfoZUOSlNY7b"
      }
    },
    {
      "cell_type": "code",
      "source": [
        "from typing import Generic\n",
        "\n",
        "T = TypeVar('T')\n",
        "\n",
        "class Box(Generic[T]):\n",
        "    def __init__(self, content: T):\n",
        "        self.content = content\n",
        "\n",
        "    def get_content(self) -> T:\n",
        "        return self.content"
      ],
      "metadata": {
        "id": "56iCjg1kbxci"
      },
      "execution_count": null,
      "outputs": []
    },
    {
      "cell_type": "code",
      "source": [
        "int_box = Box(123)\n",
        "print(int_box.get_content())  # выведет 123\n",
        "\n",
        "str_box = Box(\"hello\")\n",
        "print(str_box.get_content())  # выведет hello"
      ],
      "metadata": {
        "id": "MxsA09gHbzTr"
      },
      "execution_count": null,
      "outputs": []
    },
    {
      "cell_type": "markdown",
      "source": [
        "#### Дженерики с несколькими параметрами"
      ],
      "metadata": {
        "id": "DYyy8PGpNr8C"
      }
    },
    {
      "cell_type": "code",
      "source": [
        "from typing import TypeVar, Generic\n",
        "\n",
        "T1 = TypeVar('T1')\n",
        "T2 = TypeVar('T2')\n",
        "\n",
        "class Pair(Generic[T1, T2]):\n",
        "    def __init__(self, first: T1, second: T2):\n",
        "        self.first = first\n",
        "        self.second = second\n",
        "\n",
        "    def get_first(self) -> T1:\n",
        "        return self.first\n",
        "\n",
        "    def get_second(self) -> T2:\n",
        "        return self.second"
      ],
      "metadata": {
        "id": "4pwbRCeKb1Kg"
      },
      "execution_count": null,
      "outputs": []
    },
    {
      "cell_type": "code",
      "source": [
        "pair = Pair(1, \"one\")\n",
        "print(pair.get_first())   # выведет 1\n",
        "print(pair.get_second())  # выведет one"
      ],
      "metadata": {
        "id": "EqYFCR09b2t4"
      },
      "execution_count": null,
      "outputs": []
    },
    {
      "cell_type": "markdown",
      "source": [
        "## Ограничения типов"
      ],
      "metadata": {
        "id": "CssEV3WTN2WS"
      }
    },
    {
      "cell_type": "code",
      "source": [
        "from typing import TypeVar\n",
        "\n",
        "class Animal:\n",
        "    def speak(self) -> str:\n",
        "        pass\n",
        "\n",
        "T = TypeVar('T', bound=Animal)\n",
        "\n",
        "def make_animal_speak(animal: T) -> str:\n",
        "    return animal.speak()"
      ],
      "metadata": {
        "id": "oUPk4_HaN6_a"
      },
      "execution_count": null,
      "outputs": []
    },
    {
      "cell_type": "code",
      "source": [
        "class Dog(Animal):\n",
        "    def speak(self) -> str:\n",
        "        return \"Woof!\"\n",
        "\n",
        "dog = Dog()\n",
        "print(make_animal_speak(dog))    # выведет Woof!"
      ],
      "metadata": {
        "colab": {
          "base_uri": "https://localhost:8080/"
        },
        "id": "-vJ2esNrOIPa",
        "outputId": "381f741d-964e-40d9-c006-bcd211548aa9"
      },
      "execution_count": null,
      "outputs": [
        {
          "output_type": "stream",
          "name": "stdout",
          "text": [
            "Woof!\n"
          ]
        }
      ]
    },
    {
      "cell_type": "markdown",
      "source": [
        "## Ковариантные типы"
      ],
      "metadata": {
        "id": "5sgN7vSrOrf3"
      }
    },
    {
      "cell_type": "markdown",
      "source": [
        "Ковариантность - отношение типов, при котором сохраняется иерархия типов в сторону уточнения, то есть все производные типы считаются совместимы с базовым типом."
      ],
      "metadata": {
        "id": "7yOPkitzdpmz"
      }
    },
    {
      "cell_type": "code",
      "source": [
        "class Animal:\n",
        "    def speak(self) -> str:\n",
        "        return \"generic sound\"\n",
        "\n",
        "class Dog(Animal):\n",
        "    def speak(self) -> str:\n",
        "        return \"woof\""
      ],
      "metadata": {
        "id": "9Ll4Je8aO2G4"
      },
      "execution_count": null,
      "outputs": []
    },
    {
      "cell_type": "code",
      "source": [
        "# Ковариантность: List[Dog] -> List[Animal]\n",
        "animals: list[Animal] = [Dog()]\n",
        "\n",
        "for animal in animals:\n",
        "    print(animal.speak())"
      ],
      "metadata": {
        "colab": {
          "base_uri": "https://localhost:8080/"
        },
        "id": "JP2-Mz5FcOG7",
        "outputId": "e2c34a5a-48ee-4641-d1f9-ab3e59e9a671"
      },
      "execution_count": null,
      "outputs": [
        {
          "output_type": "stream",
          "name": "stdout",
          "text": [
            "woof\n"
          ]
        }
      ]
    },
    {
      "cell_type": "markdown",
      "source": [
        "## Контравариантные типы"
      ],
      "metadata": {
        "id": "4Zw521WncVMD"
      }
    },
    {
      "cell_type": "markdown",
      "source": [
        " Контравариантность похожа на ковариантность, но работает в обратную сторону. Иными словами, все обобщенные типы являются совместимыми с дочерним типом."
      ],
      "metadata": {
        "id": "2TFfGYcwduNE"
      }
    },
    {
      "cell_type": "code",
      "source": [
        "from typing import Callable\n",
        "\n",
        "class Animal:\n",
        "    def speak(self) -> str:\n",
        "        return \"generic sound\"\n",
        "\n",
        "class Dog(Animal):\n",
        "    def speak(self) -> str:\n",
        "        return \"woof\""
      ],
      "metadata": {
        "id": "M8EqL7vLcaZD"
      },
      "execution_count": null,
      "outputs": []
    },
    {
      "cell_type": "code",
      "source": [
        "def process_animal(animal: Animal) -> None:\n",
        "    print(animal.speak())\n",
        "\n",
        "def handle_dogs(dog_handler: Callable[[Dog], None]) -> None:\n",
        "    dog_handler(Dog())"
      ],
      "metadata": {
        "id": "IgPOGA5AcdKC"
      },
      "execution_count": null,
      "outputs": []
    },
    {
      "cell_type": "code",
      "source": [
        "# Контравариантность: Callable[[Animal], None] -> Callable[[Dog], None]\n",
        "handle_dogs(process_animal)"
      ],
      "metadata": {
        "colab": {
          "base_uri": "https://localhost:8080/"
        },
        "id": "v7H8WR_OceuN",
        "outputId": "a94316a0-0c0b-4ded-b304-aa81ad8fbaad"
      },
      "execution_count": null,
      "outputs": [
        {
          "output_type": "stream",
          "name": "stdout",
          "text": [
            "woof\n"
          ]
        }
      ]
    },
    {
      "cell_type": "markdown",
      "source": [
        "## Инвариантные типы"
      ],
      "metadata": {
        "id": "huqlw6D0dy4t"
      }
    },
    {
      "cell_type": "markdown",
      "source": [
        "Инвариантность - самое простое отношение типов, оно говорит о том, что тип A является типом B.\n",
        "\n",
        "Если рассматривать с точки зрения множеств, то множество A инвариантно множеству B, когда множество A полностью соответствует множеству B. То есть оба множества состоят из одних и тех же элементов."
      ],
      "metadata": {
        "id": "i4Sj_OD6d5aR"
      }
    },
    {
      "cell_type": "code",
      "source": [
        "class Animal:\n",
        "    pass\n",
        "\n",
        "class Dog(Animal):\n",
        "    pass"
      ],
      "metadata": {
        "id": "L9icXQ2Xd-qY"
      },
      "execution_count": null,
      "outputs": []
    },
    {
      "cell_type": "code",
      "source": [
        "animals: list[Animal] = []\n",
        "dogs: list[Dog] = []"
      ],
      "metadata": {
        "id": "M7QDXK1keFui"
      },
      "execution_count": null,
      "outputs": []
    },
    {
      "cell_type": "code",
      "source": [
        "# Ошибка: List[Dog] не является подтипом List[Animal] из-за инвариантности\n",
        "\n",
        "# animals = dogs"
      ],
      "metadata": {
        "id": "5Kg9XMvReM5O"
      },
      "execution_count": null,
      "outputs": []
    },
    {
      "cell_type": "markdown",
      "source": [
        "## `TypeVar`"
      ],
      "metadata": {
        "id": "WVcVcJ4peTCb"
      }
    },
    {
      "cell_type": "code",
      "source": [
        "from typing import TypeVar, Generic\n",
        "\n",
        "T_co = TypeVar('T_co', covariant=True)\n",
        "T_contra = TypeVar('T_contra', contravariant=True)\n",
        "\n",
        "class ReadOnlyList(Generic[T_co]):\n",
        "    def __init__(self, items: T_co):\n",
        "        self.items = items\n",
        "\n",
        "class WriteOnlyHandler(Generic[T_contra]):\n",
        "    def handle(self, item: T_contra) -> None:\n",
        "        print(f\"Handling item: {item}\")"
      ],
      "metadata": {
        "id": "SGywP47feXaO"
      },
      "execution_count": null,
      "outputs": []
    },
    {
      "cell_type": "code",
      "source": [
        "# Ковариантность\n",
        "animals = ReadOnlyList[Animal](Animal())\n",
        "dogs = ReadOnlyList[Dog](Dog())\n",
        "animals = dogs                       # Разрешено из-за ковариантности\n",
        "\n",
        "# Контравариантность\n",
        "animal_handler = WriteOnlyHandler[Animal]()\n",
        "dog_handler = WriteOnlyHandler[Dog]()\n",
        "dog_handler = animal_handler         # Разрешено из-за контравариантности"
      ],
      "metadata": {
        "id": "L5h7Qsprebsg"
      },
      "execution_count": null,
      "outputs": []
    },
    {
      "cell_type": "markdown",
      "source": [
        "## Инструменты проверки типа данных"
      ],
      "metadata": {
        "id": "lvPmwR9oSnXb"
      }
    },
    {
      "cell_type": "markdown",
      "source": [
        "### `mypy`"
      ],
      "metadata": {
        "id": "F9d581fhqAZH"
      }
    },
    {
      "cell_type": "markdown",
      "source": [
        "`mypy` может считаться самым первым инструментом проверки типов данных для Python. Работа над библиотекой началась в 2012 году, и её до сих пор активно развивают. Mypy стала прототипом для других подобных сторонних библиотек в Python, хотя с тех пор появилось и немало новых инструментов, расширивших её функции."
      ],
      "metadata": {
        "id": "37CqSoArSv40"
      }
    },
    {
      "cell_type": "markdown",
      "source": [
        "`mypy` устанавливается отдельно как pip-пакет и запускается в проекте как часть тестов или CI/CD процесса.  \n",
        "Перед сборкой и раскаткой приложения на сервер запускается проверка исходного Python-кода с mypy и если mypy находит ошибки, то процесс останавливается, разработчики исправляют найденные ошибки и процесс повторяется."
      ],
      "metadata": {
        "id": "2_RkYB2VshZN"
      }
    },
    {
      "cell_type": "code",
      "source": [
        "!pip3 install mypy"
      ],
      "metadata": {
        "id": "A5NGQurEqC-K"
      },
      "execution_count": null,
      "outputs": []
    },
    {
      "cell_type": "code",
      "source": [
        "%%writefile app.py\n",
        "\n",
        "def multiple(a: int, b: int) -> int:\n",
        "    return a * b\n",
        "\n",
        "result = multiple(1, '2')"
      ],
      "metadata": {
        "colab": {
          "base_uri": "https://localhost:8080/"
        },
        "id": "tdXKYJe7W-__",
        "outputId": "653f1f62-5ce8-401d-e765-a6cc7675044c"
      },
      "execution_count": null,
      "outputs": [
        {
          "output_type": "stream",
          "name": "stdout",
          "text": [
            "Overwriting app.py\n"
          ]
        }
      ]
    },
    {
      "cell_type": "code",
      "source": [
        "!cat app.py"
      ],
      "metadata": {
        "colab": {
          "base_uri": "https://localhost:8080/"
        },
        "id": "i3BCzFzhsZ9d",
        "outputId": "e94b50a5-d743-429c-89db-8c9c61106dab"
      },
      "execution_count": null,
      "outputs": [
        {
          "output_type": "stream",
          "name": "stdout",
          "text": [
            "\n",
            "def multiple(a: int, b: int) -> int:\n",
            "    return a * b\n",
            "\n",
            "result = multiple(1, '2')\n"
          ]
        }
      ]
    },
    {
      "cell_type": "code",
      "source": [
        "!mypy app.py"
      ],
      "metadata": {
        "colab": {
          "base_uri": "https://localhost:8080/"
        },
        "id": "vZb8VQZnDTNV",
        "outputId": "2f832590-bc85-4f13-d3f0-b885c95c4805"
      },
      "execution_count": null,
      "outputs": [
        {
          "output_type": "stream",
          "name": "stdout",
          "text": [
            "app.py:5: \u001b[1m\u001b[31merror:\u001b[m Argument 2 to \u001b[m\u001b[1m\"multiple\"\u001b[m has incompatible type \u001b[m\u001b[1m\"str\"\u001b[m; expected \u001b[m\u001b[1m\"int\"\u001b[m  \u001b[m\u001b[33m[arg-type]\u001b[m\n",
            "\u001b[1m\u001b[31mFound 1 error in 1 file (checked 1 source file)\u001b[m\n"
          ]
        }
      ]
    },
    {
      "cell_type": "code",
      "source": [
        "!python3 app.py"
      ],
      "metadata": {
        "id": "9j60TvB8D7Rm"
      },
      "execution_count": null,
      "outputs": []
    },
    {
      "cell_type": "markdown",
      "source": [
        "У mypy имеется некоторое количество опций, полный список которых можно посмотреть в официальной документации\n",
        "\n",
        "```\n",
        "[mypy]\n",
        "disallow_untyped_defs=True\n",
        "no_implicit_optional=True\n",
        "warn_return_any=True\n",
        "check_untyped_defs\n",
        "strict\n",
        "warn_unreachable\n",
        "```"
      ],
      "metadata": {
        "id": "cmQxONUeasaf"
      }
    },
    {
      "cell_type": "code",
      "source": [
        "%%writefile app.py\n",
        "\n",
        "def func1(a: str, b: str) -> str:\n",
        "    return a + b\n",
        "\n",
        "def func2(c, d):\n",
        "    result = func1(4, 6)\n",
        "    return c + d"
      ],
      "metadata": {
        "colab": {
          "base_uri": "https://localhost:8080/"
        },
        "id": "04QTFDIKTckj",
        "outputId": "ccf4a9f2-7113-482f-a314-552c63fe6bfc"
      },
      "execution_count": null,
      "outputs": [
        {
          "output_type": "stream",
          "name": "stdout",
          "text": [
            "Overwriting app.py\n"
          ]
        }
      ]
    },
    {
      "cell_type": "code",
      "source": [
        "!mypy app.py"
      ],
      "metadata": {
        "colab": {
          "base_uri": "https://localhost:8080/"
        },
        "id": "6C8FIfIzTsRT",
        "outputId": "bcb40ac3-ba08-4a6a-8118-fe4ca9ea6acc"
      },
      "execution_count": null,
      "outputs": [
        {
          "output_type": "stream",
          "name": "stdout",
          "text": [
            "\u001b[1m\u001b[32mSuccess: no issues found in 1 source file\u001b[m\n"
          ]
        }
      ]
    },
    {
      "cell_type": "code",
      "source": [
        "!mypy app.py --strict"
      ],
      "metadata": {
        "colab": {
          "base_uri": "https://localhost:8080/"
        },
        "id": "QE5bAmlJTuvv",
        "outputId": "391535fb-d049-4885-c005-26025345744b"
      },
      "execution_count": null,
      "outputs": [
        {
          "output_type": "stream",
          "name": "stdout",
          "text": [
            "app.py:5: \u001b[1m\u001b[31merror:\u001b[m Function is missing a type annotation  \u001b[m\u001b[33m[no-untyped-def]\u001b[m\n",
            "app.py:6: \u001b[1m\u001b[31merror:\u001b[m Argument 1 to \u001b[m\u001b[1m\"func1\"\u001b[m has incompatible type \u001b[m\u001b[1m\"int\"\u001b[m; expected \u001b[m\u001b[1m\"str\"\u001b[m  \u001b[m\u001b[33m[arg-type]\u001b[m\n",
            "app.py:6: \u001b[1m\u001b[31merror:\u001b[m Argument 2 to \u001b[m\u001b[1m\"func1\"\u001b[m has incompatible type \u001b[m\u001b[1m\"int\"\u001b[m; expected \u001b[m\u001b[1m\"str\"\u001b[m  \u001b[m\u001b[33m[arg-type]\u001b[m\n",
            "\u001b[1m\u001b[31mFound 3 errors in 1 file (checked 1 source file)\u001b[m\n"
          ]
        }
      ]
    },
    {
      "cell_type": "markdown",
      "source": [
        "### `pyright`"
      ],
      "metadata": {
        "id": "0elIU4OvgLmG"
      }
    },
    {
      "cell_type": "code",
      "source": [
        "!npm install -g pyright"
      ],
      "metadata": {
        "colab": {
          "base_uri": "https://localhost:8080/"
        },
        "id": "QB-aIib_gNew",
        "outputId": "701ad1df-b1a5-4c78-dba2-0a7b646b71a9"
      },
      "execution_count": null,
      "outputs": [
        {
          "output_type": "stream",
          "name": "stdout",
          "text": [
            "\u001b[K\u001b[?25h\n",
            "changed 1 package, and audited 2 packages in 5s\n",
            "\n",
            "found \u001b[32m\u001b[1m0\u001b[22m\u001b[39m vulnerabilities\n"
          ]
        }
      ]
    },
    {
      "cell_type": "code",
      "source": [
        "%%writefile app.py\n",
        "\n",
        "def greet(name: str) -> str:\n",
        "    return \"Hello, \" + name\n",
        "\n",
        "result = greet(123)"
      ],
      "metadata": {
        "colab": {
          "base_uri": "https://localhost:8080/"
        },
        "id": "7MdchP5tZFX4",
        "outputId": "2f9a1d9b-dc31-456f-a74c-f45681cf6f06"
      },
      "execution_count": null,
      "outputs": [
        {
          "output_type": "stream",
          "name": "stdout",
          "text": [
            "Overwriting app.py\n"
          ]
        }
      ]
    },
    {
      "cell_type": "code",
      "source": [
        "!pyright app.py"
      ],
      "metadata": {
        "colab": {
          "base_uri": "https://localhost:8080/"
        },
        "id": "yQp4uxVzgQtB",
        "outputId": "011ea23c-c76f-4f2b-9395-73d3a2561b3a"
      },
      "execution_count": null,
      "outputs": [
        {
          "output_type": "stream",
          "name": "stdout",
          "text": [
            "/content/app.py\n",
            "  /content/app.py:\u001b[33m5\u001b[39m:\u001b[33m16\u001b[39m - \u001b[31merror\u001b[39m: Argument of type \"Literal[123]\" cannot be assigned to parameter \"name\" of type \"str\" in function \"greet\"\n",
            "    \"Literal[123]\" is not assignable to \"str\"\u001b[90m (reportArgumentType)\u001b[39m\n",
            "1 error, 0 warnings, 0 informations \n"
          ]
        }
      ]
    },
    {
      "cell_type": "markdown",
      "source": [
        "### `pytype`"
      ],
      "metadata": {
        "id": "0PRJmxexXZyS"
      }
    },
    {
      "cell_type": "markdown",
      "source": [
        "Инструмент Pytype отличается от Mypy использованием так называемого «вывода типов» (inference), вместо обычного дескрипторов типа. Это значит, что Pytype пытается определить типы путём анализа потока кода, а не полагается исключительно на аннотации."
      ],
      "metadata": {
        "id": "pDP9rouZXfMx"
      }
    },
    {
      "cell_type": "markdown",
      "source": [
        "Везде, где это имеет смысл, Pytype проявляет снисходительность. Если есть операция, которая при выполнении нормально работает и не противоречит аннотациям, то Pytype не будет препятствовать процессу.\n",
        "\n",
        "Но это также значит, что проблемы, на которые следовало бы указать, замечены не будут. Например, объявление переменной с типом и затем её переобъявление в том же контексте."
      ],
      "metadata": {
        "id": "QUa-dcCLXhxd"
      }
    },
    {
      "cell_type": "code",
      "source": [
        "!pip3 install pytype"
      ],
      "metadata": {
        "id": "b8H5heCWZcbO"
      },
      "execution_count": null,
      "outputs": []
    },
    {
      "cell_type": "code",
      "source": [
        "%%writefile app.py\n",
        "\n",
        "def get_list() -> list[str]:\n",
        "  lst = ['Str value']\n",
        "  lst.append(42)\n",
        "  return [ str (x) for x in lst]"
      ],
      "metadata": {
        "colab": {
          "base_uri": "https://localhost:8080/"
        },
        "id": "9qIvyW9VYRLw",
        "outputId": "942ee107-f22c-4b39-c442-380e3733892c"
      },
      "execution_count": null,
      "outputs": [
        {
          "output_type": "stream",
          "name": "stdout",
          "text": [
            "Overwriting app.py\n"
          ]
        }
      ]
    },
    {
      "cell_type": "code",
      "source": [
        "!mypy app.py"
      ],
      "metadata": {
        "colab": {
          "base_uri": "https://localhost:8080/"
        },
        "id": "KBtOZe5BZT9Z",
        "outputId": "2146f11c-1136-483a-9fe4-a7ba1b07d4da"
      },
      "execution_count": null,
      "outputs": [
        {
          "output_type": "stream",
          "name": "stdout",
          "text": [
            "app.py:4: \u001b[1m\u001b[31merror:\u001b[m Argument 1 to \u001b[m\u001b[1m\"append\"\u001b[m of \u001b[m\u001b[1m\"list\"\u001b[m has incompatible type \u001b[m\u001b[1m\"int\"\u001b[m; expected \u001b[m\u001b[1m\"str\"\u001b[m  \u001b[m\u001b[33m[arg-type]\u001b[m\n",
            "\u001b[1m\u001b[31mFound 1 error in 1 file (checked 1 source file)\u001b[m\n"
          ]
        }
      ]
    },
    {
      "cell_type": "code",
      "source": [
        "!pytype app.py"
      ],
      "metadata": {
        "colab": {
          "base_uri": "https://localhost:8080/"
        },
        "id": "exetFF-TZVvc",
        "outputId": "47008f9b-5086-450a-bd42-13aaedd26173"
      },
      "execution_count": null,
      "outputs": [
        {
          "output_type": "stream",
          "name": "stdout",
          "text": [
            "Computing dependencies\n",
            "Analyzing 1 sources with 0 local dependencies\n",
            "ninja: Entering directory `.pytype'\n",
            "[1/1] check app\u001b[K\n",
            "Leaving directory '.pytype'\n",
            "Success: no errors found\n"
          ]
        }
      ]
    },
    {
      "cell_type": "code",
      "source": [
        "%%writefile mail.py\n",
        "\n",
        "\n",
        "import re\n",
        "\n",
        "def GetEmailMatch(email):\n",
        "  return re.match(r'([^@]+)@example\\.com', email)\n",
        "\n",
        "def GetUsername(email_address):\n",
        "  match = GetEmailMatch(email_address)\n",
        "  if match is None:\n",
        "    return None\n",
        "  return match.group(1)"
      ],
      "metadata": {
        "colab": {
          "base_uri": "https://localhost:8080/"
        },
        "id": "1A95B6VMaUjE",
        "outputId": "1d273972-7f6d-4875-d754-2ea9ff74f909"
      },
      "execution_count": null,
      "outputs": [
        {
          "output_type": "stream",
          "name": "stdout",
          "text": [
            "Overwriting mail.py\n"
          ]
        }
      ]
    },
    {
      "cell_type": "code",
      "source": [
        "!cat mail.py"
      ],
      "metadata": {
        "colab": {
          "base_uri": "https://localhost:8080/"
        },
        "id": "uLk0-KeKaZ_V",
        "outputId": "bfc99ddf-40ab-4946-9b20-12b044f27cd8"
      },
      "execution_count": null,
      "outputs": [
        {
          "output_type": "stream",
          "name": "stdout",
          "text": [
            "\n",
            "\n",
            "import re\n",
            "\n",
            "def GetEmailMatch(email):\n",
            "  return re.match(r'([^@]+)@example\\.com', email)\n",
            "\n",
            "def GetUsername(email_address):\n",
            "  match = GetEmailMatch(email_address)\n",
            "  if match is None:\n",
            "    return None\n",
            "  return match.group(1)\n"
          ]
        }
      ]
    },
    {
      "cell_type": "code",
      "source": [
        "!pytype -o /content/ mail.py"
      ],
      "metadata": {
        "colab": {
          "base_uri": "https://localhost:8080/"
        },
        "id": "dpXkDTSWacIP",
        "outputId": "e5438095-8a0d-4243-9262-7648c06ed012"
      },
      "execution_count": null,
      "outputs": [
        {
          "output_type": "stream",
          "name": "stdout",
          "text": [
            "Computing dependencies\n",
            "Analyzing 1 sources with 0 local dependencies\n",
            "ninja: Entering directory `.'\n",
            "[1/1] check mail\u001b[K\n",
            "Leaving directory '.'\n",
            "Success: no errors found\n"
          ]
        }
      ]
    },
    {
      "cell_type": "code",
      "source": [
        "!merge-pyi -i mail.py /content/pyi/mail.pyi"
      ],
      "metadata": {
        "colab": {
          "base_uri": "https://localhost:8080/"
        },
        "id": "fqWfYkKYakNN",
        "outputId": "5289ff2d-d797-4807-e9e4-f5fd82ac6825"
      },
      "execution_count": null,
      "outputs": [
        {
          "output_type": "stream",
          "name": "stdout",
          "text": [
            "Merged types to mail.py from /content/pyi/mail.pyi\n"
          ]
        }
      ]
    },
    {
      "cell_type": "code",
      "source": [
        "!cat mail.py"
      ],
      "metadata": {
        "colab": {
          "base_uri": "https://localhost:8080/"
        },
        "id": "yTWs288pb7ly",
        "outputId": "9de24cde-66eb-471a-d360-0f492c434757"
      },
      "execution_count": null,
      "outputs": [
        {
          "output_type": "stream",
          "name": "stdout",
          "text": [
            "\n",
            "\n",
            "import re\n",
            "from typing import Optional\n",
            "\n",
            "def GetEmailMatch(email) -> Optional[re.Match[str]]:\n",
            "  return re.match(r'([^@]+)@example\\.com', email)\n",
            "\n",
            "def GetUsername(email_address):\n",
            "  match = GetEmailMatch(email_address)\n",
            "  if match is None:\n",
            "    return None\n",
            "  return match.group(1)\n"
          ]
        }
      ]
    },
    {
      "cell_type": "markdown",
      "source": [
        "### Pyre"
      ],
      "metadata": {
        "id": "11WNscKRhCcG"
      }
    },
    {
      "cell_type": "markdown",
      "source": [
        "По сути, это два инструмента в одном:\n",
        "* система проверки типов (Pyre)\n",
        "* средство статистического анализа кода (Pysa)"
      ],
      "metadata": {
        "id": "uZGAGqbcV20l"
      }
    },
    {
      "cell_type": "markdown",
      "source": [
        "Оба созданы для совместной работы, чтобы обеспечить более высокий уровень проверки и анализа, чем другие инструменты. Однако, чтобы получить все преимущества, пользователь должен приложить немного усилий."
      ],
      "metadata": {
        "id": "WF6u0F5PV7wE"
      }
    },
    {
      "cell_type": "markdown",
      "source": [
        "Подход Pyre аналогичен Pytype и Mypy. С кодом без типизации данных программа обращается снисходительней, чем с типизированным. Поэтому можно взять нетипизированный код и добавлять в Python аннотации пошагово: функцию за функцией, модуль за модулем.\n",
        "\n",
        "Если включить «строгий режим» (strict mode), Pyre отметит все пропущенные аннотации. Можно также выставить строгий режим по умолчанию, отключая его на уровне модулей. Pyre работает и со stub-файлами в формате «.pyi»."
      ],
      "metadata": {
        "id": "XlQj5VpHV_-N"
      }
    },
    {
      "cell_type": "code",
      "source": [
        "!pip install pyre-check"
      ],
      "metadata": {
        "id": "uTIKJemvg5oR"
      },
      "execution_count": null,
      "outputs": []
    },
    {
      "cell_type": "markdown",
      "source": [
        "Инициализируем `Pyre` в проекте"
      ],
      "metadata": {
        "id": "PXE64jwPwRSx"
      }
    },
    {
      "cell_type": "code",
      "source": [
        "!pyre init"
      ],
      "metadata": {
        "id": "O7yrPrSTv8v9"
      },
      "execution_count": null,
      "outputs": []
    },
    {
      "cell_type": "markdown",
      "source": [
        "Делаем проверку"
      ],
      "metadata": {
        "id": "0LA0iJu_wSuj"
      }
    },
    {
      "cell_type": "code",
      "source": [
        "!pyre check"
      ],
      "metadata": {
        "id": "j2cX3f1hwVCd"
      },
      "execution_count": null,
      "outputs": []
    },
    {
      "cell_type": "markdown",
      "source": [
        "У Pyre есть мощная функция для миграции баз исходного кода в типизированный формат. С опцией командной строки `infer` программа берёт файл или каталог, делает эмпирические предположения об использованных типах и применяет полученные аннотации к файлам"
      ],
      "metadata": {
        "id": "yGdJJ7B-WD0N"
      }
    },
    {
      "cell_type": "markdown",
      "source": [
        "По функциям инструмент Pyre аналогичен другим рассмотренным пакетам, но Pysa имеет свои уникальные преимущества. Этот модуль проверки выполняет для кода taint-анализ — ищет возможные проблемы безопасности. Pysa использует библиотеку потокового анализа определённых программных компонентов, после чего отмечает потенциально уязвимый код.\n",
        "\n",
        "Всё, что связано с этим кодом, будет отмечено как «загрязнённое» (tainted). Впрочем, можно указать компоненты, которые обеспечат безопасность данных, убрав такие данные из «диаграммы загрязнения» (taint graph)."
      ],
      "metadata": {
        "id": "U9o2VKkLWScR"
      }
    },
    {
      "cell_type": "markdown",
      "source": [
        "### Typeguard"
      ],
      "metadata": {
        "id": "1qFelhdxwpYU"
      }
    },
    {
      "cell_type": "code",
      "source": [
        "!pip install typeguard"
      ],
      "metadata": {
        "id": "8B1yp6iai6Dq"
      },
      "execution_count": null,
      "outputs": []
    },
    {
      "cell_type": "code",
      "source": [
        "from typeguard import typechecked\n",
        "\n",
        "@typechecked\n",
        "def concatenate(a: str, b: str) -> str:\n",
        "    return a + b\n",
        "\n",
        "result = concatenate(\"Hello, \", \"world!\")"
      ],
      "metadata": {
        "id": "FrFhyLGLjaxj"
      },
      "execution_count": null,
      "outputs": []
    },
    {
      "cell_type": "code",
      "source": [
        "# result = concatenate(\"Hello, \", 123)"
      ],
      "metadata": {
        "id": "Wg3attEsw1iP"
      },
      "execution_count": null,
      "outputs": []
    },
    {
      "cell_type": "markdown",
      "source": [
        "## Подведение итогов"
      ],
      "metadata": {
        "id": "7AtwQ1c6w_Qo"
      }
    },
    {
      "cell_type": "markdown",
      "source": [
        "Аннотации типов в Python — это мощный инструмент, который улучшает читаемость и поддержку кода, а также помогает находить ошибки на ранних этапах разработки.\n",
        "\n",
        "Грамотное использование type hinting и осознанный выбор классов отделяет код новичка от кода растущего профессионала. Пользуйтесь подсказками типов, продумывайте структуру приложения,\n",
        "используйте типы данных, и тогда Ваши решения будут красивыми, приятно читаемыми, легко поддерживаемыми и надёжными!!!"
      ],
      "metadata": {
        "id": "fovnweIexCVJ"
      }
    },
    {
      "cell_type": "markdown",
      "source": [
        "## Полезные ссылки"
      ],
      "metadata": {
        "id": "7c9Pvn3zxDtU"
      }
    },
    {
      "cell_type": "markdown",
      "source": [
        "*   [Awesome Python Typing](https://github.com/typeddjango/awesome-python-typing)\n",
        "*   [Документация к модулю `typing`](https://docs.python.org/3/library/typing.html)\n",
        "*   [Документация `mypy`](https://mypy.readthedocs.io/en/stable/)\n",
        "*   [Репозиторий `mypy` на GitHub](https://github.com/python/mypy)\n",
        "*   [Сайт `mypy`](http://mypy-lang.org/)\n",
        "*   [Сайт `pyre`](https://pyre-check.org/)\n",
        "*   [Репозиторий `pytype` на GitHub](https://github.com/google/pytype)\n",
        "*   [Репозиторий `pyright` на GitHub](https://github.com/Microsoft/pyright)\n",
        "\n",
        "\n"
      ],
      "metadata": {
        "id": "BknZ4GVpxGvy"
      }
    }
  ]
}