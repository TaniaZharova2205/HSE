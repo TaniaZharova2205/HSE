{
 "cells": [
  {
   "cell_type": "code",
   "execution_count": 27,
   "id": "7d1ef2d0-599d-49d4-8855-0158d0e5daf7",
   "metadata": {},
   "outputs": [
    {
     "name": "stdout",
     "output_type": "stream",
     "text": [
      "['She sells sea shells on the sea shore;\\n', \"The shells that she sells are sea shells I'm sure.\\n\", 'So if she sells sea shells on the sea shore,\\n', \"I'm sure that the shells are sea shore shells.\\n\", '\\n']\n",
      "0 0 0 0 0\n"
     ]
    }
   ],
   "source": [
    "with open('input.txt', 'r') as f:\n",
    "    for line in file1:\n",
    "        print(lst)\n",
    "        d = dict()\n",
    "        res = []\n",
    "        for i in lst:\n",
    "            if i in d:\n",
    "                d[i] += 1\n",
    "                res.append(str(d[i]))\n",
    "            else:\n",
    "                d[i] = 0\n",
    "                res.append(str(0))\n",
    "    print(' '.join(res))"
   ]
  },
  {
   "cell_type": "code",
   "execution_count": null,
   "id": "d0e12dfd-4539-4946-801a-39ed7e333cd0",
   "metadata": {},
   "outputs": [],
   "source": []
  }
 ],
 "metadata": {
  "kernelspec": {
   "display_name": "Python 3 (ipykernel)",
   "language": "python",
   "name": "python3"
  },
  "language_info": {
   "codemirror_mode": {
    "name": "ipython",
    "version": 3
   },
   "file_extension": ".py",
   "mimetype": "text/x-python",
   "name": "python",
   "nbconvert_exporter": "python",
   "pygments_lexer": "ipython3",
   "version": "3.12.6"
  }
 },
 "nbformat": 4,
 "nbformat_minor": 5
}
