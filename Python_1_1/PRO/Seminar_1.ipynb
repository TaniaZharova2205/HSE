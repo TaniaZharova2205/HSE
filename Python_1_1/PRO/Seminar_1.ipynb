{
 "cells": [
  {
   "cell_type": "markdown",
   "metadata": {
    "colab_type": "text",
    "id": "view-in-github"
   },
   "source": [
    "<a href=\"https://colab.research.google.com/github/TaniaZharova2205/HSE/blob/main/Seminar1.ipynb\" target=\"_parent\"><img src=\"https://colab.research.google.com/assets/colab-badge.svg\" alt=\"Open In Colab\"/></a>"
   ]
  },
  {
   "cell_type": "markdown",
   "metadata": {
    "id": "kpzUVzKKX6Zc"
   },
   "source": [
    "### Функции\n",
    "\n",
    "Функция -- это код, выполняющий конкретную небольшую цель.\n",
    "\n",
    "Синтаксис:\n",
    "\n",
    "<ul>\n",
    "<li>def -- ключевое слово, объявляющее функцию</li>\n",
    "<li>my_new_function -- произвольное имя, которое мы даём нашей функции. Далее мы будем обращаться к функции по этому имени</li>\n",
    "<li>: -- знак начала объявления инструкции, как, например, в конструкции if</li>\n",
    "<li>Далее можно писать код, который будет исполняться</li>\n",
    "\n",
    "</ul>"
   ]
  },
  {
   "cell_type": "code",
   "execution_count": null,
   "metadata": {
    "id": "p4Vvfa5gYDoN"
   },
   "outputs": [],
   "source": [
    "def very_useful_function():\n",
    "    print('Hello!')"
   ]
  },
  {
   "cell_type": "code",
   "execution_count": null,
   "metadata": {
    "colab": {
     "base_uri": "https://localhost:8080/",
     "height": 103
    },
    "id": "UZvY94aVYKDz",
    "outputId": "cde6ec5f-96f4-43b1-c71f-48ecdee602ce"
   },
   "outputs": [
    {
     "data": {
      "text/html": [
       "<div style=\"max-width:800px; border: 1px solid var(--colab-border-color);\"><style>\n",
       "      pre.function-repr-contents {\n",
       "        overflow-x: auto;\n",
       "        padding: 8px 12px;\n",
       "        max-height: 500px;\n",
       "      }\n",
       "\n",
       "      pre.function-repr-contents.function-repr-contents-collapsed {\n",
       "        cursor: pointer;\n",
       "        max-height: 100px;\n",
       "      }\n",
       "    </style>\n",
       "    <pre style=\"white-space: initial; background:\n",
       "         var(--colab-secondary-surface-color); padding: 8px 12px;\n",
       "         border-bottom: 1px solid var(--colab-border-color);\"><b>very_useful_function</b><br/>def very_useful_function()</pre><pre class=\"function-repr-contents function-repr-contents-collapsed\" style=\"\"><a class=\"filepath\" style=\"display:none\" href=\"#\">/content/&lt;ipython-input-1-060eaaa833c6&gt;</a>&lt;no docstring&gt;</pre></div>"
      ],
      "text/plain": [
       "<function __main__.very_useful_function()>"
      ]
     },
     "execution_count": 2,
     "metadata": {},
     "output_type": "execute_result"
    }
   ],
   "source": [
    "very_useful_function"
   ]
  },
  {
   "cell_type": "code",
   "execution_count": null,
   "metadata": {
    "colab": {
     "base_uri": "https://localhost:8080/"
    },
    "id": "4rMGGerfYEbj",
    "outputId": "d0addca9-90a6-498c-eb2f-4551cc42ef14"
   },
   "outputs": [
    {
     "name": "stdout",
     "output_type": "stream",
     "text": [
      "Hello!\n"
     ]
    }
   ],
   "source": [
    "very_useful_function()"
   ]
  },
  {
   "cell_type": "code",
   "execution_count": null,
   "metadata": {
    "colab": {
     "base_uri": "https://localhost:8080/"
    },
    "id": "Hh1GtInHYR9N",
    "outputId": "37ec3cff-cc7d-4940-9f20-4e297a24d643"
   },
   "outputs": [
    {
     "name": "stdout",
     "output_type": "stream",
     "text": [
      "Hello!\n"
     ]
    }
   ],
   "source": [
    "result = very_useful_function()"
   ]
  },
  {
   "cell_type": "code",
   "execution_count": null,
   "metadata": {
    "colab": {
     "base_uri": "https://localhost:8080/"
    },
    "id": "hbMoIiGhF7R9",
    "outputId": "22cb4e5f-dfb5-4dcd-e321-b37055809244"
   },
   "outputs": [
    {
     "name": "stdout",
     "output_type": "stream",
     "text": [
      "None\n"
     ]
    }
   ],
   "source": [
    "print(result)"
   ]
  },
  {
   "cell_type": "markdown",
   "metadata": {
    "id": "XUaEjN8QYSUX"
   },
   "source": [
    "### Аргументы функций"
   ]
  },
  {
   "cell_type": "code",
   "execution_count": null,
   "metadata": {
    "id": "RvNaIRjNYUFL"
   },
   "outputs": [],
   "source": [
    "def has_negative_number(list_numbers):\n",
    "    for num in list_numbers:\n",
    "        if num < 0:\n",
    "            return True\n",
    "    return False"
   ]
  },
  {
   "cell_type": "code",
   "execution_count": null,
   "metadata": {
    "colab": {
     "base_uri": "https://localhost:8080/"
    },
    "id": "OpnbpUPCYYi3",
    "outputId": "a61960ca-cd6f-4f59-82bf-f66c60f1a195"
   },
   "outputs": [
    {
     "name": "stdout",
     "output_type": "stream",
     "text": [
      "True\n"
     ]
    }
   ],
   "source": [
    "list_numbers = [0, 1, -1, 2, 3]\n",
    "is_negative_number = has_negative_number(list_numbers)\n",
    "print(is_negative_number)"
   ]
  },
  {
   "cell_type": "code",
   "execution_count": null,
   "metadata": {
    "colab": {
     "base_uri": "https://localhost:8080/",
     "height": 176
    },
    "id": "0d7tD6HjYqW2",
    "outputId": "6e47b8a4-f3fa-47f7-a364-5bc94dc50467"
   },
   "outputs": [
    {
     "ename": "TypeError",
     "evalue": "has_negative_number() missing 1 required positional argument: 'list_numbers'",
     "output_type": "error",
     "traceback": [
      "\u001b[0;31m---------------------------------------------------------------------------\u001b[0m",
      "\u001b[0;31mTypeError\u001b[0m                                 Traceback (most recent call last)",
      "\u001b[0;32m<ipython-input-17-4967b556b4cb>\u001b[0m in \u001b[0;36m<cell line: 1>\u001b[0;34m()\u001b[0m\n\u001b[0;32m----> 1\u001b[0;31m \u001b[0mis_negative_number\u001b[0m \u001b[0;34m=\u001b[0m \u001b[0mhas_negative_number\u001b[0m\u001b[0;34m(\u001b[0m\u001b[0;34m)\u001b[0m \u001b[0;31m# ошибка - функция ожидает один аргумент, мы не дали ни одного\u001b[0m\u001b[0;34m\u001b[0m\u001b[0;34m\u001b[0m\u001b[0m\n\u001b[0m",
      "\u001b[0;31mTypeError\u001b[0m: has_negative_number() missing 1 required positional argument: 'list_numbers'"
     ]
    }
   ],
   "source": [
    "is_negative_number = has_negative_number() # ошибка - функция ожидает один аргумент, мы не дали ни одного"
   ]
  },
  {
   "cell_type": "code",
   "execution_count": null,
   "metadata": {
    "id": "YeWLVyNDY2mb"
   },
   "outputs": [],
   "source": [
    "result_of_function = very_useful_function()\n",
    "print(result_of_function)"
   ]
  },
  {
   "cell_type": "code",
   "execution_count": null,
   "metadata": {
    "id": "ZjW6quiMY31C"
   },
   "outputs": [],
   "source": [
    "result_of_function = very_useful_function()\n",
    "print(result_of_function)"
   ]
  },
  {
   "cell_type": "markdown",
   "metadata": {
    "id": "fTzTMKv_Ytfq"
   },
   "source": [
    "##### Аргументы с значениями по умолчанию\n",
    "\n",
    "Если мы хотим оставить значения каких-то аргументов по умолчанию, можно прописать их при определении функции.\n",
    "\n",
    "В таком случае можно вызывать функции без аргументов и ошибки не возникнет."
   ]
  },
  {
   "cell_type": "code",
   "execution_count": null,
   "metadata": {
    "id": "aSiVZOmaY0lb"
   },
   "outputs": [],
   "source": [
    "def very_useful_print_function(thing = \"Привет\"):\n",
    "    print(f'{thing}!')"
   ]
  },
  {
   "cell_type": "code",
   "execution_count": null,
   "metadata": {
    "colab": {
     "base_uri": "https://localhost:8080/"
    },
    "id": "ZKzX2PCvGKe0",
    "outputId": "69f4b5a8-40d9-41c0-bba7-e5a991ce223e"
   },
   "outputs": [
    {
     "name": "stdout",
     "output_type": "stream",
     "text": [
      "Hi!\n"
     ]
    }
   ],
   "source": [
    " very_useful_print_function('Hi')"
   ]
  },
  {
   "cell_type": "markdown",
   "metadata": {
    "id": "f2juYN9eIIZH"
   },
   "source": [
    "**Задача с контеста**\n",
    "\n",
    "Напишите функцию is_plagiat, которая принимает на вход два аргумента - строки word1 и word2 - и возвращает True, если слово является плагиатом, и False - если не является.\n",
    "\n",
    "word2 является плагиатом слова word1, если:\n",
    "\n",
    "\n",
    "* Используются те же самые буквы либо есть еще одна дополнительная, которой нет в word1\n",
    "* Регистр не имеет значения (слово \"woRD\" является плагиатом слова \"word\")\n",
    "* Порядок не имеет значения - если буквы все совпадают (либо совпадают все, кроме одной), но расположены они в разном порядке - это все равно плагиат!\n",
    "Гарантируется, что слова состоят только из букв.\n",
    "\n",
    "\n",
    "Считайте две строки и выведите результат функции is_plagiat от них."
   ]
  },
  {
   "cell_type": "code",
   "execution_count": null,
   "metadata": {
    "colab": {
     "base_uri": "https://localhost:8080/"
    },
    "id": "zZRxNJY9G90P",
    "outputId": "903591d2-36d0-44d0-b013-caefe3ca09af"
   },
   "outputs": [
    {
     "data": {
      "text/plain": [
       "{'d', 'o', 'r', 'w'}"
      ]
     },
     "execution_count": 30,
     "metadata": {},
     "output_type": "execute_result"
    }
   ],
   "source": [
    "set('word')"
   ]
  },
  {
   "cell_type": "code",
   "execution_count": null,
   "metadata": {
    "colab": {
     "base_uri": "https://localhost:8080/"
    },
    "id": "PBG4qi9GHfbN",
    "outputId": "81b2df9b-1f19-4c9e-da3b-52fc089e35e2"
   },
   "outputs": [
    {
     "data": {
      "text/plain": [
       "True"
      ]
     },
     "execution_count": 31,
     "metadata": {},
     "output_type": "execute_result"
    }
   ],
   "source": [
    "set('wordword') == set('word')"
   ]
  },
  {
   "cell_type": "code",
   "execution_count": null,
   "metadata": {
    "colab": {
     "base_uri": "https://localhost:8080/"
    },
    "id": "X47VmZx2HJ-W",
    "outputId": "aaef4452-c2a1-4b2f-9e1a-c0114700d109"
   },
   "outputs": [
    {
     "data": {
      "text/plain": [
       "set()"
      ]
     },
     "execution_count": 28,
     "metadata": {},
     "output_type": "execute_result"
    }
   ],
   "source": [
    "set('word') - set('wordword')"
   ]
  },
  {
   "cell_type": "code",
   "execution_count": null,
   "metadata": {
    "id": "xTL5rVBBItUJ"
   },
   "outputs": [],
   "source": [
    "'word'\n",
    "'wot'"
   ]
  },
  {
   "cell_type": "code",
   "execution_count": null,
   "metadata": {
    "id": "BAczGKaFI1J5"
   },
   "outputs": [],
   "source": [
    "a = {1, 2, 3, 4}\n",
    "b = {3, 4, 5, 6}"
   ]
  },
  {
   "cell_type": "code",
   "execution_count": null,
   "metadata": {
    "colab": {
     "base_uri": "https://localhost:8080/"
    },
    "id": "f97KWpcWI4ru",
    "outputId": "365846fc-0ba7-4c3e-f08f-902126ffa757"
   },
   "outputs": [
    {
     "data": {
      "text/plain": [
       "{5, 6}"
      ]
     },
     "execution_count": 33,
     "metadata": {},
     "output_type": "execute_result"
    }
   ],
   "source": [
    "b - a"
   ]
  },
  {
   "cell_type": "code",
   "execution_count": null,
   "metadata": {
    "colab": {
     "base_uri": "https://localhost:8080/"
    },
    "id": "enkuG9sPI8OI",
    "outputId": "08ef2680-52e5-46a8-903a-70776bf5328e"
   },
   "outputs": [
    {
     "data": {
      "text/plain": [
       "{1, 2}"
      ]
     },
     "execution_count": 34,
     "metadata": {},
     "output_type": "execute_result"
    }
   ],
   "source": [
    "a - b"
   ]
  },
  {
   "cell_type": "code",
   "execution_count": null,
   "metadata": {
    "id": "4Qu5ir-FZ4wp"
   },
   "outputs": [],
   "source": [
    "def is_plagiat(word1, word2):\n",
    "  word1 = set(word1.lower())\n",
    "  word2 = set(word2.lower())\n",
    "  answer = len(word2 - word1) <= 1\n",
    "  return answer\n",
    "\n",
    "word1 = input()\n",
    "word2 = input()\n",
    "print(is_plagiat(word1, word2))"
   ]
  },
  {
   "cell_type": "code",
   "execution_count": null,
   "metadata": {
    "id": "olJR9HvAIpv5"
   },
   "outputs": [],
   "source": []
  },
  {
   "cell_type": "markdown",
   "metadata": {
    "id": "_69EMGt5Z9iY"
   },
   "source": [
    "### Области видимости\n",
    "\n",
    "Область видимости -- пространство имён переменных, доступных в конкретной области.\n"
   ]
  },
  {
   "cell_type": "code",
   "execution_count": null,
   "metadata": {
    "id": "OcyKyGXzaCAI"
   },
   "outputs": [],
   "source": [
    "def very_useful_print_function(thing = \"Привет\"):\n",
    "    print(thing * 2)\n",
    "    print(f'{thing}!')"
   ]
  },
  {
   "cell_type": "code",
   "execution_count": null,
   "metadata": {
    "colab": {
     "base_uri": "https://localhost:8080/"
    },
    "id": "Mt8anZagJk00",
    "outputId": "c35df272-7124-4704-a4d9-93e697104e2c"
   },
   "outputs": [
    {
     "name": "stdout",
     "output_type": "stream",
     "text": [
      "hellohello\n",
      "hello!\n"
     ]
    }
   ],
   "source": [
    "very_useful_print_function('hello')"
   ]
  },
  {
   "cell_type": "code",
   "execution_count": null,
   "metadata": {
    "colab": {
     "base_uri": "https://localhost:8080/",
     "height": 141
    },
    "id": "QfcwKlxpaDwo",
    "outputId": "c93cf745-39d2-4d52-a5b8-9c8d43378aa4"
   },
   "outputs": [
    {
     "ename": "NameError",
     "evalue": "name 'thing' is not defined",
     "output_type": "error",
     "traceback": [
      "\u001b[0;31m---------------------------------------------------------------------------\u001b[0m",
      "\u001b[0;31mNameError\u001b[0m                                 Traceback (most recent call last)",
      "\u001b[0;32m<ipython-input-39-148e604087ff>\u001b[0m in \u001b[0;36m<cell line: 1>\u001b[0;34m()\u001b[0m\n\u001b[0;32m----> 1\u001b[0;31m \u001b[0mthing\u001b[0m\u001b[0;34m\u001b[0m\u001b[0;34m\u001b[0m\u001b[0m\n\u001b[0m",
      "\u001b[0;31mNameError\u001b[0m: name 'thing' is not defined"
     ]
    }
   ],
   "source": [
    "thing"
   ]
  },
  {
   "cell_type": "markdown",
   "metadata": {
    "id": "q_gFZYOuaHOa"
   },
   "source": [
    "При этом объекты из глобальной области видимости видны внутри локальной. Изменяемые объекты из глобальной области видимости можно модифицировать."
   ]
  },
  {
   "cell_type": "code",
   "execution_count": null,
   "metadata": {
    "colab": {
     "base_uri": "https://localhost:8080/"
    },
    "id": "j88zinqUaJYB",
    "outputId": "015b6102-fad2-42bc-c6de-94651c319ea3"
   },
   "outputs": [
    {
     "name": "stdout",
     "output_type": "stream",
     "text": [
      "[1, 2, 7]\n",
      "[1, 2, 7, 4]\n",
      "Функция завершила работу\n"
     ]
    }
   ],
   "source": [
    "global_list = [1, 2, 7]\n",
    "\n",
    "def foo():\n",
    "    print(global_list)\n",
    "    global_list.append(4)\n",
    "    print(global_list)\n",
    "    print(\"Функция завершила работу\")\n",
    "\n",
    "foo()"
   ]
  },
  {
   "cell_type": "code",
   "execution_count": null,
   "metadata": {
    "colab": {
     "base_uri": "https://localhost:8080/"
    },
    "id": "XdtN2gGqaYUc",
    "outputId": "28ff229a-1039-4b55-d50a-e3d857e1cb8b"
   },
   "outputs": [
    {
     "data": {
      "text/plain": [
       "[1, 2, 7, 4]"
      ]
     },
     "execution_count": 44,
     "metadata": {},
     "output_type": "execute_result"
    }
   ],
   "source": [
    "global_list"
   ]
  },
  {
   "cell_type": "markdown",
   "metadata": {
    "id": "EGQMCGoZabnK"
   },
   "source": [
    "Однако нельзя переопределить глобальное имя из локальной области"
   ]
  },
  {
   "cell_type": "code",
   "execution_count": null,
   "metadata": {
    "colab": {
     "base_uri": "https://localhost:8080/"
    },
    "id": "daYGQTASacvF",
    "outputId": "17b03f46-f906-4192-c5ce-1e81dd22b812"
   },
   "outputs": [
    {
     "name": "stdout",
     "output_type": "stream",
     "text": [
      "[1, 2, 4]\n",
      "Функция завершила работу\n"
     ]
    }
   ],
   "source": [
    "global_list = [1, 2, 7]\n",
    "\n",
    "def foo():\n",
    "    global_list = [1, 2]\n",
    "    global_list.append(4)\n",
    "    print(global_list)\n",
    "    print(\"Функция завершила работу\")\n",
    "\n",
    "foo()"
   ]
  },
  {
   "cell_type": "code",
   "execution_count": null,
   "metadata": {
    "colab": {
     "base_uri": "https://localhost:8080/"
    },
    "id": "O5WR67kxasP4",
    "outputId": "ca39bd5d-7266-457f-9e99-5e0b03bff30a"
   },
   "outputs": [
    {
     "data": {
      "text/plain": [
       "[1, 2, 7]"
      ]
     },
     "execution_count": 47,
     "metadata": {},
     "output_type": "execute_result"
    }
   ],
   "source": [
    "global_list"
   ]
  },
  {
   "cell_type": "code",
   "execution_count": null,
   "metadata": {
    "colab": {
     "base_uri": "https://localhost:8080/"
    },
    "id": "yI8KMJr3atUW",
    "outputId": "f39989ce-bb42-42d7-cfc2-5d51d350d94e"
   },
   "outputs": [
    {
     "name": "stdout",
     "output_type": "stream",
     "text": [
      "[1, 2, 4]\n",
      "Функция завершила работу\n"
     ]
    }
   ],
   "source": [
    "global_list = [1, 2, 7]\n",
    "\n",
    "def foo():\n",
    "    global_list = [1, 2]\n",
    "    global_list.append(4)\n",
    "    print(global_list)\n",
    "    print(\"Функция завершила работу\")\n",
    "\n",
    "foo()"
   ]
  },
  {
   "cell_type": "code",
   "execution_count": null,
   "metadata": {
    "colab": {
     "base_uri": "https://localhost:8080/"
    },
    "id": "HW7adN7WbGmx",
    "outputId": "932e371f-99bf-49ae-9643-f33d8d2a31ba"
   },
   "outputs": [
    {
     "data": {
      "text/plain": [
       "[1, 2, 7]"
      ]
     },
     "execution_count": 82,
     "metadata": {},
     "output_type": "execute_result"
    }
   ],
   "source": [
    "global_list"
   ]
  },
  {
   "cell_type": "code",
   "execution_count": null,
   "metadata": {
    "colab": {
     "base_uri": "https://localhost:8080/"
    },
    "id": "X3UnfuhPa42W",
    "outputId": "4c70db78-cd66-42ff-f7c2-c0fcc6aa8a7d"
   },
   "outputs": [
    {
     "name": "stdout",
     "output_type": "stream",
     "text": [
      "[1, 2, 4]\n",
      "Функция завершила работу\n"
     ]
    }
   ],
   "source": [
    "global_list = [1, 2, 7]\n",
    "\n",
    "def foo():\n",
    "    global global_list # но лучше такое не делать\n",
    "    global_list = [1, 2]\n",
    "    global_list.append(4)\n",
    "    print(global_list)\n",
    "    print(\"Функция завершила работу\")\n",
    "\n",
    "foo()"
   ]
  },
  {
   "cell_type": "code",
   "execution_count": null,
   "metadata": {
    "colab": {
     "base_uri": "https://localhost:8080/",
     "height": 106
    },
    "id": "rMQXCSAwOjh9",
    "outputId": "2b6b9a38-3e07-442a-846d-d3c1d22da949"
   },
   "outputs": [
    {
     "ename": "SyntaxError",
     "evalue": "no binding for nonlocal 'call_count' found (<ipython-input-95-3b20bf205fde>, line 2)",
     "output_type": "error",
     "traceback": [
      "\u001b[0;36m  File \u001b[0;32m\"<ipython-input-95-3b20bf205fde>\"\u001b[0;36m, line \u001b[0;32m2\u001b[0m\n\u001b[0;31m    nonlocal call_count\u001b[0m\n\u001b[0m    ^\u001b[0m\n\u001b[0;31mSyntaxError\u001b[0m\u001b[0;31m:\u001b[0m no binding for nonlocal 'call_count' found\n"
     ]
    }
   ],
   "source": [
    "def foo():\n",
    "  nonlocal call_count = 5\n",
    "\n",
    "foo()"
   ]
  },
  {
   "cell_type": "code",
   "execution_count": null,
   "metadata": {
    "id": "1RNTtZfQOsNf"
   },
   "outputs": [],
   "source": []
  },
  {
   "cell_type": "code",
   "execution_count": null,
   "metadata": {
    "colab": {
     "base_uri": "https://localhost:8080/"
    },
    "id": "chwCiMjQMRk5",
    "outputId": "e4a55986-a8d0-485b-c189-ddd6b5da2d9f"
   },
   "outputs": [
    {
     "data": {
      "text/plain": [
       "[1, 2, 4]"
      ]
     },
     "execution_count": 80,
     "metadata": {},
     "output_type": "execute_result"
    }
   ],
   "source": [
    "global_list = [1, 2, 7]\n",
    "\n",
    "global_list = [1, 2]"
   ]
  },
  {
   "cell_type": "code",
   "execution_count": null,
   "metadata": {
    "id": "rHZ0AtIBMjo_"
   },
   "outputs": [],
   "source": [
    "print = 3"
   ]
  },
  {
   "cell_type": "code",
   "execution_count": null,
   "metadata": {
    "id": "5nLjBuD-Mnsd"
   },
   "outputs": [],
   "source": [
    "del print"
   ]
  },
  {
   "cell_type": "code",
   "execution_count": null,
   "metadata": {
    "id": "cNGKk2t_LGHU"
   },
   "outputs": [],
   "source": [
    "lst = [1, 1, 18, 3]"
   ]
  },
  {
   "cell_type": "code",
   "execution_count": null,
   "metadata": {
    "id": "y-v24qAdLJ7p"
   },
   "outputs": [],
   "source": [
    "lst2 = lst[::]"
   ]
  },
  {
   "cell_type": "code",
   "execution_count": null,
   "metadata": {
    "id": "q-v18cqrLu8j"
   },
   "outputs": [],
   "source": [
    "from copy import deepcopy"
   ]
  },
  {
   "cell_type": "code",
   "execution_count": null,
   "metadata": {
    "id": "BBDEEkgaLynX"
   },
   "outputs": [],
   "source": []
  },
  {
   "cell_type": "code",
   "execution_count": null,
   "metadata": {
    "id": "DXK4-5myLNEk"
   },
   "outputs": [],
   "source": [
    "lst[2] = 10"
   ]
  },
  {
   "cell_type": "code",
   "execution_count": null,
   "metadata": {
    "colab": {
     "base_uri": "https://localhost:8080/"
    },
    "id": "4kzK-akzLOP-",
    "outputId": "59229bf1-0406-4b5d-a8f1-8d81c2d6a0cc"
   },
   "outputs": [
    {
     "data": {
      "text/plain": [
       "[1, 1, 18, 3]"
      ]
     },
     "execution_count": 71,
     "metadata": {},
     "output_type": "execute_result"
    }
   ],
   "source": [
    "lst2"
   ]
  },
  {
   "cell_type": "code",
   "execution_count": null,
   "metadata": {
    "colab": {
     "base_uri": "https://localhost:8080/"
    },
    "id": "eAMUesBALPL7",
    "outputId": "c9a06589-68a0-4527-dd94-dc65973fc347"
   },
   "outputs": [
    {
     "data": {
      "text/plain": [
       "[1, 1, 10, 3]"
      ]
     },
     "execution_count": 72,
     "metadata": {},
     "output_type": "execute_result"
    }
   ],
   "source": [
    "lst"
   ]
  },
  {
   "cell_type": "code",
   "execution_count": null,
   "metadata": {
    "id": "cT5bKY8_KSYX"
   },
   "outputs": [],
   "source": [
    "def func(lst, num):\n",
    "  lst2 = lst.copy()\n",
    "  lst2.append(num)\n",
    "  lst2.append(num)"
   ]
  },
  {
   "cell_type": "code",
   "execution_count": null,
   "metadata": {
    "id": "oT6qoMcsKpmd"
   },
   "outputs": [],
   "source": [
    "number_list = [1, 2, 10, 12]"
   ]
  },
  {
   "cell_type": "code",
   "execution_count": null,
   "metadata": {
    "id": "gbRtjAaAKsv2"
   },
   "outputs": [],
   "source": [
    "result = func(number_list, 9)"
   ]
  },
  {
   "cell_type": "code",
   "execution_count": null,
   "metadata": {
    "colab": {
     "base_uri": "https://localhost:8080/"
    },
    "id": "-YL1MJJvK3vk",
    "outputId": "76eb6386-34b2-40b1-800a-36bff1a733c1"
   },
   "outputs": [
    {
     "name": "stdout",
     "output_type": "stream",
     "text": [
      "None\n"
     ]
    }
   ],
   "source": [
    "print(result)"
   ]
  },
  {
   "cell_type": "code",
   "execution_count": null,
   "metadata": {
    "colab": {
     "base_uri": "https://localhost:8080/"
    },
    "id": "VMEP-BaOKvsm",
    "outputId": "7f0fd3f3-648f-4b46-aedb-9512f6e4db3d"
   },
   "outputs": [
    {
     "data": {
      "text/plain": [
       "[1, 2, 10, 12, 9, 9, 9, 9]"
      ]
     },
     "execution_count": 59,
     "metadata": {},
     "output_type": "execute_result"
    }
   ],
   "source": [
    "number_list"
   ]
  },
  {
   "cell_type": "code",
   "execution_count": null,
   "metadata": {
    "id": "38TIvZtuK_sZ"
   },
   "outputs": [],
   "source": []
  },
  {
   "cell_type": "markdown",
   "metadata": {
    "id": "4LXjHfllbYq5"
   },
   "source": [
    "### Лямбды\n",
    "\n",
    "Анонимные однострочные функции"
   ]
  },
  {
   "cell_type": "code",
   "execution_count": null,
   "metadata": {
    "colab": {
     "base_uri": "https://localhost:8080/"
    },
    "id": "wpn5rK_gbasm",
    "outputId": "56a1b305-577e-4de8-b1e4-2df1d7dc4de4"
   },
   "outputs": [
    {
     "data": {
      "text/plain": [
       "True"
      ]
     },
     "execution_count": 87,
     "metadata": {},
     "output_type": "execute_result"
    }
   ],
   "source": [
    "is_negative = lambda x: x < 0 # но вообще так не делают\n",
    "\n",
    "is_negative(-1)"
   ]
  },
  {
   "cell_type": "code",
   "execution_count": null,
   "metadata": {
    "colab": {
     "base_uri": "https://localhost:8080/"
    },
    "id": "uzlu3maHbgUj",
    "outputId": "d664a6a4-ed4f-465e-9cd0-6a09ceadf2a9"
   },
   "outputs": [
    {
     "data": {
      "text/plain": [
       "8"
      ]
     },
     "execution_count": 88,
     "metadata": {},
     "output_type": "execute_result"
    }
   ],
   "source": [
    "(lambda x, y: x + y)(5, 3)"
   ]
  },
  {
   "cell_type": "code",
   "execution_count": null,
   "metadata": {
    "id": "YRO3xjiJNojH"
   },
   "outputs": [],
   "source": [
    "is_negative = lambda x: 1 if x < 0 else 0 # н"
   ]
  },
  {
   "cell_type": "code",
   "execution_count": null,
   "metadata": {
    "id": "b4M9UNtiNwL0"
   },
   "outputs": [],
   "source": []
  },
  {
   "cell_type": "code",
   "execution_count": null,
   "metadata": {
    "colab": {
     "base_uri": "https://localhost:8080/"
    },
    "id": "804kGeVUbIid",
    "outputId": "58edd5a0-1e95-4718-a3ed-bc99958c9cc8"
   },
   "outputs": [
    {
     "name": "stdout",
     "output_type": "stream",
     "text": [
      "[4, 9, 16, 25, 36, 49]\n"
     ]
    }
   ],
   "source": [
    "values = [1, 2, 3, 4, 5, 6]\n",
    "\n",
    "print(list(map(lambda x: ((lambda y: y + 1)(x)) ** 2, values)))"
   ]
  },
  {
   "cell_type": "code",
   "execution_count": null,
   "metadata": {
    "id": "TJXNYGNdOJ0W"
   },
   "outputs": [],
   "source": []
  },
  {
   "cell_type": "markdown",
   "metadata": {
    "id": "cJY9Wnk2dA5K"
   },
   "source": [
    "Именованные и неименованные аргументы"
   ]
  },
  {
   "cell_type": "code",
   "execution_count": null,
   "metadata": {
    "id": "90vUppgnfyns"
   },
   "outputs": [],
   "source": [
    "def my_max(a, b = 5):\n",
    "    return max(a, b)"
   ]
  },
  {
   "cell_type": "code",
   "execution_count": null,
   "metadata": {
    "id": "AtkkkUsWgDRv"
   },
   "outputs": [],
   "source": [
    "my_max(2, 5)"
   ]
  },
  {
   "cell_type": "code",
   "execution_count": null,
   "metadata": {
    "id": "G8gpy_NagFwP"
   },
   "outputs": [],
   "source": [
    "my_max(2, b=5)"
   ]
  },
  {
   "cell_type": "code",
   "execution_count": null,
   "metadata": {
    "id": "bqmBY9vLgHfg"
   },
   "outputs": [],
   "source": [
    "my_max(b=5, 1)"
   ]
  },
  {
   "cell_type": "code",
   "execution_count": null,
   "metadata": {
    "id": "zPFkENT4qDVj"
   },
   "outputs": [],
   "source": [
    "lst = [1, 2, 5, 2]\n",
    "print(*lst)"
   ]
  },
  {
   "cell_type": "code",
   "execution_count": null,
   "metadata": {
    "id": "lEculLKQdJ6i"
   },
   "outputs": [],
   "source": [
    "def my_print(*args, print_hello=True):\n",
    "    if print_hello == True:\n",
    "      print('Hello')\n",
    "    print(*args, sep='|')"
   ]
  },
  {
   "cell_type": "code",
   "execution_count": null,
   "metadata": {
    "id": "0rVC9r8qdNhM"
   },
   "outputs": [],
   "source": [
    "my_print(1, 2, False, 3, print_hello=True)"
   ]
  },
  {
   "cell_type": "code",
   "execution_count": null,
   "metadata": {
    "id": "85ix-HDMfSK5"
   },
   "outputs": [],
   "source": [
    "my_print(1, 2, False, 3)"
   ]
  },
  {
   "cell_type": "code",
   "execution_count": null,
   "metadata": {
    "id": "MeMLkTr8fTLw"
   },
   "outputs": [],
   "source": [
    "my_print(1, 2, False, 3, True)"
   ]
  },
  {
   "cell_type": "code",
   "execution_count": null,
   "metadata": {
    "id": "oku49QTmfYr6"
   },
   "outputs": [],
   "source": [
    "def my_print(begin, *args, **kwargs):\n",
    "    print(begin)\n",
    "    print(*args, sep='|')\n",
    "    for key, value in kwargs.items():\n",
    "      print(key, value)"
   ]
  },
  {
   "cell_type": "code",
   "execution_count": null,
   "metadata": {
    "id": "1V2X0OgPfU9b"
   },
   "outputs": [],
   "source": [
    "my_print(0, 1, 2, False, 3, a=True, b=True, 0)"
   ]
  },
  {
   "cell_type": "markdown",
   "metadata": {
    "id": "JmuxDsm0c72x"
   },
   "source": [
    "### Генераторы\n",
    "Генератор представляет собой объект, который не вычисляет значения всех своих элементов непосредственно при создании. Вместо этого он сохраняет в памяти только последний вычисленный элемент, правило перехода к следующему и условие, при котором выполнение прерывается. Расчет следующего значения осуществляется только при вызове метода next(). При этом предыдущее значение теряется. Этот механизм отличает генераторы от списков, которые хранят все свои элементы в памяти. Использование генераторов позволяет проводить \"ленивые\" вычисления, что способствует экономии памяти.\n",
    "\n",
    "Пример:"
   ]
  },
  {
   "cell_type": "code",
   "execution_count": null,
   "metadata": {
    "id": "7lArrlDrPJKv"
   },
   "outputs": [],
   "source": [
    "def gen():\n",
    "  i = 0\n",
    "  while True:\n",
    "    yield i\n",
    "    i += 1\n"
   ]
  },
  {
   "cell_type": "code",
   "execution_count": null,
   "metadata": {
    "id": "wS5Anv4GQJbd"
   },
   "outputs": [],
   "source": [
    "def gen():\n",
    "  yield 1\n",
    "  yield 2\n",
    "  return 3"
   ]
  },
  {
   "cell_type": "code",
   "execution_count": null,
   "metadata": {
    "id": "PLsIHzfwU1gJ"
   },
   "outputs": [],
   "source": []
  },
  {
   "cell_type": "code",
   "execution_count": null,
   "metadata": {
    "id": "yjjo9zCvPRHZ"
   },
   "outputs": [],
   "source": [
    "generator = gen()"
   ]
  },
  {
   "cell_type": "code",
   "execution_count": null,
   "metadata": {
    "colab": {
     "base_uri": "https://localhost:8080/"
    },
    "id": "E6eDCzwzQKHm",
    "outputId": "a8fbd15b-47ed-40c6-e3a3-0e9074fb6d1e"
   },
   "outputs": [
    {
     "data": {
      "text/plain": [
       "1"
      ]
     },
     "execution_count": 185,
     "metadata": {},
     "output_type": "execute_result"
    }
   ],
   "source": [
    "next(generator)"
   ]
  },
  {
   "cell_type": "code",
   "execution_count": null,
   "metadata": {
    "colab": {
     "base_uri": "https://localhost:8080/"
    },
    "id": "jwUXsSvJU3rb",
    "outputId": "151c35ab-59a2-49d1-e5af-6ffa135db86a"
   },
   "outputs": [
    {
     "data": {
      "text/plain": [
       "2"
      ]
     },
     "execution_count": 186,
     "metadata": {},
     "output_type": "execute_result"
    }
   ],
   "source": [
    "next(generator)"
   ]
  },
  {
   "cell_type": "code",
   "execution_count": null,
   "metadata": {
    "colab": {
     "base_uri": "https://localhost:8080/",
     "height": 141
    },
    "id": "_evjsyN3U4-2",
    "outputId": "a3c45e7d-db1d-4757-c226-7d638f0a1a89"
   },
   "outputs": [
    {
     "ename": "StopIteration",
     "evalue": "3",
     "output_type": "error",
     "traceback": [
      "\u001b[0;31m---------------------------------------------------------------------------\u001b[0m",
      "\u001b[0;31mStopIteration\u001b[0m                             Traceback (most recent call last)",
      "\u001b[0;32m<ipython-input-187-323ce5d717bb>\u001b[0m in \u001b[0;36m<cell line: 1>\u001b[0;34m()\u001b[0m\n\u001b[0;32m----> 1\u001b[0;31m \u001b[0mnext\u001b[0m\u001b[0;34m(\u001b[0m\u001b[0mgenerator\u001b[0m\u001b[0;34m)\u001b[0m\u001b[0;34m\u001b[0m\u001b[0;34m\u001b[0m\u001b[0m\n\u001b[0m",
      "\u001b[0;31mStopIteration\u001b[0m: 3"
     ]
    }
   ],
   "source": [
    "next(generator)"
   ]
  },
  {
   "cell_type": "code",
   "execution_count": null,
   "metadata": {
    "colab": {
     "base_uri": "https://localhost:8080/"
    },
    "id": "Zp0WNAT-Pv3a",
    "outputId": "61f6f475-9e96-4803-a60e-7f7b9626b6cb"
   },
   "outputs": [
    {
     "name": "stdout",
     "output_type": "stream",
     "text": [
      "[1, 2, 3]\n"
     ]
    }
   ],
   "source": [
    "for item in generator:\n",
    "  print(item)"
   ]
  },
  {
   "cell_type": "code",
   "execution_count": null,
   "metadata": {
    "id": "MVhJ1rLiPz5x"
   },
   "outputs": [],
   "source": [
    "for item in generator:\n",
    "  print(item)"
   ]
  },
  {
   "cell_type": "code",
   "execution_count": null,
   "metadata": {
    "colab": {
     "base_uri": "https://localhost:8080/"
    },
    "id": "WhBT99pPPSw-",
    "outputId": "4f3d8f51-e51d-46be-ba6a-e71fb7680102"
   },
   "outputs": [
    {
     "data": {
      "text/plain": [
       "1"
      ]
     },
     "execution_count": 107,
     "metadata": {},
     "output_type": "execute_result"
    }
   ],
   "source": [
    "next(generator)"
   ]
  },
  {
   "cell_type": "code",
   "execution_count": null,
   "metadata": {
    "colab": {
     "base_uri": "https://localhost:8080/"
    },
    "id": "rMqr-RUpPU9J",
    "outputId": "03fe268c-50f6-48b0-b8fa-f4aa00278b83"
   },
   "outputs": [
    {
     "data": {
      "text/plain": [
       "2"
      ]
     },
     "execution_count": 109,
     "metadata": {},
     "output_type": "execute_result"
    }
   ],
   "source": [
    "next(generator)"
   ]
  },
  {
   "cell_type": "code",
   "execution_count": null,
   "metadata": {
    "colab": {
     "base_uri": "https://localhost:8080/"
    },
    "id": "8GP1DLZEPqrb",
    "outputId": "c2183d0e-24c8-4a25-b3d5-807a2fca5b4c"
   },
   "outputs": [
    {
     "data": {
      "text/plain": [
       "3"
      ]
     },
     "execution_count": 110,
     "metadata": {},
     "output_type": "execute_result"
    }
   ],
   "source": [
    "next(generator)"
   ]
  },
  {
   "cell_type": "code",
   "execution_count": null,
   "metadata": {
    "colab": {
     "base_uri": "https://localhost:8080/",
     "height": 141
    },
    "id": "FyDVFHkYPsmv",
    "outputId": "2aee6438-1338-4519-f55c-bdf4fdfc1a48"
   },
   "outputs": [
    {
     "ename": "StopIteration",
     "evalue": "",
     "output_type": "error",
     "traceback": [
      "\u001b[0;31m---------------------------------------------------------------------------\u001b[0m",
      "\u001b[0;31mStopIteration\u001b[0m                             Traceback (most recent call last)",
      "\u001b[0;32m<ipython-input-111-323ce5d717bb>\u001b[0m in \u001b[0;36m<cell line: 1>\u001b[0;34m()\u001b[0m\n\u001b[0;32m----> 1\u001b[0;31m \u001b[0mnext\u001b[0m\u001b[0;34m(\u001b[0m\u001b[0mgenerator\u001b[0m\u001b[0;34m)\u001b[0m\u001b[0;34m\u001b[0m\u001b[0;34m\u001b[0m\u001b[0m\n\u001b[0m",
      "\u001b[0;31mStopIteration\u001b[0m: "
     ]
    }
   ],
   "source": [
    "next(generator)"
   ]
  },
  {
   "cell_type": "code",
   "execution_count": null,
   "metadata": {
    "id": "UiyS1MMPIMh_"
   },
   "outputs": [],
   "source": [
    "def my_range(a, b):\n",
    "    while a < b:\n",
    "        yield a\n",
    "        a += 1"
   ]
  },
  {
   "cell_type": "code",
   "execution_count": null,
   "metadata": {
    "id": "GVplCMwUQd__"
   },
   "outputs": [],
   "source": [
    "rng = my_range(2, 10)"
   ]
  },
  {
   "cell_type": "code",
   "execution_count": null,
   "metadata": {
    "id": "FkU4-3uDQlTu"
   },
   "outputs": [],
   "source": []
  },
  {
   "cell_type": "code",
   "execution_count": null,
   "metadata": {
    "colab": {
     "base_uri": "https://localhost:8080/"
    },
    "id": "X1YLjrJQIRRY",
    "outputId": "605fc435-0cca-48d5-a61c-6b9f469e8b11"
   },
   "outputs": [
    {
     "name": "stdout",
     "output_type": "stream",
     "text": [
      "2\n",
      "3\n",
      "4\n",
      "5\n",
      "6\n",
      "7\n",
      "8\n",
      "9\n"
     ]
    }
   ],
   "source": [
    "for x in rng:\n",
    "    print(x)"
   ]
  },
  {
   "cell_type": "code",
   "execution_count": null,
   "metadata": {
    "colab": {
     "base_uri": "https://localhost:8080/",
     "height": 141
    },
    "id": "sifgitW7Qmwi",
    "outputId": "bba0de1e-a2b3-4aad-a4ef-6bb9f1801cb8"
   },
   "outputs": [
    {
     "ename": "StopIteration",
     "evalue": "",
     "output_type": "error",
     "traceback": [
      "\u001b[0;31m---------------------------------------------------------------------------\u001b[0m",
      "\u001b[0;31mStopIteration\u001b[0m                             Traceback (most recent call last)",
      "\u001b[0;32m<ipython-input-135-1e5a4c1e213d>\u001b[0m in \u001b[0;36m<cell line: 1>\u001b[0;34m()\u001b[0m\n\u001b[0;32m----> 1\u001b[0;31m \u001b[0mnext\u001b[0m\u001b[0;34m(\u001b[0m\u001b[0mrng\u001b[0m\u001b[0;34m)\u001b[0m\u001b[0;34m\u001b[0m\u001b[0;34m\u001b[0m\u001b[0m\n\u001b[0m",
      "\u001b[0;31mStopIteration\u001b[0m: "
     ]
    }
   ],
   "source": [
    "next(rng)"
   ]
  },
  {
   "cell_type": "code",
   "execution_count": null,
   "metadata": {
    "colab": {
     "base_uri": "https://localhost:8080/"
    },
    "id": "j2DDS1LRIlXW",
    "outputId": "708794a6-07ac-47a2-966e-5ad893b2f32d"
   },
   "outputs": [
    {
     "name": "stdout",
     "output_type": "stream",
     "text": [
      "1\n",
      "1\n",
      "2\n",
      "3\n",
      "5\n",
      "8\n",
      "13\n",
      "21\n"
     ]
    }
   ],
   "source": [
    "def generate_fib(max_number):\n",
    "    fib_1, fib_2 = 1, 1\n",
    "    yield fib_1\n",
    "    yield fib_2\n",
    "\n",
    "    for _ in range(2, max_number):\n",
    "        fib_1, fib_2 = fib_2, fib_1 + fib_2\n",
    "        yield fib_2\n",
    "\n",
    "fibs = generate_fib(10)\n",
    "\n",
    "print(next(fibs))\n",
    "print(next(fibs))\n",
    "\n",
    "print(next(fibs))\n",
    "print(next(fibs))\n",
    "print(next(fibs))\n",
    "print(next(fibs))\n",
    "print(next(fibs))\n",
    "print(next(fibs))"
   ]
  },
  {
   "cell_type": "code",
   "execution_count": null,
   "metadata": {
    "colab": {
     "base_uri": "https://localhost:8080/"
    },
    "id": "-AafzNHvItFa",
    "outputId": "8b279f08-e0be-41b4-8470-7ad4892c80ee"
   },
   "outputs": [
    {
     "name": "stdout",
     "output_type": "stream",
     "text": [
      "1\n",
      "1\n",
      "2\n",
      "3\n",
      "5\n",
      "8\n",
      "13\n",
      "21\n",
      "34\n",
      "55\n"
     ]
    }
   ],
   "source": [
    "fibs = generate_fib(10)\n",
    "for x in fibs:\n",
    "    print(x)\n",
    "\n",
    "for x in fibs:\n",
    "    print(x)"
   ]
  },
  {
   "cell_type": "code",
   "execution_count": null,
   "metadata": {
    "id": "6walqbBQIxTu"
   },
   "outputs": [],
   "source": []
  },
  {
   "cell_type": "markdown",
   "metadata": {
    "id": "W1azJ7geIxvK"
   },
   "source": [
    "### Итераторы"
   ]
  },
  {
   "cell_type": "markdown",
   "metadata": {
    "id": "9S6ryzmWS9t4"
   },
   "source": [
    "Итератор — это объект, который возвращает свои элементы по одному за раз. Одно из главных преимуществ итераторов — то, что он не хранит все свои элементы в памяти, а вычисляет их \"на ходу\".\n",
    "\n",
    "У всех итераторов есть метод __next()__, который возвращает следующий элемент, если он есть, и вызывает исключение StopIteration, если элементов не осталось. Метод можно вызвать, передав итератор в функцию next.\n",
    "\n",
    "Итерируемый объект — объект, который можно итерировать, т.е. возвращать элементы по одному. Мы уже встречались итерируемыми объектами: списки, кортежи, строки, множества — итерируемые. По их элементам можно пройтись с помощью цикла for.\n",
    "\n",
    "Важно понимать разницу между понятиями итератор и итерируемый объект. Списки, кортежи, строки, множества являются итерируемыми объектами (по их элементам можно пройтись с помощью списка for), но не являются итераторами и не реализуют метод __next()__. При этом на их основе можно создать итератор с помощью функции iter, который реализует метод __iter__()."
   ]
  },
  {
   "cell_type": "code",
   "execution_count": null,
   "metadata": {
    "colab": {
     "base_uri": "https://localhost:8080/"
    },
    "id": "eV_liAvoL9lq",
    "outputId": "47627d99-4033-4a38-c6ce-c0fad191b87f"
   },
   "outputs": [
    {
     "name": "stdout",
     "output_type": "stream",
     "text": [
      "1\n",
      "2\n",
      "3\n",
      "4\n",
      "5\n"
     ]
    }
   ],
   "source": [
    "collection = [1, 2, 3, 4, 5]\n",
    "# def __iter__ - метод __iter()__ возвращает итератор, метод __next()__ — следующий элемент потока данных.\n",
    "list_iter = iter(collection)\n",
    "\n",
    "print(next(list_iter))\n",
    "print(next(list_iter))\n",
    "print(next(list_iter))\n",
    "print(next(list_iter))\n",
    "print(next(list_iter))"
   ]
  },
  {
   "cell_type": "code",
   "execution_count": null,
   "metadata": {
    "id": "CUkV6JkKRhpU"
   },
   "outputs": [],
   "source": [
    "collection = [1, 2, 3, 4, 5]\n",
    "list_iter = iter(collection)"
   ]
  },
  {
   "cell_type": "code",
   "execution_count": null,
   "metadata": {
    "colab": {
     "base_uri": "https://localhost:8080/"
    },
    "id": "K1qcZrzMRkv6",
    "outputId": "83c7f806-89de-49d0-d3fd-fd5f6bf3f807"
   },
   "outputs": [
    {
     "data": {
      "text/plain": [
       "False"
      ]
     },
     "execution_count": 145,
     "metadata": {},
     "output_type": "execute_result"
    }
   ],
   "source": [
    "10 in list_iter"
   ]
  },
  {
   "cell_type": "code",
   "execution_count": null,
   "metadata": {
    "id": "iQIWHMM9Rn4K"
   },
   "outputs": [],
   "source": [
    "for i in list_iter:\n",
    "  print(i)"
   ]
  },
  {
   "cell_type": "code",
   "execution_count": null,
   "metadata": {
    "id": "ajB44USNR4TU"
   },
   "outputs": [],
   "source": []
  },
  {
   "cell_type": "code",
   "execution_count": null,
   "metadata": {
    "colab": {
     "base_uri": "https://localhost:8080/",
     "height": 141
    },
    "id": "Qu3aIQXlMEEb",
    "outputId": "209989c3-8a25-4c75-8e97-72d0c1b1d66a"
   },
   "outputs": [
    {
     "ename": "StopIteration",
     "evalue": "",
     "output_type": "error",
     "traceback": [
      "\u001b[0;31m---------------------------------------------------------------------------\u001b[0m",
      "\u001b[0;31mStopIteration\u001b[0m                             Traceback (most recent call last)",
      "\u001b[0;32m<ipython-input-140-847004f5f0d0>\u001b[0m in \u001b[0;36m<cell line: 1>\u001b[0;34m()\u001b[0m\n\u001b[0;32m----> 1\u001b[0;31m \u001b[0mprint\u001b[0m\u001b[0;34m(\u001b[0m\u001b[0mnext\u001b[0m\u001b[0;34m(\u001b[0m\u001b[0mlist_iter\u001b[0m\u001b[0;34m)\u001b[0m\u001b[0;34m)\u001b[0m\u001b[0;34m\u001b[0m\u001b[0;34m\u001b[0m\u001b[0m\n\u001b[0m",
      "\u001b[0;31mStopIteration\u001b[0m: "
     ]
    }
   ],
   "source": [
    "print(next(list_iter))"
   ]
  },
  {
   "cell_type": "code",
   "execution_count": null,
   "metadata": {
    "id": "OcA4QWtDSAi6"
   },
   "outputs": [],
   "source": []
  },
  {
   "cell_type": "code",
   "execution_count": null,
   "metadata": {
    "colab": {
     "base_uri": "https://localhost:8080/"
    },
    "id": "R4YgzKygMGeq",
    "outputId": "0d42856a-98d7-48aa-8594-38d5b6c642bb"
   },
   "outputs": [
    {
     "name": "stdout",
     "output_type": "stream",
     "text": [
      "(0, 1)\n",
      "(1, 2)\n",
      "(2, 2)\n",
      "(3, 4)\n",
      "(4, 11)\n",
      "(5, 57)\n"
     ]
    }
   ],
   "source": [
    "lst = [1, 2, 2, 4,11, 57]\n",
    "for x in enumerate(lst):\n",
    "    print(x)"
   ]
  },
  {
   "cell_type": "code",
   "execution_count": null,
   "metadata": {
    "id": "usEpf9JWSEwD"
   },
   "outputs": [],
   "source": []
  },
  {
   "cell_type": "code",
   "execution_count": null,
   "metadata": {
    "id": "a71ZJaKaMOHV"
   },
   "outputs": [],
   "source": [
    "it = enumerate(lst)\n",
    "\n",
    "while True:\n",
    "    try:\n",
    "        print(next(it))\n",
    "    except StopIteration:\n",
    "        break"
   ]
  },
  {
   "cell_type": "code",
   "execution_count": null,
   "metadata": {
    "id": "OoOUAi4RMZei"
   },
   "outputs": [],
   "source": [
    "list(map(str, [1, 2, 12, 3, 51]))"
   ]
  },
  {
   "cell_type": "code",
   "execution_count": null,
   "metadata": {
    "id": "UzItBEUXMcho"
   },
   "outputs": [],
   "source": [
    "map_obj = map(str, [1, 2, 12, 3, 51])\n",
    "print(next(map_obj))\n",
    "print(next(map_obj))\n",
    "print(next(map_obj))\n",
    "print(next(map_obj))\n",
    "print(next(map_obj))"
   ]
  },
  {
   "cell_type": "code",
   "execution_count": null,
   "metadata": {
    "id": "E41soVpNTG2V"
   },
   "outputs": [],
   "source": [
    "numbers = [1, 11, 12, 5, 7, 13, 16, 8]\n",
    "iter_numbers = iter(numbers)\n",
    "print(13 in iter_numbers)\n",
    "for num in iter_numbers:\n",
    "    print(num)"
   ]
  },
  {
   "cell_type": "code",
   "execution_count": null,
   "metadata": {
    "id": "1f-KougjTTXb"
   },
   "outputs": [],
   "source": []
  },
  {
   "cell_type": "markdown",
   "metadata": {
    "id": "5fOHJY6VVK0j"
   },
   "source": [
    "Функции, которые возращают итератор:\n",
    "\n",
    "map"
   ]
  },
  {
   "cell_type": "code",
   "execution_count": null,
   "metadata": {
    "id": "JntO2H-1XPZG"
   },
   "outputs": [],
   "source": [
    "iter_map = map(lambda x: x**2, [1, 1, 3, 12, 1])"
   ]
  },
  {
   "cell_type": "code",
   "execution_count": null,
   "metadata": {
    "id": "lW-8sqS1S5HN"
   },
   "outputs": [],
   "source": [
    "numbers = [1, 2, 3, 4, 8]"
   ]
  },
  {
   "cell_type": "code",
   "execution_count": null,
   "metadata": {
    "colab": {
     "base_uri": "https://localhost:8080/",
     "height": 141
    },
    "id": "KQzxaYQZT9QU",
    "outputId": "f5437add-16dd-4f8d-d87a-25f85bf65182"
   },
   "outputs": [
    {
     "ename": "TypeError",
     "evalue": "'list' object is not an iterator",
     "output_type": "error",
     "traceback": [
      "\u001b[0;31m---------------------------------------------------------------------------\u001b[0m",
      "\u001b[0;31mTypeError\u001b[0m                                 Traceback (most recent call last)",
      "\u001b[0;32m<ipython-input-180-270f72471946>\u001b[0m in \u001b[0;36m<cell line: 1>\u001b[0;34m()\u001b[0m\n\u001b[0;32m----> 1\u001b[0;31m \u001b[0mnext\u001b[0m\u001b[0;34m(\u001b[0m\u001b[0mnumbers\u001b[0m\u001b[0;34m)\u001b[0m\u001b[0;34m\u001b[0m\u001b[0;34m\u001b[0m\u001b[0m\n\u001b[0m",
      "\u001b[0;31mTypeError\u001b[0m: 'list' object is not an iterator"
     ]
    }
   ],
   "source": [
    "next(numbers)"
   ]
  },
  {
   "cell_type": "code",
   "execution_count": null,
   "metadata": {
    "id": "2z_1ykchTmVa"
   },
   "outputs": [],
   "source": [
    "numbers_iter = iter(numbers)"
   ]
  },
  {
   "cell_type": "code",
   "execution_count": null,
   "metadata": {
    "colab": {
     "base_uri": "https://localhost:8080/"
    },
    "id": "S-ggw40lTaTO",
    "outputId": "2d1a5960-5ace-487f-ba10-d3058b21a52e"
   },
   "outputs": [
    {
     "name": "stdout",
     "output_type": "stream",
     "text": [
      "1\n",
      "2\n",
      "3\n",
      "4\n",
      "8\n"
     ]
    }
   ],
   "source": [
    "for i in numbers:\n",
    "  print(i)"
   ]
  },
  {
   "cell_type": "code",
   "execution_count": null,
   "metadata": {
    "id": "TnEwq4fcTcv0"
   },
   "outputs": [],
   "source": [
    "for i in numbers_iter:\n",
    "  print(i)"
   ]
  },
  {
   "cell_type": "code",
   "execution_count": null,
   "metadata": {
    "colab": {
     "base_uri": "https://localhost:8080/"
    },
    "id": "zHfnZf0GS2Tj",
    "outputId": "7eb5a224-ff44-467f-a60b-ec3805ed64d6"
   },
   "outputs": [
    {
     "data": {
      "text/plain": [
       "1"
      ]
     },
     "execution_count": 166,
     "metadata": {},
     "output_type": "execute_result"
    }
   ],
   "source": [
    "next(iter_map)"
   ]
  },
  {
   "cell_type": "code",
   "execution_count": null,
   "metadata": {
    "id": "9bfUm8iIS53E"
   },
   "outputs": [],
   "source": [
    "lst = list(iter_map)"
   ]
  },
  {
   "cell_type": "code",
   "execution_count": null,
   "metadata": {
    "colab": {
     "base_uri": "https://localhost:8080/"
    },
    "id": "NFRSUKBFS8fg",
    "outputId": "26e5c8f0-ea30-4bce-fe36-4fa9355c854c"
   },
   "outputs": [
    {
     "data": {
      "text/plain": [
       "[1, 9, 144, 1]"
      ]
     },
     "execution_count": 168,
     "metadata": {},
     "output_type": "execute_result"
    }
   ],
   "source": [
    "lst"
   ]
  },
  {
   "cell_type": "code",
   "execution_count": null,
   "metadata": {
    "colab": {
     "base_uri": "https://localhost:8080/",
     "height": 141
    },
    "id": "lf4TZDQQTAkr",
    "outputId": "a1938b6a-4af3-4d14-f7a0-6179fb27abcb"
   },
   "outputs": [
    {
     "ename": "StopIteration",
     "evalue": "",
     "output_type": "error",
     "traceback": [
      "\u001b[0;31m---------------------------------------------------------------------------\u001b[0m",
      "\u001b[0;31mStopIteration\u001b[0m                             Traceback (most recent call last)",
      "\u001b[0;32m<ipython-input-169-bcdc20b4346f>\u001b[0m in \u001b[0;36m<cell line: 1>\u001b[0;34m()\u001b[0m\n\u001b[0;32m----> 1\u001b[0;31m \u001b[0mnext\u001b[0m\u001b[0;34m(\u001b[0m\u001b[0miter_map\u001b[0m\u001b[0;34m)\u001b[0m\u001b[0;34m\u001b[0m\u001b[0;34m\u001b[0m\u001b[0m\n\u001b[0m",
      "\u001b[0;31mStopIteration\u001b[0m: "
     ]
    }
   ],
   "source": [
    "next(iter_map)"
   ]
  },
  {
   "cell_type": "code",
   "execution_count": null,
   "metadata": {
    "id": "Dpf7hnrzSxCB"
   },
   "outputs": [],
   "source": [
    "iter_lst = list(map(lambda x: x**2, [1, 1, 3, 12, 1]))"
   ]
  },
  {
   "cell_type": "code",
   "execution_count": null,
   "metadata": {
    "colab": {
     "base_uri": "https://localhost:8080/"
    },
    "id": "aVp_SQVsS019",
    "outputId": "937e757d-a800-4787-eb1f-eae56b09cd8c"
   },
   "outputs": [
    {
     "data": {
      "text/plain": [
       "[1, 1, 9, 144, 1]"
      ]
     },
     "execution_count": 164,
     "metadata": {},
     "output_type": "execute_result"
    }
   ],
   "source": [
    "iter_lst"
   ]
  },
  {
   "cell_type": "code",
   "execution_count": null,
   "metadata": {
    "colab": {
     "base_uri": "https://localhost:8080/"
    },
    "id": "fkm2U3VxSUmd",
    "outputId": "5cbcdc1e-e2cb-44ed-b4a9-7f43a6f968e1"
   },
   "outputs": [
    {
     "name": "stdout",
     "output_type": "stream",
     "text": [
      "1\n",
      "1\n",
      "9\n",
      "144\n",
      "1\n"
     ]
    }
   ],
   "source": [
    "for elem in iter_map:\n",
    "  print(elem)"
   ]
  },
  {
   "cell_type": "markdown",
   "metadata": {
    "id": "qTGZb8_SVW9y"
   },
   "source": [
    "filter"
   ]
  },
  {
   "cell_type": "code",
   "execution_count": null,
   "metadata": {
    "id": "vqsawwrbXUY4"
   },
   "outputs": [],
   "source": [
    "numbers = [1,3, 10, 12, 2]\n",
    "filter_numbers = filter(lambda x: x % 2 == 0, numbers)"
   ]
  },
  {
   "cell_type": "code",
   "execution_count": null,
   "metadata": {
    "colab": {
     "base_uri": "https://localhost:8080/"
    },
    "id": "a4cz7uduSfvE",
    "outputId": "d0b39286-0c2f-4326-9a60-34c6d5368fea"
   },
   "outputs": [
    {
     "name": "stdout",
     "output_type": "stream",
     "text": [
      "10\n",
      "12\n",
      "2\n"
     ]
    }
   ],
   "source": [
    "for num in filter_numbers:\n",
    "  print(num)"
   ]
  },
  {
   "cell_type": "code",
   "execution_count": null,
   "metadata": {
    "id": "rWWW7dPfSlid"
   },
   "outputs": [],
   "source": [
    "for num in filter_numbers:\n",
    "  print(num)"
   ]
  },
  {
   "cell_type": "markdown",
   "metadata": {
    "id": "UzN97r0kVXtE"
   },
   "source": [
    "zip"
   ]
  },
  {
   "cell_type": "code",
   "execution_count": null,
   "metadata": {
    "colab": {
     "base_uri": "https://localhost:8080/"
    },
    "id": "3lcMgiXRXazp",
    "outputId": "7d3e1d2f-c5a6-49ad-eb5b-a5176db86d7c"
   },
   "outputs": [
    {
     "name": "stdout",
     "output_type": "stream",
     "text": [
      "(5, 1)\n",
      "(3, 12)\n",
      "(1, 124)\n",
      "(2, 1)\n"
     ]
    }
   ],
   "source": [
    "lst1 = [5, 3, 1, 2, 3]\n",
    "lst2 = [1, 12, 124, 1]\n",
    "zip_iterator = zip(lst1, lst2)\n",
    "for item in zip_iterator:\n",
    "    print(item)\n",
    "for item in zip_iterator:\n",
    "    print(item)"
   ]
  },
  {
   "cell_type": "markdown",
   "metadata": {
    "id": "K5ew5W-SVZJK"
   },
   "source": [
    "reversed"
   ]
  },
  {
   "cell_type": "code",
   "execution_count": null,
   "metadata": {
    "id": "jd6cy-bCXhvt"
   },
   "outputs": [],
   "source": [
    "lst = [1, 9, 12, 2]\n",
    "reversed_iterator = reversed(lst)\n",
    "for item in reversed_iterator:\n",
    "    print(item)\n",
    "for item in reversed_iterator:\n",
    "    print(item)"
   ]
  },
  {
   "cell_type": "markdown",
   "metadata": {
    "id": "86etBTC8VaN7"
   },
   "source": [
    "enumerate"
   ]
  },
  {
   "cell_type": "code",
   "execution_count": null,
   "metadata": {
    "id": "qJUsJq7YXlpr"
   },
   "outputs": [],
   "source": [
    "lst = [1, 9, 12, 2]\n",
    "iterator = enumerate(lst)"
   ]
  },
  {
   "cell_type": "code",
   "execution_count": null,
   "metadata": {
    "colab": {
     "base_uri": "https://localhost:8080/"
    },
    "id": "jKLdbJF_SKaE",
    "outputId": "83393b7a-37c2-4786-86d9-3e9ef5eb9d35"
   },
   "outputs": [
    {
     "name": "stdout",
     "output_type": "stream",
     "text": [
      "(0, 1)\n",
      "(1, 9)\n",
      "(2, 12)\n",
      "(3, 2)\n"
     ]
    }
   ],
   "source": [
    "for item in iterator:\n",
    "  print(item)"
   ]
  },
  {
   "cell_type": "code",
   "execution_count": null,
   "metadata": {
    "id": "GdKVLzYISO7O"
   },
   "outputs": [],
   "source": [
    "for item in iterator:\n",
    "  print(item)"
   ]
  },
  {
   "cell_type": "markdown",
   "metadata": {
    "id": "qNljKFhQMgxV"
   },
   "source": [
    "### Декораторы\n"
   ]
  },
  {
   "cell_type": "markdown",
   "metadata": {
    "id": "2xubsj5dMz_T"
   },
   "source": [
    "Функция, которая принимает другую функцию и изменяет её функциональность без изменения её кода."
   ]
  },
  {
   "cell_type": "code",
   "execution_count": null,
   "metadata": {
    "id": "Ut1oNml0M2hQ"
   },
   "outputs": [],
   "source": [
    "def uppercase(func):  # передаем функцию, которую будем оборачивать\n",
    "    def wrapper():\n",
    "        result = func()\n",
    "        return result.upper()\n",
    "    return wrapper # вернуть нужно функцию-обертку\n",
    "\n",
    "@uppercase\n",
    "def print_hello(st=''):\n",
    "    return \"hello world\" + st"
   ]
  },
  {
   "cell_type": "code",
   "execution_count": null,
   "metadata": {
    "id": "A9r0xJiAM43w"
   },
   "outputs": [],
   "source": [
    "print_hello()"
   ]
  },
  {
   "cell_type": "markdown",
   "metadata": {
    "id": "jycQwj2jNCa-"
   },
   "source": [
    "### Задание"
   ]
  },
  {
   "cell_type": "markdown",
   "metadata": {
    "id": "IG3T4wFgNEub"
   },
   "source": [
    "Напишите декоратор repeat_twice, который будет выполнять функцию 2 раза. Функция не принимает аргументов и ничего не возращает, только печатает что-то на экран."
   ]
  },
  {
   "cell_type": "code",
   "execution_count": null,
   "metadata": {
    "id": "c1T1IM8qOHOs"
   },
   "outputs": [],
   "source": []
  },
  {
   "cell_type": "markdown",
   "metadata": {
    "id": "7LmwvQwvmHMK"
   },
   "source": [
    "### Работа с файлами"
   ]
  },
  {
   "cell_type": "markdown",
   "metadata": {
    "id": "z7AsjEUPmjDX"
   },
   "source": [
    "\n",
    "## считать .txt\n",
    "Существуют разные способы открыть файл. Мы воспользуемся тем, который сам же и закроет файл. Это удобно, так как если забыть закрыть файл, можно потерять данные — особенно при записи. Конструкция `with open() as` открывает файл, позволяет взять из него все, что нужно, и закрывает файл.\n",
    "\n",
    "В `open()` передаем название файла (который лежит в той же папке, что и код), а после `as` пишем псевдоним, с помощью которого будем обращаться к файлу внутри программы."
   ]
  },
  {
   "cell_type": "code",
   "execution_count": null,
   "metadata": {
    "colab": {
     "base_uri": "https://localhost:8080/"
    },
    "id": "gShG3IsGmlTQ",
    "outputId": "a95a8dd2-9cc4-4e3a-fee8-8199e5dcfb8d"
   },
   "outputs": [
    {
     "name": "stdout",
     "output_type": "stream",
     "text": [
      "<_io.TextIOWrapper name='text_file_2.txt' mode='r' encoding='UTF-8'>\n"
     ]
    }
   ],
   "source": [
    "with open('text_file_2.txt') as infile: # Открываем файл: пишем название файла и выбираем ему псевдоним\n",
    "    print(infile)                     # Пробуем распечатать считанный файл"
   ]
  },
  {
   "cell_type": "code",
   "execution_count": null,
   "metadata": {
    "id": "n91QlJR7mJ7j"
   },
   "outputs": [],
   "source": [
    "text = ''\n",
    "with open('text_file_2.txt', mode='r', encoding = 'UTF-8') as file:\n",
    "    for line in file:\n",
    "        text += line"
   ]
  },
  {
   "cell_type": "code",
   "execution_count": null,
   "metadata": {
    "colab": {
     "base_uri": "https://localhost:8080/"
    },
    "id": "HOuEB6OInBkD",
    "outputId": "dd9d73db-594e-4e3b-c8fd-a5f2c359b8a5"
   },
   "outputs": [
    {
     "name": "stdout",
     "output_type": "stream",
     "text": [
      "a\n",
      "b\n",
      "c\n",
      "d\n",
      "e\n",
      "f\n"
     ]
    }
   ],
   "source": [
    "for elem in 'abcdef':\n",
    "  print(elem)"
   ]
  },
  {
   "cell_type": "code",
   "execution_count": null,
   "metadata": {
    "id": "qd7kzZAinDmS"
   },
   "outputs": [],
   "source": [
    "file = open('text_file_2.txt', mode='r', encoding = 'UTF-8')"
   ]
  },
  {
   "cell_type": "code",
   "execution_count": null,
   "metadata": {
    "colab": {
     "base_uri": "https://localhost:8080/"
    },
    "id": "BgZCJwndnN2I",
    "outputId": "fae535df-16f9-4e7b-9c5c-56a3e54c4782"
   },
   "outputs": [
    {
     "data": {
      "text/plain": [
       "<_io.TextIOWrapper name='text_file_2.txt' mode='r' encoding='UTF-8'>"
      ]
     },
     "execution_count": 199,
     "metadata": {},
     "output_type": "execute_result"
    }
   ],
   "source": [
    "file"
   ]
  },
  {
   "cell_type": "code",
   "execution_count": null,
   "metadata": {
    "colab": {
     "base_uri": "https://localhost:8080/",
     "height": 36
    },
    "id": "a4lpSXJSnF62",
    "outputId": "23bb332c-f091-45c7-b0c1-6740c283e0f4"
   },
   "outputs": [
    {
     "data": {
      "application/vnd.google.colaboratory.intrinsic+json": {
       "type": "string"
      },
      "text/plain": [
       "'А это совсем важный текст. Очень!\\n'"
      ]
     },
     "execution_count": 201,
     "metadata": {},
     "output_type": "execute_result"
    }
   ],
   "source": [
    "next(file) # file - это итератор"
   ]
  },
  {
   "cell_type": "code",
   "execution_count": null,
   "metadata": {
    "id": "mB73aGsVnIiL"
   },
   "outputs": [],
   "source": [
    "file.close()"
   ]
  },
  {
   "cell_type": "code",
   "execution_count": null,
   "metadata": {
    "id": "0HI-YnxCnSn1"
   },
   "outputs": [],
   "source": [
    "with open('text_file.txt', encoding='UTF-8') as infile:\n",
    "    text = infile.read() #считать все строки"
   ]
  },
  {
   "cell_type": "code",
   "execution_count": null,
   "metadata": {
    "id": "y20_i3FfnTX9"
   },
   "outputs": [],
   "source": [
    "text"
   ]
  },
  {
   "cell_type": "code",
   "execution_count": null,
   "metadata": {
    "id": "rLwITzE5nVbe"
   },
   "outputs": [],
   "source": [
    "with open('text_file.txt', encoding='UTF-8') as infile:\n",
    "    lines = infile.readlines() #считать все строки в список"
   ]
  },
  {
   "cell_type": "code",
   "execution_count": null,
   "metadata": {
    "id": "7lvFS81RnWDn"
   },
   "outputs": [],
   "source": [
    "lines"
   ]
  },
  {
   "cell_type": "markdown",
   "metadata": {
    "id": "-lMB4L1-nZDm"
   },
   "source": [
    "### Запись в файл"
   ]
  },
  {
   "cell_type": "code",
   "execution_count": null,
   "metadata": {
    "id": "AWi99JFonlRX"
   },
   "outputs": [],
   "source": [
    "important_text = 'Очень важный текст.\\n В нем даже несколько строк'\n",
    "with open('text_file_2.txt', 'w') as outfile:\n",
    "    print(important_text, file=outfile)"
   ]
  },
  {
   "cell_type": "code",
   "execution_count": null,
   "metadata": {
    "id": "6Z2ra1HZnotA"
   },
   "outputs": [],
   "source": [
    "important_text_2 = 'Это другой важный текст.'\n",
    "with open('text_file_2.txt', 'w') as outfile:\n",
    "    print(important_text_2, file=outfile)"
   ]
  },
  {
   "cell_type": "code",
   "execution_count": null,
   "metadata": {
    "id": "AWZ7053Znvxo"
   },
   "outputs": [],
   "source": [
    "important_text_3 = 'А это совсем важный текст. Очень!'\n",
    "with open('text_file_2.txt', 'a') as outfile:\n",
    "    print(important_text_3, file=outfile)"
   ]
  },
  {
   "cell_type": "markdown",
   "metadata": {
    "id": "i8x3EVMPoDMS"
   },
   "source": [
    "Мы использовали три режима открытия файлов:\n",
    "1. `mode='r'` — _read,  **чтение**_. При отсутствии указанного файла выдается ошибка. Это режим по умолчанию.\n",
    "1. `mode='w'` — _write, **запись**_. При отсутствии указанного файла создается новый. При наличии файла содержимое перезаписывается.\n",
    "1. `mode='a'` — _append, **дозапись**_. При отсутствии указанного файла создается новый. При наличии файла новое содержимое дозаписывается после имеющегося."
   ]
  },
  {
   "cell_type": "markdown",
   "metadata": {
    "id": "9Qgkg_Nwrpc1"
   },
   "source": [
    "### Еще задача из контеста\n",
    "\n",
    "Создайте декоратор log_plagiat_check, который будет использоваться для функции is_plagiat из предыдущей задачи. Этот декоратор должен выводить на экран информацию о том, какие слова проверяются и какой результат проверки.\n",
    "\n",
    "Решение обязательно должно содержать:\n",
    "\n",
    "* код декоратора log_plagiat_check\n",
    "* код функции is_plagiat\n",
    "* чтение входных данных и применение функции is_plagiat\n",
    "\n",
    "Входные данные необходимо считать из файла \"words.txt\". Файл содержит неизвестное число строк. Каждая строка содержит два слова через пробел. Необходимо для каждой строки вывести на экран:\n",
    "\n",
    "* оба слова\n",
    "* результат действия функции is_plagiat\n",
    "\n",
    "\n",
    "**Формат ввода**\n",
    "\n",
    "Файл words.txt.\n",
    "\n",
    "Файл содержит неизвестное число строк. Каждая строка содержит два слова через пробел.\n",
    "\n",
    "**Формат вывода**\n",
    "\n",
    "\n",
    "Строка формата \"Check '{слово1}' vs '{слово2}' -> {True/False}\""
   ]
  },
  {
   "cell_type": "code",
   "execution_count": null,
   "metadata": {
    "id": "irhU0sdNVtJh"
   },
   "outputs": [],
   "source": []
  }
 ],
 "metadata": {
  "colab": {
   "include_colab_link": true,
   "provenance": []
  },
  "kernelspec": {
   "display_name": "Python 3 (ipykernel)",
   "language": "python",
   "name": "python3"
  },
  "language_info": {
   "codemirror_mode": {
    "name": "ipython",
    "version": 3
   },
   "file_extension": ".py",
   "mimetype": "text/x-python",
   "name": "python",
   "nbconvert_exporter": "python",
   "pygments_lexer": "ipython3",
   "version": "3.12.6"
  }
 },
 "nbformat": 4,
 "nbformat_minor": 4
}
