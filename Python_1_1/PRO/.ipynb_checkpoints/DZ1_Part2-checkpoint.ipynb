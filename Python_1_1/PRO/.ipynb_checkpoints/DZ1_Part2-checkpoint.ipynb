{
  "nbformat": 4,
  "nbformat_minor": 0,
  "metadata": {
    "colab": {
      "provenance": [],
      "include_colab_link": true
    },
    "kernelspec": {
      "name": "python3",
      "display_name": "Python 3"
    },
    "language_info": {
      "name": "python"
    }
  },
  "cells": [
    {
      "cell_type": "markdown",
      "metadata": {
        "id": "view-in-github",
        "colab_type": "text"
      },
      "source": [
        "<a href=\"https://colab.research.google.com/github/TaniaZharova2205/HSE/blob/main/%22DZ1_Part2%22.ipynb\" target=\"_parent\"><img src=\"https://colab.research.google.com/assets/colab-badge.svg\" alt=\"Open In Colab\"/></a>"
      ]
    },
    {
      "cell_type": "markdown",
      "source": [
        "Первая часть ДЗ находится здесь: https://official.contest.yandex.ru/contest/67840/enter\n",
        "\n",
        "Эта часть будет проверяться полностью вручную.\n",
        "За качество кода баллы могут быть снижены."
      ],
      "metadata": {
        "id": "3l-0ahLPQQd3"
      }
    },
    {
      "cell_type": "markdown",
      "source": [
        "### Задача 1. Декоратор. (15)\n",
        "\n",
        "Напишите декоратор, который будет выполнять функцию трижды, делая между выполнениями перерыв в 2 секунды. После каждого выполнения декоратор должен выводить на экран аргументы функции и результат работы (возвращаемое значение)"
      ],
      "metadata": {
        "id": "Kr8O7js8QdFD"
      }
    },
    {
      "cell_type": "code",
      "source": [
        "import time\n",
        "\n",
        "def repeat_three_times(func):\n",
        "    def wrapper(*args):\n",
        "        res = func(*args)\n",
        "        print(f'Аргументы функции: {args}, Результат работы: {res}')\n",
        "        time.sleep(2)\n",
        "    return wrapper\n",
        "\n",
        "@repeat_three_times\n",
        "def is_plagiat(word1, word2):\n",
        "    set1 = set(word1.lower())\n",
        "    set2 = set(word2.lower())\n",
        "    if len(set2 - set1)<2:\n",
        "        return True\n",
        "    return False\n",
        "\n",
        "is_plagiat('word1', 'word2')\n",
        "is_plagiat('word1', 'word1')\n",
        "is_plagiat('word12', 'word1cdsd')"
      ],
      "metadata": {
        "id": "8rnqhsSGQfPR",
        "colab": {
          "base_uri": "https://localhost:8080/"
        },
        "outputId": "ead7d44a-3681-47d5-f0f6-d55279e59935"
      },
      "execution_count": null,
      "outputs": [
        {
          "output_type": "stream",
          "name": "stdout",
          "text": [
            "Аргументы функции: ('word1', 'word2'), Результат работы: True\n",
            "Аргументы функции: ('word1', 'word1'), Результат работы: True\n",
            "Аргументы функции: ('word12', 'word1cdsd'), Результат работы: False\n"
          ]
        }
      ]
    },
    {
      "cell_type": "markdown",
      "source": [
        "### Задача 2. Генератор. (20)\n",
        "\n",
        "Напишите генератор, который принимает коллекцию с вложенными итерируемыми объектами, а возвращает каждый элемент последовательно.Если \"распаковать\" все получаемые значения в list, получится \"сплющенный\" список. Например:\n",
        "\n",
        "[[1, 2, 3], [4, [5, 6, [7, 8]]]] -> [1, 2, 3, 4, 5, 6, 7, 8]"
      ],
      "metadata": {
        "id": "MqYm6QvUSko4"
      }
    },
    {
      "cell_type": "code",
      "source": [
        "def unpacking_generator(lst):\n",
        "    for item in lst:\n",
        "        if isinstance(item, dict):\n",
        "            yield from unpacking_generator(item.keys())  # Для словарей используем значения\n",
        "        elif isinstance(item, str) and len(item)>1 or hasattr(item, '__iter__') and not isinstance(item, (str, bytes)):\n",
        "            yield from unpacking_generator(item) # Распаковываем вложенные итерируемые объекты\n",
        "        else:\n",
        "            yield item  # Возвращаем неитерируемые объекты как есть"
      ],
      "metadata": {
        "id": "0jam99w5WHA2"
      },
      "execution_count": null,
      "outputs": []
    },
    {
      "cell_type": "markdown",
      "source": [
        "### Задача 3. itertools (15)\n",
        "\n",
        "Модуль itertools представляет много инструментов для работы с итераторами.\n",
        "\n",
        "Ознакомиться с ними можно здесь: https://docs.python.org/3/library/itertools.html\n",
        "\n",
        "Вводится числа через пробел с одной строке. Затем вводится число n.\n",
        "\n",
        "Напишите программу, которая находит все уникальные пары чисел из списка, где сумма каждой пары равна числу n. Можете использовать itertools.\n",
        "\n",
        "Например, списка [1, 2, 3, 4, 5, 6] и n=7 программа должна вывести пары чисел, которые в сумме дают 7: [(1, 6), (2, 5), (3, 4)]."
      ],
      "metadata": {
        "id": "oMq97028UDAG"
      }
    },
    {
      "cell_type": "code",
      "source": [
        "from itertools import combinations_with_replacement\n",
        "\n",
        "lst = list(combinations_with_replacement(list(map(int, input().split(' '))), 2))   #все комбинации введенного списка\n",
        "n = int(input())\n",
        "result = []\n",
        "\n",
        "for i in lst:\n",
        "    if i[0] + i[1] == n:\n",
        "        result.append(i)\n",
        "print(result)"
      ],
      "metadata": {
        "id": "VN20gozgWHiy",
        "colab": {
          "base_uri": "https://localhost:8080/"
        },
        "outputId": "266977be-bc74-4f94-ee58-753af8fd8fa6"
      },
      "execution_count": null,
      "outputs": [
        {
          "output_type": "stream",
          "name": "stdout",
          "text": [
            "1 2 3 4 5 6\n",
            "7\n",
            "[(1, 6), (2, 5), (3, 4)]\n"
          ]
        }
      ]
    },
    {
      "cell_type": "markdown",
      "source": [
        "## Задача 4.1 Очень функциональное программирование (2).\n",
        "\n",
        "Вводятся числа в одной строке через пробел.\n",
        "\n",
        "Например, '4 2 5 2 5 1'\n",
        "\n",
        "Необходимо найти наименьшее нечетное число. Например, для примера выше это 1.\n",
        "\n",
        "Решение должно занимать ровно одну строку любой длины.\n",
        "\n",
        "Запрещено использовать циклы, условные операторы и list comprehension.\n"
      ],
      "metadata": {
        "id": "_jSc7xl-VCCq"
      }
    },
    {
      "cell_type": "code",
      "source": [
        "lst = print(min(list(filter(lambda x: (x%2 != 0) , list(map(int, input().split(' ')))))))"
      ],
      "metadata": {
        "id": "ido4_rnfWSJa",
        "colab": {
          "base_uri": "https://localhost:8080/"
        },
        "outputId": "6af701df-fff8-4ef5-8f0d-c077ded89877"
      },
      "execution_count": null,
      "outputs": [
        {
          "output_type": "stream",
          "name": "stdout",
          "text": [
            "4 2 5 2 5 1\n",
            "1\n"
          ]
        }
      ]
    },
    {
      "cell_type": "markdown",
      "source": [
        "## Задача 4.2 itertools и очень функциональное программирование (3)."
      ],
      "metadata": {
        "id": "i-CiF6O9WS2q"
      }
    },
    {
      "cell_type": "markdown",
      "source": [
        "Вводится одно число n.\n",
        "\n",
        "Используя модуль itertools, выведите в одной строке через запятую и пробел факториалы чисел от 1 до n.\n",
        "\n",
        "\n",
        "Запрещено использовать циклы, условные операторы и list comprehension.\n",
        "\n",
        "Например, для n = 7 на экран надо вывести:\n",
        "\n",
        "1, 1, 2, 6, 24, 120, 720, 5040"
      ],
      "metadata": {
        "id": "qs75u_OVWjd2"
      }
    },
    {
      "cell_type": "code",
      "source": [
        "from itertools import accumulate\n",
        "print(', '.join(map(str, list(accumulate(range(1, int(input())+1), lambda x, y: x * y, initial=1)))))"
      ],
      "metadata": {
        "id": "q1dFCXhOW8ah",
        "colab": {
          "base_uri": "https://localhost:8080/"
        },
        "outputId": "5f22fb02-aaa4-45d1-822f-156c2f440f4e"
      },
      "execution_count": null,
      "outputs": [
        {
          "output_type": "stream",
          "name": "stdout",
          "text": [
            "7\n",
            "1, 1, 2, 6, 24, 120, 720, 5040\n"
          ]
        }
      ]
    }
  ]
}
