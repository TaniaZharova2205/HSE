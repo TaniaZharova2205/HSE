{
  "nbformat": 4,
  "nbformat_minor": 0,
  "metadata": {
    "colab": {
      "provenance": []
    },
    "kernelspec": {
      "name": "python3",
      "display_name": "Python 3"
    },
    "language_info": {
      "name": "python"
    }
  },
  "cells": [
    {
      "cell_type": "markdown",
      "source": [
        "## ДЗ 1 (ОБЯЗАТЕЛЬНОЕ): Анализ температурных данных и мониторинг текущей температуры через OpenWeatherMap API\n",
        "\n",
        "**Описание задания:**  \n",
        "Вы аналитик в компании, занимающейся изучением климатических изменений и мониторингом температур в разных городах. Вам нужно провести анализ исторических данных о температуре для выявления сезонных закономерностей и аномалий. Также необходимо подключить API OpenWeatherMap для получения текущей температуры в выбранных городах и сравнить её с историческими данными.\n",
        "\n",
        "\n",
        "### Цели задания:\n",
        "1. Провести **анализ временных рядов**, включая:\n",
        "   - Вычисление скользящего среднего и стандартного отклонения для сглаживания температурных колебаний.\n",
        "   - Определение аномалий на основе отклонений температуры от $ \\text{скользящее среднее} \\pm 2\\sigma $.\n",
        "   - Построение долгосрочных трендов изменения температуры.\n",
        "   - Любые дополнительные исследования будут вам в плюс.\n",
        "\n",
        "2. Осуществить **мониторинг текущей температуры**:\n",
        "   - Получить текущую температуру через OpenWeatherMap API.\n",
        "   - Сравнить её с историческим нормальным диапазоном для текущего сезона.\n",
        "\n",
        "3. Разработать **интерактивное приложение**:\n",
        "   - Дать пользователю возможность выбрать город.\n",
        "   - Отобразить результаты анализа температур, включая временные ряды, сезонные профили и аномалии.\n",
        "   - Провести анализ текущей температуры в контексте исторических данных.\n",
        "\n",
        "\n",
        "### Описание данных\n",
        "Исторические данные о температуре содержатся в файле `temperature_data.csv`, включают:\n",
        "  - `city`: Название города.\n",
        "  - `timestamp`: Дата (с шагом в 1 день).\n",
        "  - `temperature`: Среднесуточная температура (в °C).\n",
        "  - `season`: Сезон года (зима, весна, лето, осень).\n",
        "\n",
        "Код для генерации файла вы найдете ниже.\n",
        "\n",
        "### Этапы выполнения\n",
        "\n",
        "1. **Анализ исторических данных**:\n",
        "   - Вычислить **скользящее среднее** температуры с окном в 30 дней для сглаживания краткосрочных колебаний.\n",
        "   - Рассчитать среднюю температуру и стандартное отклонение для каждого сезона в каждом городе.\n",
        "   - Выявить аномалии, где температура выходит за пределы $ \\text{среднее} \\pm 2\\sigma $.\n",
        "   - Попробуйте распараллелить проведение этого анализа. Сравните скорость выполнения анализа с распараллеливанием и без него.\n",
        "\n",
        "2. **Мониторинг текущей температуры**:\n",
        "   - Подключить OpenWeatherMap API для получения текущей температуры города. Для получения API Key (бесплатно) надо зарегистрироваться на сайте. Обратите внимание, что API Key может активироваться только через 2-3 часа, это нормально. Посему получите ключ заранее.\n",
        "   - Получить текущую температуру для выбранного города через OpenWeatherMap API.\n",
        "   - Определить, является ли текущая температура нормальной, исходя из исторических данных для текущего сезона.\n",
        "   - Данные на самом деле не совсем реальные (сюрпрайз). Поэтому на момент эксперимента погода в Берлине, Каире и Дубае была в рамках нормы, а в Пекине и Москве аномальная. Протестируйте свое решение для разных городов.\n",
        "   - Попробуйте для получения текущей температуры использовать синхронные и асинхронные методы. Что здесь лучше использовать?\n",
        "\n",
        "3. **Создание приложения на Streamlit**:\n",
        "   - Добавить интерфейс для загрузки файла с историческими данными.\n",
        "   - Добавить интерфейс для выбора города (из выпадающего списка).\n",
        "   - Добавить форму для ввода API-ключа OpenWeatherMap. Когда он не введен, данные для текущей погоды не показываются. Если ключ некорректный, выведите на экран ошибку (должно приходить `{\"cod\":401, \"message\": \"Invalid API key. Please see https://openweathermap.org/faq#error401 for more info.\"}`).\n",
        "   - Отобразить:\n",
        "     - Описательную статистику по историческим данным для города, можно добавить визуализации.\n",
        "     - Временной ряд температур с выделением аномалий (например, точками другого цвета).\n",
        "     - Сезонные профили с указанием среднего и стандартного отклонения.\n",
        "   - Вывести текущую температуру через API и указать, нормальна ли она для сезона.\n",
        "\n",
        "### Критерии оценивания\n",
        "\n",
        "- Корректное проведение анализа данных – 1 балл.\n",
        "- Исследование распараллеливания анализа – 1 балл.\n",
        "- Корректный поиск аномалий – 1 балл.\n",
        "- Подключение к API и корректность выполнения запроса – 1 балл.\n",
        "- Проведение эксперимента с синхронным и асинхронным способом запроса к API – 1 балл.\n",
        "- Создание интерфейса приложения streamlit в соответствии с описанием – 3 балла.\n",
        "- Корректное отображение графиков и статистик, а также сезонных профилей – 1 балл.\n",
        "- Корректный вывод текущей температуры в выбранном городе и проведение проверки на ее аномальность – 1 балл.\n",
        "- Любая дополнительная функциональность приветствуется и оценивается бонусными баллами (не более 2 в сумме) на усмотрение проверяющего.\n",
        "\n",
        "### Формат сдачи домашнего задания\n",
        "\n",
        "Решение нужно развернуть в Streamlit Cloud (бесплатно)\n",
        "\n",
        "*   Создаем новый репозиторий на GitHub.  \n",
        "*   Загружаем проект.\n",
        "*   Создаем аккаунт в [Streamlit Cloud](https://streamlit.io/cloud).\n",
        "*   Авторизуемся в Streamlit Cloud.\n",
        "*   Создаем новое приложение в Streamlit Cloud и подключаем GitHub-репозиторий.\n",
        "*   Deploy!\n",
        "\n",
        "Сдать в форму необходимо:\n",
        "1. Ссылку на развернутое в Streamlit Cloud приложение.\n",
        "2. Ссылку на код. Все выводы про, например, использование параллельности/асинхронности опишите в комментариях.\n",
        "\n",
        "Не забудьте удалить ключ API и иную чувствительную информацию.\n",
        "\n",
        "### Полезные ссылки\n",
        "*   [Оформление задачи Титаник на Streamlit](https://github.com/evgpat/streamlit_demo)\n",
        "*   [Документация Streamlit](https://docs.streamlit.io/)\n",
        "*   [Блог о Streamlit](https://blog.streamlit.io/)"
      ],
      "metadata": {
        "id": "HrUsTH7_SUTo"
      }
    },
    {
      "cell_type": "code",
      "execution_count": null,
      "metadata": {
        "id": "Rqor5YFhSRCa"
      },
      "outputs": [],
      "source": [
        "import pandas as pd\n",
        "import numpy as np\n",
        "\n",
        "# Реальные средние температуры (примерные данные) для городов по сезонам\n",
        "seasonal_temperatures = {\n",
        "    \"New York\": {\"winter\": 0, \"spring\": 10, \"summer\": 25, \"autumn\": 15},\n",
        "    \"London\": {\"winter\": 5, \"spring\": 11, \"summer\": 18, \"autumn\": 12},\n",
        "    \"Paris\": {\"winter\": 4, \"spring\": 12, \"summer\": 20, \"autumn\": 13},\n",
        "    \"Tokyo\": {\"winter\": 6, \"spring\": 15, \"summer\": 27, \"autumn\": 18},\n",
        "    \"Moscow\": {\"winter\": -10, \"spring\": 5, \"summer\": 18, \"autumn\": 8},\n",
        "    \"Sydney\": {\"winter\": 12, \"spring\": 18, \"summer\": 25, \"autumn\": 20},\n",
        "    \"Berlin\": {\"winter\": 0, \"spring\": 10, \"summer\": 20, \"autumn\": 11},\n",
        "    \"Beijing\": {\"winter\": -2, \"spring\": 13, \"summer\": 27, \"autumn\": 16},\n",
        "    \"Rio de Janeiro\": {\"winter\": 20, \"spring\": 25, \"summer\": 30, \"autumn\": 25},\n",
        "    \"Dubai\": {\"winter\": 20, \"spring\": 30, \"summer\": 40, \"autumn\": 30},\n",
        "    \"Los Angeles\": {\"winter\": 15, \"spring\": 18, \"summer\": 25, \"autumn\": 20},\n",
        "    \"Singapore\": {\"winter\": 27, \"spring\": 28, \"summer\": 28, \"autumn\": 27},\n",
        "    \"Mumbai\": {\"winter\": 25, \"spring\": 30, \"summer\": 35, \"autumn\": 30},\n",
        "    \"Cairo\": {\"winter\": 15, \"spring\": 25, \"summer\": 35, \"autumn\": 25},\n",
        "    \"Mexico City\": {\"winter\": 12, \"spring\": 18, \"summer\": 20, \"autumn\": 15},\n",
        "}\n",
        "\n",
        "# Сопоставление месяцев с сезонами\n",
        "month_to_season = {12: \"winter\", 1: \"winter\", 2: \"winter\",\n",
        "                   3: \"spring\", 4: \"spring\", 5: \"spring\",\n",
        "                   6: \"summer\", 7: \"summer\", 8: \"summer\",\n",
        "                   9: \"autumn\", 10: \"autumn\", 11: \"autumn\"}\n",
        "\n",
        "# Генерация данных о температуре\n",
        "def generate_realistic_temperature_data(cities, num_years=10):\n",
        "    dates = pd.date_range(start=\"2010-01-01\", periods=365 * num_years, freq=\"D\")\n",
        "    data = []\n",
        "\n",
        "    for city in cities:\n",
        "        for date in dates:\n",
        "            season = month_to_season[date.month]\n",
        "            mean_temp = seasonal_temperatures[city][season]\n",
        "            # Добавляем случайное отклонение\n",
        "            temperature = np.random.normal(loc=mean_temp, scale=5)\n",
        "            data.append({\"city\": city, \"timestamp\": date, \"temperature\": temperature})\n",
        "\n",
        "    df = pd.DataFrame(data)\n",
        "    df['season'] = df['timestamp'].dt.month.map(lambda x: month_to_season[x])\n",
        "    return df\n",
        "\n",
        "# Генерация данных\n",
        "data = generate_realistic_temperature_data(list(seasonal_temperatures.keys()))\n",
        "data.to_csv('temperature_data.csv', index=False)"
      ]
    },
    {
      "cell_type": "markdown",
      "source": [
        "1. **Анализ исторических данных**:\n",
        "   - Вычислить **скользящее среднее** температуры с окном в 30 дней для сглаживания краткосрочных колебаний.\n",
        "   - Рассчитать среднюю температуру и стандартное отклонение для каждого сезона в каждом городе.\n",
        "   - Выявить аномалии, где температура выходит за пределы $ \\text{среднее} \\pm 2\\sigma $.\n",
        "   - Попробуйте распараллелить проведение этого анализа. Сравните скорость выполнения анализа с распараллеливанием и без него."
      ],
      "metadata": {
        "id": "T142bj3yge5N"
      }
    },
    {
      "cell_type": "markdown",
      "source": [
        "Время выполнения анализа данных с распараллеливанием меньше, чем без него"
      ],
      "metadata": {
        "id": "D6Wd_wYwjOj7"
      }
    },
    {
      "cell_type": "code",
      "source": [
        "from multiprocessing import Pool\n",
        "import time\n",
        "\n",
        "data = pd.read_csv('temperature_data.csv')\n",
        "data['timestamp'] = pd.to_datetime(data['timestamp'])\n",
        "\n",
        "def analyze_data(data):\n",
        "    df = data.copy()\n",
        "    df['rolling_mean'] = df.set_index('timestamp').groupby('city')['temperature'].rolling(window='30D', min_periods=1).mean().reset_index(level=[0,1], drop=True)\n",
        "    df['mean_temperature'] = df.groupby(['city', 'season'])['temperature'].transform(lambda x: x.mean())\n",
        "    df['std_temperature'] = df.groupby(['city', 'season'])['temperature'].transform(lambda x: x.std())\n",
        "    df['anomaly'] = df.apply(lambda x: True if(x[\"temperature\"]>2*x['std_temperature']) | (x[\"temperature\"]<-2*x['std_temperature']) else False, axis=1)\n",
        "    return df\n",
        "\n",
        "start_time = time.time()\n",
        "with Pool(4) as pool:\n",
        "    results = pool.map(analyze_data, np.array_split(data, 4))\n",
        "end_time = time.time()\n",
        "print(\"With Pool\", end_time - start_time)\n",
        "\n",
        "start_time = time.time()\n",
        "results = analyze_data(data)\n",
        "end_time = time.time()\n",
        "print(\"Without Pool\", end_time - start_time)"
      ],
      "metadata": {
        "colab": {
          "base_uri": "https://localhost:8080/"
        },
        "id": "WYyF9jvQO99h",
        "outputId": "25f2f48d-ce06-44ad-d1c8-b20d3fac9ef4"
      },
      "execution_count": null,
      "outputs": [
        {
          "output_type": "stream",
          "name": "stderr",
          "text": [
            "/usr/local/lib/python3.10/dist-packages/numpy/core/fromnumeric.py:59: FutureWarning: 'DataFrame.swapaxes' is deprecated and will be removed in a future version. Please use 'DataFrame.transpose' instead.\n",
            "  return bound(*args, **kwds)\n"
          ]
        },
        {
          "output_type": "stream",
          "name": "stdout",
          "text": [
            "With Pool 1.255645513534546\n",
            "Without Pool 1.84718656539917\n"
          ]
        }
      ]
    },
    {
      "cell_type": "markdown",
      "source": [
        "2. **Мониторинг текущей температуры**:\n",
        "   - Подключить OpenWeatherMap API для получения текущей температуры города. Для получения API Key (бесплатно) надо зарегистрироваться на сайте. Обратите внимание, что API Key может активироваться только через 2-3 часа, это нормально. Посему получите ключ заранее.\n",
        "   - Получить текущую температуру для выбранного города через OpenWeatherMap API.\n",
        "   - Определить, является ли текущая температура нормальной, исходя из исторических данных для текущего сезона.\n",
        "   - Данные на самом деле не совсем реальные (сюрпрайз). Поэтому на момент эксперимента погода в Берлине, Каире и Дубае была в рамках нормы, а в Пекине и Москве аномальная. Протестируйте свое решение для разных городов.\n",
        "   - Попробуйте для получения текущей температуры использовать синхронные и асинхронные методы. Что здесь лучше использовать?"
      ],
      "metadata": {
        "id": "0H1go7bTlY5B"
      }
    },
    {
      "cell_type": "code",
      "source": [
        "import requests\n",
        "\n",
        "city_id = 0\n",
        "appid = \"e99012698d8ca369aff7864ebf799c02\"\n",
        "temp_now = {}\n",
        "try:\n",
        "    for city in data['city'].unique():\n",
        "        res_wether = requests.get(f\"http://api.openweathermap.org/data/2.5/weather?q={city}&units=metric&lang=ru&APPID={appid}\")\n",
        "        data_temp = res_wether.json()\n",
        "        temp_now[city] = data_temp['main']['temp']\n",
        "except Exception as e:\n",
        "    print(\"Exception (find):\", e)\n",
        "    pass"
      ],
      "metadata": {
        "id": "CQfZqFfqnoMB"
      },
      "execution_count": null,
      "outputs": []
    },
    {
      "cell_type": "code",
      "source": [
        "temp_now"
      ],
      "metadata": {
        "colab": {
          "base_uri": "https://localhost:8080/"
        },
        "id": "YH8l6H9VYtlH",
        "outputId": "bca8b394-fec9-498c-9d51-0c10faafcb0e"
      },
      "execution_count": null,
      "outputs": [
        {
          "output_type": "execute_result",
          "data": {
            "text/plain": [
              "{'New York': 11.22,\n",
              " 'London': 9.54,\n",
              " 'Paris': 6.9,\n",
              " 'Tokyo': 7.87,\n",
              " 'Moscow': 0.31,\n",
              " 'Sydney': 20.17,\n",
              " 'Berlin': 9.32,\n",
              " 'Beijing': -2.06,\n",
              " 'Rio de Janeiro': 27.21,\n",
              " 'Dubai': 22.96,\n",
              " 'Los Angeles': 10.92,\n",
              " 'Singapore': 25.68,\n",
              " 'Mumbai': 25.99,\n",
              " 'Cairo': 20.42,\n",
              " 'Mexico City': 11.64}"
            ]
          },
          "metadata": {},
          "execution_count": 4
        }
      ]
    },
    {
      "cell_type": "code",
      "source": [
        "winter_stats = data[data['season'] == 'winter'].groupby('city')['temperature'].std().reset_index()\n",
        "results = {}\n",
        "for city, current_temp in temp_now.items():\n",
        "    city_stats = winter_stats[winter_stats['city'] == city]\n",
        "    std_temp = city_stats['temperature'].values[0]\n",
        "    is_normal = - 2 * std_temp <= current_temp <= 2 * std_temp\n",
        "    results[city] = is_normal"
      ],
      "metadata": {
        "id": "GzEh3HzqqPRW"
      },
      "execution_count": null,
      "outputs": []
    },
    {
      "cell_type": "code",
      "source": [
        "results"
      ],
      "metadata": {
        "colab": {
          "base_uri": "https://localhost:8080/"
        },
        "id": "Lq1IaSYasHD8",
        "outputId": "93bb0f47-bcde-412e-c854-064a59647732"
      },
      "execution_count": null,
      "outputs": [
        {
          "output_type": "execute_result",
          "data": {
            "text/plain": [
              "{'New York': False,\n",
              " 'London': True,\n",
              " 'Paris': True,\n",
              " 'Tokyo': True,\n",
              " 'Moscow': True,\n",
              " 'Sydney': False,\n",
              " 'Berlin': True,\n",
              " 'Beijing': True,\n",
              " 'Rio de Janeiro': False,\n",
              " 'Dubai': False,\n",
              " 'Los Angeles': False,\n",
              " 'Singapore': False,\n",
              " 'Mumbai': False,\n",
              " 'Cairo': False,\n",
              " 'Mexico City': False}"
            ]
          },
          "metadata": {},
          "execution_count": 6
        }
      ]
    },
    {
      "cell_type": "markdown",
      "source": [
        "Лушче использовать Асинхронный код, так как он выполняет быстрее"
      ],
      "metadata": {
        "id": "yDfwolAQkWw2"
      }
    },
    {
      "cell_type": "code",
      "source": [
        "import aiohttp\n",
        "import asyncio\n",
        "import time\n",
        "import requests\n",
        "import nest_asyncio\n",
        "\n",
        "nest_asyncio.apply()\n",
        "\n",
        "appid = \"e99012698d8ca369aff7864ebf799c02\"\n",
        "cities = data['city'].unique()\n",
        "\n",
        "def sinc(cities):\n",
        "    for city in cities:\n",
        "        res_wether = requests.get(f\"http://api.openweathermap.org/data/2.5/weather?q={city}&units=metric&lang=ru&APPID={appid}\")\n",
        "        data_temp = res_wether.json()\n",
        "\n",
        "async def get_weather(city):\n",
        "    async with aiohttp.ClientSession() as session:\n",
        "        async with session.get(f\"http://api.openweathermap.org/data/2.5/weather?q={city}&units=metric&lang=ru&APPID={appid}\") as response:\n",
        "            weather_json = await response.json()\n",
        "\n",
        "async def main(cities_):\n",
        "    tasks = []\n",
        "    for city in cities_:\n",
        "        tasks.append(asyncio.create_task(get_weather(city)))\n",
        "\n",
        "    for task in tasks:\n",
        "        await task\n",
        "\n",
        "start_time = time.time()\n",
        "asyncio.run(main(cities))\n",
        "end_time = time.time()\n",
        "print(\"Async\", end_time - start_time)\n",
        "\n",
        "start_time = time.time()\n",
        "sinc(cities)\n",
        "end_time = time.time()\n",
        "print(\"Sync\", end_time - start_time)\n"
      ],
      "metadata": {
        "id": "-8m9GLVrujkE",
        "colab": {
          "base_uri": "https://localhost:8080/"
        },
        "outputId": "eec5c2cf-4873-492d-9c2c-978cbbb2a37f"
      },
      "execution_count": null,
      "outputs": [
        {
          "output_type": "stream",
          "name": "stdout",
          "text": [
            "Async 0.12402558326721191\n",
            "Sync 1.4893696308135986\n"
          ]
        }
      ]
    }
  ]
}