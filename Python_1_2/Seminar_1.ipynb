{
  "nbformat": 4,
  "nbformat_minor": 0,
  "metadata": {
    "colab": {
      "provenance": []
    },
    "kernelspec": {
      "name": "python3",
      "display_name": "Python 3"
    },
    "language_info": {
      "name": "python"
    }
  },
  "cells": [
    {
      "cell_type": "code",
      "source": [
        "t = (5)"
      ],
      "metadata": {
        "id": "JxFsnrG0NjsD"
      },
      "execution_count": null,
      "outputs": []
    },
    {
      "cell_type": "code",
      "source": [
        "t"
      ],
      "metadata": {
        "colab": {
          "base_uri": "https://localhost:8080/"
        },
        "id": "uWsiUEvNNmVr",
        "outputId": "0176492a-b594-49a5-f8c3-2c85e51c5a8c"
      },
      "execution_count": null,
      "outputs": [
        {
          "output_type": "execute_result",
          "data": {
            "text/plain": [
              "(5,)"
            ]
          },
          "metadata": {},
          "execution_count": 11
        }
      ]
    },
    {
      "cell_type": "code",
      "source": [
        "gen = (i for i in range(5))"
      ],
      "metadata": {
        "id": "IT8ZsvgNM_QW"
      },
      "execution_count": null,
      "outputs": []
    },
    {
      "cell_type": "code",
      "source": [
        "for i in gen:\n",
        "    print(i)"
      ],
      "metadata": {
        "colab": {
          "base_uri": "https://localhost:8080/"
        },
        "id": "XZ-rRruyNJ3E",
        "outputId": "94778c12-7674-461b-912a-048b1555a5d3"
      },
      "execution_count": null,
      "outputs": [
        {
          "output_type": "stream",
          "name": "stdout",
          "text": [
            "0\n",
            "1\n",
            "2\n",
            "3\n",
            "4\n"
          ]
        }
      ]
    },
    {
      "cell_type": "code",
      "source": [
        "r = range(5)"
      ],
      "metadata": {
        "id": "zsM58rMONF1g"
      },
      "execution_count": null,
      "outputs": []
    },
    {
      "cell_type": "code",
      "source": [
        "type(r)"
      ],
      "metadata": {
        "colab": {
          "base_uri": "https://localhost:8080/"
        },
        "id": "N0SRTYwvPQkd",
        "outputId": "a3122818-a29d-4e8a-d053-582eba09c016"
      },
      "execution_count": null,
      "outputs": [
        {
          "output_type": "execute_result",
          "data": {
            "text/plain": [
              "range"
            ]
          },
          "metadata": {},
          "execution_count": 13
        }
      ]
    },
    {
      "cell_type": "code",
      "source": [
        "def generate_fib(max_number):\n",
        "    fib_1, fib_2 = 0, 1\n",
        "    yield fib_1\n",
        "    yield fib_2\n",
        "\n",
        "    for i in range(2, max_number):\n",
        "        fib_1, fib_2 = fib_2, fib_1 + fib_2\n",
        "        yield fib_2\n",
        "\n",
        "fibs = generate_fib(10)\n",
        "\n",
        "print(next(fibs))\n",
        "print(next(fibs))\n",
        "print(next(fibs))\n",
        "print(next(fibs))\n"
      ],
      "metadata": {
        "colab": {
          "base_uri": "https://localhost:8080/"
        },
        "id": "hckclY3ZLAuu",
        "outputId": "52e91733-545c-4eb3-9b99-0b20e336f3ed"
      },
      "execution_count": null,
      "outputs": [
        {
          "output_type": "stream",
          "name": "stdout",
          "text": [
            "0\n",
            "1\n",
            "1\n",
            "2\n"
          ]
        }
      ]
    },
    {
      "cell_type": "code",
      "source": [],
      "metadata": {
        "id": "N_su0H5NQ-As"
      },
      "execution_count": null,
      "outputs": []
    },
    {
      "cell_type": "code",
      "source": [
        "rang = iter(list(range(10)))\n",
        "for x in rang:\n",
        "    print(x)\n",
        "print('-'*10)\n",
        "for x in rang:\n",
        "    print(x)"
      ],
      "metadata": {
        "colab": {
          "base_uri": "https://localhost:8080/"
        },
        "id": "lEE9esD0Q2Ne",
        "outputId": "084aa072-18f7-4377-eac5-564eab5119ec"
      },
      "execution_count": null,
      "outputs": [
        {
          "output_type": "stream",
          "name": "stdout",
          "text": [
            "0\n",
            "1\n",
            "2\n",
            "3\n",
            "4\n",
            "5\n",
            "6\n",
            "7\n",
            "8\n",
            "9\n",
            "----------\n"
          ]
        }
      ]
    },
    {
      "cell_type": "code",
      "source": [
        "f = open('sample_data/README.md')"
      ],
      "metadata": {
        "id": "htdk4WjTQ1_G"
      },
      "execution_count": null,
      "outputs": []
    },
    {
      "cell_type": "code",
      "source": [
        "isinstance(fibs, object)"
      ],
      "metadata": {
        "colab": {
          "base_uri": "https://localhost:8080/"
        },
        "id": "2Dbvw2rSSEv2",
        "outputId": "72eb29a9-8979-4bd2-ec1c-e71ce198a0fa"
      },
      "execution_count": null,
      "outputs": [
        {
          "output_type": "execute_result",
          "data": {
            "text/plain": [
              "True"
            ]
          },
          "metadata": {},
          "execution_count": 30
        }
      ]
    },
    {
      "cell_type": "code",
      "source": [
        "rang = iter(range(10))\n",
        "\n",
        "for i in rang:\n",
        "  pass"
      ],
      "metadata": {
        "id": "LIE936X3R05f"
      },
      "execution_count": null,
      "outputs": []
    },
    {
      "cell_type": "code",
      "source": [
        "next(rang)"
      ],
      "metadata": {
        "colab": {
          "base_uri": "https://localhost:8080/",
          "height": 144
        },
        "id": "oZ5mV7Z4ShKj",
        "outputId": "abf83fcd-4bfc-4f17-f89d-ed377a7db499"
      },
      "execution_count": null,
      "outputs": [
        {
          "output_type": "error",
          "ename": "StopIteration",
          "evalue": "",
          "traceback": [
            "\u001b[0;31m---------------------------------------------------------------------------\u001b[0m",
            "\u001b[0;31mStopIteration\u001b[0m                             Traceback (most recent call last)",
            "\u001b[0;32m<ipython-input-34-f20e4653f3f9>\u001b[0m in \u001b[0;36m<cell line: 1>\u001b[0;34m()\u001b[0m\n\u001b[0;32m----> 1\u001b[0;31m \u001b[0mnext\u001b[0m\u001b[0;34m(\u001b[0m\u001b[0mrang\u001b[0m\u001b[0;34m)\u001b[0m\u001b[0;34m\u001b[0m\u001b[0;34m\u001b[0m\u001b[0m\n\u001b[0m",
            "\u001b[0;31mStopIteration\u001b[0m: "
          ]
        }
      ]
    },
    {
      "cell_type": "code",
      "source": [
        "for i in rang:\n",
        "  pass"
      ],
      "metadata": {
        "id": "kK9bLPH4SefS"
      },
      "execution_count": null,
      "outputs": []
    },
    {
      "cell_type": "code",
      "source": [
        "f.read()"
      ],
      "metadata": {
        "colab": {
          "base_uri": "https://localhost:8080/",
          "height": 160
        },
        "id": "fM4ItR4ARxFM",
        "outputId": "1182ad0e-eacf-44fc-8812-57154444a672"
      },
      "execution_count": null,
      "outputs": [
        {
          "output_type": "execute_result",
          "data": {
            "text/plain": [
              "\"This directory includes a few sample datasets to get you started.\\n\\n*   `california_housing_data*.csv` is California housing data from the 1990 US\\n    Census; more information is available at:\\n    https://docs.google.com/document/d/e/2PACX-1vRhYtsvc5eOR2FWNCwaBiKL6suIOrxJig8LcSBbmCbyYsayia_DvPOOBlXZ4CAlQ5nlDD8kTaIDRwrN/pub\\n\\n*   `mnist_*.csv` is a small sample of the\\n    [MNIST database](https://en.wikipedia.org/wiki/MNIST_database), which is\\n    described at: http://yann.lecun.com/exdb/mnist/\\n\\n*   `anscombe.json` contains a copy of\\n    [Anscombe's quartet](https://en.wikipedia.org/wiki/Anscombe%27s_quartet); it\\n    was originally described in\\n\\n    Anscombe, F. J. (1973). 'Graphs in Statistical Analysis'. American\\n    Statistician. 27 (1): 17-21. JSTOR 2682899.\\n\\n    and our copy was prepared by the\\n    [vega_datasets library](https://github.com/altair-viz/vega_datasets/blob/4f67bdaad10f45e3549984e17e1b3088c731503d/vega_datasets/_data/anscombe.json).\\n\""
            ],
            "application/vnd.google.colaboratory.intrinsic+json": {
              "type": "string"
            }
          },
          "metadata": {},
          "execution_count": 25
        }
      ]
    },
    {
      "cell_type": "code",
      "source": [
        "f.read()"
      ],
      "metadata": {
        "colab": {
          "base_uri": "https://localhost:8080/",
          "height": 35
        },
        "id": "GhK8PClrRyE8",
        "outputId": "3ffa09ce-3193-4157-baeb-6eb028874ff3"
      },
      "execution_count": null,
      "outputs": [
        {
          "output_type": "execute_result",
          "data": {
            "text/plain": [
              "''"
            ],
            "application/vnd.google.colaboratory.intrinsic+json": {
              "type": "string"
            }
          },
          "metadata": {},
          "execution_count": 26
        }
      ]
    },
    {
      "cell_type": "code",
      "source": [
        "fibs = generate_fib(10)\n",
        "for x in fibs:\n",
        "    print(x)\n",
        "print('-'*10)\n",
        "for x in fibs:\n",
        "    print(x)"
      ],
      "metadata": {
        "colab": {
          "base_uri": "https://localhost:8080/"
        },
        "id": "237nzH2sMipC",
        "outputId": "f2fb944d-4761-4128-e2ad-320297de8619"
      },
      "execution_count": null,
      "outputs": [
        {
          "output_type": "stream",
          "name": "stdout",
          "text": [
            "0\n",
            "1\n",
            "1\n",
            "2\n",
            "3\n",
            "5\n",
            "8\n",
            "13\n",
            "21\n",
            "34\n",
            "----------\n"
          ]
        }
      ]
    },
    {
      "cell_type": "code",
      "source": [
        "fibs = generate_fib(10)\n",
        "for x in fibs:\n",
        "    if x  > 10:\n",
        "        break\n",
        "    print(x)\n",
        "print('-'*10)\n",
        "for x in fibs:\n",
        "    print(x)"
      ],
      "metadata": {
        "colab": {
          "base_uri": "https://localhost:8080/"
        },
        "id": "eXVI0RQIMo_t",
        "outputId": "ba13d665-d86a-4270-97a0-d35de083aa8c"
      },
      "execution_count": null,
      "outputs": [
        {
          "output_type": "stream",
          "name": "stdout",
          "text": [
            "0\n",
            "1\n",
            "1\n",
            "2\n",
            "3\n",
            "5\n",
            "8\n",
            "----------\n",
            "21\n",
            "34\n"
          ]
        }
      ]
    },
    {
      "cell_type": "code",
      "source": [
        "def generate_fib(max_number):\n",
        "    fib_1, fib_2 = 1, 1\n",
        "    yield fib_1\n",
        "    yield fib_2\n",
        "\n",
        "    return 4\n",
        "\n",
        "fibs = generate_fib(10)\n",
        "\n",
        "while True:\n",
        "    try:\n",
        "        value = next(fibs)\n",
        "        print(value)\n",
        "    except StopIteration as e:\n",
        "        print(\"Return value:\", e.value)  # Выводим значение return\n",
        "        break\n"
      ],
      "metadata": {
        "colab": {
          "base_uri": "https://localhost:8080/"
        },
        "id": "PjIU_n8HQVeh",
        "outputId": "37835fb8-79d7-49a1-ebdb-6249ccdfafca"
      },
      "execution_count": null,
      "outputs": [
        {
          "output_type": "stream",
          "name": "stdout",
          "text": [
            "1\n",
            "1\n",
            "Return value: 4\n"
          ]
        }
      ]
    },
    {
      "cell_type": "code",
      "source": [
        "def coroutine():\n",
        "    print(\"Start\")\n",
        "    value = yield\n",
        "    print(f\"Received: {value}\")\n",
        "    yield \"Done\"\n",
        "\n",
        "coro = coroutine()\n",
        "\n",
        "# next(coro)\n",
        "coro.send(None)\n",
        "\n",
        "coro.send(\"Hello\")\n"
      ],
      "metadata": {
        "colab": {
          "base_uri": "https://localhost:8080/",
          "height": 71
        },
        "id": "xT5apURYTtMU",
        "outputId": "dfd2a96d-c2e8-4843-ddba-9ae39e679d42"
      },
      "execution_count": null,
      "outputs": [
        {
          "output_type": "stream",
          "name": "stdout",
          "text": [
            "Start\n",
            "Received: Hello\n"
          ]
        },
        {
          "output_type": "execute_result",
          "data": {
            "text/plain": [
              "'Done'"
            ],
            "application/vnd.google.colaboratory.intrinsic+json": {
              "type": "string"
            }
          },
          "metadata": {},
          "execution_count": 42
        }
      ]
    },
    {
      "cell_type": "code",
      "source": [
        "def running_total():\n",
        "    total = 0\n",
        "    while True:\n",
        "        number = yield total\n",
        "        if number is None:\n",
        "            break\n",
        "        total += number\n",
        "    return total\n",
        "\n",
        "gen = running_total()\n",
        "\n",
        "next(gen)\n",
        "\n",
        "print(gen.send(5))\n",
        "print(gen.send(10))\n",
        "print(gen.send(3))\n",
        "\n",
        "gen.send(None)\n"
      ],
      "metadata": {
        "colab": {
          "base_uri": "https://localhost:8080/",
          "height": 233
        },
        "id": "deG2mZKYXFfS",
        "outputId": "c404d98e-9625-47a0-df7c-fb0a6dcefc23"
      },
      "execution_count": null,
      "outputs": [
        {
          "output_type": "stream",
          "name": "stdout",
          "text": [
            "5\n",
            "15\n",
            "18\n"
          ]
        },
        {
          "output_type": "error",
          "ename": "StopIteration",
          "evalue": "18",
          "traceback": [
            "\u001b[0;31m---------------------------------------------------------------------------\u001b[0m",
            "\u001b[0;31mStopIteration\u001b[0m                             Traceback (most recent call last)",
            "\u001b[0;32m<ipython-input-48-25e9fd7414af>\u001b[0m in \u001b[0;36m<cell line: 18>\u001b[0;34m()\u001b[0m\n\u001b[1;32m     16\u001b[0m \u001b[0mprint\u001b[0m\u001b[0;34m(\u001b[0m\u001b[0mgen\u001b[0m\u001b[0;34m.\u001b[0m\u001b[0msend\u001b[0m\u001b[0;34m(\u001b[0m\u001b[0;36m3\u001b[0m\u001b[0;34m)\u001b[0m\u001b[0;34m)\u001b[0m\u001b[0;34m\u001b[0m\u001b[0;34m\u001b[0m\u001b[0m\n\u001b[1;32m     17\u001b[0m \u001b[0;34m\u001b[0m\u001b[0m\n\u001b[0;32m---> 18\u001b[0;31m \u001b[0mgen\u001b[0m\u001b[0;34m.\u001b[0m\u001b[0msend\u001b[0m\u001b[0;34m(\u001b[0m\u001b[0;32mNone\u001b[0m\u001b[0;34m)\u001b[0m\u001b[0;34m\u001b[0m\u001b[0;34m\u001b[0m\u001b[0m\n\u001b[0m",
            "\u001b[0;31mStopIteration\u001b[0m: 18"
          ]
        }
      ]
    },
    {
      "cell_type": "code",
      "source": [
        "def exception_handling_coroutine():\n",
        "    print(\"Starting coroutine\")\n",
        "    try:\n",
        "        while True:\n",
        "            try:\n",
        "                value = yield\n",
        "            except ValueError:\n",
        "                print(\"ValueError caught inside coroutine!\")\n",
        "            else:\n",
        "                print(f\"Received value: {value}\")\n",
        "    finally:\n",
        "        print(\"Coroutine terminating\")\n",
        "\n",
        "coro = exception_handling_coroutine()\n",
        "next(coro)\n",
        "\n",
        "coro.send(10)\n",
        "coro.send(20)\n",
        "\n",
        "coro.throw(ValueError)\n",
        "\n",
        "coro.close()\n"
      ],
      "metadata": {
        "colab": {
          "base_uri": "https://localhost:8080/"
        },
        "id": "EINKal56XFjZ",
        "outputId": "407c582a-a08d-49f4-f112-0a7ddf04d6da"
      },
      "execution_count": null,
      "outputs": [
        {
          "output_type": "stream",
          "name": "stdout",
          "text": [
            "Starting coroutine\n",
            "Received value: 10\n",
            "Received value: 20\n",
            "Received value: <class 'ValueError'>\n",
            "Coroutine terminating\n"
          ]
        }
      ]
    },
    {
      "cell_type": "code",
      "source": [
        "def accumulator():\n",
        "    total = 0\n",
        "    for i in range(3):\n",
        "        total += i\n",
        "        yield i\n",
        "    return total  # Возвращаем накопленное значение\n",
        "\n",
        "def main_generator():\n",
        "    result = yield from accumulator()\n",
        "    print(\"Accumulated total:\", result)\n",
        "\n",
        "# Запуск\n",
        "for value in main_generator():\n",
        "    print(\"Yielded:\", value)\n"
      ],
      "metadata": {
        "colab": {
          "base_uri": "https://localhost:8080/"
        },
        "id": "qhITPvEgYGFY",
        "outputId": "bee3de3b-fe95-42d3-9d34-5fd7d29f5523"
      },
      "execution_count": null,
      "outputs": [
        {
          "output_type": "stream",
          "name": "stdout",
          "text": [
            "Yielded: 0\n",
            "Yielded: 1\n",
            "Yielded: 2\n",
            "Accumulated total: 3\n"
          ]
        }
      ]
    },
    {
      "cell_type": "code",
      "source": [
        "from collections import deque\n",
        "\n",
        "def numbers():\n",
        "    yield 1\n",
        "    yield 2\n",
        "    yield 3\n",
        "    yield 4\n",
        "    return \"Numbers done\"\n",
        "\n",
        "def letters():\n",
        "    yield 'A'\n",
        "    yield 'B'\n",
        "    yield 'C'\n",
        "    return \"Letters done\"\n",
        "\n",
        "def main_generator():\n",
        "    gens = deque([numbers(), letters()])\n",
        "    result = []\n",
        "\n",
        "    while gens:\n",
        "        gen = gens.popleft()\n",
        "        try:\n",
        "            value = next(gen)\n",
        "            yield value\n",
        "            gens.append(gen)\n",
        "        except StopIteration as e:\n",
        "            result.append(e.value)\n",
        "    print(result)\n",
        "\n",
        "for value in main_generator():\n",
        "    print(\"Yielded:\", value)\n"
      ],
      "metadata": {
        "colab": {
          "base_uri": "https://localhost:8080/"
        },
        "id": "yyus89XpYGI_",
        "outputId": "2ed1aea8-f59d-4e39-dc20-756ee618e789"
      },
      "execution_count": null,
      "outputs": [
        {
          "output_type": "stream",
          "name": "stdout",
          "text": [
            "Yielded: 1\n",
            "Yielded: A\n",
            "Yielded: 2\n",
            "Yielded: B\n",
            "Yielded: 3\n",
            "Yielded: C\n",
            "Yielded: 4\n",
            "['Letters done', 'Numbers done']\n"
          ]
        }
      ]
    },
    {
      "cell_type": "code",
      "source": [],
      "metadata": {
        "id": "xokIYv4cYGNf"
      },
      "execution_count": null,
      "outputs": []
    },
    {
      "cell_type": "markdown",
      "source": [
        "#### Асинхронность vs многопоточность vs многопроцессность\n",
        "\n",
        "Асинхронность отличается от других подходов к параллельности:\n",
        "\n",
        "1. **Асинхронность**:\n",
        "   - Использует одну операционную систему или один поток, переключая задачи между состоянием ожидания и выполнения.\n",
        "   - Применяется для I/O-bound задач, где большая часть времени уходит на ожидание данных от внешних систем.\n",
        "\n",
        "2. **Многопоточность**:\n",
        "   - Позволяет программе запускать несколько потоков одновременно. Каждый поток — это отдельный путь выполнения внутри одного процесса.\n",
        "   - Подходит для задач с параллельным выполнением, но в Python многопоточность ограничена **Global Interpreter Lock (GIL)**, который не позволяет исполнять Python-код параллельно на нескольких ядрах процессора.\n",
        "   \n",
        "3. **Многопроцессность**:\n",
        "   - Включает запуск нескольких процессов, каждый из которых имеет собственный интерпретатор Python, что позволяет исполнять код параллельно.\n",
        "   - Многопроцессность обходит ограничения GIL и используется для CPU-bound задач (интенсивных по вычислениям).\n"
      ],
      "metadata": {
        "id": "OE1F4aMEfh44"
      }
    },
    {
      "cell_type": "markdown",
      "source": [
        "### Асинхронность, многопоточность и многопроцессность: детальное сравнение\n",
        "\n",
        "\n",
        "| Характеристика            | Асинхронность                            | Многопоточность                        | Многопроцессность                        |\n",
        "|---------------------------|------------------------------------------|----------------------------------------|------------------------------------------|\n",
        "| **Подходит для**          | Задач с длительным I/O                   | Смешанных задач (I/O и CPU), но с ограничениями из-за GIL | Задач с высокой нагрузкой на CPU (CPU-bound) |\n",
        "| **Особенности реализации**| Работает в одном потоке и переключается между задачами | Создает потоки, каждый из которых работает с GIL | Создает отдельные процессы с независимыми интерпретаторами |\n",
        "| **Потребление ресурсов**  | Низкое потребление ресурсов              | Среднее потребление                    | Высокое потребление (каждый процесс требует отдельной памяти) |\n",
        "| **Использование GIL**     | Не зависит от GIL                        | Ограничен GIL                          | GIL отсутствует, так как процессы независимы |\n",
        "| **Типичная библиотека**   | `asyncio`, `aiohttp`                     | `threading`, `concurrent.futures`      | `multiprocessing`, `concurrent.futures`  |\n"
      ],
      "metadata": {
        "id": "KzVAYPiYhQff"
      }
    },
    {
      "cell_type": "code",
      "source": [],
      "metadata": {
        "id": "hKqPN33JYGSs"
      },
      "execution_count": null,
      "outputs": []
    },
    {
      "cell_type": "code",
      "source": [
        "type(coroutine)"
      ],
      "metadata": {
        "colab": {
          "base_uri": "https://localhost:8080/"
        },
        "id": "jmOlb2YCWjjS",
        "outputId": "c20b968d-bb2e-4224-e0e7-cbb02b621cae"
      },
      "execution_count": null,
      "outputs": [
        {
          "output_type": "execute_result",
          "data": {
            "text/plain": [
              "function"
            ]
          },
          "metadata": {},
          "execution_count": 44
        }
      ]
    },
    {
      "cell_type": "code",
      "source": [
        "type(coro)"
      ],
      "metadata": {
        "colab": {
          "base_uri": "https://localhost:8080/"
        },
        "id": "GxbSV1k0WpNR",
        "outputId": "2394d20b-7358-40b2-fdde-a0f8ad4dbcf5"
      },
      "execution_count": null,
      "outputs": [
        {
          "output_type": "execute_result",
          "data": {
            "text/plain": [
              "generator"
            ]
          },
          "metadata": {},
          "execution_count": 45
        }
      ]
    },
    {
      "cell_type": "code",
      "source": [
        "dir(coroutine)"
      ],
      "metadata": {
        "colab": {
          "base_uri": "https://localhost:8080/"
        },
        "id": "Ze2j5siqUwML",
        "outputId": "eae229eb-4d77-4135-875c-80842fa92ef1"
      },
      "execution_count": null,
      "outputs": [
        {
          "output_type": "execute_result",
          "data": {
            "text/plain": [
              "['__annotations__',\n",
              " '__builtins__',\n",
              " '__call__',\n",
              " '__class__',\n",
              " '__closure__',\n",
              " '__code__',\n",
              " '__defaults__',\n",
              " '__delattr__',\n",
              " '__dict__',\n",
              " '__dir__',\n",
              " '__doc__',\n",
              " '__eq__',\n",
              " '__format__',\n",
              " '__ge__',\n",
              " '__get__',\n",
              " '__getattribute__',\n",
              " '__globals__',\n",
              " '__gt__',\n",
              " '__hash__',\n",
              " '__init__',\n",
              " '__init_subclass__',\n",
              " '__kwdefaults__',\n",
              " '__le__',\n",
              " '__lt__',\n",
              " '__module__',\n",
              " '__name__',\n",
              " '__ne__',\n",
              " '__new__',\n",
              " '__qualname__',\n",
              " '__reduce__',\n",
              " '__reduce_ex__',\n",
              " '__repr__',\n",
              " '__setattr__',\n",
              " '__sizeof__',\n",
              " '__str__',\n",
              " '__subclasshook__']"
            ]
          },
          "metadata": {},
          "execution_count": 43
        }
      ]
    },
    {
      "cell_type": "code",
      "source": [
        "dir(coro)"
      ],
      "metadata": {
        "colab": {
          "base_uri": "https://localhost:8080/"
        },
        "id": "_ZHgYRHWWc8w",
        "outputId": "f8b4c188-ada1-49f1-d350-eaeba1747646"
      },
      "execution_count": null,
      "outputs": [
        {
          "output_type": "execute_result",
          "data": {
            "text/plain": [
              "['__class__',\n",
              " '__del__',\n",
              " '__delattr__',\n",
              " '__dir__',\n",
              " '__doc__',\n",
              " '__eq__',\n",
              " '__format__',\n",
              " '__ge__',\n",
              " '__getattribute__',\n",
              " '__gt__',\n",
              " '__hash__',\n",
              " '__init__',\n",
              " '__init_subclass__',\n",
              " '__iter__',\n",
              " '__le__',\n",
              " '__lt__',\n",
              " '__name__',\n",
              " '__ne__',\n",
              " '__new__',\n",
              " '__next__',\n",
              " '__qualname__',\n",
              " '__reduce__',\n",
              " '__reduce_ex__',\n",
              " '__repr__',\n",
              " '__setattr__',\n",
              " '__sizeof__',\n",
              " '__str__',\n",
              " '__subclasshook__',\n",
              " 'close',\n",
              " 'gi_code',\n",
              " 'gi_frame',\n",
              " 'gi_running',\n",
              " 'gi_yieldfrom',\n",
              " 'send',\n",
              " 'throw']"
            ]
          },
          "metadata": {},
          "execution_count": 46
        }
      ]
    },
    {
      "cell_type": "code",
      "source": [],
      "metadata": {
        "id": "s-xoyOKoWxS5"
      },
      "execution_count": null,
      "outputs": []
    }
  ]
}