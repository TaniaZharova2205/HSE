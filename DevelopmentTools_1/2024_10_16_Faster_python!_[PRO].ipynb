{
  "nbformat": 4,
  "nbformat_minor": 0,
  "metadata": {
    "colab": {
      "provenance": []
    },
    "kernelspec": {
      "name": "python3",
      "display_name": "Python 3"
    },
    "language_info": {
      "name": "python"
    }
  },
  "cells": [
    {
      "cell_type": "markdown",
      "source": [
        "# Ускорение Python"
      ],
      "metadata": {
        "id": "zduPBgRavNgV"
      }
    },
    {
      "cell_type": "markdown",
      "source": [
        "## Первоначальные данные"
      ],
      "metadata": {
        "id": "EzMgwD8HLZeK"
      }
    },
    {
      "cell_type": "code",
      "source": [
        "import random"
      ],
      "metadata": {
        "id": "KxzQi_q0nw2I"
      },
      "execution_count": null,
      "outputs": []
    },
    {
      "cell_type": "code",
      "source": [
        "class Matrix(list):\n",
        "    @classmethod\n",
        "    def zeros(cls, shape):\n",
        "        n_rows, n_cols = shape\n",
        "        return cls([[0] * n_cols for i in range(n_rows)])\n",
        "\n",
        "    @classmethod\n",
        "    def random(cls, shape):\n",
        "        M, (n_rows, n_cols) = cls(), shape\n",
        "        for i in range(n_rows):\n",
        "            M.append([random.randint(-255, 255)\n",
        "                      for j in range(n_cols)])\n",
        "        return M\n",
        "\n",
        "    def transpose(self):\n",
        "        n_rows, n_cols = self.shape\n",
        "        return self.__class__(zip(*self))\n",
        "\n",
        "    @property\n",
        "    def shape(self):\n",
        "        return ((0, 0) if not self else\n",
        "                (len(self), len(self[0])))"
      ],
      "metadata": {
        "id": "-V4JAQSO038P"
      },
      "execution_count": null,
      "outputs": []
    },
    {
      "cell_type": "code",
      "source": [
        "def matrix_product(X, Y):\n",
        "    \"\"\"Computes the matrix product of X and Y.\n",
        "\n",
        "    >>> X = Matrix([[1], [2], [3]])\n",
        "    >>> Y = Matrix([[4, 5, 6]])\n",
        "    >>> matrix_product(X, Y)\n",
        "    [[4, 5, 6], [8, 10, 12], [12, 15, 18]]\n",
        "    >>> matrix_product(Y, X)\n",
        "    [[32]]\n",
        "    \"\"\"\n",
        "    n_xrows, n_xcols = X.shape\n",
        "    n_yrows, n_ycols = Y.shape\n",
        "    # верим, что с размерностями всё хорошо\n",
        "    Z = Matrix.zeros((n_xrows, n_ycols))\n",
        "    for i in range(n_xrows):\n",
        "        for j in range(n_xcols):\n",
        "            for k in range(n_ycols):\n",
        "                Z[i][k] += X[i][j] * Y[j][k]\n",
        "\n",
        "    return Z"
      ],
      "metadata": {
        "id": "fAaWClaU037i"
      },
      "execution_count": null,
      "outputs": []
    },
    {
      "cell_type": "code",
      "source": [
        "%doctest_mode"
      ],
      "metadata": {
        "id": "m6bdmWPL034c",
        "colab": {
          "base_uri": "https://localhost:8080/"
        },
        "outputId": "86344b0e-6d82-45a7-8a9e-2cafacca4404"
      },
      "execution_count": null,
      "outputs": [
        {
          "output_type": "stream",
          "name": "stdout",
          "text": [
            "Exception reporting mode: Plain\n",
            "Doctest mode is: ON\n"
          ]
        }
      ]
    },
    {
      "cell_type": "code",
      "source": [
        "X = Matrix([[1], [2], [3]])\n",
        "Y = Matrix([[4, 5, 6]])"
      ],
      "metadata": {
        "id": "pVBOsxh5032l"
      },
      "execution_count": null,
      "outputs": []
    },
    {
      "cell_type": "code",
      "source": [
        "matrix_product(X, Y)"
      ],
      "metadata": {
        "id": "TToPGYL903zq",
        "colab": {
          "base_uri": "https://localhost:8080/"
        },
        "outputId": "bf2c0e6d-924e-49cb-8b54-80ad9f78e39e"
      },
      "execution_count": null,
      "outputs": [
        {
          "output_type": "execute_result",
          "data": {
            "text/plain": [
              "[[4, 5, 6], [8, 10, 12], [12, 15, 18]]"
            ]
          },
          "metadata": {},
          "execution_count": 20
        }
      ]
    },
    {
      "cell_type": "code",
      "source": [
        "matrix_product(Y, X)"
      ],
      "metadata": {
        "id": "tK1DwNpp03sk",
        "colab": {
          "base_uri": "https://localhost:8080/"
        },
        "outputId": "4b005925-9472-430b-9b8c-7dbb0562a98c"
      },
      "execution_count": null,
      "outputs": [
        {
          "output_type": "execute_result",
          "data": {
            "text/plain": [
              "[[32]]"
            ]
          },
          "metadata": {},
          "execution_count": 21
        }
      ]
    },
    {
      "cell_type": "code",
      "source": [
        "%doctest_mode"
      ],
      "metadata": {
        "id": "1PAY6KB1Owlh",
        "colab": {
          "base_uri": "https://localhost:8080/"
        },
        "outputId": "6f1a8ae7-006c-40fc-a511-902cd1adb6e8"
      },
      "execution_count": null,
      "outputs": [
        {
          "output_type": "stream",
          "name": "stdout",
          "text": [
            "Exception reporting mode: Context\n",
            "Doctest mode is: OFF\n"
          ]
        }
      ]
    },
    {
      "cell_type": "markdown",
      "metadata": {
        "id": "t2iO94tVUavm"
      },
      "source": [
        "# Измерение времени работы\n",
        "\n",
        "Кажется, всё работает, но насколько быстро? Воспользуемся \"магической\" командой `timeit`, чтобы проверить."
      ]
    },
    {
      "cell_type": "code",
      "source": [
        "import timeit"
      ],
      "metadata": {
        "id": "Z9fNY51CRQo3"
      },
      "execution_count": null,
      "outputs": []
    },
    {
      "cell_type": "code",
      "source": [
        "setup = \"\"\"\n",
        "import random\n",
        "from app import Matrix, matrix_product\n",
        "shape = 64, 64\n",
        "X = Matrix.rnd(shape)\n",
        "Y = Matrix.random(shape)\n",
        "\"\"\""
      ],
      "metadata": {
        "id": "tGlOs17PRTv2"
      },
      "execution_count": null,
      "outputs": []
    },
    {
      "cell_type": "code",
      "source": [
        "# timeit.timeit(\"matrix_product(X, Y)\", setup, number=10)"
      ],
      "metadata": {
        "id": "5nGDD9NqRa7Q"
      },
      "execution_count": null,
      "outputs": []
    },
    {
      "cell_type": "code",
      "execution_count": null,
      "metadata": {
        "id": "0O1seTBCUavn",
        "outputId": "6d1bd71e-650e-4b3f-9bb8-1bc0403f9d9d",
        "colab": {
          "base_uri": "https://localhost:8080/"
        }
      },
      "outputs": [
        {
          "output_type": "stream",
          "name": "stdout",
          "text": [
            "83.8 ms ± 23.8 ms per loop (mean ± std. dev. of 7 runs, 10 loops each)\n"
          ]
        }
      ],
      "source": [
        "%%timeit shape = 64, 64; X = Matrix.random(shape); Y = Matrix.random(shape)\n",
        "matrix_product(X, Y)"
      ]
    },
    {
      "cell_type": "markdown",
      "metadata": {
        "id": "-KT_5M5HUavo"
      },
      "source": [
        "Y U SO SLOW?\n",
        "\n",
        "Определим вспомогательную функцию `bench`, которая генерирует случайные матрицы указанного размера, а затем `n_iter` раз умножает их в цикле."
      ]
    },
    {
      "cell_type": "code",
      "execution_count": null,
      "metadata": {
        "id": "NePTsNU3Uavo"
      },
      "outputs": [],
      "source": [
        "def bench(shape=(64, 64), n_iter=16):\n",
        "    X = Matrix.random(shape)\n",
        "    Y = Matrix.random(shape)\n",
        "    for iter in range(n_iter):\n",
        "        matrix_product(X, Y)"
      ]
    },
    {
      "cell_type": "markdown",
      "metadata": {
        "id": "xFZACVr6Uavo"
      },
      "source": [
        "Воспользуемся модулем `cProfile` для поиска проблемы."
      ]
    },
    {
      "cell_type": "code",
      "source": [
        "import cProfile"
      ],
      "metadata": {
        "id": "kuOWm6kRyoab"
      },
      "execution_count": null,
      "outputs": []
    },
    {
      "cell_type": "code",
      "execution_count": null,
      "metadata": {
        "id": "uG0_8bwwUavo",
        "outputId": "f3061af5-3e3f-404e-e224-e696f35962c8",
        "colab": {
          "base_uri": "https://localhost:8080/"
        }
      },
      "outputs": [
        {
          "output_type": "stream",
          "name": "stdout",
          "text": [
            "         65957 function calls in 2.081 seconds\n",
            "\n",
            "   Ordered by: internal time\n",
            "\n",
            "   ncalls  tottime  percall  cumtime  percall filename:lineno(function)\n",
            "       16    2.030    0.127    2.031    0.127 <string>:25(matrix_product)\n",
            "     8192    0.019    0.000    0.033    0.000 random.py:292(randrange)\n",
            "      128    0.008    0.000    0.047    0.000 <string>:11(<listcomp>)\n",
            "     8192    0.008    0.000    0.011    0.000 random.py:239(_randbelow_with_getrandbits)\n",
            "     8192    0.006    0.000    0.039    0.000 random.py:366(randint)\n",
            "    24576    0.003    0.000    0.003    0.000 {built-in method _operator.index}\n",
            "     8205    0.002    0.000    0.002    0.000 {method 'getrandbits' of '_random.Random' objects}\n",
            "     8192    0.001    0.000    0.001    0.000 {method 'bit_length' of 'int' objects}\n",
            "        1    0.001    0.001    2.080    2.080 <string>:46(bench)\n",
            "        1    0.001    0.001    2.081    2.081 {built-in method builtins.exec}\n",
            "       16    0.000    0.000    0.000    0.000 <string>:5(<listcomp>)\n",
            "        2    0.000    0.000    0.047    0.024 <string>:7(random)\n",
            "        1    0.000    0.000    2.080    2.080 <string>:1(<module>)\n",
            "       16    0.000    0.000    0.000    0.000 <string>:2(zeros)\n",
            "       32    0.000    0.000    0.000    0.000 <string>:19(shape)\n",
            "        1    0.000    0.000    0.000    0.000 {built-in method builtins.__build_class__}\n",
            "      128    0.000    0.000    0.000    0.000 {method 'append' of 'list' objects}\n",
            "       64    0.000    0.000    0.000    0.000 {built-in method builtins.len}\n",
            "        1    0.000    0.000    0.000    0.000 <string>:1(Matrix)\n",
            "        1    0.000    0.000    0.000    0.000 {method 'disable' of '_lsprof.Profiler' objects}\n",
            "\n",
            "\n"
          ]
        }
      ],
      "source": [
        "source = open(\"faster_python.py\").read()\n",
        "cProfile.run(source, sort=\"tottime\")"
      ]
    },
    {
      "cell_type": "markdown",
      "metadata": {
        "id": "kZWf-PyDUavp"
      },
      "source": [
        "Результат предсказуемый и довольно бесполезный: >90% времени работы происходит в функции `matrix_product`. Попробуем посмотреть на неё по внимательней с помощью модуля `line_profiler`."
      ]
    },
    {
      "cell_type": "code",
      "source": [
        "!pip install line_profiler"
      ],
      "metadata": {
        "id": "nZhctnQ-zsoc"
      },
      "execution_count": null,
      "outputs": []
    },
    {
      "cell_type": "code",
      "source": [
        "%load_ext line_profiler"
      ],
      "metadata": {
        "id": "p2fDrC3XzqnB",
        "colab": {
          "base_uri": "https://localhost:8080/"
        },
        "outputId": "342eb138-f5a6-4a57-c46a-bd333e3322bb"
      },
      "execution_count": null,
      "outputs": [
        {
          "output_type": "stream",
          "name": "stdout",
          "text": [
            "The line_profiler extension is already loaded. To reload it, use:\n",
            "  %reload_ext line_profiler\n"
          ]
        }
      ]
    },
    {
      "cell_type": "code",
      "execution_count": null,
      "metadata": {
        "id": "2-q39OSjUavp"
      },
      "outputs": [],
      "source": [
        "%lprun -f matrix_product bench()"
      ]
    },
    {
      "cell_type": "markdown",
      "metadata": {
        "id": "YDIxJ--2Uavp"
      },
      "source": [
        "Заметим, что операция `list.__getitem__` не бесплатна. Переставим местами циклы `for` так, чтобы код делал меньше обращений по индексу."
      ]
    },
    {
      "cell_type": "code",
      "execution_count": null,
      "metadata": {
        "id": "7eA54j5jUavp"
      },
      "outputs": [],
      "source": [
        "def matrix_product(X, Y):\n",
        "    n_xrows, n_xcols = X.shape\n",
        "    n_yrows, n_ycols = Y.shape\n",
        "    Z = Matrix.zeros((n_xrows, n_ycols))\n",
        "    for i in range(n_xrows):\n",
        "        Xi = X[i]\n",
        "        for k in range(n_ycols):\n",
        "            acc = 0\n",
        "            for j in range(n_xcols):\n",
        "                acc += Xi[j] * Y[j][k]\n",
        "            Z[i][k] = acc\n",
        "    return Z"
      ]
    },
    {
      "cell_type": "code",
      "execution_count": null,
      "metadata": {
        "id": "gKzZLTApUavq"
      },
      "outputs": [],
      "source": [
        "%lprun -f matrix_product bench()"
      ]
    },
    {
      "cell_type": "markdown",
      "metadata": {
        "id": "4fx1nhfMUavq"
      },
      "source": [
        "Немного быстрее, но всё равно слишком медленно: >30% времени уходит исключительно на итерацию! Поправим это."
      ]
    },
    {
      "cell_type": "code",
      "execution_count": null,
      "metadata": {
        "id": "dOBqPdZRUavq"
      },
      "outputs": [],
      "source": [
        "def matrix_product(X, Y):\n",
        "    n_xrows, n_xcols = X.shape\n",
        "    n_yrows, n_ycols = Y.shape\n",
        "    Z = Matrix.zeros((n_xrows, n_ycols))\n",
        "    for i in range(n_xrows):\n",
        "        Xi, Zi = X[i], Z[i]\n",
        "        for k in range(n_ycols):\n",
        "            Zi[k] = sum(Xi[j] * Y[j][k] for j in range(n_xcols))\n",
        "    return Z"
      ]
    },
    {
      "cell_type": "code",
      "execution_count": null,
      "metadata": {
        "id": "r6_AI9fFUavq"
      },
      "outputs": [],
      "source": [
        "%lprun -f matrix_product bench()"
      ]
    },
    {
      "cell_type": "markdown",
      "metadata": {
        "id": "SCZRS19jUavq"
      },
      "source": [
        "Функции `matrix_product` сильно похорошело. Но, кажется, это не предел. Попробуем снова убрать лишние обращения по индексу из самого внутреннего цикла."
      ]
    },
    {
      "cell_type": "code",
      "execution_count": null,
      "metadata": {
        "id": "tEJV45XLUavq"
      },
      "outputs": [],
      "source": [
        "def matrix_product(X, Y):\n",
        "    n_xrows, n_xcols = X.shape\n",
        "    n_yrows, n_ycols = Y.shape\n",
        "    Z = Matrix.zeros((n_xrows, n_ycols))\n",
        "    Yt = Y.transpose()  # <--\n",
        "    for i, (Xi, Zi) in enumerate(zip(X, Z)):\n",
        "        for k, Ytk in enumerate(Yt):\n",
        "            Zi[k] = sum(Xi[j] * Ytk[j] for j in range(n_xcols))\n",
        "    return Z"
      ]
    },
    {
      "cell_type": "markdown",
      "metadata": {
        "id": "w9P9PnWvUavq"
      },
      "source": [
        "# Numba\n",
        "\n",
        "Numba не работает с встроенными списками. Перепишем функцию `matrix_product` с использованием ndarray."
      ]
    },
    {
      "cell_type": "code",
      "execution_count": null,
      "metadata": {
        "id": "4h0ylFivUavq"
      },
      "outputs": [],
      "source": [
        "import numba\n",
        "import numpy as np\n",
        "\n",
        "\n",
        "@numba.jit\n",
        "def jit_matrix_product(X, Y):\n",
        "    n_xrows, n_xcols = X.shape\n",
        "    n_yrows, n_ycols = Y.shape\n",
        "    Z = np.zeros((n_xrows, n_ycols), dtype=X.dtype)\n",
        "    for i in range(n_xrows):\n",
        "        for k in range(n_ycols):\n",
        "            for j in range(n_xcols):\n",
        "                Z[i, k] += X[i, j] * Y[j, k]\n",
        "    return Z"
      ]
    },
    {
      "cell_type": "markdown",
      "metadata": {
        "id": "JZVDV5cRUavr"
      },
      "source": [
        "Посмотрим, что получилось."
      ]
    },
    {
      "cell_type": "code",
      "execution_count": null,
      "metadata": {
        "id": "P5StHo2VUavr",
        "outputId": "94dda29d-c812-4da9-dcb5-c8ef268a4e41",
        "colab": {
          "base_uri": "https://localhost:8080/"
        }
      },
      "outputs": [
        {
          "output_type": "stream",
          "name": "stdout",
          "text": [
            "The slowest run took 18.98 times longer than the fastest. This could mean that an intermediate result is being cached.\n",
            "626 µs ± 1.07 ms per loop (mean ± std. dev. of 7 runs, 100 loops each)\n"
          ]
        }
      ],
      "source": [
        "shape = 64, 64\n",
        "X = np.random.randint(-255, 255, shape)\n",
        "Y = np.random.randint(-255, 255, shape)\n",
        "\n",
        "%timeit -n100 jit_matrix_product(X, Y)"
      ]
    },
    {
      "cell_type": "markdown",
      "metadata": {
        "id": "pPQO4xMwUavr"
      },
      "source": [
        "# Cython"
      ]
    },
    {
      "cell_type": "code",
      "source": [
        "!pip install cython"
      ],
      "metadata": {
        "colab": {
          "base_uri": "https://localhost:8080/"
        },
        "id": "5fFRDqha7mDj",
        "outputId": "8d532609-5851-4bf1-b979-9fe067773ecc"
      },
      "execution_count": null,
      "outputs": [
        {
          "output_type": "stream",
          "name": "stdout",
          "text": [
            "Requirement already satisfied: cython in /usr/local/lib/python3.10/dist-packages (3.0.11)\n"
          ]
        }
      ]
    },
    {
      "cell_type": "code",
      "execution_count": null,
      "metadata": {
        "id": "E91uGbDWUavr",
        "colab": {
          "base_uri": "https://localhost:8080/"
        },
        "outputId": "8d75b553-13c7-43dd-e4df-2a8f341a223b"
      },
      "outputs": [
        {
          "output_type": "stream",
          "name": "stdout",
          "text": [
            "The cython extension is already loaded. To reload it, use:\n",
            "  %reload_ext cython\n"
          ]
        }
      ],
      "source": [
        "%load_ext cython"
      ]
    },
    {
      "cell_type": "code",
      "execution_count": null,
      "metadata": {
        "id": "VElQ0xzBUavr",
        "outputId": "5103b9e5-77c2-48c0-990d-d10385aef6c8",
        "colab": {
          "base_uri": "https://localhost:8080/"
        }
      },
      "outputs": [
        {
          "output_type": "execute_result",
          "data": {
            "text/plain": [
              "<IPython.core.display.HTML object>"
            ]
          },
          "metadata": {},
          "execution_count": 87
        }
      ],
      "source": [
        "%%cython -a\n",
        "import random\n",
        "\n",
        "class Matrix(list):\n",
        "    @classmethod\n",
        "    def zeros(cls, shape):\n",
        "        n_rows, n_cols = shape\n",
        "        return cls([[0] * n_cols for i in range(n_rows)])\n",
        "\n",
        "    @classmethod\n",
        "    def random(cls, shape):\n",
        "        M, (n_rows, n_cols) = cls(), shape\n",
        "        for i in range(n_rows):\n",
        "            M.append([random.randint(-255, 255)\n",
        "                      for j in range(n_cols)])\n",
        "        return M\n",
        "\n",
        "    def transpose(self):\n",
        "        n_rows, n_cols = self.shape\n",
        "        return self.__class__(zip(*self))\n",
        "\n",
        "    @property\n",
        "    def shape(self):\n",
        "        return ((0, 0) if not self else\n",
        "                (int(len(self)), int(len(self[0]))))\n",
        "\n",
        "\n",
        "def cy_matrix_product(X, Y):\n",
        "    n_xrows, n_xcols = X.shape\n",
        "    n_yrows, n_ycols = Y.shape\n",
        "    Z = Matrix.zeros((n_xrows, n_ycols))\n",
        "    Yt = Y.transpose()\n",
        "    for i, Xi in enumerate(X):\n",
        "        for k, Ytk in enumerate(Yt):\n",
        "            Z[i][k] = sum(Xi[j] * Ytk[j] for j in range(n_xcols))\n",
        "    return Z"
      ]
    },
    {
      "cell_type": "code",
      "execution_count": null,
      "metadata": {
        "id": "pPCRp4RJUavr"
      },
      "outputs": [],
      "source": [
        "X = Matrix.random(shape)\n",
        "Y = Matrix.random(shape)"
      ]
    },
    {
      "cell_type": "code",
      "execution_count": null,
      "metadata": {
        "id": "uZslP3SbUavs",
        "outputId": "fc1fbe18-6192-4885-d5cf-f4593478296d",
        "colab": {
          "base_uri": "https://localhost:8080/"
        }
      },
      "outputs": [
        {
          "output_type": "stream",
          "name": "stdout",
          "text": [
            "24.1 ms ± 3.99 ms per loop (mean ± std. dev. of 7 runs, 100 loops each)\n"
          ]
        }
      ],
      "source": [
        "%timeit -n100 cy_matrix_product(X, Y)"
      ]
    },
    {
      "cell_type": "markdown",
      "metadata": {
        "id": "bdBTCaV6Uavs"
      },
      "source": [
        "Проблема в том, что Cython не может эффективно оптимизировать работу со списками, которые могут содержать элементы различных типов, поэтому перепишем `matrix_product` с использованием *ndarray*."
      ]
    },
    {
      "cell_type": "code",
      "execution_count": null,
      "metadata": {
        "id": "zDb6f2mYUavs"
      },
      "outputs": [],
      "source": [
        "X = np.random.randint(-255, 255, size=shape)\n",
        "Y = np.random.randint(-255, 255, size=shape)"
      ]
    },
    {
      "cell_type": "code",
      "execution_count": null,
      "metadata": {
        "id": "EOlz2X2qUavs",
        "outputId": "d4182a46-4df9-4cf3-e7ff-68cd971ebc88",
        "colab": {
          "base_uri": "https://localhost:8080/"
        }
      },
      "outputs": [
        {
          "output_type": "execute_result",
          "data": {
            "text/plain": [
              "<IPython.core.display.HTML object>"
            ]
          },
          "metadata": {},
          "execution_count": 91
        }
      ],
      "source": [
        "%%cython -a\n",
        "import numpy as np\n",
        "\n",
        "def cy_matrix_product(X, Y):\n",
        "    n_xrows, n_xcols = X.shape\n",
        "    n_yrows, n_ycols = Y.shape\n",
        "    Z = np.zeros((n_xrows, n_ycols), dtype=X.dtype)\n",
        "    for i in range(n_xrows):\n",
        "        for k in range(n_ycols):\n",
        "            for j in range(n_xcols):\n",
        "                Z[i, k] += X[i, j] * Y[j, k]\n",
        "    return Z"
      ]
    },
    {
      "cell_type": "code",
      "execution_count": null,
      "metadata": {
        "id": "N87u2UMdUavs",
        "outputId": "674b86b0-b7e2-4dd2-e6d9-683dc9fc705b",
        "colab": {
          "base_uri": "https://localhost:8080/"
        }
      },
      "outputs": [
        {
          "output_type": "stream",
          "name": "stdout",
          "text": [
            "158 ms ± 3.64 ms per loop (mean ± std. dev. of 7 runs, 100 loops each)\n"
          ]
        }
      ],
      "source": [
        "%timeit -n100 cy_matrix_product(X, Y)"
      ]
    },
    {
      "cell_type": "markdown",
      "metadata": {
        "id": "tUEm8Ry7Uavt"
      },
      "source": [
        "Как же так! Стало только хуже, причём большинство кода всё ещё использует вызовы Python. Избавимся от них, проаннотировав код типами."
      ]
    },
    {
      "cell_type": "code",
      "execution_count": null,
      "metadata": {
        "id": "NuP1NSnMUavt",
        "outputId": "b832c1c5-05ff-4b0f-ce4b-d397a91fa4cd",
        "colab": {
          "base_uri": "https://localhost:8080/"
        }
      },
      "outputs": [
        {
          "output_type": "execute_result",
          "data": {
            "text/plain": [
              "<IPython.core.display.HTML object>"
            ]
          },
          "metadata": {},
          "execution_count": 93
        }
      ],
      "source": [
        "%%cython -a\n",
        "import numpy as np\n",
        "cimport numpy as cnp\n",
        "\n",
        "def cy_matrix_product(cnp.ndarray X, cnp.ndarray Y):\n",
        "    cdef int n_xrows = X.shape[0]\n",
        "    cdef int n_xcols = X.shape[1]\n",
        "    cdef int n_yrows = Y.shape[0]\n",
        "    cdef int n_ycols = Y.shape[1]\n",
        "    cdef cnp.ndarray Z\n",
        "    Z = np.zeros((n_xrows, n_ycols), dtype=X.dtype)\n",
        "    for i in range(n_xrows):\n",
        "        for k in range(n_ycols):\n",
        "            for j in range(n_xcols):\n",
        "                Z[i, k] += X[i, j] * Y[j, k]\n",
        "    return Z"
      ]
    },
    {
      "cell_type": "code",
      "execution_count": null,
      "metadata": {
        "id": "ZIm_PON5Uavt",
        "outputId": "bbaa4982-919f-47a8-9323-9393545ea178",
        "colab": {
          "base_uri": "https://localhost:8080/"
        }
      },
      "outputs": [
        {
          "output_type": "stream",
          "name": "stdout",
          "text": [
            "165 ms ± 7.03 ms per loop (mean ± std. dev. of 7 runs, 100 loops each)\n"
          ]
        }
      ],
      "source": [
        "%timeit -n100 cy_matrix_product(X, Y)"
      ]
    },
    {
      "cell_type": "markdown",
      "metadata": {
        "id": "vjD-TmkMUavt"
      },
      "source": [
        "К сожалению, типовые аннотации не изменили время работы, потому что тело самого вложенного цикла Cython оптимизировать не смог. Fatality-time: укажем тип элементов в *ndarray*."
      ]
    },
    {
      "cell_type": "code",
      "execution_count": null,
      "metadata": {
        "id": "kc7xfmThUavx",
        "outputId": "e5af63a1-d784-488a-87a1-668993014f70",
        "colab": {
          "base_uri": "https://localhost:8080/"
        }
      },
      "outputs": [
        {
          "output_type": "execute_result",
          "data": {
            "text/plain": [
              "<IPython.core.display.HTML object>"
            ]
          },
          "metadata": {},
          "execution_count": 95
        }
      ],
      "source": [
        "%%cython -a\n",
        "import numpy as np\n",
        "cimport numpy as np\n",
        "\n",
        "def cy_matrix_product(np.ndarray[np.int64_t, ndim=2] X,\n",
        "                      np.ndarray[np.int64_t, ndim=2] Y):\n",
        "    cdef int n_xrows = X.shape[0]\n",
        "    cdef int n_xcols = X.shape[1]\n",
        "    cdef int n_yrows = Y.shape[0]\n",
        "    cdef int n_ycols = Y.shape[1]\n",
        "    cdef np.ndarray[np.int64_t, ndim=2] Z = \\\n",
        "        np.zeros((n_xrows, n_ycols), dtype=np.int64)\n",
        "    for i in range(n_xrows):\n",
        "        for k in range(n_ycols):\n",
        "            for j in range(n_xcols):\n",
        "                Z[i, k] += X[i, j] * Y[j, k]\n",
        "    return Z"
      ]
    },
    {
      "cell_type": "code",
      "execution_count": null,
      "metadata": {
        "id": "HekAOva4Uavx",
        "outputId": "92d56671-3eaa-4a83-919d-507d925a8500",
        "colab": {
          "base_uri": "https://localhost:8080/"
        }
      },
      "outputs": [
        {
          "output_type": "stream",
          "name": "stdout",
          "text": [
            "441 µs ± 9.92 µs per loop (mean ± std. dev. of 7 runs, 100 loops each)\n"
          ]
        }
      ],
      "source": [
        "%timeit -n100 cy_matrix_product(X, Y)"
      ]
    },
    {
      "cell_type": "markdown",
      "metadata": {
        "id": "4hKHYJGhUavx"
      },
      "source": [
        "Попробуем пойти дальше и отключить проверки на выход за границы массива и переполнение целочисленных типов."
      ]
    },
    {
      "cell_type": "code",
      "execution_count": null,
      "metadata": {
        "id": "h2DGlnKQUavy",
        "outputId": "ab2bdc2b-87ab-4692-bc88-65a17e910640",
        "colab": {
          "base_uri": "https://localhost:8080/"
        }
      },
      "outputs": [
        {
          "output_type": "execute_result",
          "data": {
            "text/plain": [
              "<IPython.core.display.HTML object>"
            ]
          },
          "metadata": {},
          "execution_count": 97
        }
      ],
      "source": [
        "%%cython -a\n",
        "import numpy as np\n",
        "\n",
        "cimport cython\n",
        "cimport numpy as np\n",
        "\n",
        "@cython.boundscheck(False)\n",
        "@cython.overflowcheck(False)\n",
        "def cy_matrix_product(np.ndarray[np.int64_t, ndim=2] X,\n",
        "                      np.ndarray[np.int64_t, ndim=2] Y):\n",
        "    cdef int n_xrows = X.shape[0]\n",
        "    cdef int n_xcols = X.shape[1]\n",
        "    cdef int n_yrows = Y.shape[0]\n",
        "    cdef int n_ycols = Y.shape[1]\n",
        "    cdef np.ndarray[np.int64_t, ndim=2] Z = \\\n",
        "        np.zeros((n_xrows, n_ycols), dtype=np.int64)\n",
        "    for i in range(n_xrows):\n",
        "        for k in range(n_ycols):\n",
        "            for j in range(n_xcols):\n",
        "                Z[i, k] += X[i, j] * Y[j, k]\n",
        "    return Z"
      ]
    },
    {
      "cell_type": "code",
      "execution_count": null,
      "metadata": {
        "id": "4I5P5XgOUavy",
        "outputId": "d005527c-54cf-42eb-de09-c42199af0bf7",
        "colab": {
          "base_uri": "https://localhost:8080/"
        }
      },
      "outputs": [
        {
          "output_type": "stream",
          "name": "stdout",
          "text": [
            "263 µs ± 27.6 µs per loop (mean ± std. dev. of 7 runs, 100 loops each)\n"
          ]
        }
      ],
      "source": [
        "%timeit -n100 cy_matrix_product(X, Y)"
      ]
    }
  ]
}