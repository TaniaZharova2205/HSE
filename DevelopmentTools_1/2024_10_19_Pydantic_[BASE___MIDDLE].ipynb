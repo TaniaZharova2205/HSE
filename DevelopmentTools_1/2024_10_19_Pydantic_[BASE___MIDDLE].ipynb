{
  "nbformat": 4,
  "nbformat_minor": 0,
  "metadata": {
    "colab": {
      "provenance": []
    },
    "kernelspec": {
      "name": "python3",
      "display_name": "Python 3"
    },
    "language_info": {
      "name": "python"
    }
  },
  "cells": [
    {
      "cell_type": "markdown",
      "source": [
        "# Pydantic"
      ],
      "metadata": {
        "id": "aHjMOzdGqDXW"
      }
    },
    {
      "cell_type": "markdown",
      "source": [
        "![image.png](data:image/png;base64,iVBORw0KGgoAAAANSUhEUgAAAb8AAABxCAIAAADK5DpVAAAgAElEQVR4Ae1dO4zTShd2s0q1SZUudKRJGdGQJs2VUiUVolmilZDSbaQgmtukiARKTUCkI6JgSYFEiRSZylVoIiEEaaKLKHazXK9W1oY1b/8kH5x/7tie+JXX7lgITby2Z+ab48/nnDlzRrHkIRGQCEgEJAL+EVD83yLvkAhIBCQCEgFLsqcUAomAREAiEAQByZ5BUJP3SAQkAhIByZ5SBiQCEgGJQBAEJHsGQU3eIxGQCEgEJHtKGZAISAQkAkEQkOwZBDV5j0RAIiARkOwpZUAiIBGQCARBQLJnENTkPRIBiYBEQLKnlAGJgERAIhAEAcmeQVCT90gEJAISgc1jz29v3589fXn29OXXV+9M05RDKBGQCEgEVoLAhrHnpyfq0ZW9w+3dw+3dg0s3jfqjn8bZSoCTlUoEJAIXHIFNYs8v2usD5drh5Qr9O1B2jPqjCz6EsvsSAYnAShDYGPb8/uHo37/+Prh0k6jzd2F79+urdyvBTlYqEZAIXGQENoM9fxpnJ3v3pwY7o3hS+ejq7e8fji7yKMq+z0VgMpmMx+PhcNjr9cbj8dzr5QUSgbkIbAZ7nj19eaDsEF3yhe3dk737c7sqL7hoCEwmk36/v7+/32g0KpVKoVBIpVKKovT7/YsGhezvIhDYAPb89uYfni5tGuiBsnP29OUiAJLP3FwEBoMB6FJRlNjsiMfjkj03d0DXreXrzp4/Pp4cX7/j4O60Eejh5Yp0gK6beK22PWBPIlBwqGTP1Q6KY+2GYQwGA03ThsPhBoUhrjt7Gncfu7k7OYX04NLN4+t3ZACTo3RezJNgz0Qiofw5YrGYZM91EwZVVUulUjqdTqVSmUymUqmMRqN1a6Rje9aaPT+/6IvcnTb1cxrAdPexYz/lyQuIANgzmUz+Ic+p/S7Zc60kYX9/HzZBfHbgU5dKpQaDwVq107Ex68ueCFHiFEz8PLh0082WP7h084v22rGrm3LSNM3JZKLPDkwT9/t9TdNUVe3NDlVVNU0bDAaj0UjX9clksildW3I7JXsuGXC/1Y3H42w2m0gktra22C9cLBar1Wrrb8KvL3seX7/jaLMfKDunD55P1VJ77OflysGlm0dX9r69fe93IFd4va7rmqZ1Oh1MDedyOZIkL4VYLFYsFuv1eqfT6ff7uq6vsC9rVbVkz0UMhzk7InmyqqqxWIx1rUDg4/F4Nptdf/t9Tdnz0xOVW1ZEWue/f/0N56Zx97GzXb9pAUzNZpNYEh/hra2tWCwWj8cTzAHThv7HX+LxOPfdLpVKjUaj3++v/6c7kjdQ8BDJngJwfP0JNpCmaa1Wq1ardbtdX7e7Xdzr9ba2tuzsCUpdf+N9Hdnz66t3jgb74eXK0ZU9mlj/aZy5TccfKDufnqhuY7Zu5+v1uqIo8XgcUTVbs4P4dG4B1+Ne/A9HUqFQ6Ha7F9mul+wZXtQbjUapVEqlUslkEvFeiqK0Wq3wT7Ysq9fruememUxmOBxGUsviHrJ27Pnj44nziszLFXtQp4BnDy9XNsUBCvbEhMZcrvRyAfs9L5fLmqYtToDW+cmSPUOOjmmaJG+JP0eE7DkcDpPJpF33jMfj5XLZMIyQ7V/07WvHnn7tcbdlSAeXbpKNv2gQQz7fjT2hVHr5n0ScLcD8h1a7v79/AQ15yZ4hJdM0zXQ6DQmEaEH9jEr3tCyLDC+S80QiEY/He71eyMYv4fb1Ys+zpy+dZ4pmVOi2mN1tCTwyMK0/a7ixJ0uFgvLW1hY8pKwDlL0e3/Zarbb+H/NoJV6yZ0g8TdPEWgMSrcjZ0zCMer3ORpVlMpn9/f2QLV/O7WvEnt8/HB1dve08k67sfH7hujb529v3R1dvO7pKDy7dFNy4HIjn1uLInltbW+VyuVarNZvNVqvVnh2dTmd/f7/T6bRaLVq7nU6niSvJM0VnUACBNhqNuY05TxdI9gw5mktgT8uyTNPs9/uQ6m63u/7uTkJ1XdgTU0DOiucsRIla7FiYOkCdMjCBi9c8gMnOnolEIplMeo/YGI1GvV6vUqmASR1dqCDQTqfjCOC5PCnZM+SwLoc9QzZyhbevC3uePnjuGH6E9Zc/Pp7MxUjsMF3nFZx29ozH48lk0u9H2DTNwWBQqVTg6+TUT5xMp9N+HzsX+bW9QLJnyKGR7CkGcC3Y8/OLvqPdjRClb2/+EfcBf0UOUEfD/3B79/TBcy8PWck1UbEnNb7X62UyGbsGijO1Wo2uPN8FyZ4hx1eypxjA1bPnT+NM4O70lXdOnMtubQOYImdPy7JUVWUD9EgPRUDoBUkPLNlT/PLP/atkTzFEK2bPn8aZUX/kaLMfbu+e3Hoobr39r+IAJi8eAPszF31mEexpWVa73aacbMSe8H5GtVZk0ciEfL5kz5AASvYUA7hi9vz0RHWb7Tm+fsctREncJaP+yPmZsy3k1tABuiD2NAyjVCqxwXrEoZVKZf0DuQSjbJqmYRhIpKLrumEYjt1ZEHtS7WPmEDRD0JGQf0JCGYM5ol1adp7YEwJDIwbhcRQb74OySvb8/uHocJbXw+70PFCuBTa0BZFPh9u7vlwB3nEMc+WC2NOyrE6nY59BisfjpVKJM94nkwnzDv6/GKZfCEb5/7OYUrDHjsfjXq/XarWq1WqxWCz8OUqlUq1Wa7fbmqaxSVIiZE9d14fDYbfbRe2lUgmV52cHysVisVarIVdLyNfSjg/2ZRoMBt1uF8E99Xq9UqmU/hzFYrFUKpXL5Uaj0el0VFVlobA/0MsZN/ZsNpvMYM4viutyvF98i/e/jkajbrfbbDbZIaPxqlarrVar2+0OBoMA0dArY08kjXdUEsNP8kwdoE4BTFOyVnbWLYBpcew5Go3sxnssFrMvIq7VauBZWi8PGz/kFkDoGi3hx7SV3/Q5uq53u91yuUy6MwpIpGKfHKvX66qqTiaT8Ow5HA7x4nFVA1UElmGtIRdpm0qlGo1GmPAGXdfBlc1mk2LR7M0QnymXy91ul/tSeqceO3tSdeyYkszYC5AiQb4PVVU5wcPSjzDQWZY1Ho87nU6hUKAGoxYMGZYzsX9CGQlQvNPoytjz9MFzR4KbhijdaIZ3UJ7ee+b4/Kk7de/+Wtnvi2NPXdcVRaGFIhCRWCyWTCY5gWa1VFwPVgqzJo9cB2gDNaNSqXg3MDVNKxaL1HKkmIrFYvQ0PBxMShmnYrFYpVJptVqpVIqlV5S9fxJarRaIEgu6HGunl5AyY1EzMplMq9Xy/jYSrw0GA6Rbp46jGZRhi8iLFjiidsIBFwClQqEQbOGjgD3Zet3KZPdwwkbdRKIQugytjcfjYeLqTNPsdDr5fN5RMGiwCFiClFY2e88LsRr2nIYoOemGyM4ZzN3JDollWeIAprVKQb849pxMJtlsliUavISxWIxjkOFwiD+x4gUO8s503BBA82VrB3k1m03uSsefuq4DGXvD2Ebay2A61MvWTs/h+u5YO072ej16t+0Vic+gGYqiFAoF7wsfUK+maYqiJJNJfCe4Xojr5f4KfVBRlFqt5teWF7AnV4vbT6jkHtkTDwnDnv1+H7yJj4dbq8TnvaO0AvZcml9S4Fc93N4N7FcVvGzB/rRQ9szlcty7BwrjPrCTySSfz7NqGrgml8v5ffMJBFAP+0zYTVzVdD1b0HUdpjpMP7G4u/2VrRrX4Ix39gSLcc8hLY81VN3aAPooFou+zGdN0xKJBFevWxVezgPGcrnsyyG7EvZMJBLBdM9er4dV+ZwXhcMHo8a9FHRNqVRi5VBcXjZ7TlXCWw8dFc/D7V2j/sjX6Ir7ZlmWIO3I0dXbkSi5c9sw94LFsadhGJlMhhMUGHd2Bmk0GiRDKODtDWb0WZaFrM+sKMPlOpeOx+MxqNORPiD9HLnAWUZ6FtcR+okH2vvuNkbD4TCVSkGRoSroaVwBTeLQJoW3Uqm41WI/D/ZkoUNd6CBaQv5WdAqJMtEGR9zwtHq97v0Vc2NPx+8H2sb9P9fvadfug7Fnt9sFII74Axw7nonZQW32m3xv2ewpDlGa6+78aZx9e/PP2dOXn56oX7TXc6+3LMt1V85ZPOk6OEAXx55ufk/HXbfscoyXsF6v21/vuWcmkwn8lfQmQ6y9fNvdqBNSDj4qFouVSqVardZqtWq1Wi6XaYqATW/KERwa4509dV2nx8bj8WKxiNQtrVYLGVv2Z0e73a7Vaqx/lqsX7633MFs39iQOzWazaEy5XK78OcrlMuxWQETIU2PArd6b4cae9ECPBQHgdqkLwJ6YerKbKSQw8J9g7Or1eqPRILEhxBRFSSQSXgwjEv6lsue3t++dtc7LFbEpbZrmt7fvPz1Rp5sdzS4+3N5FBk/j7uOvr94JSFCQbnlNApgWx56DwcDutsOmMfY5zV+pRnK5HCuCUDHy+TyJi/fCaDRKp9Ps08Ag7XZb/JButws55t5McMEvV2Cz2cT2TZPJZLbFzvQ/wzDG47Gmac1mk8w3RzXE156ak8mkUqnUarVer8dWau+CaZqIDcDbaGeuWCxWKpU8+tTs7Antqdlsqqra7/exISBifSZ/DoCgqmqj0UDON3szFEVJpVIeJ7Ls7IkHVqtVbFDo8X9Br8OzJ+TWrlfS6GP4xuMxBAZjB8khsWm32/l8PpfL+XKwLI89EaLkax36T+Ps66t3p/eeTbPNKzsHyjX77Th/dGXPqD/6/KLvqI2KUtBv73pcR29/YaI6szj2xJQxJ1iI97QLtGma1WqVm6MH/c21te1Q9Ho9zGYSCaIZggkEy7IGgwHHubgd6mStVvMi3AIWw8svUIXsHfF7BgkryWDnuu/RDWJnT2hk3gcC3g9W+UJLMKAeU23Z2dPjJ9A7aCHZ0zAMeygbgV+pVMTyxrbTNM3hcOjdrWFZ1vLY082CPlB2uBAimOen956RpmknTS7AfnoBaaP1R1+015w2Kg6Q4i5mMV1CeUHsCauT0z7wQXbb7tWu9+Ft8W7rEVxwetL3HypwLpezszbdQpnGiXFQQBfa7bYvyR6NRghiZRFYAntas4SVpVKJ6wWg8Jhi1c6eAWaiBe7jUqnkRf10Y88wcWzscHMRS8Tv3meN7ORLn/96ve6lj1x7fP1cEntONxBWdjjKo4VGUBh/fDz5or027j6eJg2ZapoO19uf4HBmexf7cZ7cevj5RR9TQ6Zpntx66PzMQAvqfaEsvnhB7IlZIJa/yCJ204DG4zFn6eP2crnsK24JGgFLW3gxxOmd3KKmfqkSTW9BThzO4aPluQd6/zkcDrPZrB2BXC7n5RsQCXsiaJyLeMX4plIpLwr4mrOnYRjZbNb+lYrFYsGc9d7HF1cugz2/fzhy2+jt8HLl0xMV5jk2yJzyptNG7Q4sebkiPjnlyu3df//6++TWwy/a6y/aa0EypxUGMC2CPbvdLmc4Q8i2trZSqZTA/i0Wi9zS+GQy6Xd10Gg0ymazrNMTPCLecQHqqp1xisWiWGN1E/oVsifp0Wx38Cny0peo2JMiH9hmoOzFeF9z9rSbSkC4UCgIJNxNWgKcXzh7iqLWZzsMw6fpOps0jyLFBIq/Hly6eaDsHF297baBx+Hlyr9//b2qFZzRsqdhGO12G4HW3GcZr41Yj8OiI1ZjxV1i4uMkD/YU+8bG4/FMJiNwQv1aw57L5bgGw2/gaxqUbclq2ZMi3qlT6I59vo5tM8oRsudgMHAUBrEdgGasM3s62jdAWFWXtBv5wtnTLWk8sV5UmiY90K0w5VCBVru6FZxRsaeu66qqwuMGMaL3FgXMtotnHobDYSaTsd/uK1zRUYssFosCP5SmaalUyq6uFotFL6aunYAwB4WNyAkHELoXo9Xxgb5OwhHBIun93Y6QPXVdL5VK7JcMxruXyPl1Zk98Grl+KYpSKpUCC4yv8V34rJE4XbEbzTmeF3CfiBP9qK4Hys6nJ0v6arHjZGdPj/saUaSOqqqtVovijewiBY9nLBabO/+DGB2iGxSginq3hqBFkgIL1hBPNdCKcqoavfBiYLJgsuXV6p6GYSBsiMNh7hBYlhUhe5qmidkzAhZT0tlsdu6ArjN7uhlJc0PiWAkJWV6g7il2dzpSpMPJ7d3D7d2jK3sne/fhGGWvwbr4k737//7193TOPfBE0x+SPbh08+urdyEx9Xu7nT2xHKher7f+ezT/HI1Go1qtFgoFdkNNbsKHfVug04n5i5ptdyeB/ry89pZl2RM74XaBxodgKY70QTpe7FxqOVdYLXv+mlB2/Ip4gTFC9rQsy+3LNBfbdWbPcrns6KCf2ylOSML8XCB7umUpZunPrTzzVF47UHaObzQ/PVG/vflnmoX+7mOOH6fsefX2j48n3z8cnT19OV0DOs1BN73R7cni8943oQsDOnevnT1Z4rOXEcTOJrZxnCCiG6EBeV+iNxqNuDhB8JpH4x1OT9YGR0sEZruu68VikWPPWCxWKBS8zLFweNLPlbMnIudXq3taloXPIb5hGAtAPZdo1pY9TdNESANhC4U68AQjyYyvwqLYcxaidE1MVdxfYZtDnTy+0aRgI+qPG3uy0Zq/w57qj35Pr8+CQLmKxD+n8af+dwShRgYo+GVPokVxgRgwlUp50XfYliNsnqWzRCJhzwrK3oKyaZqO3RHPUYxGo2Qyyb4JeBnc4lLt9TqeWQR7TiaT0WjU7/eRp7nRaNTr9VqtBkNhf39f07ThcAjSXxP21DQNa8BJYDCygkk8Gk0s3KKh8eKEcRwLt5P2gE0vKzVh39i/B2Ixc2tD4PMLYc9vb98LZrft5IX1QoeXKyd796ea5tv3LCFS37ywJ138/cPR5xf9k1sPg0SPbu9+ftGnRy264Eg3JOgBCljVhxur1arAZHbrmn3SHO/bXC8k5ijsYi2esscEC72i1GWPseVuvYiQPbHbMxIV22MDqMEoZDKZUqlUrVZBPfRXwOLlSxat5W7HAS3ZXPaEwLD2DeTTo2/KTWD8no+ePX8aZ8c3ml5mcqbXzLJ8ntx6ePb05dyMR77Yk4CgIHzEnApmn1haP7p6e2krOAOzJ4x36JjIA0TylMlkqtVq4FgfXdfz+TxLglAG54bN9/t9Ljw7kUjMTXOH4B6WPfEyiIOraIjdCnbWwGN9fU4Mw+j1eoVCAffCJU1pN2kIWEcKriHSpMKq2HM4HKbTaThw0Bi0ZC4Oa2u59/t95D/lsBV/pN3kJPD56NlzfojSbB3R0dXbJ3v37ea5oCfB2JMe+OPjyecXfePuY5piElH89u7x9Tt070ILbuyJl5ByX6MArmSJhgRIUZR8Pl+tVjudjjgsyUt3EHXEPhyJ0cQKCzbyZO9SFGVuMnnkyAE94V683nNVXXFHwrPnYDCgZdRu2zlwnRX8lOxpH69glrs9qZJ3bO1tCHwmYvb8or1mNTi2PJsImk7mEGn6DcsKyZ6EEWmjMOrdAvWXFsDkxp60bU7S6UilUkhThp2tKAmQX1QJFq4ALZKUWeieiqKII0LK5XIAErQ7CvAyhFQlQrKnpmmZTAaRDPbPlX3ujtRPbuMQ4lPvb3i0lvv50z0hMKxwAlu3JcicbEf1M0r2FIQoHVy6iVXnjjmQPHYmKvak6pDDabqy/soeS/RseQkrOO3sCcdlr9cb2o7R7BiPx4IpbOpgmMJkMkHgPbEhGCSXy7lVPR6PaTsKVoWcqwi7secKdU8kKqe+EwOCTMUbP4BY8T5zNyqKsny/p2TPMC+C4N4o2dOoP3IMFbJnURI0SPCnyNmT6jp7+hKJRVjeRBKTf//623EKi+4NX7Czp8do+fBVi59gj3SB9ermL4P7kjQCUE8+n5+rDrtZ7mI9V9z4MGuNdF3nvLcgQfbbkM/na7Vas9lst9vIkcxuFGzPXkHRuJI92YGTlvsUjRkBOURZIodxGJWTsF4ce1qW5bZfCAKYFkqgdvaMx+PJZHJuOB4hs6CCruuZTIbVv6B+ugUScRnhcKMXBkQWZ9Y6xr0rmXN3C7pCkzKZTLvdnqtNm6aJVCmUME2yp6OUBmNPCIx9HiykseLYQsHJaHRPhCg5T8JEt//aQtlT7HY4e/pSAGLIP60te1qWZU9zF4/HHefQx+Mxt68c3H/iWSZA5xaxFDLPWDC/J5LLkQYNrRPUWS6XvXSH5GFN4j3Pn+XuFrEUMkiDBs5jIQL2nIYoXb/jOPdyoOycPnjusSlzL1soe1qW9fXVO8cPAE4uLoBpndlzMBhkMhmWSqAh2j/yqqpyIdlbW1tzI5ww6OPx2J4NMx6Pl8tlNx/rXGkJbLljATXokvVaFgoFX0lOLcs6B+yJpcBkFsCZG2FYZTDd0y0RbaVSmesm8iI5Hq+JgD1dQ5S2d49vNCO0eRfNnpZlnd575ui6PZwFMEXYF3Z41pk97dt1YGY5l8uxXbBrqXjNvJjtlmX9WsDDTdbD4E0mk3NtZK4Z7M9guieGg+XNWCzmMZ0wW/v5YE9EHXDsGaGKF4w9TdOET4kaBsfI0jJ7YqDDsufnF31upoV+Hl3ZizZj5hLYUxTqv70boR7NvmbrzJ6WZSEymVU/wYzs3JFhGJzZnkgkHHfuZDvOlt32Q/Yyx8I+hy0HYE/TNO2basRisbkhq2y9VD4Huiemv4ikoJKH9KgQPmF25rBnCcEST1Ys2YoWUQ7Fnj8+nhxd2XO2dpWdyBc7LoE9LcsSLDM9uHQz8k45JiFfk1kjErh8Pg+Vk6aeFUVh547AsGTt4mXzlWkRu8ixHI2nednBmNrJFQKw52QyyeVyRBYU5cp2lqtF8HPT2dOyLGzITIBgUCI0kIPpnpZlYV0GNYxshQj1YsHI4k/B2XOaXNIlROlwMTsFLYc9xfEDR1dvR26/r7nuaVmWPZdiIpHIZrMUFYCFSRThiIKvWPfRaGTPyozn+JqoYSU+GHtms1n2nQyjbZ0D9sRSKxYQRVG8ZFZmB0JQDsyev3afpjw4RJ1bW1vpdDqMr1zQVPufgrOnaJfK63ciCVHimrs09rQsS7QD6K2H0RLo+rOnYwY5RVEQUaTrOmffxePxVCrl12XJBTzRK+F9G3ROYIKxJxRtqh3EUa1WA0xHnAP2hEeFrAq4F/P5/NzMytxYuP0MzJ7YmYOjdXxul6Z+BmTPb2/fk3+TKxwoOwtKMLxM9lxmANP6sycZSqRdYlYnkUgYhmFPgKYoSgC6QbA9WwUM51gsFmySNwB7Ovo9A8/+nwP2tGdWhlspcAIajkYDs6ejTEJgfDncufb4+hmEPX98PLGnef/NoQubWoE+yE2IIztytJogwTf9QsxSQHGfh+nP7d0IA5g2gj3H43E6neZ0EEVROp0O2k/KGuypYCuOK5UKPYcKqDTA9FEA9qTgAaodL2QikQjAF+eAPbHejB13IBNVJs0w7GlfzYG2xWKxbDYb2OFDDDC3EIQ9T+89c6SV6WL2vfsL4rLls+c0gOnBc7eeHt9oRuWd2Aj2tO9tC6Mpm83adwfJ5XLBLDtHNZail1qtli/zORh72uM90dMA+9OdA/ZEpD1nECDdVyT0FIY9Sf3kyB3jlcvlAnzw5jIme4Fv9pwmjXfZmfLo6u25OTrZuv2Wl2m5o22i7ZS3d427j/12wfH6TWFPt+02WTUtvOMJc6nc60pz36VSSdM0j1HrYE/7PL44qEWw1qharfpy5p4D9oR7kR1iKudyOTGSlmUNh8NWqyWwG0KyJ5pnlxZkJIjFYvV6fTQaefnoTiaT4XDYbre9bwbjjz2/fzhyC1E6XHw+9uWzp2VZS+jyprAnqZ/0/tgL0ALCaCWmaSJKhlMoaJ045nzb7bamaZRxajw78HMwGGDbDETgs89BWfzO0yaU7I1E37+yhzSbTVSt6zr3WpqzwzCM8XgMFt7ode742O/v77Pgs4OeTCbr9TqSgQH80Wg0HA41Tet0OrSXp2COPiR70oqyeDzOzSDRkCWTyVqt1ul0+v0+KzAkLd1ut9ls0noNsXiwCpAP9pwqYrceOiue27tG/RH73EWUV8KelmVNVwQ4OUDhdQ2vbm8Qew4Gg3Q6zWpz7LuEcqFQCDn6o9HIjUDZIBVkOM3lcvl8PvfnyGaz3NJStoVe2BMakyNfUO2pVCqXyxUKhXK5XK1Wa7VatVqtzI5yuVwoFHK5nD3NElQkgSJGuK1Jfk+0Zzwec1uMAFIk4sNm15lMJpvNotfZbJauj8ViyWRS4MkJz56O297RoNOQKYqSTqfRyPzsQGspD87W1hbSjnh32ftgT7ETcHHuThKpVbEnVnC6EWh4V+8GsSdNqnB6GYQVJ32FedLgcoXxeIw1P25MjRSoWFlP6fcpn3QikbBrIqSMeFEu2u02cunTe8gWErODPcOVMTFtP7lZ+T1pUMBxbmPBwo5E3olEgiQkmUym02k3zCNhTxAo0idSvRz44HFWYKjZZPij4D3Awyt7CiagFxeiRIOHwgrZ88fHE2yL5Dj//umJyjXV18/NYk+kt3GUUS9bGHlHZjweY2tP0nG49yHAT1Cq25vMtm0ymSDU0Y0yUDvaBgWH/nckblJmN073tCyLvBliNBxHBKJiTysDtO3sGY/H0+k0LcRgB0Vc1jQN9Eds6NgewUk0VeBn4BrgiT3FwY8huYNrkODnCtkTKzgdqPNyZbaDfKgQV7An0pXjDcQHPIAACdCL8E9YWcRxBCQvZEZOeyN7vR5MYNqOTSD9jn/CBAK7a54X9kRLOp0OjFDUznXZsTr7SdqfCoahF90cljs0OIiEl3167ejhDGWoI34HCXrHAQRKkfOOTkZ7x2nqBut6HZtHWi3btmDsaVnWeDyu1+vA2e+QobXJZLJQKHicOPLEnq4Lby7djDBwxxFc9uRq2fN3BianeIODcDiQc52Tv7VlT3vaOlKswswXsWPNlkejUafTYd2IsKnpe4M1+PT64a+w4zi+KxQKtVrNVzTVYDBgBwgeAzISqVK8q4k/B5wJXO0YX4+6Jx3zATUAAAeXSURBVCcM2EIymEgMh0M2kTA92Rd7gkA7nQ6yLmHEgQMNBH0nwPtUUbFYdOs12JOuRCGVSgXrKcRGVVU2cNhNWlg5YRtQqVQiY89vb/5xdPlBETu6snd8o3n29KXbJuzsaxCyvCr2/P/W8O7bHx1u7wbWwbvdbqVSqf33qFarvl7ykNj6vR3qJ9nvKITJ6DG3Abquq6paq9UQYSq2zuB2TKfTuVyuVCq1Wq1erzcYDDyGOtkbMxwO9/f3S6USpkTcaodzLZVKsRMUlUql2Wx2u11VVYfDITdNb68L01aYjPqvUPjjfXoyfCDcoyqVSjCGGo/H7Xa7VCplMplkMkkyQAQEEDKZTKFQ6HQ6g8FA0OXBYGAXfr9fOOopFUzTHAwGrVarUCigndQ8tgA5yWQyvxJ+l8tlBHIIWkvPR2G+7jkN8FSuuRmt0/Pbu1gCdHyjefrg+eJodJnsaZrm9w9HZ09fntx6OA3Smu2iLAbh5NZDDtxz/JMMLsgilCw3/SJaHAzDQEzS/v5+s9msM0ez2UR0Ya/X0zRtOBwahuH9ZZjbTtM0x+PxYDBQVbXb7bbb7ebsaLVa7Xa72+32ej1VVfv9/nA4HI1G0dY+t3nLvABbj2ia1uv1sKETwO90OgDfY5TlottM7ex2u61Wq9FoQF4ajQY1NbCcRMGeM98f9lCDlnp8o/npiRo5jS6HPX9rmnv3pxttbu9ON1J2stZ5Jl1KzNaiRc3j83Vd55JgxmKxJSemZZtqzg72jCxLBNwQiFBa5rMnwsV5svjDmI7nZ1u3X0M+9qk2+uafSOKZFseeP42zb2/fTzXNvfvUeMeuuZ1cUOpPNwlY7flOpwMXOxRPmLFuk6qrbaqsXSKwOATmsyflu+QydLjxCHt+qrXN4syPr9+ZaqNv/gnTk0Ww52/znNE02fZ7Kc+M+mvG3ceRfCHC4LOcex1jp9Pp9Dp7aZeDjKzloiHgiT2xYNG4+/h3aqWZPeuFWegaKHQHyrV///rbuPv466t3AbgmKvaEpvnpiTrtztShec2Tbc6o27+/Ctu70+7UH33RXl8QucEGRBR2TlPty/F4XhCQZTc3BQGv7In+/Ph48kV7fXrv2TR0PCjv/J5iun7n9N4zXzQanj1hnh/faGIiSBBLQLzPFTB9dHRlz6g/+vyi//3DUYSTEusvNM1mEzE67MRlsVhcWjbv9YdItvDiIOCPPQmXn8bZ11fvTh88//evv6f84l8bxV2H27tHV2+f3nv2RXs9VxsNxp5TTfPNP9A0ER4QQNPE3NHR1dvQNKPKTUd4rn9B13WEPbIxjMgh7zdscP07K1soEfCCQED2pEeDm04fPD++0ZyZ5ztBuEnZwRSTcffxF+21Gzf5Yk+Y52gYlgMFa9iBsgNvg6BhhMbmFlRVHQwG9iBhxOh0u91iscga7GSzN5vNze21bLlEIAwCYdmT6v4/jV6/M7WI/Wuj0O8OLt0k3yhHo17Y8z+aZiClGD7NA2VnqmkK2Zz6vukFwzAKhQLyBtXr9VarRRF85XI5m80iIpqNi8b6bmmzb/rQy/aHQSAy9qRG/J+/bjRDKn0cfwnYkzwJxzPunnonvQRp/nciiByymNfiuJs6eP4Ko9GIzSrG+jShY3JLa+D6zOVywRarnD8AZY8uJgLRsyfhyGqjgaeYoMNCGz2+0eTmeaYZNq/snd57NiXNQJrmb35XrnFMTb24CIVer5dMJkGRtFQZK7VZfROsSrNGi1jSfhHQln08NwgskD1ZjBBWicnuAEY9OI6jTsyGB3a24mnH1++cPnj+9dW7CzV1zg6Nl4zxFBUPMi2Xy1Lr5DCUPy8gAktiTyA71Ubfvp9Of8+0yOnyeaec7aDFRfw/o9prmAhCvNTFMc/dhPvXQmDsSeCYFohUURBoIpFotVr2ySW3h8vzEoFzjMBS2ZPFEcvJWW3Ur6fSO71iIujwcgWaZlQrR9nubG7ZNM1ms5nL5ditMdmwJEVRMplMPp/vdDpyQdHmDrRseeQIrIw90ZOfxtn3D0efnqgntx4KzHPvRPmfK2fJn5B8E+b53JDSyPHdlAfqut7v97E9FnbpqdVqmH/vdruDwUDGw2/KUMp2Lg2BFbMn209KbhRspp54kzyhtLhekiaLs5dyhHlovFQnr5EIbCICa8SeBB/R6NHV21gdRMwoKjBpRheRH4+aJwsSAYmARMCyrHVkTwwMjHrkJ4Y66TjF9FvTVHZ+52aOKBueFA6JgERAIiBGYH3Zk233j48nn1/0jfqjo6u3f08BzZYzHV3ZO9m7f/b0ZfhN1dnqZFkiIBGQCMxFYDPYE93AbhlTGr372Kg/kub53NGVF0gEJAKLQ2CT2HNxKMgnSwQkAhIBvwhI9vSLmLxeIiARkAhMEZDsKeVAIiARkAgEQUCyZxDU5D0SAYmARECyp5QBiYBEQCIQBAHJnkFQk/dIBCQCEgHJnlIGJAISAYlAEAQkewZBTd4jEZAISAQke0oZkAhIBCQCQRCQ7BkENXmPREAiIBGQ7CllQCIgEZAIBEFAsmcQ1OQ9EgGJgERAsqeUAYmAREAiEAQByZ5BUJP3SAQkAhKB/wFq2QJyO5bRrgAAAABJRU5ErkJggg==)"
      ],
      "metadata": {
        "id": "Ft_cMNnrde0E"
      }
    },
    {
      "cell_type": "markdown",
      "source": [
        "Pydantic — это библиотека проверки данных и управления настройками для Python, созданная для повышения прочности и надежности вашей кодовой базы.  \n",
        "\n",
        "Pydantic также хорошо интегрируется со многими популярными инструментами статической типизации и IDE, что позволяет выявлять проблемы со схемами до запуска кода."
      ],
      "metadata": {
        "id": "Tqy3S5vOqFkf"
      }
    },
    {
      "cell_type": "markdown",
      "source": [
        "С использованием Pydantic программисту не нужно тратить время на написание многословного кода для проверки типов данных. Вместо этого, можно определить модель данных с помощью аннотаций типов Python и использовать ее для автоматической валидации входных данных. Это упрощает разработку и делает код более надежным."
      ],
      "metadata": {
        "id": "pVqL7-l8dBJz"
      }
    },
    {
      "cell_type": "markdown",
      "source": [
        "## Отличительные особенности"
      ],
      "metadata": {
        "id": "WFC6ypqifU1A"
      }
    },
    {
      "cell_type": "markdown",
      "source": [
        "*   Кастомизация\n",
        "*   Гибкость\n",
        "*   Сериализация\n",
        "*   Производительность\n",
        "*   Экосистема и промышленное внедрение\n",
        "\n"
      ],
      "metadata": {
        "id": "WcgHLcw7fXNW"
      }
    },
    {
      "cell_type": "markdown",
      "source": [
        "## Краткая история Pydantic"
      ],
      "metadata": {
        "id": "ZndiSUy9d4Aw"
      }
    },
    {
      "cell_type": "markdown",
      "source": [
        "**Версия 1.0 (2018 год)**\n",
        "\n",
        "* Первая стабильная версия, включающая базовые функции валидации и сериализации данных\n",
        "* Поддержка базовых типов данных и аннотаций типов\n",
        "* Возможность создания простых моделей данных с валидацией"
      ],
      "metadata": {
        "id": "jLTgB0FVd59k"
      }
    },
    {
      "cell_type": "markdown",
      "source": [
        "**Версия 1.4 (2019 год)**\n",
        "\n",
        "* Введение поддержки вложенных моделей и более сложных структур данных\n",
        "* Улучшение производительности и расширение функциональности кастомных валидаторов\n",
        "* Интеграция с FastAPI, что позволило использовать Pydantic для создания API с автоматической валидацией"
      ],
      "metadata": {
        "id": "GfMpKDQleFtK"
      }
    },
    {
      "cell_type": "markdown",
      "source": [
        "**Версия 1.7 (2020 год)**\n",
        "\n",
        "* Добавление новых типов данных, таких как `UUID`, `Decimal` и `IPvAnyAddress`\n",
        "* Улучшение сообщений об ошибках валидации, что сделало их более информативными и понятными\n",
        "* Оптимизация производительности и уменьшение времени обработки данных\n"
      ],
      "metadata": {
        "id": "Osb2SN0YeFjI"
      }
    },
    {
      "cell_type": "markdown",
      "source": [
        "**Версия 1.8 (2021 год)**\n",
        "\n",
        "* Расширение возможностей для работы с конфигурационными файлами и настройками моделей\n",
        "* Улучшение работы с `datetime` объектами и поддержка различных форматов дат и времени\n",
        "* Введение поддержки динамического создания моделей с помощью функции `create_model`"
      ],
      "metadata": {
        "id": "HtM4Tm8EeFab"
      }
    },
    {
      "cell_type": "markdown",
      "source": [
        "**Версия 2.2 (2023 год)**\n",
        "\n",
        "* Переписанный на Rust модуль `pydantic-core` для валидации, что значительно повысило производительность\n",
        "* Поддержка Python 3.8 и выше\n",
        "* Новый интерфейс для конфигурации моделей\n",
        "* Улучшенная система сообщений об ошибках, что делает их более информативными"
      ],
      "metadata": {
        "id": "PWsG6SybeFNb"
      }
    },
    {
      "cell_type": "markdown",
      "source": [
        "**Версия 2.7 (2024 год)**\n",
        "\n",
        "* Введение опции `serialize_as_any` для сериализации объектов с произвольными полями\n",
        "* Возможность передавать контекст в процессе сериализации для более гибкой обработки данных\n",
        "* Улучшения производительности и новые функции, такие как расширенные возможности работы с аннотациями типов и оптимизация процесса валидации данных​"
      ],
      "metadata": {
        "id": "rDjY8mLDd_GH"
      }
    },
    {
      "cell_type": "markdown",
      "source": [
        "### Установка и импорт"
      ],
      "metadata": {
        "id": "_vWyAypxjb7W"
      }
    },
    {
      "cell_type": "code",
      "source": [
        "!pip install -U pydantic[email,timezone]"
      ],
      "metadata": {
        "id": "ixGOeS8pEteE"
      },
      "execution_count": null,
      "outputs": []
    },
    {
      "cell_type": "markdown",
      "source": [
        "*  `-U` — обновляет Pydantic до последней версии, если он уже установлен, или просто установит последнюю доступную версию, если Pydantic отсутствует.\n",
        "\n",
        "*  `[email,timezone]` — эти флаги добавляют дополнительные модули и валидаторы, которые могут быть полезны в проекте."
      ],
      "metadata": {
        "id": "Gcpm2BrYtaM1"
      }
    },
    {
      "cell_type": "code",
      "source": [
        "# !python -m pip install \"pydantic[email]\"\n",
        "# !python -m pip install pydantic-settings"
      ],
      "metadata": {
        "id": "8wcg7PxsEwvF"
      },
      "execution_count": null,
      "outputs": []
    },
    {
      "cell_type": "code",
      "source": [
        "!pip install devtools"
      ],
      "metadata": {
        "id": "JUJ6CY6Ih359"
      },
      "execution_count": null,
      "outputs": []
    },
    {
      "cell_type": "code",
      "source": [
        "import pydantic\n",
        "\n",
        "from devtools import pprint"
      ],
      "metadata": {
        "id": "cF9cblnFhw6m"
      },
      "execution_count": null,
      "outputs": []
    },
    {
      "cell_type": "markdown",
      "source": [
        "## BaseModel"
      ],
      "metadata": {
        "id": "T0aq7Cvsvsp7"
      }
    },
    {
      "cell_type": "markdown",
      "source": [
        "Модели данных в Pydantic представляют собой основу для валидации и сериализации данных. Они позволяют разработчикам описывать структуру данных с помощью классов Python, используя аннотации типов для определения полей и их атрибутов. Это обеспечивает высокую степень типизации, автоматическую валидацию и преобразование данных, что существенно упрощает разработку приложений."
      ],
      "metadata": {
        "id": "Zmu-3jlojz3p"
      }
    },
    {
      "cell_type": "markdown",
      "source": [
        "Модели в Pydantic наследуются от класса `BaseModel`. Каждая модель описывает набор полей, которые представляют собой структуру данных и условия для их валидации"
      ],
      "metadata": {
        "id": "w21owxdw1ZYo"
      }
    },
    {
      "cell_type": "markdown",
      "source": [
        "Определим модель сотрудника"
      ],
      "metadata": {
        "id": "tc6vygfpg-_s"
      }
    },
    {
      "cell_type": "code",
      "source": [
        "from datetime import date\n",
        "from uuid import UUID, uuid4\n",
        "from enum import Enum\n",
        "from pydantic import BaseModel, EmailStr\n",
        "\n",
        "class Department(Enum):\n",
        "    HR = \"HR\"\n",
        "    SALES = \"SALES\"\n",
        "    IT = \"IT\"\n",
        "    ENGINEERING = \"ENGINEERING\"\n",
        "\n",
        "\n",
        "class Employee(BaseModel):\n",
        "    employee_id: UUID = uuid4()\n",
        "    name: str\n",
        "    email: EmailStr\n",
        "    date_of_birth: date\n",
        "    salary: float\n",
        "    department: Department\n",
        "    elected_benefits: bool"
      ],
      "metadata": {
        "id": "cAVkbBi5h0KZ"
      },
      "execution_count": null,
      "outputs": []
    },
    {
      "cell_type": "markdown",
      "source": [
        "Создание экземпляра модели данных происходит путём передачи соответствующих значений в конструктор модели. Pydantic автоматически выполняет валидацию и преобразование данных согласно указанным типам"
      ],
      "metadata": {
        "id": "GC73E4SXj_sK"
      }
    },
    {
      "cell_type": "code",
      "source": [
        "chris = Employee(\n",
        "    name=\"Chris DeTuma\",\n",
        "    email=\"cdetuma@example.com\",\n",
        "    date_of_birth=\"1998-04-02\",\n",
        "    salary=123_000.00,\n",
        "    department=\"IT\",\n",
        "    elected_benefits=True,\n",
        "    )"
      ],
      "metadata": {
        "id": "j3rE7IUHuR3c"
      },
      "execution_count": null,
      "outputs": []
    },
    {
      "cell_type": "code",
      "source": [
        "pprint(chris)"
      ],
      "metadata": {
        "colab": {
          "base_uri": "https://localhost:8080/"
        },
        "id": "2oiaEEOYui3n",
        "outputId": "cfd460d2-5b91-4c48-f58a-41f4d3d0b9d5"
      },
      "execution_count": null,
      "outputs": [
        {
          "output_type": "stream",
          "name": "stdout",
          "text": [
            "Employee(\n",
            "    employee_id=UUID('2c1527b0-6ddb-45b0-907e-f0256f89c8bd'),\n",
            "    name='Chris DeTuma',\n",
            "    email='cdetuma@example.com',\n",
            "    date_of_birth=datetime.date(1998, 4, 2),\n",
            "    salary=123000.0,\n",
            "    department=<Department.IT: 'IT'>,\n",
            "    elected_benefits=True,\n",
            ")\n"
          ]
        }
      ]
    },
    {
      "cell_type": "markdown",
      "source": [
        "Одной из ключевых особенностей Pydantic является автоматическая валидация данных при создании экземпляров моделей. Pydantic проверяет соответствие каждого переданного значения ожидаемому типу и генерирует ошибки валидации, если данные не соответствуют требованиям"
      ],
      "metadata": {
        "id": "hibNLV7DjeOr"
      }
    },
    {
      "cell_type": "code",
      "source": [
        "# bad_guy = Employee(\n",
        "#     employee_id=\"123\",\n",
        "#     name=False,\n",
        "#     email=\"cdetumaexamplecom\",\n",
        "#     date_of_birth=\"1939804-02\",\n",
        "#     salary=\"high paying\",\n",
        "#     department=\"PRODUCT\",\n",
        "#     elected_benefits=300,\n",
        "#     )"
      ],
      "metadata": {
        "id": "cnl-mPJGuwDh"
      },
      "execution_count": null,
      "outputs": []
    },
    {
      "cell_type": "markdown",
      "source": [
        "## Словари, JSON"
      ],
      "metadata": {
        "id": "JPBofzhjzz48"
      }
    },
    {
      "cell_type": "code",
      "source": [
        "new_employee_dict = {\n",
        "    \"name\": \"Chris DeTuma\",\n",
        "    \"email\": \"cdetuma@example.com\",\n",
        "    \"date_of_birth\": \"1998-04-02\",\n",
        "    \"salary\": 123_000.00,\n",
        "    \"department\": \"IT\",\n",
        "    \"elected_benefits\": True,\n",
        "    }"
      ],
      "metadata": {
        "id": "LEe5I8lEvG66"
      },
      "execution_count": null,
      "outputs": []
    },
    {
      "cell_type": "code",
      "source": [
        "pprint(Employee.model_validate(new_employee_dict))"
      ],
      "metadata": {
        "colab": {
          "base_uri": "https://localhost:8080/"
        },
        "id": "OcVnQCJN0DCD",
        "outputId": "7b4c3058-10a9-4547-b869-36d7ef5f7c39"
      },
      "execution_count": null,
      "outputs": [
        {
          "output_type": "stream",
          "name": "stdout",
          "text": [
            "Employee(\n",
            "    employee_id=UUID('95e0981e-8e49-4e8f-ac94-9d7b54de176a'),\n",
            "    name='Chris DeTuma',\n",
            "    email='cdetuma@example.com',\n",
            "    date_of_birth=datetime.date(1998, 4, 2),\n",
            "    salary=123000.0,\n",
            "    department=<Department.IT: 'IT'>,\n",
            "    elected_benefits=True,\n",
            ")\n"
          ]
        }
      ]
    },
    {
      "cell_type": "code",
      "source": [
        "new_employee_json = \"\"\"\n",
        "  {\"employee_id\":\"d2e7b773-926b-49df-939a-5e98cbb9c9eb\",\n",
        "  \"name\":\"Eric Slogrenta\",\n",
        "  \"email\":\"eric.slogrenta@gmail.com\",\n",
        "  \"date_of_birth\":\"1990-01-02\",\n",
        "  \"salary\":125000.0,\n",
        "  \"department\":\"HR\",\n",
        "  \"elected_benefits\":false}\n",
        "  \"\"\""
      ],
      "metadata": {
        "id": "1sMwPspq0NK7"
      },
      "execution_count": null,
      "outputs": []
    },
    {
      "cell_type": "code",
      "source": [
        "new_employee = Employee.model_validate_json(new_employee_json)"
      ],
      "metadata": {
        "id": "bvM0l7vx0N2M"
      },
      "execution_count": null,
      "outputs": []
    },
    {
      "cell_type": "code",
      "source": [
        "pprint(new_employee)"
      ],
      "metadata": {
        "colab": {
          "base_uri": "https://localhost:8080/"
        },
        "id": "Cq1LXZ8I0bPz",
        "outputId": "af7112a0-7f52-4932-ad16-110a8b4938a9"
      },
      "execution_count": null,
      "outputs": [
        {
          "output_type": "stream",
          "name": "stdout",
          "text": [
            "Employee(\n",
            "    employee_id=UUID('d2e7b773-926b-49df-939a-5e98cbb9c9eb'),\n",
            "    name='Eric Slogrenta',\n",
            "    email='eric.slogrenta@gmail.com',\n",
            "    date_of_birth=datetime.date(1990, 1, 2),\n",
            "    salary=125000.0,\n",
            "    department=<Department.HR: 'HR'>,\n",
            "    elected_benefits=False,\n",
            ")\n"
          ]
        }
      ]
    },
    {
      "cell_type": "markdown",
      "source": [
        "Вы также можете сериализовать модели Pydantic в виде словарей и JSON"
      ],
      "metadata": {
        "id": "9UGLRRZj0gdk"
      }
    },
    {
      "cell_type": "code",
      "source": [
        "new_employee.model_dump()"
      ],
      "metadata": {
        "colab": {
          "base_uri": "https://localhost:8080/"
        },
        "id": "IwDT9VMA0hgx",
        "outputId": "c0a3aaf4-8215-4c2b-990e-7f5d21d4812c"
      },
      "execution_count": null,
      "outputs": [
        {
          "output_type": "execute_result",
          "data": {
            "text/plain": [
              "{'employee_id': UUID('d2e7b773-926b-49df-939a-5e98cbb9c9eb'),\n",
              " 'name': 'Eric Slogrenta',\n",
              " 'email': 'eric.slogrenta@gmail.com',\n",
              " 'date_of_birth': datetime.date(1990, 1, 2),\n",
              " 'salary': 125000.0,\n",
              " 'department': <Department.HR: 'HR'>,\n",
              " 'elected_benefits': False}"
            ]
          },
          "metadata": {},
          "execution_count": 120
        }
      ]
    },
    {
      "cell_type": "code",
      "source": [
        "pprint(new_employee.model_dump_json())"
      ],
      "metadata": {
        "colab": {
          "base_uri": "https://localhost:8080/"
        },
        "id": "PEKR9J5S0jLS",
        "outputId": "e3dd3c42-5be4-4957-c256-b4aaca6fbfce"
      },
      "execution_count": null,
      "outputs": [
        {
          "output_type": "stream",
          "name": "stdout",
          "text": [
            "(\n",
            "    '{\"employee_id\":\"d2e7b773-926b-49df-939a-5e98cbb9c9eb\",\"name\":\"Eric Slogrenta\",\"email\":\"eric.slogrenta@gmail.com\",'\n",
            "    '\"date_of_birth\":\"1990-01-02\",\"salary\":125000.0,\"department\":\"HR\",\"elected_benefits\":false}'\n",
            ")\n"
          ]
        }
      ]
    },
    {
      "cell_type": "markdown",
      "source": [
        "### Схема JSON"
      ],
      "metadata": {
        "id": "n6FymJ5300rD"
      }
    },
    {
      "cell_type": "markdown",
      "source": [
        "https://json-schema.org/understanding-json-schema/about"
      ],
      "metadata": {
        "id": "cvfkmKkqd9LQ"
      }
    },
    {
      "cell_type": "code",
      "source": [
        "pprint(Employee.model_json_schema())"
      ],
      "metadata": {
        "colab": {
          "base_uri": "https://localhost:8080/"
        },
        "id": "vkbvVoLU017d",
        "outputId": "db91fd62-ff12-4fda-ce09-9945a175d471"
      },
      "execution_count": null,
      "outputs": [
        {
          "output_type": "stream",
          "name": "stdout",
          "text": [
            "{\n",
            "    '$defs': {\n",
            "        'Department': {\n",
            "            'enum': [\n",
            "                'HR',\n",
            "                'SALES',\n",
            "                'IT',\n",
            "                'ENGINEERING',\n",
            "            ],\n",
            "            'title': 'Department',\n",
            "            'type': 'string',\n",
            "        },\n",
            "    },\n",
            "    'properties': {\n",
            "        'employee_id': {\n",
            "            'default': '2c1527b0-6ddb-45b0-907e-f0256f89c8bd',\n",
            "            'format': 'uuid',\n",
            "            'title': 'Employee Id',\n",
            "            'type': 'string',\n",
            "        },\n",
            "        'name': {\n",
            "            'title': 'Name',\n",
            "            'type': 'string',\n",
            "        },\n",
            "        'email': {\n",
            "            'format': 'email',\n",
            "            'title': 'Email',\n",
            "            'type': 'string',\n",
            "        },\n",
            "        'date_of_birth': {\n",
            "            'format': 'date',\n",
            "            'title': 'Date Of Birth',\n",
            "            'type': 'string',\n",
            "        },\n",
            "        'salary': {\n",
            "            'title': 'Salary',\n",
            "            'type': 'number',\n",
            "        },\n",
            "        'department': {\n",
            "            '$ref': '#/$defs/Department',\n",
            "        },\n",
            "        'elected_benefits': {\n",
            "            'title': 'Elected Benefits',\n",
            "            'type': 'boolean',\n",
            "        },\n",
            "    },\n",
            "    'required': [\n",
            "        'name',\n",
            "        'email',\n",
            "        'date_of_birth',\n",
            "        'salary',\n",
            "        'department',\n",
            "        'elected_benefits',\n",
            "    ],\n",
            "    'title': 'Employee',\n",
            "    'type': 'object',\n",
            "}\n"
          ]
        }
      ]
    },
    {
      "cell_type": "markdown",
      "source": [
        "## Поля в модели"
      ],
      "metadata": {
        "id": "IesI7NKA1v4c"
      }
    },
    {
      "cell_type": "markdown",
      "source": [
        "Описание полей:\n",
        "\n",
        "* **Типизация**  \n",
        "Поля в модели описываются с указанием типов, например, `name: str`. Это обеспечивает базовую типовую валидацию\n",
        "\n",
        "* **Использование `Field()`**  \n",
        "Позволяет аннотировать поля с дополнительными параметрами, такими как значения по умолчанию, ограничения и другие настройки"
      ],
      "metadata": {
        "id": "MSxH61tY19gi"
      }
    },
    {
      "cell_type": "code",
      "source": [
        "from datetime import date\n",
        "from uuid import UUID, uuid4\n",
        "from enum import Enum\n",
        "from pydantic import BaseModel, EmailStr, Field\n",
        "\n",
        "class Department(Enum):\n",
        "    HR = \"HR\"\n",
        "    SALES = \"SALES\"\n",
        "    IT = \"IT\"\n",
        "    ENGINEERING = \"ENGINEERING\"\n",
        "\n",
        "\n",
        "class Employee(BaseModel):\n",
        "    employee_id: UUID = Field(default_factory=uuid4, frozen=True)\n",
        "    name: str = Field(min_length=1, frozen=True)\n",
        "    email: EmailStr = Field(pattern=r\".+@example\\.com$\")\n",
        "    date_of_birth: date = Field(alias=\"birth_date\", repr=False, frozen=True)\n",
        "    salary: float = Field(alias=\"compensation\", gt=0, repr=False)\n",
        "    department: Department\n",
        "    elected_benefits: bool"
      ],
      "metadata": {
        "id": "001qpjFo07fl"
      },
      "execution_count": null,
      "outputs": []
    },
    {
      "cell_type": "code",
      "source": [
        "incorrect_employee_data = {\n",
        "    \"name\": \"\",\n",
        "    \"email\": \"cdetuma@fakedomain.com\",\n",
        "    \"birth_date\": \"1998-04-02\",\n",
        "    \"salary\": -10,\n",
        "    \"department\": \"IT\",\n",
        "    \"elected_benefits\": True,\n",
        "    }"
      ],
      "metadata": {
        "id": "lD_qryoH8J4t"
      },
      "execution_count": null,
      "outputs": []
    },
    {
      "cell_type": "code",
      "source": [
        "# Employee.model_validate(incorrect_employee_data)"
      ],
      "metadata": {
        "id": "R9XjEj6RKXrA"
      },
      "execution_count": null,
      "outputs": []
    },
    {
      "cell_type": "code",
      "source": [
        "correct_employee_data = {\n",
        "    \"name\": \"Evgeny\",\n",
        "    \"email\": \"cdetuma@example.com\",\n",
        "    \"birth_date\": \"1998-04-02\",\n",
        "    \"compensation\": 10,\n",
        "    \"department\": \"IT\",\n",
        "    \"elected_benefits\": True,\n",
        "    }"
      ],
      "metadata": {
        "id": "5EFuqAfIEnrY"
      },
      "execution_count": null,
      "outputs": []
    },
    {
      "cell_type": "code",
      "source": [
        "pprint(Employee.model_validate(correct_employee_data))"
      ],
      "metadata": {
        "colab": {
          "base_uri": "https://localhost:8080/"
        },
        "id": "ePboRNCgE-QF",
        "outputId": "51a78747-6b79-4809-93c1-ea439ef38bdf"
      },
      "execution_count": null,
      "outputs": [
        {
          "output_type": "stream",
          "name": "stdout",
          "text": [
            "Employee(\n",
            "    employee_id=UUID('566b8ee2-4b46-44a0-afea-f820fb4a1314'),\n",
            "    name='Evgeny',\n",
            "    email='cdetuma@example.com',\n",
            "    department=<Department.IT: 'IT'>,\n",
            "    elected_benefits=True,\n",
            ")\n"
          ]
        }
      ]
    },
    {
      "cell_type": "markdown",
      "source": [
        "## Валидация моделей и полей"
      ],
      "metadata": {
        "id": "XK9uxxBzWb3_"
      }
    },
    {
      "cell_type": "markdown",
      "source": [
        "Декоратор `field_validator` служит для проверки корректности заполнения полей модели Pydantic. Помимо валидации, его можно использовать для преобразования данных перед их сохранением в модели."
      ],
      "metadata": {
        "id": "A-Yr1-QzQ0qT"
      }
    },
    {
      "cell_type": "markdown",
      "source": [
        "Декоратор `field_validator` всегда принимает один обязательный аргумент - название поля, которое необходимо валидировать. Второй аргумент, который предпочтительно указывать, `mode`."
      ],
      "metadata": {
        "id": "iTl1W7q6Q-dY"
      }
    },
    {
      "cell_type": "code",
      "source": [
        "# Валидация поля\n",
        "\n",
        "from datetime import date\n",
        "from uuid import UUID, uuid4\n",
        "from enum import Enum\n",
        "from pydantic import BaseModel, EmailStr, Field, field_validator\n",
        "\n",
        "class Department(Enum):\n",
        "    HR = \"HR\"\n",
        "    SALES = \"SALES\"\n",
        "    IT = \"IT\"\n",
        "    ENGINEERING = \"ENGINEERING\"\n",
        "\n",
        "class Employee(BaseModel):\n",
        "    employee_id: UUID = Field(default_factory=uuid4, frozen=True)\n",
        "    name: str = Field(min_length=1, frozen=True)\n",
        "    email: EmailStr = Field(pattern=r\".+@example\\.com$\")\n",
        "    date_of_birth: date = Field(alias=\"birth_date\", repr=False, frozen=True)\n",
        "    salary: float = Field(alias=\"compensation\", gt=0, repr=False)\n",
        "    department: Department\n",
        "    elected_benefits: bool\n",
        "\n",
        "    @field_validator(\"date_of_birth\")\n",
        "    @classmethod\n",
        "    def check_valid_age(cls, date_of_birth: date) -> date:\n",
        "        today = date.today()\n",
        "        eighteen_years_ago = date(today.year - 18, today.month, today.day)\n",
        "        if date_of_birth > eighteen_years_ago:\n",
        "            raise ValueError(\"Employees must be at least 18 years old.\")\n",
        "        return date_of_birth"
      ],
      "metadata": {
        "id": "Ehky7eDvKeQf"
      },
      "execution_count": null,
      "outputs": []
    },
    {
      "cell_type": "code",
      "source": [
        "new_employee = {\n",
        "     \"name\": \"Alexis Tau\",\n",
        "     \"email\": \"ataue@example.com\",\n",
        "     \"birth_date\": \"2005-09-12\",\n",
        "     \"compensation\": 100_000,\n",
        "     \"department\": \"IT\",\n",
        "     \"elected_benefits\": True,\n",
        " }"
      ],
      "metadata": {
        "id": "9NY4LyIONLiI"
      },
      "execution_count": null,
      "outputs": []
    },
    {
      "cell_type": "code",
      "source": [
        "pprint(Employee.model_validate(new_employee))"
      ],
      "metadata": {
        "colab": {
          "base_uri": "https://localhost:8080/"
        },
        "id": "wTPiyW7GNPY1",
        "outputId": "c41ffa68-6eed-436e-e2f3-af4af874c073"
      },
      "execution_count": null,
      "outputs": [
        {
          "output_type": "stream",
          "name": "stdout",
          "text": [
            "Employee(\n",
            "    employee_id=UUID('733fbb66-0d26-4f36-9053-7d76174d4821'),\n",
            "    name='Alexis Tau',\n",
            "    email='ataue@example.com',\n",
            "    department=<Department.IT: 'IT'>,\n",
            "    elected_benefits=True,\n",
            ")\n"
          ]
        }
      ]
    },
    {
      "cell_type": "markdown",
      "source": [
        "Декоратор `model_validator` (в старых версиях Pydantic этот декоратор назывался `root_validator`) обеспечивает валидацию модели в целом, после того как все поля уже прошли индивидуальную проверку. Это позволяет выполнять комплексные проверки, зависящие от нескольких полей модели одновременно."
      ],
      "metadata": {
        "id": "0J-mo6rpRHvI"
      }
    },
    {
      "cell_type": "code",
      "source": [
        "# Валидация модели\n",
        "\n",
        "# from typing import Self\n",
        "from typing_extensions import Self\n",
        "\n",
        "from datetime import date\n",
        "from uuid import UUID, uuid4\n",
        "from enum import Enum\n",
        "from pydantic import (\n",
        "    BaseModel,\n",
        "    EmailStr,\n",
        "    Field,\n",
        "    field_validator,\n",
        "    model_validator,\n",
        ")\n",
        "\n",
        "class Department(Enum):\n",
        "    HR = \"HR\"\n",
        "    SALES = \"SALES\"\n",
        "    IT = \"IT\"\n",
        "    ENGINEERING = \"ENGINEERING\"\n",
        "\n",
        "class Employee(BaseModel):\n",
        "    employee_id: UUID = Field(default_factory=uuid4, frozen=True)\n",
        "    name: str = Field(min_length=1, frozen=True)\n",
        "    email: EmailStr = Field(pattern=r\".+@example\\.com$\")\n",
        "    date_of_birth: date = Field(alias=\"birth_date\", repr=False, frozen=True)\n",
        "    salary: float = Field(alias=\"compensation\", gt=0, repr=False)\n",
        "    department: Department\n",
        "    elected_benefits: bool\n",
        "\n",
        "    @field_validator(\"date_of_birth\")\n",
        "    @classmethod\n",
        "    def check_valid_age(cls, date_of_birth: date) -> date:\n",
        "        today = date.today()\n",
        "        eighteen_years_ago = date(today.year - 18, today.month, today.day)\n",
        "        if date_of_birth > eighteen_years_ago:\n",
        "            raise ValueError(\"Employees must be at least 18 years old.\")\n",
        "        return date_of_birth\n",
        "\n",
        "    @model_validator(mode=\"after\")\n",
        "    def check_it_benefits(self) -> Self:\n",
        "        department = self.department\n",
        "        elected_benefits = self.elected_benefits\n",
        "        if department == Department.IT and elected_benefits:\n",
        "            raise ValueError(\n",
        "                \"IT employees are contractors and don't qualify for benefits\"\n",
        "            )\n",
        "        return self"
      ],
      "metadata": {
        "id": "ncOkjsSOWkVw"
      },
      "execution_count": null,
      "outputs": []
    },
    {
      "cell_type": "code",
      "source": [
        "new_employee = {\n",
        "     \"name\": \"Alexis Tau\",\n",
        "     \"email\": \"ataue@example.com\",\n",
        "     \"birth_date\": \"2005-09-12\",\n",
        "     \"compensation\": 100_000,\n",
        "     \"department\": \"IT\",\n",
        "     \"elected_benefits\": False,\n",
        " }"
      ],
      "metadata": {
        "id": "ddTRMSwmMiEJ"
      },
      "execution_count": null,
      "outputs": []
    },
    {
      "cell_type": "code",
      "source": [
        "pprint(Employee.model_validate(new_employee))"
      ],
      "metadata": {
        "colab": {
          "base_uri": "https://localhost:8080/"
        },
        "id": "fsJ2v3ZuNBqq",
        "outputId": "cc001f91-9f39-4c4c-d98b-5b6519b4f785"
      },
      "execution_count": null,
      "outputs": [
        {
          "output_type": "stream",
          "name": "stdout",
          "text": [
            "Employee(\n",
            "    employee_id=UUID('65553213-5626-42cc-8b14-696398fca743'),\n",
            "    name='Alexis Tau',\n",
            "    email='ataue@example.com',\n",
            "    department=<Department.IT: 'IT'>,\n",
            "    elected_benefits=False,\n",
            ")\n"
          ]
        }
      ]
    },
    {
      "cell_type": "code",
      "source": [
        "new_employee = {\n",
        "     \"name\": \"Alexis Tau\",\n",
        "     \"email\": \"ataue@example.com\",\n",
        "     \"birth_date\": \"2005-09-12\",\n",
        "     \"compensation\": 100_000,\n",
        "     \"department\": \"IT\",\n",
        "     \"elected_benefits\": True,\n",
        " }"
      ],
      "metadata": {
        "id": "ZN2t7-dEOFoV"
      },
      "execution_count": null,
      "outputs": []
    },
    {
      "cell_type": "code",
      "source": [
        "# Employee.model_validate(new_employee)"
      ],
      "metadata": {
        "id": "ll2vPo-KOIMf"
      },
      "execution_count": null,
      "outputs": []
    },
    {
      "cell_type": "markdown",
      "source": [
        "## Валидация функций"
      ],
      "metadata": {
        "id": "glRB0gyeQVFG"
      }
    },
    {
      "cell_type": "markdown",
      "source": [
        "Вы также можете использовать Pydantic для валидации аргументов функций с помощью декоратора `@validate_call`"
      ],
      "metadata": {
        "id": "qm-YN4GKSSs9"
      }
    },
    {
      "cell_type": "code",
      "source": [
        "import time\n",
        "from typing import Annotated\n",
        "from pydantic import PositiveFloat, Field, EmailStr, validate_call\n",
        "\n",
        "\n",
        "@validate_call\n",
        "def send_invoice(\n",
        "    client_name: Annotated[str, Field(min_length=1)],\n",
        "    client_email: EmailStr,\n",
        "    items_purchased: list[str],\n",
        "    amount_owed: PositiveFloat,\n",
        ") -> str:\n",
        "\n",
        "    email_str = f\"\"\"\n",
        "    Dear {client_name},\n",
        "    Thank you for choosing xyz inc! You\n",
        "    owe ${amount_owed:,.2f} for the following items:\n",
        "    {items_purchased}\n",
        "    \"\"\"\n",
        "\n",
        "    print(f\"Sending email to {client_email}...\")\n",
        "    time.sleep(2)\n",
        "\n",
        "    return email_str"
      ],
      "metadata": {
        "id": "aep7-KeFQiE8"
      },
      "execution_count": null,
      "outputs": []
    },
    {
      "cell_type": "code",
      "source": [
        "# send_invoice(\n",
        "#      client_name=\"\",\n",
        "#      client_email=\"ajolawsonfakedomain.com\",\n",
        "#      items_purchased=[\"pie\", \"cookie\", 17],\n",
        "#      amount_owed=0,\n",
        "#  )\n",
        "\n",
        "\n",
        "result = send_invoice(\n",
        "     client_name=\"Andrew Jolawson\",\n",
        "     client_email=\"ajolawson@fakedomain.com\",\n",
        "     items_purchased=[\"pie\", \"cookie\", \"cake\"],\n",
        "     amount_owed=20,\n",
        " )\n",
        "\n",
        "pprint(result)"
      ],
      "metadata": {
        "colab": {
          "base_uri": "https://localhost:8080/"
        },
        "id": "knsv967VS5Xn",
        "outputId": "787f7080-df54-45cd-d0e4-655023184a6a"
      },
      "execution_count": null,
      "outputs": [
        {
          "output_type": "stream",
          "name": "stdout",
          "text": [
            "Sending email to ajolawson@fakedomain.com...\n",
            "(\n",
            "    '\\n'\n",
            "    '    Dear Andrew Jolawson, \\n'\n",
            "    '    Thank you for choosing xyz inc! You\\n'\n",
            "    '    owe $20.00 for the following items: \\n'\n",
            "    \"    ['pie', 'cookie', 'cake']\\n\"\n",
            "    '    '\n",
            ")\n"
          ]
        }
      ]
    },
    {
      "cell_type": "markdown",
      "source": [
        "## Настройка приложений"
      ],
      "metadata": {
        "id": "h6YfavPtmdZ2"
      }
    },
    {
      "cell_type": "markdown",
      "source": [
        "### ConfigDict"
      ],
      "metadata": {
        "id": "6A3EJCklmnJZ"
      }
    },
    {
      "cell_type": "markdown",
      "source": [
        "В Pydantic 2 конфигурация моделей теперь задаётся через `ConfigDict`, а не через старый формат с классом `Config`"
      ],
      "metadata": {
        "id": "Fgg7vDiem8PX"
      }
    },
    {
      "cell_type": "markdown",
      "source": [
        "Было:"
      ],
      "metadata": {
        "id": "ovNKnt-Tm_Ud"
      }
    },
    {
      "cell_type": "code",
      "source": [
        "class Model(BaseModel):\n",
        "    class Config:\n",
        "        from_attributes = True"
      ],
      "metadata": {
        "id": "BNoiTjrkm-G2"
      },
      "execution_count": null,
      "outputs": []
    },
    {
      "cell_type": "markdown",
      "source": [
        "Стало:"
      ],
      "metadata": {
        "id": "q3erudzDnCN8"
      }
    },
    {
      "cell_type": "code",
      "source": [
        "from pydantic import BaseModel, ConfigDict\n",
        "\n",
        "class Model(BaseModel):\n",
        "    model_config = ConfigDict(from_attributes=True)"
      ],
      "metadata": {
        "id": "VRaUxMrYnEF8"
      },
      "execution_count": null,
      "outputs": []
    },
    {
      "cell_type": "markdown",
      "source": [
        "**Основные опции**\n",
        "\n",
        "* `from_attributes=True` — позволяет создавать объект модели напрямую из атрибутов Python-объектов\n",
        "* `str_to_lower`, `str_to_upper` — преобразование всех строк модели в нижний или верхний регистр\n",
        "* `str_strip_whitespace` — cледует ли удалять начальные и конечные пробелы для типов str (аналог `strip`)\n",
        "* `str_min_length`, `str_max_length` — задает максимальную и минимальную длину строки для всех строковых полей\n",
        "* `use_enum_values` — определяте cледует ли заполнять модели значениями, выбранными из перечислений, вместо того чтобы использовать необработанные значения"
      ],
      "metadata": {
        "id": "7pTLElf5my6T"
      }
    },
    {
      "cell_type": "markdown",
      "source": [
        "### `pydantic-settings`"
      ],
      "metadata": {
        "id": "YLRAwevuqV40"
      }
    },
    {
      "cell_type": "markdown",
      "source": [
        "`pydantic-settings` — это один из способов управления переменными окружения в Python. Его можно использовать для создания моделей, подобных `BaseModel`, которые анализируют и проверяют переменные окружения"
      ],
      "metadata": {
        "id": "hVKIGHjtqnNt"
      }
    },
    {
      "cell_type": "code",
      "source": [
        "!python -m pip install pydantic-settings"
      ],
      "metadata": {
        "id": "7QH6r7pLqarI"
      },
      "execution_count": null,
      "outputs": []
    },
    {
      "cell_type": "markdown",
      "source": [
        "#### BaseSettings"
      ],
      "metadata": {
        "id": "ZqmkpWaLmfJy"
      }
    },
    {
      "cell_type": "markdown",
      "source": [
        "Основной класс в `pydantic-settings` — `BaseSettings`, и он обладает всеми теми же функциями, что и `BaseModel`. Но если вы создаете модель, которая наследуется от `BaseSettings`, инициализатор модели будет пытаться считывать из переменных окружения любые поля, не переданные в качестве именованных аргументов"
      ],
      "metadata": {
        "id": "074mnTA5mhmN"
      }
    },
    {
      "cell_type": "code",
      "source": [
        "from pydantic import HttpUrl, Field\n",
        "from pydantic_settings import BaseSettings\n",
        "\n",
        "class AppConfig(BaseSettings):\n",
        "    database_host: HttpUrl\n",
        "    database_user: str = Field(min_length=5)\n",
        "    database_password: str = Field(min_length=10)\n",
        "    api_key: str = Field(min_length=20)"
      ],
      "metadata": {
        "id": "R2KbqrQeq8OA"
      },
      "execution_count": null,
      "outputs": []
    },
    {
      "cell_type": "code",
      "source": [
        "# !export DATABASE_HOST=\"http://kimiquotes.pages.dev/\"\n",
        "# !export DATABASE_USER=\"username\"\n",
        "# !export DATABASE_PASSWORD=\"user@gmail.com\"\n",
        "# !export API_KEY=\"12345678901234567890\""
      ],
      "metadata": {
        "id": "s-gRe3fArnFJ"
      },
      "execution_count": null,
      "outputs": []
    },
    {
      "cell_type": "code",
      "source": [
        "%env DATABASE_HOST=https://kimiquotes.pages.dev/\n",
        "%env DATABASE_USER=\"username\"\n",
        "%env DATABASE_PASSWORD=\"user@gmail.com\"\n",
        "%env API_KEY=12345678901234567890"
      ],
      "metadata": {
        "colab": {
          "base_uri": "https://localhost:8080/"
        },
        "id": "wo0ksOgEteuM",
        "outputId": "d238ccbe-2a5b-411f-8f76-3a6d701d6f00"
      },
      "execution_count": null,
      "outputs": [
        {
          "output_type": "stream",
          "name": "stdout",
          "text": [
            "env: DATABASE_HOST=https://kimiquotes.pages.dev/\n",
            "env: DATABASE_USER=\"username\"\n",
            "env: DATABASE_PASSWORD=\"user@gmail.com\"\n",
            "env: API_KEY=12345678901234567890\n"
          ]
        }
      ]
    },
    {
      "cell_type": "code",
      "source": [
        "# !export -p"
      ],
      "metadata": {
        "id": "VuHlWFpEtVpi"
      },
      "execution_count": null,
      "outputs": []
    },
    {
      "cell_type": "code",
      "source": [
        "pprint(AppConfig())"
      ],
      "metadata": {
        "colab": {
          "base_uri": "https://localhost:8080/"
        },
        "id": "DjUbIqPes0xS",
        "outputId": "854edb1e-ca04-4760-8749-559358926e8c"
      },
      "execution_count": null,
      "outputs": [
        {
          "output_type": "stream",
          "name": "stdout",
          "text": [
            "AppConfig(\n",
            "    database_host=Url('https://kimiquotes.pages.dev/'),\n",
            "    database_user='\"username\"',\n",
            "    database_password='\"user@gmail.com\"',\n",
            "    api_key='12345678901234567890',\n",
            ")\n"
          ]
        }
      ]
    },
    {
      "cell_type": "code",
      "source": [
        "%env DATABASE_HOST=https://kimiquotes.pages.dev/\n",
        "%env DATABASE_USER=\"username\"\n",
        "%env DATABASE_PASSWORD=\"user@gmail.com\"\n",
        "%env API_KEY=1234567890123456789"
      ],
      "metadata": {
        "colab": {
          "base_uri": "https://localhost:8080/"
        },
        "id": "rzaMZPfwt-RE",
        "outputId": "fe580248-e0c2-44bc-b5de-751a467f44b6"
      },
      "execution_count": null,
      "outputs": [
        {
          "output_type": "stream",
          "name": "stdout",
          "text": [
            "env: DATABASE_HOST=https://kimiquotes.pages.dev/\n",
            "env: DATABASE_USER=\"username\"\n",
            "env: DATABASE_PASSWORD=\"user@gmail.com\"\n",
            "env: API_KEY=12345678901234567891\n"
          ]
        }
      ]
    },
    {
      "cell_type": "code",
      "source": [
        "# pprint(AppConfig())"
      ],
      "metadata": {
        "id": "NuRJszxnuCWP",
        "colab": {
          "base_uri": "https://localhost:8080/"
        },
        "outputId": "c7102a26-56e1-4fed-b3e3-19677968729c"
      },
      "execution_count": null,
      "outputs": [
        {
          "output_type": "stream",
          "name": "stdout",
          "text": [
            "AppConfig(\n",
            "    database_host=Url('https://kimiquotes.pages.dev/'),\n",
            "    database_user='\"username\"',\n",
            "    database_password='\"user@gmail.com\"',\n",
            "    api_key='12345678901234567891',\n",
            ")\n"
          ]
        }
      ]
    },
    {
      "cell_type": "markdown",
      "source": [
        "#### SettingsConfigDict"
      ],
      "metadata": {
        "id": "RkX3JkgYmh8W"
      }
    },
    {
      "cell_type": "markdown",
      "source": [
        "Вы можете дополнительно настроить поведение вашей модели `BaseSettings` с помощью `SettingsConfigDict`"
      ],
      "metadata": {
        "id": "AfrvHg9umjLf"
      }
    },
    {
      "cell_type": "code",
      "source": [
        "%%writefile .env\n",
        "database_host=https://kimiquotes.pages.dev/\n",
        "database_user=username\n",
        "database_password=user@gmail.com\n",
        "api_key=12345678901234567890"
      ],
      "metadata": {
        "colab": {
          "base_uri": "https://localhost:8080/"
        },
        "id": "0_DrqS-0vVjX",
        "outputId": "a8334030-f107-44e9-878b-0a1027930a8a"
      },
      "execution_count": null,
      "outputs": [
        {
          "output_type": "stream",
          "name": "stdout",
          "text": [
            "Overwriting .env\n"
          ]
        }
      ]
    },
    {
      "cell_type": "code",
      "source": [
        "!cat .env"
      ],
      "metadata": {
        "colab": {
          "base_uri": "https://localhost:8080/"
        },
        "id": "Ee8183sGviav",
        "outputId": "29153915-9fd9-4f96-a83c-79d8a6b73002"
      },
      "execution_count": null,
      "outputs": [
        {
          "output_type": "stream",
          "name": "stdout",
          "text": [
            "database_host=https://kimiquotes.pages.dev/\n",
            "database_user=username\n",
            "database_password=user@gmail.com\n",
            "api_key=12345678901234567890\n"
          ]
        }
      ]
    },
    {
      "cell_type": "code",
      "source": [
        "from pydantic import HttpUrl, Field\n",
        "from pydantic_settings import BaseSettings, SettingsConfigDict\n",
        "\n",
        "class AppConfig(BaseSettings):\n",
        "    model_config = SettingsConfigDict(\n",
        "        env_file=\"/content/.env\",\n",
        "        env_file_encoding=\"utf-8\",\n",
        "        case_sensitive=True,\n",
        "        extra=\"forbid\",\n",
        "    )\n",
        "\n",
        "    database_host: HttpUrl\n",
        "    database_user: str = Field(min_length=5)\n",
        "    database_password: str = Field(min_length=10)\n",
        "    api_key: str = Field(min_length=20)"
      ],
      "metadata": {
        "id": "W1MGVNKEvner"
      },
      "execution_count": null,
      "outputs": []
    },
    {
      "cell_type": "code",
      "source": [
        "pprint(AppConfig())"
      ],
      "metadata": {
        "id": "n45HuBi4v13T",
        "colab": {
          "base_uri": "https://localhost:8080/"
        },
        "outputId": "d9266e78-a22c-4135-c048-0860250f6cd9"
      },
      "execution_count": null,
      "outputs": [
        {
          "output_type": "stream",
          "name": "stdout",
          "text": [
            "AppConfig(\n",
            "    database_host=Url('https://kimiquotes.pages.dev/'),\n",
            "    database_user='username',\n",
            "    database_password='user@gmail.com',\n",
            "    api_key='12345678901234567890',\n",
            ")\n"
          ]
        }
      ]
    },
    {
      "cell_type": "code",
      "source": [
        "# %%writefile .env\n",
        "# database_host=https://kimiquotes.pages.dev/\n",
        "# database_user=username\n",
        "# database_password=user@gmail.com\n",
        "# api_key=12345678901234567890\n",
        "# database_port=8000"
      ],
      "metadata": {
        "colab": {
          "base_uri": "https://localhost:8080/"
        },
        "id": "3m-RqQKafjOp",
        "outputId": "16859c33-eba2-4e05-85aa-f309f795d938"
      },
      "execution_count": null,
      "outputs": [
        {
          "output_type": "stream",
          "name": "stdout",
          "text": [
            "Overwriting .env\n"
          ]
        }
      ]
    },
    {
      "cell_type": "markdown",
      "source": [
        "## Наследование моделей"
      ],
      "metadata": {
        "id": "Eti2-vqXR5Ua"
      }
    },
    {
      "cell_type": "markdown",
      "source": [
        "**Преимущества**\n",
        "\n",
        "*   Повторное использование кода\n",
        "*   Расширяемость\n",
        "\n"
      ],
      "metadata": {
        "id": "VEVu18ucSBi6"
      }
    },
    {
      "cell_type": "code",
      "source": [
        "from pydantic import BaseModel\n",
        "\n",
        "\n",
        "class ParentModel(BaseModel):\n",
        "    name: str\n",
        "    age: int\n",
        "\n",
        "\n",
        "class ChildModel(ParentModel):\n",
        "    school: str"
      ],
      "metadata": {
        "id": "podd9Mk5R8v4"
      },
      "execution_count": null,
      "outputs": []
    },
    {
      "cell_type": "code",
      "source": [
        "parent = ParentModel(name=\"Alex\", age=40)\n",
        "child = ChildModel(name=\"Bob\", age=12, school=\"Greenwood High\")"
      ],
      "metadata": {
        "id": "LCtAmGCeR_HW"
      },
      "execution_count": null,
      "outputs": []
    },
    {
      "cell_type": "markdown",
      "source": [
        "## Интеграция с FastAPI"
      ],
      "metadata": {
        "id": "mw_pscwpmEpW"
      }
    },
    {
      "cell_type": "code",
      "source": [
        "!pip install \"fastapi[standard]\"\n",
        "!pip install uvicorn"
      ],
      "metadata": {
        "id": "fGqC3Fn_mHiU"
      },
      "execution_count": null,
      "outputs": []
    },
    {
      "cell_type": "markdown",
      "source": [
        "### Шаг 0. Тестируем запуск FastAPI в Google Colab"
      ],
      "metadata": {
        "id": "8ZvF1VHAANPL"
      }
    },
    {
      "cell_type": "code",
      "source": [
        "%%writefile main.py\n",
        "\n",
        "from fastapi import FastAPI\n",
        "\n",
        "app = FastAPI()\n",
        "\n",
        "@app.get(\"/\")\n",
        "async def root():\n",
        "    return {\"message\": \"Hello World\"}\n",
        "\n",
        "@app.get(\"/hello/{name}\")\n",
        "async def say_hello(name: str):\n",
        "    return {\"message\": f\"Hello {name}\"}"
      ],
      "metadata": {
        "colab": {
          "base_uri": "https://localhost:8080/"
        },
        "id": "X1GXLSNl-BPW",
        "outputId": "8c942458-ba3d-4844-9bd2-3013616dd927"
      },
      "execution_count": null,
      "outputs": [
        {
          "output_type": "stream",
          "name": "stdout",
          "text": [
            "Overwriting main.py\n"
          ]
        }
      ]
    },
    {
      "cell_type": "code",
      "source": [
        "!uvicorn main:app & npx localtunnel --port 8000 --subdomain fastapi & wget -q -O - https://loca.lt/mytunnelpassword"
      ],
      "metadata": {
        "colab": {
          "base_uri": "https://localhost:8080/"
        },
        "id": "j8xrjjtG-G4Z",
        "outputId": "9d1fad33-bef5-4752-d8b3-3f9135a974df"
      },
      "execution_count": null,
      "outputs": [
        {
          "output_type": "stream",
          "name": "stdout",
          "text": [
            "34.80.196.148\u001b[32mINFO\u001b[0m:     Started server process [\u001b[36m117191\u001b[0m]\n",
            "\u001b[32mINFO\u001b[0m:     Waiting for application startup.\n",
            "\u001b[32mINFO\u001b[0m:     Application startup complete.\n",
            "\u001b[32mINFO\u001b[0m:     Uvicorn running on \u001b[1mhttp://127.0.0.1:8000\u001b[0m (Press CTRL+C to quit)\n",
            "your url is: https://fastapi.loca.lt\n",
            "\u001b[32mINFO\u001b[0m:     146.70.81.235:0 - \"\u001b[1mGET /docs HTTP/1.1\u001b[0m\" \u001b[32m200 OK\u001b[0m\n",
            "\u001b[32mINFO\u001b[0m:     146.70.81.235:0 - \"\u001b[1mGET /openapi.json HTTP/1.1\u001b[0m\" \u001b[32m200 OK\u001b[0m\n",
            "\u001b[32mINFO\u001b[0m:     146.70.81.235:0 - \"\u001b[1mGET /hello/Evgeny HTTP/1.1\u001b[0m\" \u001b[32m200 OK\u001b[0m\n",
            "\u001b[32mINFO\u001b[0m:     Shutting down\n",
            "\u001b[32mINFO\u001b[0m:     Waiting for application shutdown.\n",
            "\u001b[32mINFO\u001b[0m:     Application shutdown complete.\n",
            "\u001b[32mINFO\u001b[0m:     Finished server process [\u001b[36m117191\u001b[0m]\n"
          ]
        }
      ]
    },
    {
      "cell_type": "markdown",
      "source": [
        "### Шаг 1. Простые эндпоинты"
      ],
      "metadata": {
        "id": "DrGaWGztAay2"
      }
    },
    {
      "cell_type": "code",
      "source": [
        "users = [\n",
        "    {'id': 1, 'role':'admin', 'name':'Alex'},\n",
        "    {'id': 2, 'role':'trader', 'name':'Kate'},\n",
        "    {'id': 3, 'role':'trader', 'name':'John'},\n",
        "    {'id': 4, 'role':'investor', 'name':'Elena'},\n",
        "    {'id': 5, 'role':'investor', 'name':'Bob'},\n",
        "]\n",
        "\n",
        "trades = [\n",
        "    {'id': 1, 'user_id': 2, 'currency': 'BTC', 'side': 'buy', 'price':101, 'amount': 2.12},\n",
        "    {'id': 2, 'user_id': 3, 'currency': 'BTC', 'side': 'buy', 'price':102, 'amount': 4.05},\n",
        "    {'id': 3, 'user_id': 2, 'currency': 'BTC', 'side': 'sell', 'price':104, 'amount': 2.12}\n",
        "]"
      ],
      "metadata": {
        "id": "wNcpkqnjcNb4"
      },
      "execution_count": null,
      "outputs": []
    },
    {
      "cell_type": "code",
      "source": [
        "%%writefile main.py\n",
        "\n",
        "from fastapi import FastAPI\n",
        "\n",
        "app = FastAPI(\n",
        "    title=\"Trading App\"\n",
        ")\n",
        "\n",
        "users = [\n",
        "    {'id': 1, 'role':'admin', 'name':'Alex'},\n",
        "    {'id': 2, 'role':'trader', 'name':'Kate'},\n",
        "    {'id': 3, 'role':'trader', 'name':'John'},\n",
        "    {'id': 4, 'role':'investor', 'name':'Elena'},\n",
        "    {'id': 5, 'role':'investor', 'name':'Bob'},\n",
        "]\n",
        "\n",
        "trades = [\n",
        "    {'id': 1, 'user_id': 2, 'currency': 'BTC', 'side': 'buy', 'price':101, 'amount': 2.12},\n",
        "    {'id': 2, 'user_id': 3, 'currency': 'BTC', 'side': 'buy', 'price':102, 'amount': 4.05},\n",
        "    {'id': 3, 'user_id': 2, 'currency': 'BTC', 'side': 'sell', 'price':104, 'amount': 2.12}\n",
        "]\n",
        "\n",
        "\n",
        "@app.get(\"/users/{user_id}\")\n",
        "def get_user(user_id: int):\n",
        "  return [user for user in users if user.get(\"id\") == user_id]\n",
        "\n",
        "\n",
        "@app.get(\"/trades\")\n",
        "def get_trades(limit: int, offset: int):\n",
        "  return trades[offset:][:limit]\n",
        "\n",
        "\n",
        "@app.post(\"/users/role/{user_id}\")\n",
        "def change_role(user_id: int, new_role: str):\n",
        "  current_user = list(filter(lambda user: user.get('id') == user_id, users))[0]\n",
        "  current_user['role'] = new_role\n",
        "  return {\n",
        "      'status': 200,\n",
        "      'data': current_user\n",
        "  }\n"
      ],
      "metadata": {
        "id": "DDQn2C_W-MD8",
        "colab": {
          "base_uri": "https://localhost:8080/"
        },
        "outputId": "511ee324-fd53-48c3-dcf9-6b2f47645dc5"
      },
      "execution_count": null,
      "outputs": [
        {
          "output_type": "stream",
          "name": "stdout",
          "text": [
            "Overwriting main.py\n"
          ]
        }
      ]
    },
    {
      "cell_type": "code",
      "source": [
        "!uvicorn main:app & npx localtunnel --port 8000 --subdomain fastapi & wget -q -O - https://loca.lt/mytunnelpassword"
      ],
      "metadata": {
        "colab": {
          "base_uri": "https://localhost:8080/"
        },
        "id": "Jn8gmtPqOmli",
        "outputId": "3970c592-4312-4d73-f591-dab09d4b22b8"
      },
      "execution_count": null,
      "outputs": [
        {
          "output_type": "stream",
          "name": "stdout",
          "text": [
            "34.80.196.148\u001b[32mINFO\u001b[0m:     Started server process [\u001b[36m36250\u001b[0m]\n",
            "\u001b[32mINFO\u001b[0m:     Waiting for application startup.\n",
            "\u001b[32mINFO\u001b[0m:     Application startup complete.\n",
            "\u001b[32mINFO\u001b[0m:     Uvicorn running on \u001b[1mhttp://127.0.0.1:8000\u001b[0m (Press CTRL+C to quit)\n",
            "your url is: https://fastapi.loca.lt\n",
            "\u001b[32mINFO\u001b[0m:     146.70.81.235:0 - \"\u001b[1mGET /docs HTTP/1.1\u001b[0m\" \u001b[32m200 OK\u001b[0m\n",
            "\u001b[32mINFO\u001b[0m:     146.70.81.235:0 - \"\u001b[1mGET /docs HTTP/1.1\u001b[0m\" \u001b[32m200 OK\u001b[0m\n",
            "\u001b[32mINFO\u001b[0m:     146.70.81.235:0 - \"\u001b[1mGET /openapi.json HTTP/1.1\u001b[0m\" \u001b[32m200 OK\u001b[0m\n",
            "\u001b[32mINFO\u001b[0m:     146.70.81.235:0 - \"\u001b[1mPOST /users/role/1?new_role=trader HTTP/1.1\u001b[0m\" \u001b[32m200 OK\u001b[0m\n",
            "\u001b[32mINFO\u001b[0m:     Shutting down\n",
            "\u001b[32mINFO\u001b[0m:     Waiting for application shutdown.\n",
            "\u001b[32mINFO\u001b[0m:     Application shutdown complete.\n",
            "\u001b[32mINFO\u001b[0m:     Finished server process [\u001b[36m36250\u001b[0m]\n"
          ]
        }
      ]
    },
    {
      "cell_type": "markdown",
      "source": [
        "### Шаг 2. Валидация входных данных"
      ],
      "metadata": {
        "id": "GFejaT9qUAui"
      }
    },
    {
      "cell_type": "code",
      "source": [
        "%%writefile main.py\n",
        "\n",
        "from fastapi import FastAPI\n",
        "\n",
        "app = FastAPI(\n",
        "    title=\"Trading App\"\n",
        ")\n",
        "\n",
        "users = [\n",
        "    {'id': 1, 'role':'admin', 'name':'Alex'},\n",
        "    {'id': 2, 'role':'trader', 'name':'Kate'},\n",
        "    {'id': 3, 'role':'trader', 'name':'John'},\n",
        "    {'id': 4, 'role':'investor', 'name':'Elena'},\n",
        "    {'id': 5, 'role':'investor', 'name':'Bob'},\n",
        "]\n",
        "\n",
        "trades = [\n",
        "    {'id': 1, 'user_id': 2, 'currency': 'BTC', 'side': 'buy', 'price':101, 'amount': 2.12},\n",
        "    {'id': 2, 'user_id': 3, 'currency': 'BTC', 'side': 'buy', 'price':102, 'amount': 4.05},\n",
        "    {'id': 3, 'user_id': 2, 'currency': 'BTC', 'side': 'sell', 'price':104, 'amount': 2.12}\n",
        "]\n",
        "\n",
        "\n",
        "@app.get(\"/users/{user_id}\")\n",
        "def get_user(user_id: int):\n",
        "  return [user for user in users if user.get(\"id\") == user_id]\n",
        "\n",
        "\n",
        "@app.get(\"/trades\")\n",
        "def get_trades(limit: int, offset: int):\n",
        "  return trades[offset:][:limit]\n",
        "\n",
        "\n",
        "@app.post(\"/users/role/{user_id}\")\n",
        "def change_role(user_id: int, new_role: str):\n",
        "  current_user = list(filter(lambda user: user.get('id') == user_id, users))[0]\n",
        "  current_user['role'] = new_role\n",
        "  return {\n",
        "      'status': 200,\n",
        "      'data': current_user\n",
        "  }\n",
        "\n",
        "@app.post(\"/trades\")\n",
        "def add_trade(user_id, currency, side, price, amount):\n",
        "  id = trades[-1]['id'] + 1\n",
        "  trades.append(\n",
        "      {'id': id, 'user_id': user_id, 'currency': currency, 'side': side, 'price': price, 'amount': amount}\n",
        "  )\n",
        "\n",
        "  return {\n",
        "      'status': 200,\n",
        "      'data': trades[-1]\n",
        "  }"
      ],
      "metadata": {
        "colab": {
          "base_uri": "https://localhost:8080/"
        },
        "id": "5iZRJv8WibTJ",
        "outputId": "f103b77a-4d6c-4684-fc30-76447b267e67"
      },
      "execution_count": null,
      "outputs": [
        {
          "output_type": "stream",
          "name": "stdout",
          "text": [
            "Overwriting main.py\n"
          ]
        }
      ]
    },
    {
      "cell_type": "code",
      "source": [
        "!uvicorn main:app & npx localtunnel --port 8000 --subdomain fastapi & wget -q -O - https://loca.lt/mytunnelpassword"
      ],
      "metadata": {
        "id": "oMY3aaDdUCW8"
      },
      "execution_count": null,
      "outputs": []
    },
    {
      "cell_type": "code",
      "source": [
        "%%writefile main.py\n",
        "\n",
        "from fastapi import FastAPI\n",
        "from pydantic import BaseModel, Field\n",
        "\n",
        "app = FastAPI(\n",
        "    title=\"Trading App\"\n",
        ")\n",
        "\n",
        "users = [\n",
        "    {'id': 1, 'role':'admin', 'name':'Alex'},\n",
        "    {'id': 2, 'role':'trader', 'name':'Kate'},\n",
        "    {'id': 3, 'role':'trader', 'name':'John'},\n",
        "    {'id': 4, 'role':'investor', 'name':'Elena'},\n",
        "    {'id': 5, 'role':'investor', 'name':'Bob'},\n",
        "]\n",
        "\n",
        "trades = [\n",
        "    {'id': 1, 'user_id': 2, 'currency': 'BTC', 'side': 'buy', 'price':101, 'amount': 2.12},\n",
        "    {'id': 2, 'user_id': 3, 'currency': 'BTC', 'side': 'buy', 'price':102, 'amount': 4.05},\n",
        "    {'id': 3, 'user_id': 2, 'currency': 'BTC', 'side': 'sell', 'price':104, 'amount': 2.12}\n",
        "]\n",
        "\n",
        "\n",
        "@app.get(\"/users/{user_id}\")\n",
        "def get_user(user_id: int):\n",
        "  return [user for user in users if user.get(\"id\") == user_id]\n",
        "\n",
        "\n",
        "@app.get(\"/trades\")\n",
        "def get_trades(limit: int, offset: int):\n",
        "  return trades[offset:][:limit]\n",
        "\n",
        "\n",
        "@app.post(\"/users/role/{user_id}\")\n",
        "def change_role(user_id: int, new_role: str):\n",
        "  current_user = list(filter(lambda user: user.get('id') == user_id, users))[0]\n",
        "  current_user['role'] = new_role\n",
        "  return {\n",
        "      'status': 200,\n",
        "      'data': current_user\n",
        "  }\n",
        "\n",
        "\n",
        "class Trade(BaseModel):\n",
        "  id: int\n",
        "  user_id: int\n",
        "  currency: str = Field(max_length=5)\n",
        "  side: str\n",
        "  price: float = Field(ge=0)\n",
        "  amount: float\n",
        "\n",
        "\n",
        "@app.post(\"/trade\")\n",
        "def add_trade(trade: Trade):\n",
        "  trades.append(trade)\n",
        "\n",
        "  return {\n",
        "      'status': 200,\n",
        "      'data': trades\n",
        "  }"
      ],
      "metadata": {
        "colab": {
          "base_uri": "https://localhost:8080/"
        },
        "id": "dQ5ZgN_alLhC",
        "outputId": "65be4bdb-5616-4656-c996-3d8bf16b544b"
      },
      "execution_count": null,
      "outputs": [
        {
          "output_type": "stream",
          "name": "stdout",
          "text": [
            "Overwriting main.py\n"
          ]
        }
      ]
    },
    {
      "cell_type": "code",
      "source": [
        "!uvicorn main:app & npx localtunnel --port 8000 --subdomain fastapi & wget -q -O - https://loca.lt/mytunnelpassword"
      ],
      "metadata": {
        "id": "DdIoU7THuQP-"
      },
      "execution_count": null,
      "outputs": []
    },
    {
      "cell_type": "markdown",
      "source": [
        "### Шаг 3. Валидация выходных данных"
      ],
      "metadata": {
        "id": "ZIHwpsmgvx6R"
      }
    },
    {
      "cell_type": "code",
      "source": [
        "%%writefile main.py\n",
        "\n",
        "from fastapi import FastAPI\n",
        "from pydantic import BaseModel, Field\n",
        "\n",
        "app = FastAPI(\n",
        "    title=\"Trading App\"\n",
        ")\n",
        "\n",
        "users = [\n",
        "    {'id': 1, 'role':'admin', 'name':'Alex'},\n",
        "    {'id': 2, 'role':'trader', 'name':'Kate'},\n",
        "    {'id': 3, 'role':'trader', 'name':'John'},\n",
        "    {'id': 4, 'role':'investor', 'name':'Elena'},\n",
        "    {'id': 5, 'role':'investor', 'name':'Bob'},\n",
        "]\n",
        "\n",
        "trades = [\n",
        "    {'id': 1, 'user_id': 2, 'currency': 'BTC', 'side': 'buy', 'price':101, 'amount': 2.12},\n",
        "    {'id': 2, 'user_id': 3, 'currency': 'BTC', 'side': 'buy', 'price':102, 'amount': 4.05},\n",
        "    {'id': 3, 'user_id': 2, 'currency': 'BTC', 'side': 'sell', 'price':104, 'amount': 2.12}\n",
        "]\n",
        "\n",
        "\n",
        "# @app.get(\"/users/{user_id}\")\n",
        "# def get_user(user_id: int):\n",
        "#   return [user for user in users if user.get(\"id\") == user_id]\n",
        "\n",
        "\n",
        "class User(BaseModel):\n",
        "  id: int\n",
        "  role: str\n",
        "  name: str\n",
        "\n",
        "@app.get(\"/users/{user_id}\", response_model=list[User])\n",
        "def get_user(user_id: int):\n",
        "  return [user for user in users if user.get(\"id\") == user_id]\n",
        "\n",
        "\n",
        "\n",
        "@app.get(\"/trades\")\n",
        "def get_trades(limit: int, offset: int):\n",
        "  return trades[offset:][:limit]\n",
        "\n",
        "\n",
        "@app.post(\"/users/role/{user_id}\")\n",
        "def change_role(user_id: int, new_role: str):\n",
        "  current_user = list(filter(lambda user: user.get('id') == user_id, users))[0]\n",
        "  current_user['role'] = new_role\n",
        "  return {\n",
        "      'status': 200,\n",
        "      'data': current_user\n",
        "  }\n",
        "\n",
        "\n",
        "class Trade(BaseModel):\n",
        "  id: int\n",
        "  user_id: int\n",
        "  currency: str = Field(max_length=5)\n",
        "  side: str\n",
        "  price: float = Field(ge=0)\n",
        "  amount: float\n",
        "\n",
        "\n",
        "@app.post(\"/trade\")\n",
        "def add_trade(trade: Trade):\n",
        "  trades.append(trade)\n",
        "\n",
        "  return {\n",
        "      'status': 200,\n",
        "      'data': trades\n",
        "  }"
      ],
      "metadata": {
        "id": "j2HqjeMevK-Y"
      },
      "execution_count": null,
      "outputs": []
    },
    {
      "cell_type": "code",
      "source": [
        "!uvicorn main:app & npx localtunnel --port 8000 --subdomain fastapi & wget -q -O - https://loca.lt/mytunnelpassword"
      ],
      "metadata": {
        "id": "CFk7K29SzMmN"
      },
      "execution_count": null,
      "outputs": []
    },
    {
      "cell_type": "code",
      "source": [
        "%%writefile main.py\n",
        "\n",
        "from fastapi import FastAPI\n",
        "from pydantic import BaseModel, Field\n",
        "from datetime import datetime\n",
        "from enum import Enum\n",
        "\n",
        "\n",
        "app = FastAPI(\n",
        "    title=\"Trading App\"\n",
        ")\n",
        "\n",
        "users = [\n",
        "    {'id': 1, 'role':'admin', 'name':'Alex'},\n",
        "    {'id': 2, 'role':'trader', 'name':'Kate'},\n",
        "    {'id': 3, 'role':'trader', 'name':'John'},\n",
        "    {'id': 4, 'role':'investor', 'name':'Elena'},\n",
        "    {'id': 5, 'role':'investor', 'name':'Bob'},\n",
        "    {'id': 6, 'role':'investor', 'name':'Evgeny', 'degree': [\n",
        "        {'id': 1, 'created_at': '2024-01-01T00:00:00', 'type_degree': 'grandmaster'}\n",
        "        ]},\n",
        "]\n",
        "\n",
        "trades = [\n",
        "    {'id': 1, 'user_id': 2, 'currency': 'BTC', 'side': 'buy', 'price':101, 'amount': 2.12},\n",
        "    {'id': 2, 'user_id': 3, 'currency': 'BTC', 'side': 'buy', 'price':102, 'amount': 4.05},\n",
        "    {'id': 3, 'user_id': 2, 'currency': 'BTC', 'side': 'sell', 'price':104, 'amount': 2.12}\n",
        "]\n",
        "\n",
        "\n",
        "# @app.get(\"/users/{user_id}\")\n",
        "# def get_user(user_id: int):\n",
        "#   return [user for user in users if user.get(\"id\") == user_id]\n",
        "\n",
        "class DegreeType(Enum):\n",
        "  newbie = \"newbie\"\n",
        "  expert = \"expert\"\n",
        "  master = \"master\"\n",
        "  grandmaster = \"grandmaster\"\n",
        "  legend = \"legend\"\n",
        "\n",
        "\n",
        "class Degree(BaseModel):\n",
        "  id: int\n",
        "  created_at: datetime\n",
        "  type_degree: DegreeType\n",
        "\n",
        "\n",
        "class User(BaseModel):\n",
        "  id: int\n",
        "  role: str\n",
        "  name: str\n",
        "  degree: list[Degree]\n",
        "\n",
        "\n",
        "@app.get(\"/user/{user_id}\", response_model=User)\n",
        "def get_user(user_id: int):\n",
        "  return list(filter(lambda user: user.get('id') == user_id, users))[0]\n",
        "\n",
        "\n",
        "@app.get(\"/users/{user_id}\", response_model=list[User])\n",
        "def get_user(user_id: int):\n",
        "  return [user for user in users if user.get(\"id\") == user_id]\n",
        "\n",
        "\n",
        "@app.get(\"/trades\")\n",
        "def get_trades(limit: int, offset: int):\n",
        "  return trades[offset:][:limit]\n",
        "\n",
        "\n",
        "@app.post(\"/users/role/{user_id}\")\n",
        "def change_role(user_id: int, new_role: str):\n",
        "  current_user = list(filter(lambda user: user.get('id') == user_id, users))[0]\n",
        "  current_user['role'] = new_role\n",
        "  return {\n",
        "      'status': 200,\n",
        "      'data': current_user\n",
        "  }\n",
        "\n",
        "\n",
        "class Trade(BaseModel):\n",
        "  id: int\n",
        "  user_id: int\n",
        "  currency: str = Field(max_length=5)\n",
        "  side: str\n",
        "  price: float = Field(ge=0)\n",
        "  amount: float\n",
        "\n",
        "\n",
        "@app.post(\"/trade\")\n",
        "def add_trade(trade: Trade):\n",
        "  trades.append(trade)\n",
        "\n",
        "  return {\n",
        "      'status': 200,\n",
        "      'data': trades\n",
        "  }"
      ],
      "metadata": {
        "colab": {
          "base_uri": "https://localhost:8080/"
        },
        "id": "gef4SIBHzNPX",
        "outputId": "f9366de7-eccb-4652-9a86-336041ed8968"
      },
      "execution_count": null,
      "outputs": [
        {
          "output_type": "stream",
          "name": "stdout",
          "text": [
            "Overwriting main.py\n"
          ]
        }
      ]
    },
    {
      "cell_type": "code",
      "source": [
        "!uvicorn main:app & npx localtunnel --port 8000 --subdomain fastapi & wget -q -O - https://loca.lt/mytunnelpassword"
      ],
      "metadata": {
        "id": "FAnTJ4BE1JmU"
      },
      "execution_count": null,
      "outputs": []
    },
    {
      "cell_type": "code",
      "source": [
        "%%writefile main.py\n",
        "\n",
        "from fastapi import FastAPI\n",
        "from pydantic import BaseModel, Field\n",
        "from datetime import datetime\n",
        "from enum import Enum\n",
        "from typing import Optional\n",
        "\n",
        "\n",
        "app = FastAPI(\n",
        "    title=\"Trading App\"\n",
        ")\n",
        "\n",
        "users = [\n",
        "    {'id': 1, 'role':'admin', 'name':'Alex'},\n",
        "    {'id': 2, 'role':'trader', 'name':'Kate'},\n",
        "    {'id': 3, 'role':'trader', 'name':'John'},\n",
        "    {'id': 4, 'role':'investor', 'name':'Elena'},\n",
        "    {'id': 5, 'role':'investor', 'name':'Bob'},\n",
        "    {'id': 6, 'role':'investor', 'name':'Evgeny', 'degree': [\n",
        "        {'id': 1, 'created_at': '2024-01-01T00:00:00', 'type_degree': 'grandmaster'}\n",
        "        ]},\n",
        "]\n",
        "\n",
        "trades = [\n",
        "    {'id': 1, 'user_id': 2, 'currency': 'BTC', 'side': 'buy', 'price':101, 'amount': 2.12},\n",
        "    {'id': 2, 'user_id': 3, 'currency': 'BTC', 'side': 'buy', 'price':102, 'amount': 4.05},\n",
        "    {'id': 3, 'user_id': 2, 'currency': 'BTC', 'side': 'sell', 'price':104, 'amount': 2.12}\n",
        "]\n",
        "\n",
        "\n",
        "# @app.get(\"/users/{user_id}\")\n",
        "# def get_user(user_id: int):\n",
        "#   return [user for user in users if user.get(\"id\") == user_id]\n",
        "\n",
        "class DegreeType(Enum):\n",
        "  newbie = \"newbie\"\n",
        "  expert = \"expert\"\n",
        "  master = \"master\"\n",
        "  grandmaster = \"grandmaster\"\n",
        "  legend = \"legend\"\n",
        "\n",
        "\n",
        "class Degree(BaseModel):\n",
        "  id: int\n",
        "  created_at: datetime\n",
        "  type_degree: DegreeType\n",
        "\n",
        "\n",
        "class User(BaseModel):\n",
        "  id: int\n",
        "  role: str\n",
        "  name: str\n",
        "  degree: Optional[list[Degree]] = []\n",
        "\n",
        "\n",
        "@app.get(\"/user/{user_id}\", response_model=User)\n",
        "def get_user(user_id: int):\n",
        "  return list(filter(lambda user: user.get('id') == user_id, users))[0]\n",
        "\n",
        "\n",
        "@app.get(\"/users/{user_id}\", response_model=list[User])\n",
        "def get_user(user_id: int):\n",
        "  return [user for user in users if user.get(\"id\") == user_id]\n",
        "\n",
        "\n",
        "@app.get(\"/trades\")\n",
        "def get_trades(limit: int, offset: int):\n",
        "  return trades[offset:][:limit]\n",
        "\n",
        "\n",
        "@app.post(\"/users/role/{user_id}\")\n",
        "def change_role(user_id: int, new_role: str):\n",
        "  current_user = list(filter(lambda user: user.get('id') == user_id, users))[0]\n",
        "  current_user['role'] = new_role\n",
        "  return {\n",
        "      'status': 200,\n",
        "      'data': current_user\n",
        "  }\n",
        "\n",
        "\n",
        "class Trade(BaseModel):\n",
        "  id: int\n",
        "  user_id: int\n",
        "  currency: str = Field(max_length=5)\n",
        "  side: str\n",
        "  price: float = Field(ge=0)\n",
        "  amount: float\n",
        "\n",
        "\n",
        "@app.post(\"/trade\")\n",
        "def add_trade(trade: Trade):\n",
        "  trades.append(trade)\n",
        "\n",
        "  return {\n",
        "      'status': 200,\n",
        "      'data': trades\n",
        "  }"
      ],
      "metadata": {
        "id": "gQMwWjun3n7k"
      },
      "execution_count": null,
      "outputs": []
    },
    {
      "cell_type": "code",
      "source": [
        "!uvicorn main:app & npx localtunnel --port 8000 --subdomain fastapi & wget -q -O - https://loca.lt/mytunnelpassword"
      ],
      "metadata": {
        "id": "WzLGnRPuoVA1"
      },
      "execution_count": null,
      "outputs": []
    },
    {
      "cell_type": "markdown",
      "source": [
        "## Заключение"
      ],
      "metadata": {
        "id": "j0iGOU3coZGx"
      }
    },
    {
      "cell_type": "markdown",
      "source": [
        "**Веб-разработка**\n",
        "\n",
        "Pydantic часто используется в веб-фреймворках, таких как FastAPI и Flask, для валидации входящих данных от пользователей. Это позволяет разработчикам легко обрабатывать JSON-запросы и гарантировать, что данные соответствуют ожидаемым типам."
      ],
      "metadata": {
        "id": "0yBRQjEPofwe"
      }
    },
    {
      "cell_type": "markdown",
      "source": [
        "**API и микросервисы**\n",
        "\n",
        "При создании RESTful API Pydantic помогает определять схемы данных и автоматически генерировать документацию. Это упрощает интеграцию между различными сервисами и обеспечивает согласованность данных."
      ],
      "metadata": {
        "id": "q-aZ576Bom7n"
      }
    },
    {
      "cell_type": "markdown",
      "source": [
        "**Обработка конфигураций**\n",
        "\n",
        "Pydantic можно использовать для работы с конфигурационными файлами (например, JSON или YAML). Это позволяет легко загружать и валидировать настройки приложения, минимизируя вероятность ошибок."
      ],
      "metadata": {
        "id": "8tlA7IVZouPh"
      }
    },
    {
      "cell_type": "markdown",
      "source": [
        "**Обработка данных**\n",
        "\n",
        "В проектах, связанных с анализом данных или машинным обучением, Pydantic помогает валидировать входные данные и гарантировать, что они соответствуют необходимым требованиям перед их обработкой."
      ],
      "metadata": {
        "id": "nIF9dionoyxn"
      }
    },
    {
      "cell_type": "markdown",
      "source": [
        "**Тестирование**\n",
        "\n",
        "Pydantic может быть полезен при написании тестов, позволяя создавать фиктивные данные с гарантией их корректности. Это упрощает процесс тестирования и повышает его надежность."
      ],
      "metadata": {
        "id": "jFtARRT0o2Z4"
      }
    }
  ]
}