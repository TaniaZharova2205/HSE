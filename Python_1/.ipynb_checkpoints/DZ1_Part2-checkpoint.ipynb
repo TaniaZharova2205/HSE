{
  "nbformat": 4,
  "nbformat_minor": 0,
  "metadata": {
    "colab": {
      "provenance": [],
      "include_colab_link": true
    },
    "kernelspec": {
      "name": "python3",
      "display_name": "Python 3"
    },
    "language_info": {
      "name": "python"
    }
  },
  "cells": [
    {
      "cell_type": "markdown",
      "metadata": {
        "id": "view-in-github",
        "colab_type": "text"
      },
      "source": [
        "<a href=\"https://colab.research.google.com/github/TaniaZharova2205/HSE/blob/main/DZ1_Part2.ipynb\" target=\"_parent\"><img src=\"https://colab.research.google.com/assets/colab-badge.svg\" alt=\"Open In Colab\"/></a>"
      ]
    },
    {
      "cell_type": "markdown",
      "source": [
        "Первая часть ДЗ находится здесь: https://official.contest.yandex.ru/contest/67840/enter\n",
        "\n",
        "Эта часть будет проверяться полностью вручную.\n",
        "За качество кода баллы могут быть снижены."
      ],
      "metadata": {
        "id": "3l-0ahLPQQd3"
      }
    },
    {
      "cell_type": "markdown",
      "source": [
        "### Задача 1. Декоратор. (15)\n",
        "\n",
        "Напишите декоратор, который будет выполнять функцию трижды, делая между выполнениями перерыв в 2 секунды. После каждого выполнения декоратор должен выводить на экран аргументы функции и результат работы (возвращаемое значение)"
      ],
      "metadata": {
        "id": "Kr8O7js8QdFD"
      }
    },
    {
      "cell_type": "code",
      "source": [],
      "metadata": {
        "id": "8rnqhsSGQfPR"
      },
      "execution_count": null,
      "outputs": []
    },
    {
      "cell_type": "markdown",
      "source": [
        "### Задача 2. Генератор. (20)\n",
        "\n",
        "Напишите генератор, который принимает коллекцию с вложенными итерируемыми объектами, а возвращает каждый элемент последовательно.Если \"распаковать\" все получаемые значения в list, получится \"сплющенный\" список. Например:\n",
        "\n",
        "[[1, 2, 3], [4, [5, 6, [7, 8]]]] -> [1, 2, 3, 4, 5, 6, 7, 8]"
      ],
      "metadata": {
        "id": "MqYm6QvUSko4"
      }
    },
    {
      "cell_type": "code",
      "source": [],
      "metadata": {
        "id": "0jam99w5WHA2"
      },
      "execution_count": null,
      "outputs": []
    },
    {
      "cell_type": "markdown",
      "source": [
        "### Задача 3. itertools (15)\n",
        "\n",
        "Модуль itertools представляет много инструментов для работы с итераторами.\n",
        "\n",
        "Ознакомиться с ними можно здесь: https://docs.python.org/3/library/itertools.html\n",
        "\n",
        "Вводится числа через пробел с одной строке. Затем вводится число n.\n",
        "\n",
        "Напишите программу, которая находит все уникальные пары чисел из списка, где сумма каждой пары равна числу n. Можете использовать itertools.\n",
        "\n",
        "Например, списка [1, 2, 3, 4, 5, 6] и n=7 программа должна вывести пары чисел, которые в сумме дают 7: [(1, 6), (2, 5), (3, 4)]."
      ],
      "metadata": {
        "id": "oMq97028UDAG"
      }
    },
    {
      "cell_type": "code",
      "source": [],
      "metadata": {
        "id": "VN20gozgWHiy"
      },
      "execution_count": null,
      "outputs": []
    },
    {
      "cell_type": "markdown",
      "source": [
        "## Задача 4.1 Очень функциональное программирование (2).\n",
        "\n",
        "Вводятся числа в одной строке через пробел.\n",
        "\n",
        "Например, '4 2 5 2 5 1'\n",
        "\n",
        "Необходимо найти наименьшее нечетное число. Например, для примера выше это 1.\n",
        "\n",
        "Решение должно занимать ровно одну строку любой длины.\n",
        "\n",
        "Запрещено использовать циклы, условные операторы и list comprehension.\n"
      ],
      "metadata": {
        "id": "_jSc7xl-VCCq"
      }
    },
    {
      "cell_type": "code",
      "source": [],
      "metadata": {
        "id": "ido4_rnfWSJa"
      },
      "execution_count": null,
      "outputs": []
    },
    {
      "cell_type": "markdown",
      "source": [
        "## Задача 4.2 itertools и очень функциональное программирование (3)."
      ],
      "metadata": {
        "id": "i-CiF6O9WS2q"
      }
    },
    {
      "cell_type": "markdown",
      "source": [
        "Вводится одно число n.\n",
        "\n",
        "Используя модуль itertools, выведите в одной строке через запятую и пробел факториалы чисел от 1 до n.\n",
        "\n",
        "\n",
        "Запрещено использовать циклы, условные операторы и list comprehension.\n",
        "\n",
        "Например, для n = 7 на экран надо вывести:\n",
        "\n",
        "1, 1, 2, 6, 24, 120, 720, 5040"
      ],
      "metadata": {
        "id": "qs75u_OVWjd2"
      }
    },
    {
      "cell_type": "code",
      "source": [],
      "metadata": {
        "id": "q1dFCXhOW8ah"
      },
      "execution_count": null,
      "outputs": []
    }
  ]
}