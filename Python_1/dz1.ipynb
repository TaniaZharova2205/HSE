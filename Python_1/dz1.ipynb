{
 "cells": [
  {
   "cell_type": "raw",
   "id": "28657802-1659-4dbc-b3d6-ec8fef1487a5",
   "metadata": {},
   "source": [
    "Условие задачи: пользователь вводит три целых числа: a, b и с. Каждое с новой строки.\n",
    "\n",
    "Затем вводятся числа в одной строке через запятую и пробел. Программа должна вывести числа, которые не меньше a и не больше b и при этом делятся на c.\n",
    "\n",
    "Как будем решать эту задачу?\n",
    "\n",
    "Начнем с чтения входных данных.\n",
    "\n",
    "Пользователь вводит три целых числа: a, b и с.\n",
    "\n",
    "Функция input() читает одну строку. Считать три числа можно так:\n",
    "\n",
    "a = int(input())\n",
    "b = int(input())\n",
    "c = int(input())\n",
    "Затем вводятся числа в одной строке через запятую и пробел.\n",
    "\n",
    "Считать все числа в одной строке и получить список можно, например, так:\n",
    "\n",
    "numbers = list(map(int, input().split(', ')))\n",
    "Здесь происходит примерно следующее:\n",
    "\n",
    "Мы считываем данные в строку\n",
    "Разделяем ее по разделителю с помощью метода split(). Получаем из строки список строк\n",
    "С помощью map применяем ко всем элементам списка строк функцию int\n",
    "Т.к. map возвращает итератор, \"распаковываем\" все его элементы в список\n",
    "После этого в numbers лежит список чисел. Т.е. из строки \"4, 7, 18, 5, 19\" получится список [4, 7, 18, 5, 19].\n",
    "\n",
    "После считывания данных пишем код, который решает задачу. В задаче нам требуется вывести числа, которые удовлетворяют определенному условию — каждое с новой строки. Давайте пройдемся циклом по элементам numbers и выводить подходящие числа с помощью print. Допишите код ниже:\n",
    "\n",
    "for num in numbers:\n",
    "    if # ваш код здесь\n",
    "        print(num)\n",
    "Во время тестирования будет проверяться, что на определенном тесте вы вывели нужные числа, т.е. ваш вывод совпадает с эталонным.\n",
    "\n",
    "Дополните код, напишите весь код в поле ниже и нажмите кнопку \"Отправить\". Если вы получаете вердикт OK — всё хорошо, решение прошло все тесты. Вердикт WA означает, что на каком-то из тестов решение вывело не то, что требовалось. Подробно про другие вердикты можно почитать тут: https://contest.yandex.ru/errors/\n",
    "\n",
    "Нажимая кнопку \"Отправить\", вы присылаете решение на проверку. У вас 100 попыток в каждой задаче. Пожалуйста, проверяйте код локально.\n",
    "\n",
    "Формат ввода\n",
    "Вводятся три целых числа: a, b и с. Каждое с новой строки.\n",
    "\n",
    "Затем вводятся числа в одной строке через запятую и пробел.\n",
    "\n",
    "Формат вывода\n",
    "Программа должна вывести числа, которые не меньше a и не больше b и при этом делятся на c. Каждое число выводится с новой строки.\n",
    "\n",
    "Пример 1\n",
    "Ввод\t                                     Вывод\n",
    "1                                            5\n",
    "10                                           10\n",
    "5                                            5\n",
    "1, 8, 20, 15, 5, 7, 10, 5\n",
    "\n",
    "        \n"
   ]
  },
  {
   "cell_type": "code",
   "execution_count": 2,
   "id": "63877c1c-fbfa-4454-af8d-adb359bd8adc",
   "metadata": {},
   "outputs": [
    {
     "name": "stdin",
     "output_type": "stream",
     "text": [
      " 1\n",
      " 10\n",
      " 5\n",
      " 1, 8, 20, 15, 5, 7, 10, 5\n"
     ]
    },
    {
     "name": "stdout",
     "output_type": "stream",
     "text": [
      "5\n",
      "10\n",
      "5\n"
     ]
    }
   ],
   "source": [
    "a = int(input())\n",
    "b = int(input())\n",
    "c = int(input())\n",
    "numbers = list(map(int, input().split(', ')))\n",
    "for num in numbers:\n",
    "    if num >= a and num<=b and num%c==0:\n",
    "        print(num)"
   ]
  },
  {
   "cell_type": "raw",
   "id": "49cc8b9d-4350-4df5-9994-442d29b6c0df",
   "metadata": {},
   "source": [
    "Сотрудникам учебного офиса нужно посчитать оценки студентов по каждому предмету.\n",
    "\n",
    "Вводятся неизвестное число строк. Каждая строка содержит фамилию студента, предмет и оценку за этот предмет через пробел. Затем вводится одна строка \"END\".\n",
    "\n",
    "После этого вводится фамилия студента.\n",
    "\n",
    "Выведите оценки это студента по каждому предмету. Каждый предмет выводится с новой строки, затем через пробел выводится оценка по этому предмету. Названия предметов должны быть отсортированы в алфавитном порядке. Если у студента встречается больше одной оценки по одному предмету, учитывается последняя.\n",
    "\n",
    "Формат ввода\n",
    "Вводится неизвестное число строк, затем строка \"END\", означающая конец ввода. Затем вводится еще одна строка, означающую фамилию студента.\n",
    "\n",
    "Формат вывода\n",
    "Выведите ответ на задачу (строки формата \"Предмет оценка\").\n",
    "\n",
    "Пример 1\n",
    "Ввод\t                                     Вывод\n",
    "Петров python 10                             ml 7\n",
    "Иванов python 8                              python 10    \n",
    "Петров ml 7                                            \n",
    "END\n",
    "Петров"
   ]
  },
  {
   "cell_type": "code",
   "execution_count": 18,
   "id": "483fd140-1e0d-4fb2-82ec-7291edebdd73",
   "metadata": {},
   "outputs": [
    {
     "name": "stdin",
     "output_type": "stream",
     "text": [
      " Петров python 10\n",
      " Иванов python 8\n",
      " Петров ml 7\n",
      " END\n",
      " Петров\n"
     ]
    },
    {
     "name": "stdout",
     "output_type": "stream",
     "text": [
      "ml 7\n",
      "python 10\n"
     ]
    }
   ],
   "source": [
    "numbers = input().split(' ')\n",
    "name = numbers[0]\n",
    "d = dict()\n",
    "while name != 'END':\n",
    "    sub_mark = dict()\n",
    "    subject = numbers[1]\n",
    "    mark = numbers[2]\n",
    "    sub_mark[subject] = mark\n",
    "    if d.get(name, \"NO\")==\"NO\":\n",
    "        d[name] = sub_mark\n",
    "    else:\n",
    "        d[name] = d[name] | sub_mark\n",
    "    numbers = input().split(' ')\n",
    "    name = numbers[0]\n",
    "name = input()\n",
    "sorted_dict = dict(sorted(d[name].items()))\n",
    "for key, value in sorted_dict.items():\n",
    "    print(f\"{key} {value}\")\n",
    "#for i in sorted_dict.keys():\n",
    "#    print(f\"{i} {sorted_dict[i]}\")"
   ]
  },
  {
   "cell_type": "raw",
   "id": "d766a1e6-d52f-451d-88f8-3aa47318cc64",
   "metadata": {},
   "source": [
    "Иногда требуется в качестве решение прислать только функцию/класс и код, запускающий тесты.\n",
    "\n",
    "Условие задачи: напишите функцию interesting_trunc, которая принимает на вход список строк и возвращает новый список, который содержит измененные строки:\n",
    "\n",
    "все строки переводятся в нижний регистр\n",
    "если в строке было больше пяти символов, остаются только первые пять символов.\n",
    "Сдайте код функции interesting_trunc, и допишите после неё код, запускающий тесты:\n",
    "\n",
    "from sys import stdin\n",
    "exec('\\n'.join(stdin))\n",
    "Что делаем? Сдаем в контест следующий код (не забудьте его дополнить, дописав функцию):\n",
    "\n",
    "def interesting_trunc(list of strings):\n",
    "    # код функции\n",
    "    return # список, который возвращает функция\n",
    "\n",
    "from sys import stdin\n",
    "exec('\\n'.join(stdin))\n",
    "exec будет запускать код из тестов, которые используют Вашу функцию. Поэтому функция должна называться так, как в условии.\n",
    "\n",
    "Пример 1\n",
    "Ввод\t                                                                       Вывод\n",
    "print(interesting_trunc(['python', 'math', 'AI', 'machine learning']))         ['pytho', 'math', 'ai', 'machi']"
   ]
  },
  {
   "cell_type": "code",
   "execution_count": 19,
   "id": "a5104a31-5214-407a-8dde-2233708e2049",
   "metadata": {},
   "outputs": [],
   "source": [
    "def interesting_trunc(string):\n",
    "    for i in range(len(string)):\n",
    "        string[i] = string[i].lower()\n",
    "        if len(string[i])>5:\n",
    "            string[i] = string[i][:5]\n",
    "    return string\n",
    "\n",
    "from sys import stdin\n",
    "exec('\\n'.join(stdin))"
   ]
  },
  {
   "cell_type": "raw",
   "id": "07b56306-ffc5-436a-94a7-13eefe0eec26",
   "metadata": {},
   "source": [
    "Условие:\n",
    "\n",
    "Напишите функцию is_plagiat, которая принимает на вход два аргумента - строки word1 и word2 - и возвращает True, если слово является плагиатом, и False - если не является.\n",
    "\n",
    "word2 является плагиатом слова word1, если:\n",
    "\n",
    "Используются те же самые буквы либо есть еще одна дополнительная, которой нет в word1\n",
    "Регистр не имеет значения (слово \"woRD\" является плагиатом слова \"word\")\n",
    "Порядок не имеет значения - если буквы все совпадают (либо совпадают все, кроме одной), но расположены они в разном порядке - это все равно плагиат!\n",
    "Гарантируется, что слова состоят только из букв.\n",
    "\n",
    "Считайте две строки и выведите результат функции is_plagiat от них.\n",
    "\n",
    "Что делаем?\n",
    "\n",
    "Пишем функцию is_plagiat:\n",
    "\n",
    "def is_plagiat(word1, word2):\n",
    "    #код функции\n",
    "    return # значение, которое возвращает функция\n",
    "Дальше считываем две строки:\n",
    "\n",
    "word1 = input()\n",
    "word2 = # догадайтесь, что тут\n",
    "Применяем функцию и выводим значение на экран:\n",
    "\n",
    "print(is_plagiat(word1, word2))\n",
    "Напишите функцию, соберите куски кода и отправьте решение.\n",
    "\n",
    "Готово! Вы восхитительны!\n",
    "\n",
    "Формат ввода\n",
    "Вводятся две строки.\n",
    "\n",
    "Формат вывода\n",
    "Выводится результат функции.\n",
    "\n",
    "Пример 1\n",
    "Ввод\tВывод\n",
    "word    True\n",
    "owrd\n",
    "\n",
    "Пример 2\n",
    "Ввод\tВывод\n",
    "word    True\n",
    "wordwordt\n",
    "\n",
    "Пример 3\n",
    "Ввод\tВывод\n",
    "word    False\n",
    "wordtrue\n",
    "\n",
    "Пример 4\n",
    "Ввод\tВывод\n",
    "word    True\n",
    "wo\n",
    "\n",
    "Пример 5\n",
    "Ввод\tВывод\n",
    "word    True\n",
    "DRow\n",
    "\n",
    "Пример 6\n",
    "Ввод\tВывод\n",
    "word    False\n",
    "WeLcOmE"
   ]
  },
  {
   "cell_type": "code",
   "execution_count": 62,
   "id": "e9ad27b7-6801-4f71-ba00-00ef6b48efeb",
   "metadata": {},
   "outputs": [
    {
     "name": "stdin",
     "output_type": "stream",
     "text": [
      " word\n",
      " owrd\n"
     ]
    },
    {
     "name": "stdout",
     "output_type": "stream",
     "text": [
      "True\n"
     ]
    }
   ],
   "source": [
    "def is_plagiat(word1, word2):\n",
    "    set1 = set(word1.lower())\n",
    "    set2 = set(word2.lower())\n",
    "    if len(set2 - set1)<2:\n",
    "        return True\n",
    "    return False\n",
    "word1 = input()\n",
    "word2 = input()\n",
    "print(is_plagiat(word1, word2))"
   ]
  },
  {
   "cell_type": "raw",
   "id": "29533a66-9e7c-40a7-a914-7c1c9a7822b1",
   "metadata": {},
   "source": [
    "Создайте декоратор log_plagiat_check, который будет использоваться для функции is_plagiat из предыдущей задачи. Этот декоратор должен выводить на экран информацию о том, какие слова проверяются и какой результат проверки.\n",
    "\n",
    "Решение обязательно должно содержать:\n",
    "\n",
    "код декоратора log_plagiat_check\n",
    "код функции is_plagiat\n",
    "чтение входных данных и применение функции is_plagiat\n",
    "Да, и это тоже задача из распределительного теста. Без декоратора за решение будет выставлено 0 баллов.\n",
    "Входные данные необходимо считать из файла \"words.txt\". Файл содержит неизвестное число строк. Каждая строка содержит два слова через пробел. Необходимо для каждой строки вывести на экран:\n",
    "\n",
    "оба слова\n",
    "результат действия функции is_plagiat\n",
    "Формат ввода\n",
    "Файл words.txt.\n",
    "\n",
    "Файл содержит неизвестное число строк. Каждая строка содержит два слова через пробел.\n",
    "\n",
    "Формат вывода\n",
    "Строка формата \"Check '{слово1}' vs '{слово2}' -> {True/False}\"\n",
    "\n",
    "Пример\n",
    "Ввод\t                       Вывод\n",
    "word wordtrue                  Check 'word' vs 'wordtrue' -> False\n",
    "df Df                          Check 'df' vs 'Df' -> True\n",
    "words word                     Check 'words' vs 'word' -> True"
   ]
  },
  {
   "cell_type": "code",
   "execution_count": 109,
   "id": "c74bb8de-1c29-4e3e-90da-38a1528a465e",
   "metadata": {},
   "outputs": [
    {
     "name": "stdout",
     "output_type": "stream",
     "text": [
      "Check 'word' vs 'wordtrue' -> False\n",
      "Check 'df' vs 'Df' -> True\n",
      "Check 'words' vs 'word' -> True\n"
     ]
    }
   ],
   "source": [
    "def log_plagiat_check(func):\n",
    "    def wrapper(word1, word2):\n",
    "        res = func(word1, word2)\n",
    "        print(f\"Check '{word1}' vs '{word2}' -> {res}\")\n",
    "        return res\n",
    "    return wrapper\n",
    "    \n",
    "@log_plagiat_check\n",
    "def is_plagiat(word1, word2):\n",
    "        set1 = set(word1.lower())\n",
    "        set2 = set(word2.lower())\n",
    "        if len(set2 - set1)<2:\n",
    "            return True\n",
    "        return False\n",
    "    \n",
    "with open('words.txt', 'r') as f:\n",
    "    for line in f:\n",
    "        line = line.split()\n",
    "        word1 = line[0]\n",
    "        word2 = line[1]\n",
    "        is_plagiat(word1, word2)"
   ]
  },
  {
   "cell_type": "raw",
   "id": "2c712b92-b1d5-4649-ab0e-9ee551e0ec72",
   "metadata": {},
   "source": [
    "В чате курса по питону периодически происходят бурные обсуждения. Иногда у студентов совсем нет времени их читать, а знать важную информацию всё ещё хочется.\n",
    "\n",
    "Напишите функцию get_important_messages(list_messages), которая будет отфильтровывать потенциально важные сообщения.\n",
    "\n",
    "После определения функции вставьте строчку exec(input()).\n",
    "\n",
    "То есть Ваш код должен выглядеть так:\n",
    "def get_important_messages(list_messages):\n",
    "#Ваш код\n",
    "\n",
    "exec(input())\n",
    "\n",
    "Формат ввода\n",
    "Функция принимает на вход список строк. В каждой строке хранится какое-то сообщение.\n",
    "\n",
    "Формат вывода\n",
    "Функция должна вернуть список, где остались только строки, где есть слова \"КР\", \"дедлайн\", \"ДЗ\", \"Домашнее задание\" или \"Контрольная работа\" в любом регистре (в том числе и как подстроки в составе слова, например \"КРРРРР\" тоже подходит). Элементы списка должны быть расположены в алфавитном порядке. Если какая-то строка присутствовала в исходном списке больше одного раза, в списке-результате она должна присутствовать только один раз.\n",
    "\n",
    "Пример 1\n",
    "Ввод\t\n",
    "print(get_important_messages(['Продлите дедлайн дз, мы не успеваем', 'Мы любим питон!', 'Когда кр?', 'C++ лучше', 'Когда кр?']))\n",
    "\n",
    "Вывод\n",
    "['Когда кр?', 'Продлите дедлайн дз, мы не успеваем']\n",
    "\n",
    "Пример 2\n",
    "Ввод\t\n",
    "print(get_important_messages(['Ура!', 'Когда КР?', 'Когда кр?']))\n",
    "\n",
    "Вывод\n",
    "['Когда КР?', 'Когда кр?']"
   ]
  },
  {
   "cell_type": "code",
   "execution_count": 20,
   "id": "37907036-b37a-4fd1-84c1-f12b757e403a",
   "metadata": {},
   "outputs": [
    {
     "name": "stdin",
     "output_type": "stream",
     "text": [
      " print(get_important_messages(['Ура!', 'Когда КР?', 'Когда кр?']))\n"
     ]
    },
    {
     "name": "stdout",
     "output_type": "stream",
     "text": [
      "['Когда КР?', 'Когда кр?']\n"
     ]
    }
   ],
   "source": [
    "def get_important_messages(list_messages):\n",
    "    words = ['кр', 'дедлайн', 'дз',  'домашнее задание', 'контрольная работа']\n",
    "    res = []\n",
    "    for j in words:\n",
    "        for i in list_messages:\n",
    "            if j in i.lower():\n",
    "                res.append(i)\n",
    "    list_of_unique_numbers = []\n",
    "    unique_numbers = set(res)\n",
    "    for number in unique_numbers:\n",
    "        list_of_unique_numbers.append(number)\n",
    "    list_of_unique_numbers.sort()\n",
    "    return list_of_unique_numbers\n",
    "exec(input())\n",
    "#print(get_important_messages(['Продлите дедлайн дз, мы не успеваем', 'Мы любим питон!', 'Когда кр?', 'C++ лучше', 'Когда кр?']))"
   ]
  },
  {
   "cell_type": "raw",
   "id": "939de19a-7eef-47cc-baba-b1f7d293b4cf",
   "metadata": {},
   "source": [
    "После того как итератор исчерпал элементы, его не получится использовать повторно\n",
    "У итераторов есть метод next()"
   ]
  },
  {
   "cell_type": "raw",
   "id": "f17b558f-4b94-46ab-974d-bc1d6c4569b0",
   "metadata": {},
   "source": [
    "lst = [1, 5, 8, 3, 1, 9]\n",
    "tpl = (8, 14, 17) \n",
    "string = 'python' \n",
    "numbers = {1, 8, 12, 8, 66}"
   ]
  },
  {
   "cell_type": "raw",
   "id": "63a2b154-c5d7-414f-870a-ae5e27156bc4",
   "metadata": {},
   "source": [
    "Ничего из перечисленного"
   ]
  },
  {
   "cell_type": "raw",
   "id": "b5f1f245-9536-4aae-b8c6-05c9922b66dd",
   "metadata": {},
   "source": [
    "В этой задаче Вам предлагается написать функцию-генератор, которая генерирует следующий элемент последовательности Фибоначчи.\n",
    "\n",
    "В последовательности Фибоначчи каждый элемент равен сумме двух предыдущих: 0, 1, 1, 2, 3, 5, 8, 13...\n",
    "\n",
    "Сдайте код генератора fibonacci и в конце допишите следующий код:\n",
    "\n",
    "from sys import stdin\n",
    "exec('\\n'.join(stdin))\n",
    "Должен работать метод next(). Например, код ниже\n",
    "\n",
    "gen = fibonacci()\n",
    "print(next(gen))\n",
    "print(next(gen))\n",
    "Должен выводить:\n",
    "\n",
    "0\n",
    "1"
   ]
  },
  {
   "cell_type": "code",
   "execution_count": 15,
   "id": "093c8f20-3943-4aa0-9630-6bdeb2af4a37",
   "metadata": {},
   "outputs": [
    {
     "name": "stdout",
     "output_type": "stream",
     "text": [
      "0\n",
      "1\n",
      "1\n",
      "2\n",
      "3\n",
      "5\n",
      "8\n",
      "13\n"
     ]
    }
   ],
   "source": [
    "def fibonacci():\n",
    "    fib1, fib2 = 0, 1\n",
    "    yield fib1\n",
    "    yield fib2\n",
    "    while True:\n",
    "        fib1, fib2 = fib2, fib1+fib2\n",
    "        yield fib2\n",
    "    \n",
    "from sys import stdin\n",
    "exec('\\n'.join(stdin))\n",
    "\n",
    "fib = fibonacci()\n",
    "print(next(fib))\n",
    "print(next(fib))\n",
    "print(next(fib))\n",
    "print(next(fib))\n",
    "print(next(fib))\n",
    "print(next(fib))\n",
    "print(next(fib))\n",
    "print(next(fib))"
   ]
  },
  {
   "cell_type": "raw",
   "id": "7cfc1d4a-2557-4c6d-a746-b459533b7163",
   "metadata": {},
   "source": [
    "Реализуйте генератор tribonacci_generator(), который генерирует последовательность чисел \n",
    "(каждый элемент равен сумме трёх предыдущих): 0, 1, 1, 2, 4, 7, 13, 24, 44, 81, 149, 274... \n",
    "\n",
    "Пример работы функции представлен ниже.\n",
    "\n",
    "gen = tribonacci_generator()\n",
    "print(next(gen))\n",
    "print(next(gen))\n",
    "print(next(gen))\n",
    "0\n",
    "1\n",
    "1\n",
    "Сдайте только код функции-генератора и (после неё) допишите следующий код:\n",
    "\n",
    "from sys import stdin\n",
    "exec('\\n'.join(stdin))"
   ]
  },
  {
   "cell_type": "code",
   "execution_count": 23,
   "id": "658a56f3-13df-4d23-879b-d85d7615f869",
   "metadata": {},
   "outputs": [
    {
     "name": "stdout",
     "output_type": "stream",
     "text": [
      "0\n",
      "1\n",
      "1\n",
      "2\n",
      "4\n",
      "7\n",
      "13\n",
      "24\n",
      "44\n"
     ]
    }
   ],
   "source": [
    "def tribonacci_generator():\n",
    "    trib1, trib2, trib3 = 0, 1, 1\n",
    "    yield trib1\n",
    "    yield trib2\n",
    "    yield trib3\n",
    "    while True:\n",
    "        trib1, trib2, trib3 = trib2, trib3, trib1+trib2+trib3\n",
    "        yield trib3\n",
    "\n",
    "from sys import stdin\n",
    "exec('\\n'.join(stdin))\n",
    "\n",
    "trib = tribonacci_generator()\n",
    "print(next(trib))\n",
    "print(next(trib))\n",
    "print(next(trib))\n",
    "print(next(trib))\n",
    "print(next(trib))\n",
    "print(next(trib))\n",
    "print(next(trib))\n",
    "print(next(trib))\n",
    "print(next(trib))"
   ]
  },
  {
   "cell_type": "raw",
   "id": "19c36948-c19a-4ad7-b1ee-9c9665913be3",
   "metadata": {},
   "source": [
    "Напишите генератор cyclic_shift(s), который принимает строку s и на каждой итерации возвращает новую строку, где символы сдвинуты на одну позицию влево. Генератор должен продолжать возвращать сдвинутые версии строки до тех пор, пока не вернется к исходному порядку (на этом генератор должен прекратить работу).\n",
    "\n",
    "Пример работы функции:\n",
    "\n",
    "for seq in cyclic_shift(\"abcdef\"):\n",
    "    print(seq)\n",
    "abcdef\n",
    "bcdefa\n",
    "cdefab\n",
    "defabc\n",
    "efabcd\n",
    "fabcde\n",
    "Сдайте только код функции-генератора и (после неё) допишите следующий код:\n",
    "\n",
    "from sys import stdin\n",
    "exec('\\n'.join(stdin))\n"
   ]
  },
  {
   "cell_type": "code",
   "execution_count": 33,
   "id": "9cfd14c1-8351-4254-b477-6a0b7ff4b740",
   "metadata": {},
   "outputs": [
    {
     "name": "stdout",
     "output_type": "stream",
     "text": [
      "abcdef\n",
      "bcdefa\n",
      "cdefab\n",
      "defabc\n",
      "efabcd\n",
      "fabcde\n"
     ]
    }
   ],
   "source": [
    "def cyclic_shift(s):\n",
    "    yield s\n",
    "    lst = list(s)\n",
    "    for i in range(len(s)-1):\n",
    "        lst.append(lst.pop(0))\n",
    "        yield ''.join(lst)\n",
    "from sys import stdin\n",
    "exec('\\n'.join(stdin))\n",
    "\n",
    "for seq in cyclic_shift(\"abcdef\"):\n",
    "    print(seq)"
   ]
  },
  {
   "cell_type": "code",
   "execution_count": null,
   "id": "7f090f36-5d46-42bd-bdbe-79ec86c96470",
   "metadata": {},
   "outputs": [],
   "source": []
  }
 ],
 "metadata": {
  "kernelspec": {
   "display_name": "Python 3 (ipykernel)",
   "language": "python",
   "name": "python3"
  },
  "language_info": {
   "codemirror_mode": {
    "name": "ipython",
    "version": 3
   },
   "file_extension": ".py",
   "mimetype": "text/x-python",
   "name": "python",
   "nbconvert_exporter": "python",
   "pygments_lexer": "ipython3",
   "version": "3.12.6"
  }
 },
 "nbformat": 4,
 "nbformat_minor": 5
}
