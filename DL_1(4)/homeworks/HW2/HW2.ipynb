{
  "cells": [
    {
      "cell_type": "markdown",
      "metadata": {
        "id": "w35Q6hOIy4sk",
        "pycharm": {
          "name": "#%% md\n"
        }
      },
      "source": [
        "# Глубинное обучение, ИИ ВШЭ\n",
        "\n",
        "## Домашнее задание 2. Классификация при помощи CNN.\n",
        "\n",
        "### Общая информация\n",
        "\n",
        "### Оценивание и штрафы\n",
        "\n",
        "Максимально допустимая оценка за работу без бонусов — 10 баллов. Сдавать задание после указанного срока жесткого дедлайна нельзя.\n",
        "\n",
        "Сдача работы после мягкого дедлайна штрафуется ступенчато, -1 балл в сутки. Один раз за модуль студентам предоставляется возможность использовать отсрочку и сдать в жесткий дедлайн без штрафа.\n",
        "\n",
        "Задание выполняется самостоятельно. «Похожие» решения считаются плагиатом и все задействованные студенты (в том числе те, у кого списали) не могут получить за него больше 0 баллов. Если вы нашли решение какого-то из заданий (или его часть) в открытом источнике, необходимо указать ссылку на этот источник в отдельном блоке в конце вашей работы (скорее всего вы будете не единственным, кто это нашел, поэтому чтобы исключить подозрение в плагиате, необходима ссылка на источник).\n",
        "\n",
        "Неэффективная реализация кода может негативно отразиться на оценке. Также оценка может быть снижена за плохо читаемый код и плохо оформленные графики. Все ответы должны сопровождаться кодом или комментариями о том, как они были получены.\n",
        "\n",
        "Использование генеративных моделей допустимо на следующих условиях:\n",
        "- Количество кода, написанное генеративными моделями, не превышает 30%\n",
        "- Указана модель, использованная для генерации, а также промпт\n",
        "- В конце работы необходимо описать свой опыт использования генеративного ИИ для решения данного домашнего задания. Укажите как часто Вам приходилось исправлять код своими руками или просить модель что-то исправить. Было ли это быстрее, чем написать код самим?\n",
        "\n",
        "В случае невыполнения этих требований работа не оценивается и оценка за неё не превышает 0 баллов.\n",
        "\n",
        "### О задании\n",
        "\n",
        "В этом задании вам предстоит познакомиться со сверточными сетями и их обучением для классификации изображений с использованием библиотеки PyTorch.\n"
      ]
    },
    {
      "cell_type": "code",
      "execution_count": 1,
      "metadata": {
        "id": "SaACifdX2QOo",
        "pycharm": {
          "name": "#%%\n"
        }
      },
      "outputs": [],
      "source": [
        "import matplotlib.pyplot as plt\n",
        "import numpy as np\n",
        "import torch\n",
        "import torch.nn as nn\n",
        "import torch.nn.functional as F\n",
        "import torch.optim as optim\n",
        "import torchvision\n",
        "import torchvision.transforms as transforms\n",
        "from sklearn.model_selection import train_test_split\n",
        "from tqdm.auto import tqdm"
      ]
    },
    {
      "cell_type": "markdown",
      "metadata": {
        "id": "TIXaUYM-0JFl",
        "pycharm": {
          "name": "#%% md\n"
        }
      },
      "source": [
        "## 0. Загрузка данных\n",
        "\n",
        "Работать мы будем с набором данных [CIFAR10](https://www.cs.toronto.edu/~kriz/cifar.html). CIFAR10 представляет собой набор изображений 32х32 пикселя, разделенных на 10 классов.\n",
        "\n",
        "![title](https://pytorch.org/tutorials/_images/cifar10.png)\n",
        "\n",
        "\n"
      ]
    },
    {
      "cell_type": "markdown",
      "metadata": {
        "id": "g-0EEjl_10vB",
        "pycharm": {
          "name": "#%% md\n"
        }
      },
      "source": [
        "Набор данных уже определен в <code>torchvision.datasets</code>, так что возьмем его оттуда.\n",
        "\n"
      ]
    },
    {
      "cell_type": "code",
      "execution_count": 2,
      "metadata": {
        "id": "Cbwe92dT3aPZ",
        "pycharm": {
          "name": "#%%\n"
        }
      },
      "outputs": [],
      "source": [
        "# Для тру нормализации\n",
        "# mean = [0.4914, 0.4822, 0.4465]\n",
        "# std = [0.2470, 0.2435, 0.2616]\n",
        "# Тут взяты значения как в одном из туториалов пайторча :)\n",
        "\n",
        "\n",
        "def get_cifar10_data(batch_size, transform_train):\n",
        "    torch.manual_seed(0)\n",
        "    np.random.seed(0)\n",
        "\n",
        "    transform_test = transforms.Compose(\n",
        "        [\n",
        "            transforms.ToTensor(),\n",
        "            # Переводим цвета пикселей в отрезок [-1, 1]\n",
        "            transforms.Normalize((0.5, 0.5, 0.5), (0.5, 0.5, 0.5)),\n",
        "        ]\n",
        "    )\n",
        "\n",
        "    # Загружаем данные\n",
        "    trainvalset = torchvision.datasets.CIFAR10(\n",
        "        root=\"./data\", train=True, download=True, transform=transform_train\n",
        "    )\n",
        "    testset = torchvision.datasets.CIFAR10(\n",
        "        root=\"./data\", train=False, download=True, transform=transform_test\n",
        "    )\n",
        "\n",
        "    # В датасете определено разбиение только на train и test,\n",
        "    # так что валидацию дополнительно выделяем из обучающей выборки\n",
        "    train_idx, valid_idx = train_test_split(\n",
        "        np.arange(len(trainvalset)), test_size=0.3, shuffle=True, random_state=0\n",
        "    )\n",
        "    trainset = torch.utils.data.Subset(trainvalset, train_idx)\n",
        "    valset = torch.utils.data.Subset(trainvalset, valid_idx)\n",
        "\n",
        "    train_loader = torch.utils.data.DataLoader(\n",
        "        trainset, batch_size=batch_size, shuffle=True, num_workers=2\n",
        "    )\n",
        "    val_loader = torch.utils.data.DataLoader(\n",
        "        valset, batch_size=batch_size, shuffle=False, num_workers=2\n",
        "    )\n",
        "    test_loader = torch.utils.data.DataLoader(\n",
        "        testset, batch_size=batch_size, shuffle=False, num_workers=2\n",
        "    )\n",
        "\n",
        "    return train_loader, val_loader, test_loader"
      ]
    },
    {
      "cell_type": "code",
      "execution_count": 3,
      "metadata": {
        "colab": {
          "base_uri": "https://localhost:8080/"
        },
        "id": "2G2rLnN5y6Jj",
        "outputId": "59f31cc0-78fc-4391-e2e1-18abbe6c9f42",
        "pycharm": {
          "name": "#%%\n"
        }
      },
      "outputs": [
        {
          "output_type": "stream",
          "name": "stderr",
          "text": [
            "100%|██████████| 170M/170M [00:16<00:00, 10.5MB/s]\n"
          ]
        }
      ],
      "source": [
        "transform = transforms.Compose(\n",
        "    [transforms.ToTensor(), transforms.Normalize((0.5, 0.5, 0.5), (0.5, 0.5, 0.5))]\n",
        ")\n",
        "\n",
        "train_loader, val_loader, test_loader = get_cifar10_data(\n",
        "    batch_size=64, transform_train=transform\n",
        ")"
      ]
    },
    {
      "cell_type": "markdown",
      "metadata": {
        "id": "-82HWgXs77W1",
        "pycharm": {
          "name": "#%% md\n"
        }
      },
      "source": [
        "Посмотрим на изображения:"
      ]
    },
    {
      "cell_type": "code",
      "execution_count": 4,
      "metadata": {
        "colab": {
          "base_uri": "https://localhost:8080/",
          "height": 210
        },
        "id": "ACnwaC5iy6L2",
        "outputId": "65174d80-7c21-4c32-f6ec-d0d43ec88d74",
        "pycharm": {
          "name": "#%%\n"
        }
      },
      "outputs": [
        {
          "output_type": "display_data",
          "data": {
            "text/plain": [
              "<Figure size 640x480 with 1 Axes>"
            ],
            "image/png": "[encoded data removed]"
          },
          "metadata": {}
        },
        {
          "output_type": "stream",
          "name": "stdout",
          "text": [
            "ship frog horse horse\n"
          ]
        }
      ],
      "source": [
        "def imshow(img):\n",
        "    img = img / 2 + 0.5\n",
        "    npimg = img.numpy()\n",
        "    plt.imshow(np.transpose(npimg, (1, 2, 0)))\n",
        "    plt.show()\n",
        "\n",
        "\n",
        "dataiter = iter(train_loader)\n",
        "images, labels = next(dataiter)\n",
        "\n",
        "imshow(torchvision.utils.make_grid(images[:4]))\n",
        "\n",
        "classes = (\n",
        "    \"plane\",\n",
        "    \"car\",\n",
        "    \"bird\",\n",
        "    \"cat\",\n",
        "    \"deer\",\n",
        "    \"dog\",\n",
        "    \"frog\",\n",
        "    \"horse\",\n",
        "    \"ship\",\n",
        "    \"truck\",\n",
        ")\n",
        "print(*[classes[labels[i]] for i in range(4)])"
      ]
    },
    {
      "cell_type": "markdown",
      "metadata": {
        "id": "KFDilng29YZ_",
        "pycharm": {
          "name": "#%% md\n"
        }
      },
      "source": [
        "## 1. Задание сверточной сети (3 балла)"
      ]
    },
    {
      "cell_type": "markdown",
      "metadata": {
        "id": "OX7Ul8YbYdQR",
        "pycharm": {
          "name": "#%% md\n"
        }
      },
      "source": [
        "Теперь нам нужно задать сверточную нейронную сеть, которую мы будем обучать классифицировать изображения.\n",
        "\n",
        "Используем сеть, основанную на одном блоке архитектуры, похожей на ResNet. Обратите внимание, это не ResNet 1 в 1.\n",
        "\n",
        "<img src=\"https://i.ibb.co/2hg962h/basic-block.png\" width=\"500\"/>\n",
        "\n",
        "__Указания:__\n",
        "\n",
        "- Все сверточные слои должны иметь 32 выходных канала, а также не должны изменять ширину и высоту изображения.\n",
        "- Выход блока сократите до размерности 32х4х4, применив average pooling.\n",
        "- Для получения итоговых логитов, распрямите выход пулинга в вектор из 512 элементов, а затем пропустите его через линейный слой."
      ]
    },
    {
      "cell_type": "markdown",
      "metadata": {
        "id": "sbyIylT9O9Dr",
        "pycharm": {
          "name": "#%% md\n"
        }
      },
      "source": [
        "**Задание 1.1 (3 балла).**\n",
        "\n",
        "Определите архитектуру сети соответственно схеме и указаниям выше.\n",
        "\n",
        "Ключевые слова: <code>Conv2d</code>, <code>BatchNorm2d</code>, <code>AvgPool2d</code>."
      ]
    },
    {
      "cell_type": "markdown",
      "source": [
        "Архитектура ResNet"
      ],
      "metadata": {
        "id": "eFxGmYa_u9h-"
      }
    },
    {
      "cell_type": "code",
      "execution_count": 5,
      "metadata": {
        "id": "s9ml1QGKy6N9",
        "pycharm": {
          "name": "#%%\n"
        }
      },
      "outputs": [],
      "source": [
        "n_classes = 10\n",
        "\n",
        "class BasicBlockNet(nn.Module):\n",
        "    def __init__(self):\n",
        "        super().__init__()\n",
        "        self.net = nn.Sequential(\n",
        "            nn.Conv2d(3, 32, 3, padding=1),\n",
        "            nn.BatchNorm2d(32),\n",
        "            nn.ReLU(),\n",
        "            nn.Conv2d(32, 32, 3, padding=1),\n",
        "            nn.BatchNorm2d(32)\n",
        "        )\n",
        "        self.short_net = nn.Conv2d(3, 32, 1)\n",
        "        self.pool = nn.AvgPool2d(8)\n",
        "        self.flatten = nn.Flatten()\n",
        "        self.fc = nn.Linear(32 * 4 * 4, 10)\n",
        "\n",
        "    def forward(self, x):\n",
        "        out = self.net(x)\n",
        "        out_short = self.short_net(x)\n",
        "        out = F.relu(out + out_short)\n",
        "        out = self.pool(out)\n",
        "        out = self.flatten(out)\n",
        "        out = self.fc(out)\n",
        "\n",
        "        return out"
      ]
    },
    {
      "cell_type": "code",
      "execution_count": 6,
      "metadata": {
        "id": "FI4BQg7Ky6Pw",
        "pycharm": {
          "name": "#%%\n"
        },
        "colab": {
          "base_uri": "https://localhost:8080/"
        },
        "outputId": "d4c78f7e-6fbd-455c-f028-49ce93d3edc4"
      },
      "outputs": [
        {
          "output_type": "execute_result",
          "data": {
            "text/plain": [
              "BasicBlockNet(\n",
              "  (net): Sequential(\n",
              "    (0): Conv2d(3, 32, kernel_size=(3, 3), stride=(1, 1), padding=(1, 1))\n",
              "    (1): BatchNorm2d(32, eps=1e-05, momentum=0.1, affine=True, track_running_stats=True)\n",
              "    (2): ReLU()\n",
              "    (3): Conv2d(32, 32, kernel_size=(3, 3), stride=(1, 1), padding=(1, 1))\n",
              "    (4): BatchNorm2d(32, eps=1e-05, momentum=0.1, affine=True, track_running_stats=True)\n",
              "  )\n",
              "  (short_net): Conv2d(3, 32, kernel_size=(1, 1), stride=(1, 1))\n",
              "  (pool): AvgPool2d(kernel_size=8, stride=8, padding=0)\n",
              "  (flatten): Flatten(start_dim=1, end_dim=-1)\n",
              "  (fc): Linear(in_features=512, out_features=10, bias=True)\n",
              ")"
            ]
          },
          "metadata": {},
          "execution_count": 6
        }
      ],
      "source": [
        "net = BasicBlockNet()\n",
        "net"
      ]
    },
    {
      "cell_type": "markdown",
      "metadata": {
        "id": "igPoGZEub8d3",
        "pycharm": {
          "name": "#%% md\n"
        }
      },
      "source": [
        "Проверим, что выход сети имеет корректную размерность:"
      ]
    },
    {
      "cell_type": "code",
      "execution_count": 7,
      "metadata": {
        "id": "cCIzFUpJ_Agw",
        "pycharm": {
          "name": "#%%\n"
        }
      },
      "outputs": [],
      "source": [
        "assert net(torch.zeros((10, 3, 32, 32))).shape == (10, 10)"
      ]
    },
    {
      "cell_type": "markdown",
      "metadata": {
        "id": "08osX622cDGz",
        "pycharm": {
          "name": "#%% md\n"
        }
      },
      "source": [
        "Чтобы проводить вычисления на GPU, в PyTorch необходимо руками перекладывать объекты, с которыми вы хотите проводить вычисления, на графический ускоритель. Это делается следующим образрм:"
      ]
    },
    {
      "cell_type": "code",
      "execution_count": 8,
      "metadata": {
        "id": "56hDOMCFcDZX",
        "pycharm": {
          "name": "#%%\n"
        },
        "colab": {
          "base_uri": "https://localhost:8080/"
        },
        "outputId": "f47f9a34-f298-4acf-ba13-a1cf7e88b24e"
      },
      "outputs": [
        {
          "output_type": "stream",
          "name": "stdout",
          "text": [
            "cuda\n"
          ]
        }
      ],
      "source": [
        "device = torch.device('cuda' if torch.cuda.is_available() else 'cpu')\n",
        "print(device)"
      ]
    },
    {
      "cell_type": "code",
      "execution_count": 9,
      "metadata": {
        "id": "ohnDWbp0qbtC",
        "pycharm": {
          "name": "#%%\n"
        }
      },
      "outputs": [],
      "source": [
        "net = net.to(device)"
      ]
    },
    {
      "cell_type": "markdown",
      "metadata": {
        "id": "H_bOlTVUp5QF",
        "pycharm": {
          "name": "#%% md\n"
        }
      },
      "source": [
        "Подключение GPU в google.colab:\n",
        "\n",
        "**Среда выполнения** -> **Сменить среду выполнения** -> **Аппаратный ускоритель** -> **GPU**"
      ]
    },
    {
      "cell_type": "markdown",
      "metadata": {
        "id": "AGi6XX_7_Bgg",
        "pycharm": {
          "name": "#%% md\n"
        }
      },
      "source": [
        "## 2. Обучение и тестирование модели (3 балла)"
      ]
    },
    {
      "cell_type": "markdown",
      "metadata": {
        "id": "0agj_MQoO9Ds",
        "pycharm": {
          "name": "#%% md\n"
        }
      },
      "source": [
        "**Задание 2.1 (2 балла).** Переходим к обучению модели. Заполните пропуски в функциях <code>test</code> и <code>train_epoch</code>. В качестве функции потерь будем использовать [кросс-энтропию](https://pytorch.org/docs/stable/generated/torch.nn.functional.cross_entropy.html), а в качестве метрики качества accuracy."
      ]
    },
    {
      "cell_type": "code",
      "source": [
        "def test(model, loader):\n",
        "    loss_log = []\n",
        "    acc_log = []\n",
        "    model.eval()\n",
        "\n",
        "    for data, target in loader:\n",
        "        data, target = data.to(device), target.to(device)\n",
        "        data = data.float()\n",
        "        y_pred = model(data)\n",
        "        loss = F.cross_entropy(y_pred, target)\n",
        "\n",
        "        loss_log.append(loss.item())\n",
        "\n",
        "        pred_classes = torch.argmax(y_pred, dim=1)\n",
        "        acc = (pred_classes == target).sum() / target.size(0)\n",
        "\n",
        "        acc_log.append(acc.item())\n",
        "\n",
        "    return np.mean(loss_log), np.mean(acc_log)\n",
        "\n",
        "\n",
        "def train_epoch(model, optimizer, train_loader):\n",
        "    loss_log = []\n",
        "    acc_log = []\n",
        "    model.train()\n",
        "\n",
        "    for data, target in train_loader:\n",
        "        data, target = data.to(device), target.to(device)\n",
        "        data = data.float()\n",
        "        y_pred = model(data)\n",
        "        loss = F.cross_entropy(y_pred, target)\n",
        "        loss.backward()\n",
        "        optimizer.step()\n",
        "        optimizer.zero_grad()\n",
        "\n",
        "        loss_log.append(loss.item())\n",
        "\n",
        "        pred_classes = torch.argmax(y_pred, dim=1)\n",
        "        acc = (pred_classes == target).sum() / target.size(0)\n",
        "\n",
        "        acc_log.append(acc.item())\n",
        "\n",
        "    return loss_log, acc_log\n",
        "\n",
        "\n",
        "def train(model, optimizer, n_epochs, train_loader, val_loader, scheduler=None):\n",
        "    train_loss_log, train_acc_log, val_loss_log, val_acc_log = [], [], [], []\n",
        "\n",
        "    for epoch in range(n_epochs):\n",
        "        train_loss, train_acc = train_epoch(model, optimizer, train_loader)\n",
        "        val_loss, val_acc = test(model, val_loader)\n",
        "\n",
        "        train_loss_log.extend(train_loss)\n",
        "        train_acc_log.extend(train_acc)\n",
        "\n",
        "        val_loss_log.append(val_loss)\n",
        "        val_acc_log.append(val_acc)\n",
        "\n",
        "        print(f\"Epoch {epoch}\")\n",
        "        print(f\" train loss: {np.mean(train_loss)}, train acc: {np.mean(train_acc)}\")\n",
        "        print(f\" val loss: {val_loss}, val acc: {val_acc}\\n\")\n",
        "\n",
        "        if scheduler is not None:\n",
        "            scheduler.step()\n",
        "\n",
        "    return train_loss_log, train_acc_log, val_loss_log, val_acc_log"
      ],
      "metadata": {
        "id": "mZeof_lJWy5L"
      },
      "execution_count": 10,
      "outputs": []
    },
    {
      "cell_type": "markdown",
      "metadata": {
        "id": "iSOqk_CAO9Dt",
        "pycharm": {
          "name": "#%% md\n"
        }
      },
      "source": [
        "Запустим обучение модели. В качестве оптимизатора будем использовать стохастический градиентный спуск, который является де-факто стандартом в задачах компьютерного зрения (наравне с <code>Adam</code>).\n",
        "\n",
        "__Замечание:__ Для достижения наилучшего качества в нашем случае потребуется обучать модель несколько сотен эпох. Однако в целях экономии вашего времени и сил, во всех экспериментах мы ограничимся 20 эпохами."
      ]
    },
    {
      "cell_type": "code",
      "execution_count": null,
      "metadata": {
        "id": "MKZBGhuAgMDu",
        "pycharm": {
          "name": "#%%\n"
        },
        "scrolled": true,
        "colab": {
          "base_uri": "https://localhost:8080/"
        },
        "outputId": "3a60d52e-4ffa-40ae-c210-e6ebe8db577c"
      },
      "outputs": [
        {
          "output_type": "stream",
          "name": "stdout",
          "text": [
            "Epoch 0\n",
            " train loss: 1.463200527200751, train acc: 0.47949448298710573\n",
            " val loss: 1.214601350337901, val acc: 0.5683289007937654\n",
            "\n",
            "Epoch 1\n",
            " train loss: 1.157560685108087, train acc: 0.5957128166934472\n",
            " val loss: 1.1457291907452523, val acc: 0.6033244680851064\n",
            "\n",
            "Epoch 2\n",
            " train loss: 1.0462632310019986, train acc: 0.6381765801248428\n",
            " val loss: 1.0574518330553744, val acc: 0.6298758866939139\n",
            "\n",
            "Epoch 3\n",
            " train loss: 0.983797746123082, train acc: 0.6590493601462523\n",
            " val loss: 1.0882822762144373, val acc: 0.6235150710065314\n",
            "\n",
            "Epoch 4\n",
            " train loss: 0.9531661039950425, train acc: 0.6688593628201668\n",
            " val loss: 1.006794697426735, val acc: 0.6518838654173181\n",
            "\n",
            "Epoch 5\n",
            " train loss: 0.9255486504469319, train acc: 0.6788448354661791\n",
            " val loss: 0.9780284678682368, val acc: 0.6676418441407224\n",
            "\n",
            "Epoch 6\n",
            " train loss: 0.8961629570075319, train acc: 0.690429942590445\n",
            " val loss: 1.0531199143287984, val acc: 0.64663120584285\n",
            "\n",
            "Epoch 7\n",
            " train loss: 0.881816792095819, train acc: 0.6915235701383141\n",
            " val loss: 0.9224938884694526, val acc: 0.6855718085106383\n",
            "\n",
            "Epoch 8\n",
            " train loss: 0.8608181532165904, train acc: 0.7008398081528421\n",
            " val loss: 0.9865394145884412, val acc: 0.6572473404255319\n",
            "\n",
            "Epoch 9\n",
            " train loss: 0.8461302829398969, train acc: 0.7067649843923789\n",
            " val loss: 0.9192023807383598, val acc: 0.6831560284533399\n",
            "\n",
            "Epoch 10\n",
            " train loss: 0.8340490148206952, train acc: 0.7092623726977291\n",
            " val loss: 0.9101039082445996, val acc: 0.6875\n",
            "\n",
            "Epoch 11\n",
            " train loss: 0.8275288115144865, train acc: 0.7128533886599149\n",
            " val loss: 0.8923956183677024, val acc: 0.6892508866939139\n",
            "\n",
            "Epoch 12\n",
            " train loss: 0.8105466992371261, train acc: 0.7169708148652936\n",
            " val loss: 0.9000310091262168, val acc: 0.695567376055616\n",
            "\n",
            "Epoch 13\n",
            " train loss: 0.8003011250517704, train acc: 0.7228225385685072\n",
            " val loss: 0.9316392708331981, val acc: 0.681538120736467\n",
            "\n",
            "Epoch 14\n",
            " train loss: 0.7915819060105075, train acc: 0.7238304714180216\n",
            " val loss: 0.8534069571089238, val acc: 0.7103058510638298\n",
            "\n",
            "Epoch 15\n",
            " train loss: 0.7801695704133245, train acc: 0.729106816447849\n",
            " val loss: 0.9004773380908561, val acc: 0.6923758866939139\n",
            "\n",
            "Epoch 16\n",
            " train loss: 0.7827172525622074, train acc: 0.7268420280224662\n",
            " val loss: 0.8935219201635807, val acc: 0.6995789007937655\n",
            "\n",
            "Epoch 17\n",
            " train loss: 0.7660885473382975, train acc: 0.7305228193673616\n",
            " val loss: 0.9290017097554308, val acc: 0.6895833335024245\n",
            "\n",
            "Epoch 18\n",
            " train loss: 0.7576568728173236, train acc: 0.7380435492918304\n",
            " val loss: 0.9053694170840243, val acc: 0.6985150710065314\n",
            "\n",
            "Epoch 19\n",
            " train loss: 0.7524825210872036, train acc: 0.7364316728694783\n",
            " val loss: 0.8812645643315417, val acc: 0.7017730497299357\n",
            "\n"
          ]
        }
      ],
      "source": [
        "optimizer = optim.SGD(net.parameters(), lr=0.1, momentum=0.9)\n",
        "train_loss_log, train_acc_log, val_loss_log, val_acc_log = train(\n",
        "    net, optimizer, 20, train_loader, val_loader\n",
        ")"
      ]
    },
    {
      "cell_type": "markdown",
      "metadata": {
        "id": "gUb1jQW8O9Dt",
        "pycharm": {
          "name": "#%% md\n"
        }
      },
      "source": [
        "Посчитайте точность на тестовой выборке:"
      ]
    },
    {
      "cell_type": "code",
      "execution_count": null,
      "metadata": {
        "id": "Jyuc55B9_Amc",
        "pycharm": {
          "name": "#%%\n"
        },
        "colab": {
          "base_uri": "https://localhost:8080/"
        },
        "outputId": "b772eda1-6886-4f10-9a1f-5247fd846f32"
      },
      "outputs": [
        {
          "output_type": "stream",
          "name": "stdout",
          "text": [
            " test loss: 0.8892154701196464, test acc: 0.6942675159235668\n",
            "\n"
          ]
        }
      ],
      "source": [
        "test_loss_log, test_acc_log = test(net, test_loader)\n",
        "print(f\" test loss: {test_loss_log}, test acc: {test_acc_log}\\n\")"
      ]
    },
    {
      "cell_type": "markdown",
      "metadata": {
        "id": "zM38Q9fwO9Dt",
        "pycharm": {
          "name": "#%% md\n"
        }
      },
      "source": [
        "Если вы все сделали правильно, у вас должна была получиться точность $\\ge 67\\%$."
      ]
    },
    {
      "cell_type": "markdown",
      "metadata": {
        "id": "DHFNSKcoO9Dt",
        "pycharm": {
          "name": "#%% md\n"
        }
      },
      "source": [
        "**Задание 2.2 (1 балл).** Постройте графики зависимости функции потерь и точности классификации от номера шага оптимизатора. На каждом графике расположите данные и для обучающей и для валидационной выборки, итого у вас должно получиться два графика. Обратите внимание, что на обучающей выборке эти данные считаются по каждому батчу, на валидационной же они считаются по всей выборке раз в эпоху."
      ]
    },
    {
      "cell_type": "code",
      "source": [
        "fig, axs = plt.subplots(1, 2, figsize=(14, 5))\n",
        "\n",
        "# Loss\n",
        "axs[0].plot(train_loss_log, c=\"#FF69B4\", label=\"train loss\", zorder=1)\n",
        "steps = list(\n",
        "    range(0, len(train_loss_log) + 1, int(len(train_loss_log) / len(val_loss_log)))\n",
        ")[1:]\n",
        "axs[0].plot(steps, val_loss_log, c=\"#00FFFF\", label=\"val loss\", zorder=1)\n",
        "axs[0].set_title(\"loss\", fontsize=14)\n",
        "axs[0].set_xlabel(\"train steps\")\n",
        "axs[0].set_ylabel(\"loss\")\n",
        "axs[0].legend()\n",
        "axs[0].grid(True)\n",
        "\n",
        "# Accuracy\n",
        "axs[1].plot(train_acc_log, c=\"#FF69B4\", label=\"train accuracy\", zorder=1)\n",
        "steps = list(\n",
        "    range(0, len(train_acc_log) + 1, int(len(train_acc_log) / len(val_acc_log)))\n",
        ")[1:]\n",
        "axs[1].plot(steps, val_acc_log, c=\"#00FFFF\", label=\"val accuracy\", zorder=1)\n",
        "axs[1].set_title(\"accuracy\", fontsize=14)\n",
        "axs[1].set_xlabel(\"train steps\")\n",
        "axs[1].set_ylabel(\"accuracy\")\n",
        "axs[1].legend()\n",
        "axs[1].grid(True)\n",
        "plt.show()"
      ],
      "metadata": {
        "colab": {
          "base_uri": "https://localhost:8080/",
          "height": 488
        },
        "id": "HcpkmTCz5hgI",
        "outputId": "306b1bce-2c7d-4805-cab4-bebfe80c6e20"
      },
      "execution_count": null,
      "outputs": [
        {
          "output_type": "display_data",
          "data": {
            "text/plain": [
              "<Figure size 1400x500 with 2 Axes>"
            ],
            "image/png": "[encoded data removed]"
          },
          "metadata": {}
        }
      ]
    },
    {
      "cell_type": "markdown",
      "metadata": {
        "id": "_ttOJPj-O9Dt",
        "pycharm": {
          "name": "#%% md\n"
        }
      },
      "source": [
        "## 3. Расписание длины шага (2 балла)"
      ]
    },
    {
      "cell_type": "markdown",
      "metadata": {
        "id": "qiz3JstuO9Dt",
        "pycharm": {
          "name": "#%% md\n"
        }
      },
      "source": [
        "С курса \"Машинное обучение 1\" вы уже должны знать, что сходимость стохастического градиентного спуска мы можем теоретически гарантировать только если будем определенным образом со временем уменьшать длину шага. На практике при обучении нейронных сетей такая техника оказывается очень полезной, однако теоретически обоснованными способами уменьшения длины шага фантазия не ограничивается.\n",
        "\n",
        "Одним из простейших способов является кусочно постоянная функция: на нескольких фиксированных эпохах уменьшаем длину шага в константу раз."
      ]
    },
    {
      "cell_type": "code",
      "execution_count": null,
      "metadata": {
        "id": "V2Z0OT3nO9Du",
        "pycharm": {
          "name": "#%%\n"
        },
        "colab": {
          "base_uri": "https://localhost:8080/"
        },
        "outputId": "29d4c939-b7bd-4c1c-feec-82a6811f6519"
      },
      "outputs": [
        {
          "output_type": "stream",
          "name": "stdout",
          "text": [
            "Epoch 0\n",
            " train loss: 1.467176029625497, train acc: 0.4781682554503028\n",
            " val loss: 1.307462062480602, val acc: 0.5363253547790202\n",
            "\n",
            "Epoch 1\n",
            " train loss: 1.152665197631341, train acc: 0.5975981000572498\n",
            " val loss: 1.1350802977034387, val acc: 0.6045434397585848\n",
            "\n",
            "Epoch 2\n",
            " train loss: 1.0567641825954919, train acc: 0.63214530565621\n",
            " val loss: 1.2735909784093815, val acc: 0.5656028369639782\n",
            "\n",
            "Epoch 3\n",
            " train loss: 0.996950589542633, train acc: 0.6515286302217835\n",
            " val loss: 1.0131596988820015, val acc: 0.6529033688788718\n",
            "\n",
            "Epoch 4\n",
            " train loss: 0.9532524453002749, train acc: 0.6666272199785905\n",
            " val loss: 0.9960766566560624, val acc: 0.6524822695458189\n",
            "\n",
            "Epoch 5\n",
            " train loss: 0.9201831654722119, train acc: 0.6810524942016253\n",
            " val loss: 0.9449746512352152, val acc: 0.6736037234042553\n",
            "\n",
            "Epoch 6\n",
            " train loss: 0.9011110765297626, train acc: 0.6851495168762626\n",
            " val loss: 0.9542483768564589, val acc: 0.6751329787234043\n",
            "\n",
            "Epoch 7\n",
            " train loss: 0.884529922191578, train acc: 0.6923845978062158\n",
            " val loss: 0.8906958790535623, val acc: 0.6932402483960416\n",
            "\n",
            "Epoch 8\n",
            " train loss: 0.862373678514247, train acc: 0.7001052821358118\n",
            " val loss: 0.8855757452071982, val acc: 0.6976063829787233\n",
            "\n",
            "Epoch 9\n",
            " train loss: 0.8510386290563308, train acc: 0.7040390767824497\n",
            " val loss: 0.8836014991110944, val acc: 0.6974512412192974\n",
            "\n",
            "Epoch 10\n",
            " train loss: 0.7458064303864509, train acc: 0.7430138417964007\n",
            " val loss: 0.8323689708050261, val acc: 0.7171764186088075\n",
            "\n",
            "Epoch 11\n",
            " train loss: 0.7282975648395322, train acc: 0.7467558436245544\n",
            " val loss: 0.8295645027718646, val acc: 0.7180407803109352\n",
            "\n",
            "Epoch 12\n",
            " train loss: 0.7244787333325451, train acc: 0.7511099503942555\n",
            " val loss: 0.8259812210468536, val acc: 0.7164450356300841\n",
            "\n",
            "Epoch 13\n",
            " train loss: 0.7198086497552652, train acc: 0.7492491512455496\n",
            " val loss: 0.8283639003621771, val acc: 0.7152925531914893\n",
            "\n",
            "Epoch 14\n",
            " train loss: 0.7144644025583807, train acc: 0.7511099503942555\n",
            " val loss: 0.8228948628648799, val acc: 0.7172650710065314\n",
            "\n",
            "Epoch 15\n",
            " train loss: 0.7019886173975315, train acc: 0.7568310917622428\n",
            " val loss: 0.818162781507411, val acc: 0.7199246454746165\n",
            "\n",
            "Epoch 16\n",
            " train loss: 0.7003136520193961, train acc: 0.7586306804276908\n",
            " val loss: 0.816349389324797, val acc: 0.7209663122258287\n",
            "\n",
            "Epoch 17\n",
            " train loss: 0.6983739831220951, train acc: 0.7594345782966893\n",
            " val loss: 0.8156633611689222, val acc: 0.7205008866939139\n",
            "\n",
            "Epoch 18\n",
            " train loss: 0.698988240532291, train acc: 0.7584715330840465\n",
            " val loss: 0.8178512136986915, val acc: 0.7203457446808511\n",
            "\n",
            "Epoch 19\n",
            " train loss: 0.6983335823419979, train acc: 0.7585245821985945\n",
            " val loss: 0.8161356860018791, val acc: 0.7203014186088075\n",
            "\n"
          ]
        }
      ],
      "source": [
        "net = BasicBlockNet().to(device)\n",
        "optimizer = optim.SGD(net.parameters(), lr=0.1, momentum=0.9)\n",
        "scheduler = optim.lr_scheduler.MultiStepLR(optimizer, milestones=[10, 15], gamma=0.1)\n",
        "tr_loss_log, tr_acc_log, val_loss_log, val_acc_log = train(\n",
        "    net, optimizer, 20, train_loader, val_loader, scheduler\n",
        ")"
      ]
    },
    {
      "cell_type": "markdown",
      "metadata": {
        "id": "5Xc76KvzO9Du",
        "pycharm": {
          "name": "#%% md\n"
        }
      },
      "source": [
        "Посчитайте точность на тестовой выборке:"
      ]
    },
    {
      "cell_type": "code",
      "execution_count": null,
      "metadata": {
        "id": "1AjiYhKqO9Du",
        "pycharm": {
          "name": "#%%\n"
        },
        "colab": {
          "base_uri": "https://localhost:8080/"
        },
        "outputId": "ad8c8827-1262-4160-f04f-51134a7a4e92"
      },
      "outputs": [
        {
          "output_type": "stream",
          "name": "stdout",
          "text": [
            " test loss: 0.8413877528943833, test acc: 0.7123805732484076\n",
            "\n"
          ]
        }
      ],
      "source": [
        "ts_loss_log, ts_acc_log = test(net, test_loader)\n",
        "print(f\" test loss: {ts_loss_log}, test acc: {ts_acc_log}\\n\")"
      ]
    },
    {
      "cell_type": "markdown",
      "metadata": {
        "id": "yE0dgLYrO9Du",
        "pycharm": {
          "name": "#%% md\n"
        }
      },
      "source": [
        "**Задание 3.0 (0.5 баллов).** Здесь может возникнуть вопрос: а что будет, если мы не будем уменьшать длину шага в процессе обучения, а сразу возьмем констатную, равную значению нашей кусочно-постоянной функции на последних эпохах, то есть $0.001$ в нашем случае. Запустите обучение и проверьте, что в таком случае мы получим худшее качество на тестовой выборке."
      ]
    },
    {
      "cell_type": "code",
      "execution_count": null,
      "metadata": {
        "id": "qZ2iB-LBO9Du",
        "pycharm": {
          "name": "#%%\n"
        },
        "outputId": "ef0909c0-d9fd-426b-8ca1-fe32d329286e",
        "colab": {
          "base_uri": "https://localhost:8080/"
        }
      },
      "outputs": [
        {
          "output_type": "stream",
          "name": "stdout",
          "text": [
            "Epoch 0\n",
            " train loss: 1.8587619345192499, train acc: 0.34669218464351004\n",
            " val loss: 1.638534021884837, val acc: 0.431781914893617\n",
            "\n",
            "Epoch 1\n",
            " train loss: 1.5726200045789618, train acc: 0.44763645862094664\n",
            " val loss: 1.4885172468550663, val acc: 0.47794769507773377\n",
            "\n",
            "Epoch 2\n",
            " train loss: 1.4449705208023462, train acc: 0.49218137902795067\n",
            " val loss: 1.4080905006286946, val acc: 0.5047650710065315\n",
            "\n",
            "Epoch 3\n",
            " train loss: 1.3608066447256253, train acc: 0.5222887830498886\n",
            " val loss: 1.3148924822502948, val acc: 0.5404698582405739\n",
            "\n",
            "Epoch 4\n",
            " train loss: 1.299643113364685, train acc: 0.5453977867061957\n",
            " val loss: 1.2576500342247334, val acc: 0.5649157801841168\n",
            "\n",
            "Epoch 5\n",
            " train loss: 1.2457128600838852, train acc: 0.5636752416708352\n",
            " val loss: 1.2149466225441465, val acc: 0.5780363476022761\n",
            "\n",
            "Epoch 6\n",
            " train loss: 1.2047301500327408, train acc: 0.5813854793307986\n",
            " val loss: 1.2027148203646882, val acc: 0.5806959220703612\n",
            "\n",
            "Epoch 7\n",
            " train loss: 1.1603742990458905, train acc: 0.5960147885343492\n",
            " val loss: 1.1608305469472358, val acc: 0.5918661348363187\n",
            "\n",
            "Epoch 8\n",
            " train loss: 1.1255547477296763, train acc: 0.6105257574557387\n",
            " val loss: 1.119101752626135, val acc: 0.6104609929500742\n",
            "\n",
            "Epoch 9\n",
            " train loss: 1.0901711899140198, train acc: 0.6221231066330696\n",
            " val loss: 1.071094234192625, val acc: 0.6232491135597229\n",
            "\n",
            "Epoch 10\n",
            " train loss: 1.0650426532930168, train acc: 0.6311863411279222\n",
            " val loss: 1.0563184733086444, val acc: 0.6308510638297873\n",
            "\n",
            "Epoch 11\n",
            " train loss: 1.0380854143521032, train acc: 0.6365279773253627\n",
            " val loss: 1.0390616181048942, val acc: 0.6354831561129144\n",
            "\n",
            "Epoch 12\n",
            " train loss: 1.0212347867066072, train acc: 0.6459543941443755\n",
            " val loss: 1.0037141495562614, val acc: 0.650753546268382\n",
            "\n",
            "Epoch 13\n",
            " train loss: 0.999863385718309, train acc: 0.6537322081639082\n",
            " val loss: 1.0331653972889514, val acc: 0.6380097518575952\n",
            "\n",
            "Epoch 14\n",
            " train loss: 0.986060575876637, train acc: 0.6575925503831895\n",
            " val loss: 0.9832384378352064, val acc: 0.657690602921425\n",
            "\n",
            "Epoch 15\n",
            " train loss: 0.9699727621549227, train acc: 0.6637299229719521\n",
            " val loss: 0.987349320472555, val acc: 0.6570921986661059\n",
            "\n",
            "Epoch 16\n",
            " train loss: 0.95972993626673, train acc: 0.6684798577585865\n",
            " val loss: 0.9773237164984359, val acc: 0.6610593973322118\n",
            "\n",
            "Epoch 17\n",
            " train loss: 0.9534863974538103, train acc: 0.6697244711724234\n",
            " val loss: 0.9576656366916413, val acc: 0.6685283688788718\n",
            "\n",
            "Epoch 18\n",
            " train loss: 0.9367471003881103, train acc: 0.6778205798792447\n",
            " val loss: 0.9601612846902077, val acc: 0.6651817377577437\n",
            "\n",
            "Epoch 19\n",
            " train loss: 0.9318621913737309, train acc: 0.6777879341864717\n",
            " val loss: 0.9353855964985299, val acc: 0.6758200356300841\n",
            "\n"
          ]
        }
      ],
      "source": [
        "net = BasicBlockNet().to(device)\n",
        "optimizer = optim.SGD(net.parameters(), lr=0.001, momentum=0.9)\n",
        "tr_const_loss_log, tr_const_acc_log, val_const_loss_log, val_const_acc_log = train(\n",
        "    net, optimizer, 20, train_loader, val_loader\n",
        ")"
      ]
    },
    {
      "cell_type": "code",
      "source": [
        "ts_const_loss_log, ts_const_acc_log = test(net, test_loader)\n",
        "print(f\" test loss with const lr=0.001: {ts_const_loss_log}, test acc with const lr=0.001: {ts_const_acc_log}\\n\")"
      ],
      "metadata": {
        "id": "qCvrzV65vIVH",
        "colab": {
          "base_uri": "https://localhost:8080/"
        },
        "outputId": "62605738-ca96-4a7d-be59-389ac1b4ba74"
      },
      "execution_count": null,
      "outputs": [
        {
          "output_type": "stream",
          "name": "stdout",
          "text": [
            " test loss with const lr=0.001: 0.9374507255614943, test acc with const lr=0.001: 0.6750597133757962\n",
            "\n"
          ]
        }
      ]
    },
    {
      "cell_type": "markdown",
      "metadata": {
        "id": "xVotU378O9Du",
        "pycharm": {
          "name": "#%% md\n"
        }
      },
      "source": [
        "**Задание 3.1 (1.5 балла).** Изучите, какие еще способы уменьшения длины шага представлены в <code>torch.optim.lr_scheduler</code>. Выберите несколько из них, объясните, как они устроены, и обучите модель с ними. Удалось ли добиться улучшения качества на тестовой выборке?"
      ]
    },
    {
      "cell_type": "code",
      "execution_count": null,
      "metadata": {
        "id": "nkGlzocOO9Du",
        "pycharm": {
          "name": "#%%\n"
        },
        "colab": {
          "base_uri": "https://localhost:8080/"
        },
        "outputId": "afe37c99-e65d-4c4f-849f-273196066ca4"
      },
      "outputs": [
        {
          "output_type": "stream",
          "name": "stdout",
          "text": [
            "Epoch 0\n",
            " train loss: 1.4726643402136221, train acc: 0.47300617001828155\n",
            " val loss: 1.3724273798313547, val acc: 0.5336436170212766\n",
            "\n",
            "Epoch 1\n",
            " train loss: 1.1298639404926265, train acc: 0.6065021873174246\n",
            " val loss: 1.026384334868573, val acc: 0.6447695037151905\n",
            "\n",
            "Epoch 2\n",
            " train loss: 1.015347524796369, train acc: 0.6448811700182815\n",
            " val loss: 1.0135857424837478, val acc: 0.6526152483960416\n",
            "\n",
            "Epoch 3\n",
            " train loss: 0.9514216924498242, train acc: 0.6686879734234574\n",
            " val loss: 0.9863924627608441, val acc: 0.6516843973322117\n",
            "\n",
            "Epoch 4\n",
            " train loss: 0.9097296200025234, train acc: 0.6828765670821697\n",
            " val loss: 0.9495926101157006, val acc: 0.6671985816448293\n",
            "\n",
            "Epoch 5\n",
            " train loss: 0.8807418859092148, train acc: 0.6946330634941784\n",
            " val loss: 0.9324133862840368, val acc: 0.6787234042553192\n",
            "\n",
            "Epoch 6\n",
            " train loss: 0.8567240924678293, train acc: 0.7031943719609346\n",
            " val loss: 0.9052774794558262, val acc: 0.6879210994598713\n",
            "\n",
            "Epoch 7\n",
            " train loss: 0.833518091023949, train acc: 0.7116414208298846\n",
            " val loss: 0.8716069863197652, val acc: 0.6986480497299357\n",
            "\n",
            "Epoch 8\n",
            " train loss: 0.814629673794375, train acc: 0.7176441303990658\n",
            " val loss: 0.8706095911086874, val acc: 0.7004210994598713\n",
            "\n",
            "Epoch 9\n",
            " train loss: 0.7998654325330933, train acc: 0.7212433077299617\n",
            " val loss: 0.86026225394391, val acc: 0.7032136526513607\n",
            "\n",
            "Epoch 10\n",
            " train loss: 0.780873114382763, train acc: 0.7289354270511397\n",
            " val loss: 0.8661025935030998, val acc: 0.7050753547790203\n",
            "\n",
            "Epoch 11\n",
            " train loss: 0.7670305084157906, train acc: 0.7347300209554501\n",
            " val loss: 0.8511519011030806, val acc: 0.7064273050490846\n",
            "\n",
            "Epoch 12\n",
            " train loss: 0.7540755408119676, train acc: 0.7377783038280564\n",
            " val loss: 0.8379637001676762, val acc: 0.7134751773895102\n",
            "\n",
            "Epoch 13\n",
            " train loss: 0.7420574801495567, train acc: 0.7435116871401423\n",
            " val loss: 0.8710780260410714, val acc: 0.7021276595744681\n",
            "\n",
            "Epoch 14\n",
            " train loss: 0.7308846725733232, train acc: 0.7482085728122285\n",
            " val loss: 0.8279815421459523, val acc: 0.7166001773895101\n",
            "\n",
            "Epoch 15\n",
            " train loss: 0.7216046369162948, train acc: 0.7501020175447412\n",
            " val loss: 0.8368051653212689, val acc: 0.7164450356300841\n",
            "\n",
            "Epoch 16\n",
            " train loss: 0.7152738384289541, train acc: 0.7524525006684786\n",
            " val loss: 0.8175705070191241, val acc: 0.720190602921425\n",
            "\n",
            "Epoch 17\n",
            " train loss: 0.7069920988470806, train acc: 0.7554640572729233\n",
            " val loss: 0.8175259425285014, val acc: 0.7193040781832756\n",
            "\n",
            "Epoch 18\n",
            " train loss: 0.698641895811998, train acc: 0.7591407679334637\n",
            " val loss: 0.823593700439372, val acc: 0.7202792553191489\n",
            "\n",
            "Epoch 19\n",
            " train loss: 0.6923725847461324, train acc: 0.7604996409451068\n",
            " val loss: 0.812517572844282, val acc: 0.7242021276595745\n",
            "\n"
          ]
        }
      ],
      "source": [
        "net1 = BasicBlockNet().to(device)\n",
        "optimizer1 = optim.SGD(net1.parameters(), lr=0.1, momentum=0.9)\n",
        "scheduler1 = optim.lr_scheduler.ExponentialLR(optimizer1, gamma=0.9)\n",
        "tr_loss_log_exp, tr_acc_log_exp, val_loss_log_exp, val_acc_log_exp = train(\n",
        "    net1, optimizer1, 20, train_loader, val_loader, scheduler1\n",
        ")"
      ]
    },
    {
      "cell_type": "code",
      "source": [
        "ts_loss_log_exp, ts_acc_log_exp = test(net1, test_loader)\n",
        "print(f\" test loss with ExponentialLR sheduler: {ts_loss_log_exp}, test acc with ExponentialLR sheduler: {ts_acc_log_exp}\\n\")"
      ],
      "metadata": {
        "colab": {
          "base_uri": "https://localhost:8080/"
        },
        "id": "5wh_wbq60bln",
        "outputId": "4d1272da-f683-4a5a-e0e7-5c0e1a704d1d"
      },
      "execution_count": null,
      "outputs": [
        {
          "output_type": "stream",
          "name": "stdout",
          "text": [
            " test loss with ExponentialLR sheduler: 0.8363032365680501, test acc with ExponentialLR sheduler: 0.7128781847133758\n",
            "\n"
          ]
        }
      ]
    },
    {
      "cell_type": "code",
      "source": [
        "net2 = BasicBlockNet().to(device)\n",
        "optimizer2 = optim.SGD(net2.parameters(), lr=0.1, momentum=0.9)\n",
        "scheduler2 = optim.lr_scheduler.StepLR(optimizer2, step_size = 5,  gamma=0.1)\n",
        "tr_loss_log_steplr, tr_acc_log_steplr, val_loss_log_steplr, val_acc_log_steplr = train(\n",
        "    net2, optimizer2, 20, train_loader, val_loader, scheduler2\n",
        ")"
      ],
      "metadata": {
        "colab": {
          "base_uri": "https://localhost:8080/"
        },
        "id": "GSvRinhI0Kwb",
        "outputId": "f6da1586-9929-4072-8236-64ddcddd815e"
      },
      "execution_count": null,
      "outputs": [
        {
          "output_type": "stream",
          "name": "stdout",
          "text": [
            "Epoch 0\n",
            " train loss: 1.5042578419993957, train acc: 0.4614129016342721\n",
            " val loss: 1.3178876602903324, val acc: 0.5375443263256804\n",
            "\n",
            "Epoch 1\n",
            " train loss: 1.2219065354772634, train acc: 0.5718488835983346\n",
            " val loss: 1.1133983563869558, val acc: 0.6091755319148936\n",
            "\n",
            "Epoch 2\n",
            " train loss: 1.1049102470687364, train acc: 0.6164631758573068\n",
            " val loss: 1.0642776796158324, val acc: 0.626817376055616\n",
            "\n",
            "Epoch 3\n",
            " train loss: 1.0355053188813887, train acc: 0.6412697506343207\n",
            " val loss: 1.0874572419105693, val acc: 0.6236702127659575\n",
            "\n",
            "Epoch 4\n",
            " train loss: 0.989995601299258, train acc: 0.6560663685502256\n",
            " val loss: 0.9754504274814687, val acc: 0.6609485816448293\n",
            "\n",
            "Epoch 5\n",
            " train loss: 0.8528154489109242, train acc: 0.7061120723893481\n",
            " val loss: 0.8965166469837756, val acc: 0.6890957446808511\n",
            "\n",
            "Epoch 6\n",
            " train loss: 0.8291865264148991, train acc: 0.715065128079716\n",
            " val loss: 0.887028697703747, val acc: 0.6939494680851064\n",
            "\n",
            "Epoch 7\n",
            " train loss: 0.8207856288121866, train acc: 0.717970586346098\n",
            " val loss: 0.8754934004012574, val acc: 0.6986480497299357\n",
            "\n",
            "Epoch 8\n",
            " train loss: 0.8155759506513257, train acc: 0.7191662314387083\n",
            " val loss: 0.8705242347210012, val acc: 0.7000886526513607\n",
            "\n",
            "Epoch 9\n",
            " train loss: 0.8074537013849785, train acc: 0.7224185492918304\n",
            " val loss: 0.8771065722120569, val acc: 0.6981161348363186\n",
            "\n",
            "Epoch 10\n",
            " train loss: 0.7884201237989736, train acc: 0.7284824693442699\n",
            " val loss: 0.8604033624872248, val acc: 0.704499113559723\n",
            "\n",
            "Epoch 11\n",
            " train loss: 0.7844944366371391, train acc: 0.7321632606891653\n",
            " val loss: 0.857983908754714, val acc: 0.7056072696726373\n",
            "\n",
            "Epoch 12\n",
            " train loss: 0.7828252022401506, train acc: 0.7308288717836523\n",
            " val loss: 0.8580852916900148, val acc: 0.7056072696726373\n",
            "\n",
            "Epoch 13\n",
            " train loss: 0.7819068774553714, train acc: 0.7324529903680359\n",
            " val loss: 0.857538530167113, val acc: 0.7043439718002968\n",
            "\n",
            "Epoch 14\n",
            " train loss: 0.7804662303580227, train acc: 0.7324815552674874\n",
            " val loss: 0.8570888410223291, val acc: 0.7053191489361702\n",
            "\n",
            "Epoch 15\n",
            " train loss: 0.7782462822235916, train acc: 0.7319633063930044\n",
            " val loss: 0.8564159948775109, val acc: 0.7059175531914894\n",
            "\n",
            "Epoch 16\n",
            " train loss: 0.7784293328277372, train acc: 0.7316817380828439\n",
            " val loss: 0.8566787651244631, val acc: 0.704499113559723\n",
            "\n",
            "Epoch 17\n",
            " train loss: 0.7794890255553195, train acc: 0.7313716049821982\n",
            " val loss: 0.8561294672336984, val acc: 0.7052304965384463\n",
            "\n",
            "Epoch 18\n",
            " train loss: 0.7783298400354995, train acc: 0.7334119548963236\n",
            " val loss: 0.8576852793389178, val acc: 0.7072695037151905\n",
            "\n",
            "Epoch 19\n",
            " train loss: 0.7779807015790364, train acc: 0.7331385479548731\n",
            " val loss: 0.8559907854871547, val acc: 0.7058289007937655\n",
            "\n"
          ]
        }
      ]
    },
    {
      "cell_type": "code",
      "source": [
        "ts_loss_log_steplr, ts_acc_log_steplr = test(net2, test_loader)\n",
        "print(f\" test loss with StepLR sheduler: {ts_loss_log_steplr}, test acc with StepLR sheduler: {ts_acc_log_steplr}\\n\")"
      ],
      "metadata": {
        "colab": {
          "base_uri": "https://localhost:8080/"
        },
        "id": "jYgbnJAb0nat",
        "outputId": "3012cf93-8617-4607-dc8b-4777daad3bed"
      },
      "execution_count": null,
      "outputs": [
        {
          "output_type": "stream",
          "name": "stdout",
          "text": [
            " test loss with StepLR sheduler: 0.8741496364781811, test acc with StepLR sheduler: 0.6987460191082803\n",
            "\n"
          ]
        }
      ]
    },
    {
      "cell_type": "code",
      "source": [
        "net3 = BasicBlockNet().to(device)\n",
        "optimizer3 = optim.SGD(net3.parameters(), lr=0.1, momentum=0.9)\n",
        "scheduler3 = optim.lr_scheduler.CosineAnnealingLR(optimizer3, T_max=20)\n",
        "tr_loss_log_cos, tr_acc_log_cos, val_loss_log_cos, val_acc_log_cos = train(\n",
        "    net3, optimizer3, 20, train_loader, val_loader, scheduler3\n",
        ")"
      ],
      "metadata": {
        "colab": {
          "base_uri": "https://localhost:8080/"
        },
        "id": "SqBSbX5c0Qrm",
        "outputId": "0c2f5f3e-2bd7-4f7e-a4d7-9dfdcc871aee"
      },
      "execution_count": null,
      "outputs": [
        {
          "output_type": "stream",
          "name": "stdout",
          "text": [
            "Epoch 0\n",
            " train loss: 1.483978698414902, train acc: 0.469039729787837\n",
            " val loss: 1.2026086551077821, val acc: 0.5798758866939139\n",
            "\n",
            "Epoch 1\n",
            " train loss: 1.156141869982592, train acc: 0.5942682489834494\n",
            " val loss: 1.1006622058279971, val acc: 0.614849290949233\n",
            "\n",
            "Epoch 2\n",
            " train loss: 1.0487604462686362, train acc: 0.6331287542906279\n",
            " val loss: 1.1167804228498581, val acc: 0.6181959220703612\n",
            "\n",
            "Epoch 3\n",
            " train loss: 0.9860213321567236, train acc: 0.6592656372887997\n",
            " val loss: 1.017120827766175, val acc: 0.6470744680851064\n",
            "\n",
            "Epoch 4\n",
            " train loss: 0.9429702816541278, train acc: 0.6728747715897708\n",
            " val loss: 1.0127680291520789, val acc: 0.6559397164811479\n",
            "\n",
            "Epoch 5\n",
            " train loss: 0.90759071800347, train acc: 0.6855698289993258\n",
            " val loss: 0.9871614111230729, val acc: 0.6562056739279565\n",
            "\n",
            "Epoch 6\n",
            " train loss: 0.8768232091035442, train acc: 0.6971018870090436\n",
            " val loss: 0.9040634495146731, val acc: 0.6922872340425532\n",
            "\n",
            "Epoch 7\n",
            " train loss: 0.8506513576838827, train acc: 0.703382084095064\n",
            " val loss: 0.930647127425417, val acc: 0.6802304965384462\n",
            "\n",
            "Epoch 8\n",
            " train loss: 0.8321314755915724, train acc: 0.7119882803076582\n",
            " val loss: 0.9102077108748415, val acc: 0.6860815603682335\n",
            "\n",
            "Epoch 9\n",
            " train loss: 0.8070993808658293, train acc: 0.7203577958469635\n",
            " val loss: 0.8698427301772097, val acc: 0.7021054965384463\n",
            "\n",
            "Epoch 10\n",
            " train loss: 0.7855720273210536, train acc: 0.727454132964014\n",
            " val loss: 0.8759103062305045, val acc: 0.7017287234042553\n",
            "\n",
            "Epoch 11\n",
            " train loss: 0.7680545293434883, train acc: 0.7336486354606461\n",
            " val loss: 0.8723287586202013, val acc: 0.7049645390916378\n",
            "\n",
            "Epoch 12\n",
            " train loss: 0.7495861943177811, train acc: 0.74152030565621\n",
            " val loss: 0.8608271378151914, val acc: 0.707247340425532\n",
            "\n",
            "Epoch 13\n",
            " train loss: 0.7337698941910724, train acc: 0.746282482386943\n",
            " val loss: 0.8458167379206799, val acc: 0.7126994680851064\n",
            "\n",
            "Epoch 14\n",
            " train loss: 0.7168367140580792, train acc: 0.7507100418019338\n",
            " val loss: 0.8233176135002298, val acc: 0.7193484042553191\n",
            "\n",
            "Epoch 15\n",
            " train loss: 0.7006349517832726, train acc: 0.7576880387457895\n",
            " val loss: 0.8139721547035461, val acc: 0.7253324468085106\n",
            "\n",
            "Epoch 16\n",
            " train loss: 0.6854687561936527, train acc: 0.7649190389913876\n",
            " val loss: 0.8086935024312202, val acc: 0.7267287234042553\n",
            "\n",
            "Epoch 17\n",
            " train loss: 0.6760319294833614, train acc: 0.7665105119919646\n",
            " val loss: 0.8025080414528543, val acc: 0.72690602845334\n",
            "\n",
            "Epoch 18\n",
            " train loss: 0.6687438901534246, train acc: 0.7705218399682472\n",
            " val loss: 0.7995900346877727, val acc: 0.7308953901554676\n",
            "\n",
            "Epoch 19\n",
            " train loss: 0.664244623681091, train acc: 0.7725377057762425\n",
            " val loss: 0.7971908308090048, val acc: 0.73100620584285\n",
            "\n"
          ]
        }
      ]
    },
    {
      "cell_type": "code",
      "source": [
        "ts_loss_log_cos, ts_acc_log_cos = test(net3, test_loader)\n",
        "print(f\" test loss with CosineAnnealingLR sheduler: {ts_loss_log_cos}, test acc with CosineAnnealingLR sheduler: {ts_acc_log_cos}\\n\")"
      ],
      "metadata": {
        "colab": {
          "base_uri": "https://localhost:8080/"
        },
        "id": "CAid0uHP0oFP",
        "outputId": "f69aff1e-9c3a-44a6-bb4a-e90b99cfc558"
      },
      "execution_count": null,
      "outputs": [
        {
          "output_type": "stream",
          "name": "stdout",
          "text": [
            " test loss with CosineAnnealingLR sheduler: 0.8146374176262291, test acc with CosineAnnealingLR sheduler: 0.7208399681528662\n",
            "\n"
          ]
        }
      ]
    },
    {
      "cell_type": "markdown",
      "metadata": {
        "id": "5a_zMNNVO9Du",
        "pycharm": {
          "name": "#%% md\n"
        }
      },
      "source": [
        "1. [ExponentialLR](https://pytorch.org/docs/main/generated/torch.optim.lr_scheduler.ExponentialLR.html#torch.optim.lr_scheduler.ExponentialLR) умножает lr после каждой эпохи на gamma(0.9)\n",
        "2. [StepLR](https://pytorch.org/docs/main/generated/torch.optim.lr_scheduler.StepLR.html#torch.optim.lr_scheduler.StepLR) умножает lr после каждых step_size эпох на gamma(0.1)\n",
        "3. [CosineAnnealingLR](https://pytorch.org/docs/main/generated/torch.optim.lr_scheduler.CosineAnnealingLR.html#torch.optim.lr_scheduler.CosineAnnealingLR) изменяет за все эпохи (T=20) lr по косинусоидальному закону (формула по ссылке)\n",
        "\n",
        "\n",
        "Метрика незначительно улучшилась при ExponentialLR на 0.05% и практически на 1% при использовании CosineAnnealingLR, при этом при StepLR accuracy ухудшилась на чуть больше 1%.\n"
      ]
    },
    {
      "cell_type": "markdown",
      "metadata": {
        "id": "7xFXgl_3_E--",
        "pycharm": {
          "name": "#%% md\n"
        }
      },
      "source": [
        "## 4. Аугментации данных (2 балла)"
      ]
    },
    {
      "cell_type": "markdown",
      "metadata": {
        "id": "5G0Easo9O9Du",
        "pycharm": {
          "name": "#%% md\n"
        }
      },
      "source": [
        "Еще одной стандартной техникой, применяющейся в глубинном обучении, а особенно часто в компьютерном зрении, являются аугментации данных. Суть аугментаций состоит в том, что мы можем некоторым синтетическим образом видоизменять объекты обучающей выборки, тем самым расширяя ее, а также делая итоговую модель более устойчивой к таким изменениям.\n",
        "\n",
        "Простейшая аугментация, которую можно применить к картинкам — разворот картинки по горизонтальной оси. То есть при обучении модели с вероятностью $0.5$ мы будем разворачивать картинку из обучающей выборки."
      ]
    },
    {
      "cell_type": "code",
      "execution_count": 11,
      "metadata": {
        "id": "SzeFpgtfO9Du",
        "pycharm": {
          "name": "#%%\n"
        },
        "colab": {
          "base_uri": "https://localhost:8080/",
          "height": 369
        },
        "outputId": "f8c73999-fbef-4deb-cef5-14d62c38b16c"
      },
      "outputs": [
        {
          "output_type": "display_data",
          "data": {
            "text/plain": [
              "<Figure size 640x480 with 1 Axes>"
            ],
            "image/png": "[encoded data removed]"
          },
          "metadata": {}
        },
        {
          "output_type": "display_data",
          "data": {
            "text/plain": [
              "<Figure size 640x480 with 1 Axes>"
            ],
            "image/png": "[encoded data removed]"
          },
          "metadata": {}
        }
      ],
      "source": [
        "dataiter = iter(train_loader)\n",
        "images, labels = next(dataiter)\n",
        "\n",
        "imshow(torchvision.utils.make_grid(images[:4]))\n",
        "\n",
        "imshow(torchvision.utils.make_grid(transforms.functional.hflip(images[:4])))"
      ]
    },
    {
      "cell_type": "markdown",
      "metadata": {
        "id": "BR4a-XJQO9Du",
        "pycharm": {
          "name": "#%% md\n"
        }
      },
      "source": [
        "Наиболее удобным способом работы с аугментациями в PyTorch является их задание в списке <code>transforms</code>, который затем передается в загрузчик данных. Обучим нашу сеть, применяя горизонтальные повороты:"
      ]
    },
    {
      "cell_type": "code",
      "execution_count": 12,
      "metadata": {
        "id": "na0ScBf-_AqX",
        "pycharm": {
          "name": "#%%\n"
        },
        "scrolled": true,
        "colab": {
          "base_uri": "https://localhost:8080/"
        },
        "outputId": "e0592e17-15b9-4dd1-f9d3-0b0f799eb54e"
      },
      "outputs": [
        {
          "output_type": "stream",
          "name": "stdout",
          "text": [
            "Epoch 0\n",
            " train loss: 1.4857028554954739, train acc: 0.4707005746403821\n",
            " val loss: 1.2906211716063478, val acc: 0.536812943346957\n",
            "\n",
            "Epoch 1\n",
            " train loss: 1.1852572367439758, train acc: 0.5833564573929558\n",
            " val loss: 1.1160549848637682, val acc: 0.6117242909492331\n",
            "\n",
            "Epoch 2\n",
            " train loss: 1.0609604708673313, train acc: 0.6302436994460209\n",
            " val loss: 1.076185685269376, val acc: 0.6300753547790202\n",
            "\n",
            "Epoch 3\n",
            " train loss: 1.0004637891893196, train acc: 0.6520305563588465\n",
            " val loss: 0.981999830489463, val acc: 0.6591755319148936\n",
            "\n",
            "Epoch 4\n",
            " train loss: 0.9611929611488496, train acc: 0.6682758226691042\n",
            " val loss: 1.0237418986381368, val acc: 0.6394281914893617\n",
            "\n",
            "Epoch 5\n",
            " train loss: 0.9233308493328268, train acc: 0.6778409833010197\n",
            " val loss: 0.9315125571920516, val acc: 0.6709441489361702\n",
            "\n",
            "Epoch 6\n",
            " train loss: 0.9042664751601176, train acc: 0.6894628166934472\n",
            " val loss: 0.9758961786615088, val acc: 0.6628546100981692\n",
            "\n",
            "Epoch 7\n",
            " train loss: 0.8926772209909324, train acc: 0.6889568098720292\n",
            " val loss: 0.8932824908418858, val acc: 0.691688829787234\n",
            "\n",
            "Epoch 8\n",
            " train loss: 0.8769029211082667, train acc: 0.6941964286336951\n",
            " val loss: 0.9210321360446038, val acc: 0.6875664893617022\n",
            "\n",
            "Epoch 9\n",
            " train loss: 0.8561557143436271, train acc: 0.7008846957897138\n",
            " val loss: 0.8614171435224249, val acc: 0.707779255319149\n",
            "\n",
            "Epoch 10\n",
            " train loss: 0.7684703623463947, train acc: 0.73390571955571\n",
            " val loss: 0.8023624838666713, val acc: 0.723470744680851\n",
            "\n",
            "Epoch 11\n",
            " train loss: 0.7566811825937065, train acc: 0.7384230543534106\n",
            " val loss: 0.7984006796745544, val acc: 0.7267508866939139\n",
            "\n",
            "Epoch 12\n",
            " train loss: 0.747742051779679, train acc: 0.7423078806788219\n",
            " val loss: 0.7905735023478244, val acc: 0.729720744680851\n",
            "\n",
            "Epoch 13\n",
            " train loss: 0.7423460865478411, train acc: 0.743899353679399\n",
            " val loss: 0.7865138849045368, val acc: 0.7270833335024245\n",
            "\n",
            "Epoch 14\n",
            " train loss: 0.7400613483279889, train acc: 0.7440952272912048\n",
            " val loss: 0.7914510316037117, val acc: 0.7275487590343395\n",
            "\n",
            "Epoch 15\n",
            " train loss: 0.728756123911964, train acc: 0.7500571299078695\n",
            " val loss: 0.7828509027653552, val acc: 0.7286125888215734\n",
            "\n",
            "Epoch 16\n",
            " train loss: 0.726326642513711, train acc: 0.7487227410023566\n",
            " val loss: 0.7795673263833878, val acc: 0.7295434398854033\n",
            "\n",
            "Epoch 17\n",
            " train loss: 0.7259134584305709, train acc: 0.7501673087123543\n",
            " val loss: 0.7801247395099478, val acc: 0.7316710994598713\n",
            "\n",
            "Epoch 18\n",
            " train loss: 0.7243530081765526, train acc: 0.7495062353406136\n",
            " val loss: 0.780067015074669, val acc: 0.7312278369639782\n",
            "\n",
            "Epoch 19\n",
            " train loss: 0.7234635818919927, train acc: 0.7494572669104205\n",
            " val loss: 0.7793638450034122, val acc: 0.7300310284533399\n",
            "\n"
          ]
        }
      ],
      "source": [
        "transform = transforms.Compose(\n",
        "    [\n",
        "        transforms.RandomHorizontalFlip(),\n",
        "        transforms.ToTensor(),\n",
        "        transforms.Normalize((0.5, 0.5, 0.5), (0.5, 0.5, 0.5)),\n",
        "    ]\n",
        ")\n",
        "\n",
        "train_loader, val_loader, test_loader = get_cifar10_data(\n",
        "    batch_size=64, transform_train=transform\n",
        ")\n",
        "\n",
        "net = BasicBlockNet().to(device)\n",
        "optimizer = optim.SGD(net.parameters(), lr=0.1, momentum=0.9)\n",
        "scheduler = optim.lr_scheduler.MultiStepLR(optimizer, milestones=[10, 15], gamma=0.1)\n",
        "tr_loss_log, tr_acc_log, val_loss_log, val_acc_log = train(\n",
        "    net, optimizer, 20, train_loader, val_loader, scheduler\n",
        ")"
      ]
    },
    {
      "cell_type": "markdown",
      "metadata": {
        "id": "v3ZIqDQqO9Dv",
        "pycharm": {
          "name": "#%% md\n"
        }
      },
      "source": [
        "Посчитайте точность на тестовой выборке:"
      ]
    },
    {
      "cell_type": "code",
      "execution_count": 14,
      "metadata": {
        "id": "nNJizMkM_Auh",
        "pycharm": {
          "name": "#%%\n"
        },
        "colab": {
          "base_uri": "https://localhost:8080/"
        },
        "outputId": "3166b6bc-f89a-462a-d382-6439476a9352"
      },
      "outputs": [
        {
          "output_type": "stream",
          "name": "stdout",
          "text": [
            " test loss with Augmentation: 0.7934320345046414, test acc with Augmentation: 0.7270103503184714\n",
            "\n"
          ]
        }
      ],
      "source": [
        "ts_loss_log, ts_acc_log = test(net, test_loader)\n",
        "print(f\" test loss with Augmentation: {ts_loss_log}, test acc with Augmentation: {ts_acc_log}\\n\")"
      ]
    },
    {
      "cell_type": "markdown",
      "metadata": {
        "id": "KndehSCHO9Dv",
        "pycharm": {
          "name": "#%% md\n"
        }
      },
      "source": [
        "**Задание 4.1 (2 балла).** Изучите, какие еще способы аугментаций изображений представлены в <code>torchvision.transforms</code>. Выберите несколько из них, объясните, как они устроены, и обучите модель с ними (по отдельности и вместе). Удалось ли добиться улучшения качества на тестовой выборке?"
      ]
    },
    {
      "cell_type": "markdown",
      "source": [
        "1. [RandomRotation](https://pytorch.org/vision/main/generated/torchvision.transforms.v2.RandomRotation.html#torchvision.transforms.v2.RandomRotation) - поворачивает изображение на случайный угол в диапазоне [-degrees, degrees] ([-15, 15])"
      ],
      "metadata": {
        "id": "1gZ1EC19_7_M"
      }
    },
    {
      "cell_type": "code",
      "source": [
        "transform_withRandomRotation = transforms.Compose(\n",
        "    [\n",
        "        transforms.RandomRotation(15),\n",
        "        transforms.ToTensor(),\n",
        "        transforms.Normalize((0.5, 0.5, 0.5), (0.5, 0.5, 0.5)),\n",
        "    ]\n",
        ")\n",
        "\n",
        "train_loader, val_loader, test_loader = get_cifar10_data(\n",
        "    batch_size=64, transform_train=transform_withRandomRotation\n",
        ")\n",
        "\n",
        "net = BasicBlockNet().to(device)\n",
        "optimizer = optim.SGD(net.parameters(), lr=0.1, momentum=0.9)\n",
        "scheduler = optim.lr_scheduler.MultiStepLR(optimizer, milestones=[10, 15], gamma=0.1)\n",
        "tr_loss_log, tr_acc_log, val_loss_log, val_acc_log = train(\n",
        "    net, optimizer, 20, train_loader, val_loader, scheduler\n",
        ")"
      ],
      "metadata": {
        "colab": {
          "base_uri": "https://localhost:8080/"
        },
        "id": "aL01L-Oy4Bqr",
        "outputId": "fd0f163f-ca51-4da3-da97-936743177893"
      },
      "execution_count": 28,
      "outputs": [
        {
          "output_type": "stream",
          "name": "stdout",
          "text": [
            "Epoch 0\n",
            " train loss: 1.5485538231171463, train acc: 0.4444984003656307\n",
            " val loss: 1.3444414316339697, val acc: 0.5186835106382979\n",
            "\n",
            "Epoch 1\n",
            " train loss: 1.2798319095013564, train acc: 0.5466546422820641\n",
            " val loss: 1.1870687053558675, val acc: 0.5783909574468085\n",
            "\n",
            "Epoch 2\n",
            " train loss: 1.1638129231480838, train acc: 0.5923870463040019\n",
            " val loss: 1.1106931615383067, val acc: 0.6101063829787234\n",
            "\n",
            "Epoch 3\n",
            " train loss: 1.097881501291962, train acc: 0.6154103552619543\n",
            " val loss: 1.066381629477156, val acc: 0.6260416667512123\n",
            "\n",
            "Epoch 4\n",
            " train loss: 1.0531740069825208, train acc: 0.6293051384484746\n",
            " val loss: 1.0496062859575799, val acc: 0.6302748228641266\n",
            "\n",
            "Epoch 5\n",
            " train loss: 1.0240817034048397, train acc: 0.6418736942071583\n",
            " val loss: 1.0469916518698348, val acc: 0.6332446808510638\n",
            "\n",
            "Epoch 6\n",
            " train loss: 1.001839646909529, train acc: 0.6495494907909163\n",
            " val loss: 0.994576465576253, val acc: 0.6495124114320633\n",
            "\n",
            "Epoch 7\n",
            " train loss: 0.9858680619182273, train acc: 0.654638123577648\n",
            " val loss: 0.9922644414800279, val acc: 0.6565381207364671\n",
            "\n",
            "Epoch 8\n",
            " train loss: 0.968294663228762, train acc: 0.6618976887226976\n",
            " val loss: 0.9738126762369845, val acc: 0.6598847518575952\n",
            "\n",
            "Epoch 9\n",
            " train loss: 0.9470843256500565, train acc: 0.6670393706239773\n",
            " val loss: 0.9647620495329512, val acc: 0.6652703901554676\n",
            "\n",
            "Epoch 10\n",
            " train loss: 0.8509309071727383, train acc: 0.7025781862260655\n",
            " val loss: 0.8896619981907784, val acc: 0.6885416667512123\n",
            "\n",
            "Epoch 11\n",
            " train loss: 0.8369592172136254, train acc: 0.7077974014569898\n",
            " val loss: 0.8837270916776454, val acc: 0.693594858240574\n",
            "\n",
            "Epoch 12\n",
            " train loss: 0.8346278229404847, train acc: 0.7092705341754055\n",
            " val loss: 0.8838742230800872, val acc: 0.694126773134191\n",
            "\n",
            "Epoch 13\n",
            " train loss: 0.8257208162513467, train acc: 0.7126779185788505\n",
            " val loss: 0.8771984668488199, val acc: 0.6954343973322118\n",
            "\n",
            "Epoch 14\n",
            " train loss: 0.8199850498431344, train acc: 0.7128207430761083\n",
            " val loss: 0.8771516406789739, val acc: 0.7005097518575952\n",
            "\n",
            "Epoch 15\n",
            " train loss: 0.807527189607812, train acc: 0.720602637779996\n",
            " val loss: 0.8644223715396637, val acc: 0.7000221632896586\n",
            "\n",
            "Epoch 16\n",
            " train loss: 0.8086206365438005, train acc: 0.7199782907853832\n",
            " val loss: 0.8642599488826508, val acc: 0.7005097518575952\n",
            "\n",
            "Epoch 17\n",
            " train loss: 0.8045941344998654, train acc: 0.718745919315645\n",
            " val loss: 0.8673460805669744, val acc: 0.6972739361702127\n",
            "\n",
            "Epoch 18\n",
            " train loss: 0.8048756144927233, train acc: 0.7201415187044161\n",
            " val loss: 0.8610930627964912, val acc: 0.698470744680851\n",
            "\n",
            "Epoch 19\n",
            " train loss: 0.8009928710608857, train acc: 0.7220880125514768\n",
            " val loss: 0.8639444620051282, val acc: 0.6975842199427016\n",
            "\n"
          ]
        }
      ]
    },
    {
      "cell_type": "code",
      "source": [
        "ts_loss_log, ts_acc_log = test(net, test_loader)\n",
        "print(f\" test loss with RandomRotation: {ts_loss_log}, test acc with RandomRotation: {ts_acc_log}\\n\")"
      ],
      "metadata": {
        "colab": {
          "base_uri": "https://localhost:8080/"
        },
        "id": "JEdiXc2_4d0p",
        "outputId": "954be4b2-eff2-480a-bf2d-112a1c61e9e5"
      },
      "execution_count": 30,
      "outputs": [
        {
          "output_type": "stream",
          "name": "stdout",
          "text": [
            " test loss with RandomRotation: 0.8284090774454129, test acc with RandomRotation: 0.7151671974522293\n",
            "\n"
          ]
        }
      ]
    },
    {
      "cell_type": "markdown",
      "source": [
        "Метрика на тесте ухудшилась"
      ],
      "metadata": {
        "id": "erN8eGQLFBT-"
      }
    },
    {
      "cell_type": "markdown",
      "source": [
        "2. [RandomCrop](https://pytorch.org/vision/main/generated/torchvision.transforms.v2.RandomCrop.html#torchvision.transforms.v2.RandomCrop) - обрезает изображение в случайном месте. В нашем случае выходной размер обрезки равен 32"
      ],
      "metadata": {
        "id": "5lyE9XqwCRVl"
      }
    },
    {
      "cell_type": "code",
      "source": [
        "transform_withRandomCrop = transforms.Compose(\n",
        "    [\n",
        "        transforms.RandomCrop(size=32),\n",
        "        transforms.ToTensor(),\n",
        "        transforms.Normalize((0.5, 0.5, 0.5), (0.5, 0.5, 0.5)),\n",
        "    ]\n",
        ")\n",
        "\n",
        "train_loader, val_loader, test_loader = get_cifar10_data(\n",
        "    batch_size=64, transform_train=transform_withRandomCrop\n",
        ")\n",
        "\n",
        "net = BasicBlockNet().to(device)\n",
        "optimizer = optim.SGD(net.parameters(), lr=0.1, momentum=0.9)\n",
        "scheduler = optim.lr_scheduler.MultiStepLR(optimizer, milestones=[10, 15], gamma=0.1)\n",
        "tr_loss_log, tr_acc_log, val_loss_log, val_acc_log = train(\n",
        "    net, optimizer, 20, train_loader, val_loader, scheduler\n",
        ")"
      ],
      "metadata": {
        "colab": {
          "base_uri": "https://localhost:8080/"
        },
        "id": "fAxrLTB-BW9M",
        "outputId": "ab10ad9e-b18b-434f-9a59-07a6741bc90d"
      },
      "execution_count": 31,
      "outputs": [
        {
          "output_type": "stream",
          "name": "stdout",
          "text": [
            "Epoch 0\n",
            " train loss: 1.49331017691213, train acc: 0.4687540807933215\n",
            " val loss: 1.2790980359341235, val acc: 0.5419547872340426\n",
            "\n",
            "Epoch 1\n",
            " train loss: 1.1843756282569287, train acc: 0.5839644816501485\n",
            " val loss: 1.1001236159750756, val acc: 0.6183953901554676\n",
            "\n",
            "Epoch 2\n",
            " train loss: 1.0579133383534727, train acc: 0.6334552102376599\n",
            " val loss: 1.0390891245070923, val acc: 0.6423758866939139\n",
            "\n",
            "Epoch 3\n",
            " train loss: 0.9928548915730534, train acc: 0.6553563267482918\n",
            " val loss: 0.9805207201775085, val acc: 0.6602171986661058\n",
            "\n",
            "Epoch 4\n",
            " train loss: 0.949401565509043, train acc: 0.6685084226580381\n",
            " val loss: 0.995642712775697, val acc: 0.6526595744680851\n",
            "\n",
            "Epoch 5\n",
            " train loss: 0.9159811403895209, train acc: 0.6825378689731061\n",
            " val loss: 0.9771886538951955, val acc: 0.658843085106383\n",
            "\n",
            "Epoch 6\n",
            " train loss: 0.8985159601982159, train acc: 0.6878468595867401\n",
            " val loss: 0.9811406072149885, val acc: 0.6584663120990104\n",
            "\n",
            "Epoch 7\n",
            " train loss: 0.8774583727611702, train acc: 0.6953308632430473\n",
            " val loss: 0.9223290778220968, val acc: 0.6837101063829787\n",
            "\n",
            "Epoch 8\n",
            " train loss: 0.8630687921313088, train acc: 0.7001460890883283\n",
            " val loss: 0.9127105773763454, val acc: 0.6877216313747649\n",
            "\n",
            "Epoch 9\n",
            " train loss: 0.8424608265569049, train acc: 0.7078912575240545\n",
            " val loss: 0.8917103409767151, val acc: 0.6948803191489362\n",
            "\n",
            "Epoch 10\n",
            " train loss: 0.7358317424218005, train acc: 0.7445196200986232\n",
            " val loss: 0.8201558029398005, val acc: 0.7182624114320634\n",
            "\n",
            "Epoch 11\n",
            " train loss: 0.7204674372834305, train acc: 0.752676939179736\n",
            " val loss: 0.8141799831644018, val acc: 0.721564716481148\n",
            "\n",
            "Epoch 12\n",
            " train loss: 0.7157914217363982, train acc: 0.7539337947556044\n",
            " val loss: 0.8138675876120304, val acc: 0.7217420212765957\n",
            "\n",
            "Epoch 13\n",
            " train loss: 0.7093702475702087, train acc: 0.7546356751888282\n",
            " val loss: 0.8075709218674517, val acc: 0.7251329787234042\n",
            "\n",
            "Epoch 14\n",
            " train loss: 0.7063135124429706, train acc: 0.7567739619633398\n",
            " val loss: 0.808443246623303, val acc: 0.7229609930768927\n",
            "\n",
            "Epoch 15\n",
            " train loss: 0.6923771078887325, train acc: 0.7619360472863945\n",
            " val loss: 0.8019684846096851, val acc: 0.724157801587531\n",
            "\n",
            "Epoch 16\n",
            " train loss: 0.6891582125501615, train acc: 0.7641273831754541\n",
            " val loss: 0.8019857443393545, val acc: 0.7239361702127659\n",
            "\n",
            "Epoch 17\n",
            " train loss: 0.6879606503019385, train acc: 0.7634703904880684\n",
            " val loss: 0.8018622522658491, val acc: 0.724157801587531\n",
            "\n",
            "Epoch 18\n",
            " train loss: 0.6873551299301754, train acc: 0.764376305901808\n",
            " val loss: 0.8015808520164895, val acc: 0.7251329787234042\n",
            "\n",
            "Epoch 19\n",
            " train loss: 0.6874807032959117, train acc: 0.7624257313703924\n",
            " val loss: 0.8009004510463552, val acc: 0.72475620584285\n",
            "\n"
          ]
        }
      ]
    },
    {
      "cell_type": "code",
      "source": [
        "ts_loss_log, ts_acc_log = test(net, test_loader)\n",
        "print(f\" test loss with RandomCrop: {ts_loss_log}, test acc with RandomCrop: {ts_acc_log}\\n\")"
      ],
      "metadata": {
        "colab": {
          "base_uri": "https://localhost:8080/"
        },
        "id": "XlBy6D3pBZeN",
        "outputId": "1d04ae6e-19a7-4ec3-b98c-b041e36369b3"
      },
      "execution_count": 33,
      "outputs": [
        {
          "output_type": "stream",
          "name": "stdout",
          "text": [
            " test loss with RandomCrop: 0.8175962853963208, test acc with RandomCrop: 0.721437101910828\n",
            "\n"
          ]
        }
      ]
    },
    {
      "cell_type": "markdown",
      "source": [
        "Метри незначительно ухудшилось, но лучше чем при использовании RandomRotation"
      ],
      "metadata": {
        "id": "Q04hQMldGM4d"
      }
    },
    {
      "cell_type": "markdown",
      "source": [
        "3. [ColorJitter](https://pytorch.org/vision/main/generated/torchvision.transforms.v2.ColorJitter.html#torchvision.transforms.v2.ColorJitter) изменяет яркость, контрастность, насыщенность, оттенок и другие свойства изображения, в нашем случае мы изменили: яркость, которая выбирается равномерно из [max(0, 1 - 0.1), 1 + 0.1], контраст, который выбирается равномерно из [max(0, 1 - 0.1), 1 + 0.1] и насыщенность, которая выбирается равномерно из [max(0, 1 - 0.1), 1 + 0.1]"
      ],
      "metadata": {
        "id": "KndeavqK5K7y"
      }
    },
    {
      "cell_type": "code",
      "source": [
        "transform_withColorJitter = transforms.Compose(\n",
        "    [\n",
        "        transforms.ColorJitter(brightness=0.1, contrast=0.1, saturation=0.1),\n",
        "        transforms.ToTensor(),\n",
        "        transforms.Normalize((0.5, 0.5, 0.5), (0.5, 0.5, 0.5)),\n",
        "    ]\n",
        ")\n",
        "\n",
        "train_loader, val_loader, test_loader = get_cifar10_data(\n",
        "    batch_size=64, transform_train=transform_withColorJitter\n",
        ")\n",
        "\n",
        "net = BasicBlockNet().to(device)\n",
        "optimizer = optim.SGD(net.parameters(), lr=0.1, momentum=0.9)\n",
        "scheduler = optim.lr_scheduler.MultiStepLR(optimizer, milestones=[10, 15], gamma=0.1)\n",
        "tr_loss_log, tr_acc_log, val_loss_log, val_acc_log = train(\n",
        "    net, optimizer, 20, train_loader, val_loader, scheduler\n",
        ")"
      ],
      "metadata": {
        "id": "OYiOzty403BP",
        "colab": {
          "base_uri": "https://localhost:8080/"
        },
        "outputId": "642327b7-f017-4a77-9be9-f99c7baaac05"
      },
      "execution_count": 26,
      "outputs": [
        {
          "output_type": "stream",
          "name": "stdout",
          "text": [
            "Epoch 0\n",
            " train loss: 1.4862008151450148, train acc: 0.470349634369287\n",
            " val loss: 1.297847780268243, val acc: 0.5318262412192973\n",
            "\n",
            "Epoch 1\n",
            " train loss: 1.1711052828340687, train acc: 0.5907751697726834\n",
            " val loss: 1.1012636055337621, val acc: 0.6183289007937655\n",
            "\n",
            "Epoch 2\n",
            " train loss: 1.0521130215315322, train acc: 0.6335898733662078\n",
            " val loss: 1.0264998839256612, val acc: 0.6477615249917862\n",
            "\n",
            "Epoch 3\n",
            " train loss: 0.9871140218304106, train acc: 0.6554420214466464\n",
            " val loss: 0.9803971627925304, val acc: 0.6640735816448293\n",
            "\n",
            "Epoch 4\n",
            " train loss: 0.9497784332557831, train acc: 0.670010120166939\n",
            " val loss: 0.9978859602136815, val acc: 0.6493351063829788\n",
            "\n",
            "Epoch 5\n",
            " train loss: 0.9186488042365917, train acc: 0.680375097983498\n",
            " val loss: 1.0064344601428254, val acc: 0.6535239361702128\n",
            "\n",
            "Epoch 6\n",
            " train loss: 0.8977775554116509, train acc: 0.6883283820840951\n",
            " val loss: 0.9521542937197583, val acc: 0.6690381207364671\n",
            "\n",
            "Epoch 7\n",
            " train loss: 0.8859041870947948, train acc: 0.69042586190609\n",
            " val loss: 0.9393718841228079, val acc: 0.6771498228641266\n",
            "\n",
            "Epoch 8\n",
            " train loss: 0.8675691987740274, train acc: 0.6966326064557872\n",
            " val loss: 0.936234616472366, val acc: 0.6749335106382979\n",
            "\n",
            "Epoch 9\n",
            " train loss: 0.843514651441487, train acc: 0.7077157874429901\n",
            " val loss: 0.8994650584586124, val acc: 0.6995567377577436\n",
            "\n",
            "Epoch 10\n",
            " train loss: 0.738336557825479, train acc: 0.7441727606208495\n",
            " val loss: 0.8270584220581866, val acc: 0.7178634752618506\n",
            "\n",
            "Epoch 11\n",
            " train loss: 0.724925243876316, train acc: 0.748751305901808\n",
            " val loss: 0.8270947775942215, val acc: 0.7141179079705097\n",
            "\n",
            "Epoch 12\n",
            " train loss: 0.7188750288604164, train acc: 0.7517873466123829\n",
            " val loss: 0.8198280510750223, val acc: 0.7199689718002968\n",
            "\n",
            "Epoch 13\n",
            " train loss: 0.7143365979957407, train acc: 0.7523178376488974\n",
            " val loss: 0.8187986721383764, val acc: 0.7183732271194458\n",
            "\n",
            "Epoch 14\n",
            " train loss: 0.7109882520474289, train acc: 0.7551253591638597\n",
            " val loss: 0.8174736057190185, val acc: 0.7181072696726373\n",
            "\n",
            "Epoch 15\n",
            " train loss: 0.6962403926923463, train acc: 0.760862823269267\n",
            " val loss: 0.8105890216979574, val acc: 0.7226950356300841\n",
            "\n",
            "Epoch 16\n",
            " train loss: 0.6935306638206816, train acc: 0.7610342126659763\n",
            " val loss: 0.8119600282070485, val acc: 0.7212322696726373\n",
            "\n",
            "Epoch 17\n",
            " train loss: 0.6945829421445264, train acc: 0.7604955602607518\n",
            " val loss: 0.8126938004442986, val acc: 0.7197695037151904\n",
            "\n",
            "Epoch 18\n",
            " train loss: 0.692317931863464, train acc: 0.7635479238177131\n",
            " val loss: 0.8119718559244846, val acc: 0.7195478723404255\n",
            "\n",
            "Epoch 19\n",
            " train loss: 0.6915352194684079, train acc: 0.7620584683618772\n",
            " val loss: 0.8088195531926257, val acc: 0.722872340425532\n",
            "\n"
          ]
        }
      ]
    },
    {
      "cell_type": "code",
      "execution_count": 27,
      "metadata": {
        "id": "Np4rgvdZ_QRF",
        "pycharm": {
          "name": "#%%\n"
        },
        "colab": {
          "base_uri": "https://localhost:8080/"
        },
        "outputId": "3f06d2d9-1799-430d-cfe8-a1a5705d867d"
      },
      "outputs": [
        {
          "output_type": "stream",
          "name": "stdout",
          "text": [
            " test loss with ColorJitter: 0.8202432777471603, test acc with ColorJitter: 0.7191480891719745\n",
            "\n"
          ]
        }
      ],
      "source": [
        "ts_loss_log, ts_acc_log = test(net, test_loader)\n",
        "print(f\" test loss with ColorJitter: {ts_loss_log}, test acc with ColorJitter: {ts_acc_log}\\n\")"
      ]
    },
    {
      "cell_type": "markdown",
      "source": [
        "Метрика на тесте также ухудшилась и хуже, чем при использовании RandomCrop, но лучше, чем при использовании RandomRotation"
      ],
      "metadata": {
        "id": "Acx83pvc590_"
      }
    },
    {
      "cell_type": "code",
      "source": [
        "transform = transforms.Compose(\n",
        "    [\n",
        "        transforms.RandomHorizontalFlip(),\n",
        "        transforms.RandomRotation(15),\n",
        "        transforms.RandomCrop(size=32),\n",
        "        transforms.ColorJitter(brightness=0.1, contrast=0.1, saturation=0.1),\n",
        "        transforms.ToTensor(),\n",
        "        transforms.Normalize((0.5, 0.5, 0.5), (0.5, 0.5, 0.5)),\n",
        "    ]\n",
        ")\n",
        "\n",
        "train_loader, val_loader, test_loader = get_cifar10_data(\n",
        "    batch_size=64, transform_train=transform\n",
        ")\n",
        "\n",
        "net = BasicBlockNet().to(device)\n",
        "optimizer = optim.SGD(net.parameters(), lr=0.1, momentum=0.9)\n",
        "scheduler = optim.lr_scheduler.MultiStepLR(optimizer, milestones=[10, 15], gamma=0.1)\n",
        "tr_loss_log, tr_acc_log, val_loss_log, val_acc_log = train(\n",
        "    net, optimizer, 20, train_loader, val_loader, scheduler\n",
        ")"
      ],
      "metadata": {
        "colab": {
          "base_uri": "https://localhost:8080/"
        },
        "id": "IQiEKQBbCtOG",
        "outputId": "23c7a899-b63c-4cf3-9e5d-f37c9bb1873b"
      },
      "execution_count": 34,
      "outputs": [
        {
          "output_type": "stream",
          "name": "stdout",
          "text": [
            "Epoch 0\n",
            " train loss: 1.5607222131227008, train acc: 0.4392669430816413\n",
            " val loss: 1.364384071877662, val acc: 0.5090868795171697\n",
            "\n",
            "Epoch 1\n",
            " train loss: 1.30067919442597, train acc: 0.5397990664136911\n",
            " val loss: 1.224325277450237, val acc: 0.5675531914893617\n",
            "\n",
            "Epoch 2\n",
            " train loss: 1.191404188463849, train acc: 0.5803653043192527\n",
            " val loss: 1.1516045027590813, val acc: 0.5946143617021277\n",
            "\n",
            "Epoch 3\n",
            " train loss: 1.13604070303427, train acc: 0.6030499151681415\n",
            " val loss: 1.102457879705632, val acc: 0.6113918441407225\n",
            "\n",
            "Epoch 4\n",
            " train loss: 1.0951663755847505, train acc: 0.6170222316843065\n",
            " val loss: 1.1553149172600279, val acc: 0.5996453901554676\n",
            "\n",
            "Epoch 5\n",
            " train loss: 1.064715477840556, train acc: 0.6262854204753199\n",
            " val loss: 1.0620872061303321, val acc: 0.6279255319148936\n",
            "\n",
            "Epoch 6\n",
            " train loss: 1.0379155512483726, train acc: 0.6387805236976805\n",
            " val loss: 1.072058965804729, val acc: 0.6245567377577437\n",
            "\n",
            "Epoch 7\n",
            " train loss: 1.0271405720405649, train acc: 0.6412534277879341\n",
            " val loss: 1.036445710506845, val acc: 0.6370124114320633\n",
            "\n",
            "Epoch 8\n",
            " train loss: 1.0114407275668882, train acc: 0.6428000131516396\n",
            " val loss: 1.0236791572672255, val acc: 0.6431959220703612\n",
            "\n",
            "Epoch 9\n",
            " train loss: 0.9898990513637689, train acc: 0.6513735636714607\n",
            " val loss: 1.0212838297194622, val acc: 0.650753546268382\n",
            "\n",
            "Epoch 10\n",
            " train loss: 0.8997595019270777, train acc: 0.6852515344210037\n",
            " val loss: 0.9083845765032666, val acc: 0.6820700356300841\n",
            "\n",
            "Epoch 11\n",
            " train loss: 0.8795070814912018, train acc: 0.6959715330840465\n",
            " val loss: 0.899161350980718, val acc: 0.6913342199427016\n",
            "\n",
            "Epoch 12\n",
            " train loss: 0.8736846006766533, train acc: 0.6972528728750114\n",
            " val loss: 0.9017530164820082, val acc: 0.6853945037151905\n",
            "\n",
            "Epoch 13\n",
            " train loss: 0.870433464891514, train acc: 0.697073322109592\n",
            " val loss: 0.8900725131339216, val acc: 0.6917109930768927\n",
            "\n",
            "Epoch 14\n",
            " train loss: 0.8682154986932465, train acc: 0.6972610342437214\n",
            " val loss: 0.8857415899317316, val acc: 0.692974290949233\n",
            "\n",
            "Epoch 15\n",
            " train loss: 0.8566893521675898, train acc: 0.7032882280279993\n",
            " val loss: 0.8797483180431609, val acc: 0.6923315603682335\n",
            "\n",
            "Epoch 16\n",
            " train loss: 0.8548285369463333, train acc: 0.7016314638598091\n",
            " val loss: 0.8752119071940159, val acc: 0.6947030143534884\n",
            "\n",
            "Epoch 17\n",
            " train loss: 0.8573412972023979, train acc: 0.6995707104149422\n",
            " val loss: 0.8777106140522246, val acc: 0.6959219859001484\n",
            "\n",
            "Epoch 18\n",
            " train loss: 0.8493863603532641, train acc: 0.7048429747604147\n",
            " val loss: 0.8679612748166348, val acc: 0.6995345744680851\n",
            "\n",
            "Epoch 19\n",
            " train loss: 0.8521312133594666, train acc: 0.7042675959780622\n",
            " val loss: 0.8784787434212705, val acc: 0.697251773134191\n",
            "\n"
          ]
        }
      ]
    },
    {
      "cell_type": "code",
      "source": [
        "ts_loss_log, ts_acc_log = test(net, test_loader)\n",
        "print(f\" test loss: {ts_loss_log}, test acc: {ts_acc_log}\\n\")"
      ],
      "metadata": {
        "colab": {
          "base_uri": "https://localhost:8080/"
        },
        "id": "zhTb33XpC6kV",
        "outputId": "3072fca2-2d89-400d-ed29-7f8a4f37bc1e"
      },
      "execution_count": 36,
      "outputs": [
        {
          "output_type": "stream",
          "name": "stdout",
          "text": [
            " test loss: 0.8371934746481051, test acc: 0.7161624203821656\n",
            "\n"
          ]
        }
      ]
    },
    {
      "cell_type": "markdown",
      "metadata": {
        "id": "4K-MptLiO9Dv",
        "pycharm": {
          "name": "#%% md\n"
        }
      },
      "source": [
        "Улучшить качество не удалось((("
      ]
    },
    {
      "cell_type": "markdown",
      "metadata": {
        "id": "HCENjLw5O9Dv",
        "pycharm": {
          "name": "#%% md\n"
        }
      },
      "source": [
        "## Бонус. Логирование в wandb (1 балл)"
      ]
    },
    {
      "cell_type": "markdown",
      "metadata": {
        "id": "xOyzc1mnO9Dv",
        "pycharm": {
          "name": "#%% md\n"
        }
      },
      "source": [
        "На практике специалиста по глубинному обучению часто встречаются ситуации, когда нейросеть учится на каком-то удаленном сервере. И обычно вам хочется отслеживать прогресс обучения, особенно когда время обучения модели исчисляется днями или неделями. Для таких целей существует несколько инструментов. Вероятно, самый популярный из них — [wandb](https://wandb.ai/site).\n",
        "\n",
        "Ваша задача состоит в том, чтобы разобраться как им пользоваться, и повторить задания 2.1 и 2.2 с его использованием. Обучение вы можете запускать в этом же ноутбуке, но теперь вам необходимо через wandb логировать значения функции потерь и точности на обучающей выборке и на валидационной. Результатом работы должны быть ваш код и публичная ссылка на страничку с графиками, идентичными графикам в задании 2.2.\n",
        "\n",
        "Если вас смущает, что WandB грозится забанить вас, то можете разобраться с любым его аналогом и приложить ссылку на аналог."
      ]
    },
    {
      "cell_type": "code",
      "execution_count": 10,
      "metadata": {
        "id": "m5gSTLAr_QS4",
        "pycharm": {
          "name": "#%%\n"
        },
        "colab": {
          "base_uri": "https://localhost:8080/"
        },
        "outputId": "7bee0013-ae7a-4793-ee94-bccfcd8eb35b"
      },
      "outputs": [
        {
          "output_type": "stream",
          "name": "stdout",
          "text": [
            "\u001b[?25l   \u001b[90m━━━━━━━━━━━━━━━━━━━━━━━━━━━━━━━━━━━━━━━━\u001b[0m \u001b[32m0.0/21.3 MB\u001b[0m \u001b[31m?\u001b[0m eta \u001b[36m-:--:--\u001b[0m\r\u001b[2K   \u001b[91m━━━━━━━━━━━━\u001b[0m\u001b[91m╸\u001b[0m\u001b[90m━━━━━━━━━━━━━━━━━━━━━━━━━━━\u001b[0m \u001b[32m6.7/21.3 MB\u001b[0m \u001b[31m202.9 MB/s\u001b[0m eta \u001b[36m0:00:01\u001b[0m\r\u001b[2K   \u001b[91m━━━━━━━━━━━━━━━━━━━━━━━━━━━━\u001b[0m\u001b[90m╺\u001b[0m\u001b[90m━━━━━━━━━━━\u001b[0m \u001b[32m15.0/21.3 MB\u001b[0m \u001b[31m239.2 MB/s\u001b[0m eta \u001b[36m0:00:01\u001b[0m\r\u001b[2K   \u001b[91m━━━━━━━━━━━━━━━━━━━━━━━━━━━━━━━━━━━━━━━\u001b[0m\u001b[91m╸\u001b[0m \u001b[32m21.3/21.3 MB\u001b[0m \u001b[31m245.5 MB/s\u001b[0m eta \u001b[36m0:00:01\u001b[0m\r\u001b[2K   \u001b[91m━━━━━━━━━━━━━━━━━━━━━━━━━━━━━━━━━━━━━━━\u001b[0m\u001b[91m╸\u001b[0m \u001b[32m21.3/21.3 MB\u001b[0m \u001b[31m245.5 MB/s\u001b[0m eta \u001b[36m0:00:01\u001b[0m\r\u001b[2K   \u001b[90m━━━━━━━━━━━━━━━━━━━━━━━━━━━━━━━━━━━━━━━━\u001b[0m \u001b[32m21.3/21.3 MB\u001b[0m \u001b[31m109.1 MB/s\u001b[0m eta \u001b[36m0:00:00\u001b[0m\n",
            "\u001b[?25h"
          ]
        }
      ],
      "source": [
        "!pip install wandb --upgrade --quiet"
      ]
    },
    {
      "cell_type": "code",
      "source": [
        "!wandb login"
      ],
      "metadata": {
        "colab": {
          "base_uri": "https://localhost:8080/"
        },
        "id": "1JUy_9-KKAWZ",
        "outputId": "aa1214e9-fd85-40bb-dbc2-eef02f7baf85"
      },
      "execution_count": 11,
      "outputs": [
        {
          "output_type": "stream",
          "name": "stdout",
          "text": [
            "\u001b[34m\u001b[1mwandb\u001b[0m: \u001b[33mWARNING\u001b[0m Using legacy-service, which is deprecated. If this is unintentional, you can fix it by ensuring you do not call `wandb.require('legacy-service')` and do not set the WANDB_X_REQUIRE_LEGACY_SERVICE environment variable.\n",
            "\u001b[34m\u001b[1mwandb\u001b[0m: Logging into wandb.ai. (Learn how to deploy a W&B server locally: https://wandb.me/wandb-server)\n",
            "\u001b[34m\u001b[1mwandb\u001b[0m: You can find your API key in your browser here: https://wandb.ai/authorize?ref=models\n",
            "\u001b[34m\u001b[1mwandb\u001b[0m: Paste an API key from your profile and hit enter, or press ctrl+c to quit: \n",
            "\u001b[34m\u001b[1mwandb\u001b[0m: No netrc file found, creating one.\n",
            "\u001b[34m\u001b[1mwandb\u001b[0m: Appending key for api.wandb.ai to your netrc file: /root/.netrc\n",
            "\u001b[34m\u001b[1mwandb\u001b[0m: Currently logged in as: \u001b[33mtaniazharova416\u001b[0m (\u001b[33mtaniazharova416-hse-university\u001b[0m) to \u001b[32mhttps://api.wandb.ai\u001b[0m. Use \u001b[1m`wandb login --relogin`\u001b[0m to force relogin\n"
          ]
        }
      ]
    },
    {
      "cell_type": "code",
      "source": [
        "import wandb"
      ],
      "metadata": {
        "id": "wD33CGmvLohq"
      },
      "execution_count": 12,
      "outputs": []
    },
    {
      "cell_type": "code",
      "source": [
        "def test(model, loader):\n",
        "    loss_log = []\n",
        "    acc_log = []\n",
        "    model.eval()\n",
        "\n",
        "    for data, target in loader:\n",
        "        data, target = data.to(device), target.to(device)\n",
        "        data = data.float()\n",
        "        y_pred = model(data)\n",
        "        loss = F.cross_entropy(y_pred, target)\n",
        "\n",
        "        loss_log.append(loss.item())\n",
        "\n",
        "        pred_classes = torch.argmax(y_pred, dim=1)\n",
        "        acc = (pred_classes == target).sum() / target.size(0)\n",
        "\n",
        "        acc_log.append(acc.item())\n",
        "\n",
        "    wandb.log(\n",
        "            {\n",
        "                \"val loss\": np.mean(loss_log),\n",
        "                \"val accuracy\": np.mean(acc_log),\n",
        "            }\n",
        "    )\n",
        "\n",
        "    return np.mean(loss_log), np.mean(acc_log)\n",
        "\n",
        "\n",
        "def train_epoch(model, optimizer, train_loader):\n",
        "    loss_log = []\n",
        "    acc_log = []\n",
        "    model.train()\n",
        "\n",
        "    for data, target in train_loader:\n",
        "        data, target = data.to(device), target.to(device)\n",
        "        data = data.float()\n",
        "        y_pred = model(data)\n",
        "        loss = F.cross_entropy(y_pred, target)\n",
        "        loss.backward()\n",
        "        optimizer.step()\n",
        "        optimizer.zero_grad()\n",
        "\n",
        "        loss_log.append(loss.item())\n",
        "\n",
        "        pred_classes = torch.argmax(y_pred, dim=1)\n",
        "        acc = (pred_classes == target).sum() / target.size(0)\n",
        "\n",
        "        acc_log.append(acc.item())\n",
        "        wandb.log(\n",
        "                {\n",
        "                    \"train loss\": loss.item(),\n",
        "                    \"train accuracy\": acc.item(),\n",
        "                }\n",
        "        )\n",
        "    return loss_log, acc_log\n",
        "\n",
        "\n",
        "def train(model, optimizer, n_epochs, train_loader, val_loader, scheduler=None):\n",
        "    train_loss_log, train_acc_log, val_loss_log, val_acc_log = [], [], [], []\n",
        "\n",
        "    for epoch in range(n_epochs):\n",
        "        train_loss, train_acc = train_epoch(model, optimizer, train_loader)\n",
        "        val_loss, val_acc = test(model, val_loader)\n",
        "\n",
        "        train_loss_log.extend(train_loss)\n",
        "        train_acc_log.extend(train_acc)\n",
        "\n",
        "        val_loss_log.append(val_loss)\n",
        "        val_acc_log.append(val_acc)\n",
        "\n",
        "        print(f\"Epoch {epoch}\")\n",
        "        print(f\" train loss: {np.mean(train_loss)}, train acc: {np.mean(train_acc)}\")\n",
        "        print(f\" val loss: {val_loss}, val acc: {val_acc}\\n\")\n",
        "\n",
        "        if scheduler is not None:\n",
        "            scheduler.step()\n",
        "\n",
        "    return train_loss_log, train_acc_log, val_loss_log, val_acc_log"
      ],
      "metadata": {
        "id": "bFIESzJxLMIk"
      },
      "execution_count": 13,
      "outputs": []
    },
    {
      "cell_type": "code",
      "source": [
        "net = BasicBlockNet().to(device)\n",
        "wandb.init(project=\"HW2\")\n",
        "wandb.watch(net)\n",
        "optimizer = optim.SGD(net.parameters(), lr=0.1, momentum=0.9)\n",
        "train_loss_log, train_acc_log, val_loss_log, val_acc_log = train(\n",
        "    net, optimizer, 20, train_loader, val_loader\n",
        ")"
      ],
      "metadata": {
        "colab": {
          "base_uri": "https://localhost:8080/",
          "height": 1000
        },
        "id": "MDCD3PBTSAuy",
        "outputId": "a85fce79-0fcc-4b87-c83f-e8f649d032d1"
      },
      "execution_count": 14,
      "outputs": [
        {
          "output_type": "stream",
          "name": "stderr",
          "text": [
            "\u001b[34m\u001b[1mwandb\u001b[0m: Currently logged in as: \u001b[33mtaniazharova416\u001b[0m (\u001b[33mtaniazharova416-hse-university\u001b[0m) to \u001b[32mhttps://api.wandb.ai\u001b[0m. Use \u001b[1m`wandb login --relogin`\u001b[0m to force relogin\n"
          ]
        },
        {
          "output_type": "display_data",
          "data": {
            "text/plain": [
              "<IPython.core.display.HTML object>"
            ],
            "text/html": [
              "Tracking run with wandb version 0.19.10"
            ]
          },
          "metadata": {}
        },
        {
          "output_type": "display_data",
          "data": {
            "text/plain": [
              "<IPython.core.display.HTML object>"
            ],
            "text/html": [
              "Run data is saved locally in <code>/content/wandb/run-20250423_154040-f8ud7qk1</code>"
            ]
          },
          "metadata": {}
        },
        {
          "output_type": "display_data",
          "data": {
            "text/plain": [
              "<IPython.core.display.HTML object>"
            ],
            "text/html": [
              "Syncing run <strong><a href='https://wandb.ai/taniazharova416-hse-university/HW2/runs/f8ud7qk1' target=\"_blank\">treasured-night-9</a></strong> to <a href='https://wandb.ai/taniazharova416-hse-university/HW2' target=\"_blank\">Weights & Biases</a> (<a href='https://wandb.me/developer-guide' target=\"_blank\">docs</a>)<br>"
            ]
          },
          "metadata": {}
        },
        {
          "output_type": "display_data",
          "data": {
            "text/plain": [
              "<IPython.core.display.HTML object>"
            ],
            "text/html": [
              " View project at <a href='https://wandb.ai/taniazharova416-hse-university/HW2' target=\"_blank\">https://wandb.ai/taniazharova416-hse-university/HW2</a>"
            ]
          },
          "metadata": {}
        },
        {
          "output_type": "display_data",
          "data": {
            "text/plain": [
              "<IPython.core.display.HTML object>"
            ],
            "text/html": [
              " View run at <a href='https://wandb.ai/taniazharova416-hse-university/HW2/runs/f8ud7qk1' target=\"_blank\">https://wandb.ai/taniazharova416-hse-university/HW2/runs/f8ud7qk1</a>"
            ]
          },
          "metadata": {}
        },
        {
          "output_type": "stream",
          "name": "stdout",
          "text": [
            "Epoch 0\n",
            " train loss: 1.4965105500256122, train acc: 0.4665872291193584\n",
            " val loss: 1.320983975745262, val acc: 0.5441932624958931\n",
            "\n",
            "Epoch 1\n",
            " train loss: 1.1776651740074158, train acc: 0.5885348655623971\n",
            " val loss: 1.1523600177561983, val acc: 0.6034131206096487\n",
            "\n",
            "Epoch 2\n",
            " train loss: 1.058404080937506, train acc: 0.6326921194301445\n",
            " val loss: 1.0232001482172215, val acc: 0.6469858156873824\n",
            "\n",
            "Epoch 3\n",
            " train loss: 1.0058016956833207, train acc: 0.6498555433161733\n",
            " val loss: 1.005244443771687, val acc: 0.648847517815042\n",
            "\n",
            "Epoch 4\n",
            " train loss: 0.9705622950245301, train acc: 0.6621751763485032\n",
            " val loss: 0.9797769024017009, val acc: 0.660283688027808\n",
            "\n",
            "Epoch 5\n",
            " train loss: 0.9429270810902227, train acc: 0.6720586315587408\n",
            " val loss: 0.9757130939909753, val acc: 0.6585771276595744\n",
            "\n",
            "Epoch 6\n",
            " train loss: 0.9167640029403366, train acc: 0.6823868829981719\n",
            " val loss: 0.969721637380884, val acc: 0.6657358156873825\n",
            "\n",
            "Epoch 7\n",
            " train loss: 0.9031897253702502, train acc: 0.6859330113234859\n",
            " val loss: 0.9412089302184734, val acc: 0.6802083335024245\n",
            "\n",
            "Epoch 8\n",
            " train loss: 0.8891531959094339, train acc: 0.6884018347293847\n",
            " val loss: 0.9660961077568379, val acc: 0.6687943263256804\n",
            "\n",
            "Epoch 9\n",
            " train loss: 0.8821919850283174, train acc: 0.6934904675161163\n",
            " val loss: 0.9681846271169946, val acc: 0.66850620584285\n",
            "\n",
            "Epoch 10\n",
            " train loss: 0.8623172247431614, train acc: 0.7001624119347148\n",
            " val loss: 0.9416248116087407, val acc: 0.6742464539852548\n",
            "\n",
            "Epoch 11\n",
            " train loss: 0.8526812465469842, train acc: 0.7042063854948041\n",
            " val loss: 1.0328762143216235, val acc: 0.6496675531914894\n",
            "\n",
            "Epoch 12\n",
            " train loss: 0.8367159506629547, train acc: 0.7090869026166647\n",
            " val loss: 0.9839511059700174, val acc: 0.6622118795171698\n",
            "\n",
            "Epoch 13\n",
            " train loss: 0.8270520209939214, train acc: 0.7130900692242373\n",
            " val loss: 0.9113948411129891, val acc: 0.6896498228641267\n",
            "\n",
            "Epoch 14\n",
            " train loss: 0.8146053943817096, train acc: 0.7159628820157792\n",
            " val loss: 0.9210690746916101, val acc: 0.6883200356300841\n",
            "\n",
            "Epoch 15\n",
            " train loss: 0.806726361541469, train acc: 0.718745919315645\n",
            " val loss: 0.9011624042024003, val acc: 0.6940159574468086\n",
            "\n",
            "Epoch 16\n",
            " train loss: 0.8025344189058928, train acc: 0.7197783364892224\n",
            " val loss: 0.9106660426931178, val acc: 0.6970079787234043\n",
            "\n",
            "Epoch 17\n",
            " train loss: 0.7882663768322856, train acc: 0.7284049361235917\n",
            " val loss: 0.9360008046982137, val acc: 0.6843971632896586\n",
            "\n",
            "Epoch 18\n",
            " train loss: 0.7814529551775408, train acc: 0.7298250196184929\n",
            " val loss: 0.8784273566083706, val acc: 0.6969414893617021\n",
            "\n",
            "Epoch 19\n",
            " train loss: 0.7775822834842165, train acc: 0.731220619007264\n",
            " val loss: 0.8692817378551402, val acc: 0.7064273050490846\n",
            "\n"
          ]
        }
      ]
    },
    {
      "cell_type": "markdown",
      "source": [
        "[Ссылка на графики](https://api.wandb.ai/links/taniazharova416-hse-university/64vffwu2)"
      ],
      "metadata": {
        "id": "QcWGjWgRWgYs"
      }
    },
    {
      "cell_type": "code",
      "source": [
        "fig, axs = plt.subplots(1, 2, figsize=(14, 5))\n",
        "\n",
        "# Loss\n",
        "axs[0].plot(train_loss_log, c=\"#FF69B4\", label=\"train loss\", zorder=1)\n",
        "steps = list(\n",
        "    range(0, len(train_loss_log) + 1, int(len(train_loss_log) / len(val_loss_log)))\n",
        ")[1:]\n",
        "axs[0].plot(steps, val_loss_log, c=\"#00FFFF\", label=\"val loss\", zorder=1)\n",
        "axs[0].set_title(\"loss\", fontsize=14)\n",
        "axs[0].set_xlabel(\"train steps\")\n",
        "axs[0].set_ylabel(\"loss\")\n",
        "axs[0].legend()\n",
        "axs[0].grid(True)\n",
        "\n",
        "# Accuracy\n",
        "axs[1].plot(train_acc_log, c=\"#FF69B4\", label=\"train accuracy\", zorder=1)\n",
        "steps = list(\n",
        "    range(0, len(train_acc_log) + 1, int(len(train_acc_log) / len(val_acc_log)))\n",
        ")[1:]\n",
        "axs[1].plot(steps, val_acc_log, c=\"#00FFFF\", label=\"val accuracy\", zorder=1)\n",
        "axs[1].set_title(\"accuracy\", fontsize=14)\n",
        "axs[1].set_xlabel(\"train steps\")\n",
        "axs[1].set_ylabel(\"accuracy\")\n",
        "axs[1].legend()\n",
        "axs[1].grid(True)\n",
        "plt.show()"
      ],
      "metadata": {
        "colab": {
          "base_uri": "https://localhost:8080/",
          "height": 488
        },
        "outputId": "9e841b4e-8428-4fd1-937a-928b0ddade47",
        "id": "Ujr6lQhJLMIl"
      },
      "execution_count": 15,
      "outputs": [
        {
          "output_type": "display_data",
          "data": {
            "text/plain": [
              "<Figure size 1400x500 with 2 Axes>"
            ],
            "image/png": "[encoded data removed]"
          },
          "metadata": {}
        }
      ]
    }
  ],
  "metadata": {
    "accelerator": "GPU",
    "colab": {
      "provenance": []
    },
    "kernelspec": {
      "display_name": "Python 3 (ipykernel)",
      "language": "python",
      "name": "python3"
    },
    "language_info": {
      "codemirror_mode": {
        "name": "ipython",
        "version": 3
      },
      "file_extension": ".py",
      "mimetype": "text/x-python",
      "name": "python",
      "nbconvert_exporter": "python",
      "pygments_lexer": "ipython3",
      "version": "3.10.4"
    }
  },
  "nbformat": 4,
  "nbformat_minor": 0
}