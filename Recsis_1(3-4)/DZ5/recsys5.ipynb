{
 "cells": [
  {
   "cell_type": "code",
   "execution_count": 1,
   "metadata": {
    "execution": {
     "iopub.execute_input": "2025-05-29T10:53:29.011234Z",
     "iopub.status.busy": "2025-05-29T10:53:29.010669Z",
     "iopub.status.idle": "2025-05-29T10:53:32.134067Z",
     "shell.execute_reply": "2025-05-29T10:53:32.133358Z",
     "shell.execute_reply.started": "2025-05-29T10:53:29.011210Z"
    },
    "trusted": true
   },
   "outputs": [
    {
     "name": "stdout",
     "output_type": "stream",
     "text": [
      "Requirement already satisfied: implicit in d:\\hse\\recsis_1(3-4)\\.venv\\lib\\site-packages (0.7.2)\n",
      "Requirement already satisfied: numpy>=1.17.0 in d:\\hse\\recsis_1(3-4)\\.venv\\lib\\site-packages (from implicit) (1.24.4)\n",
      "Requirement already satisfied: scipy>=0.16 in d:\\hse\\recsis_1(3-4)\\.venv\\lib\\site-packages (from implicit) (1.11.3)\n",
      "Requirement already satisfied: tqdm>=4.27 in d:\\hse\\recsis_1(3-4)\\.venv\\lib\\site-packages (from implicit) (4.66.1)\n",
      "Requirement already satisfied: threadpoolctl in d:\\hse\\recsis_1(3-4)\\.venv\\lib\\site-packages (from implicit) (3.6.0)\n",
      "Requirement already satisfied: colorama in d:\\hse\\recsis_1(3-4)\\.venv\\lib\\site-packages (from tqdm>=4.27->implicit) (0.4.6)\n"
     ]
    }
   ],
   "source": [
    "!pip install implicit"
   ]
  },
  {
   "cell_type": "code",
   "execution_count": 1,
   "metadata": {
    "_cell_guid": "b1076dfc-b9ad-4769-8c92-a6c4dae69d19",
    "_uuid": "8f2839f25d086af736a60e9eeb907d3b93b6e0e5",
    "execution": {
     "iopub.execute_input": "2025-05-29T11:23:34.158372Z",
     "iopub.status.busy": "2025-05-29T11:23:34.157775Z",
     "iopub.status.idle": "2025-05-29T11:23:34.162225Z",
     "shell.execute_reply": "2025-05-29T11:23:34.161440Z",
     "shell.execute_reply.started": "2025-05-29T11:23:34.158352Z"
    },
    "trusted": true
   },
   "outputs": [
    {
     "name": "stderr",
     "output_type": "stream",
     "text": [
      "d:\\HSE\\Recsis_1(3-4)\\.venv\\lib\\site-packages\\tqdm\\auto.py:21: TqdmWarning: IProgress not found. Please update jupyter and ipywidgets. See https://ipywidgets.readthedocs.io/en/stable/user_install.html\n",
      "  from .autonotebook import tqdm as notebook_tqdm\n"
     ]
    }
   ],
   "source": [
    "import pandas as pd\n",
    "import numpy as np\n",
    "from tqdm import tqdm\n",
    "from sklearn.preprocessing import LabelEncoder\n",
    "\n",
    "from scipy.sparse import coo_matrix, csr_matrix\n",
    "from implicit.als import AlternatingLeastSquares\n",
    "from implicit.evaluation import ndcg_at_k"
   ]
  },
  {
   "cell_type": "code",
   "execution_count": 2,
   "metadata": {
    "execution": {
     "iopub.execute_input": "2025-05-29T11:01:20.000412Z",
     "iopub.status.busy": "2025-05-29T11:01:20.000143Z",
     "iopub.status.idle": "2025-05-29T11:01:21.208046Z",
     "shell.execute_reply": "2025-05-29T11:01:21.207296Z",
     "shell.execute_reply.started": "2025-05-29T11:01:20.000394Z"
    },
    "trusted": true
   },
   "outputs": [
    {
     "data": {
      "text/html": [
       "<div>\n",
       "<style scoped>\n",
       "    .dataframe tbody tr th:only-of-type {\n",
       "        vertical-align: middle;\n",
       "    }\n",
       "\n",
       "    .dataframe tbody tr th {\n",
       "        vertical-align: top;\n",
       "    }\n",
       "\n",
       "    .dataframe thead th {\n",
       "        text-align: right;\n",
       "    }\n",
       "</style>\n",
       "<table border=\"1\" class=\"dataframe\">\n",
       "  <thead>\n",
       "    <tr style=\"text-align: right;\">\n",
       "      <th></th>\n",
       "      <th>user_id</th>\n",
       "      <th>item_id</th>\n",
       "      <th>timestamp</th>\n",
       "    </tr>\n",
       "  </thead>\n",
       "  <tbody>\n",
       "    <tr>\n",
       "      <th>0</th>\n",
       "      <td>258671</td>\n",
       "      <td>74254</td>\n",
       "      <td>1511701649</td>\n",
       "    </tr>\n",
       "    <tr>\n",
       "      <th>1</th>\n",
       "      <td>258671</td>\n",
       "      <td>115615</td>\n",
       "      <td>1511841435</td>\n",
       "    </tr>\n",
       "    <tr>\n",
       "      <th>2</th>\n",
       "      <td>258671</td>\n",
       "      <td>176624</td>\n",
       "      <td>1512105022</td>\n",
       "    </tr>\n",
       "    <tr>\n",
       "      <th>3</th>\n",
       "      <td>240498</td>\n",
       "      <td>45484</td>\n",
       "      <td>1511605442</td>\n",
       "    </tr>\n",
       "    <tr>\n",
       "      <th>4</th>\n",
       "      <td>240498</td>\n",
       "      <td>39504</td>\n",
       "      <td>1511756830</td>\n",
       "    </tr>\n",
       "  </tbody>\n",
       "</table>\n",
       "</div>"
      ],
      "text/plain": [
       "   user_id  item_id   timestamp\n",
       "0   258671    74254  1511701649\n",
       "1   258671   115615  1511841435\n",
       "2   258671   176624  1512105022\n",
       "3   240498    45484  1511605442\n",
       "4   240498    39504  1511756830"
      ]
     },
     "execution_count": 2,
     "metadata": {},
     "output_type": "execute_result"
    }
   ],
   "source": [
    "train = pd.read_csv('hse_train.csv')\n",
    "train.head()"
   ]
  },
  {
   "cell_type": "code",
   "execution_count": 3,
   "metadata": {
    "execution": {
     "iopub.execute_input": "2025-05-29T11:01:22.181219Z",
     "iopub.status.busy": "2025-05-29T11:01:22.180287Z",
     "iopub.status.idle": "2025-05-29T11:01:22.185788Z",
     "shell.execute_reply": "2025-05-29T11:01:22.185044Z",
     "shell.execute_reply.started": "2025-05-29T11:01:22.181190Z"
    },
    "trusted": true
   },
   "outputs": [
    {
     "data": {
      "text/plain": [
       "(4842338, 3)"
      ]
     },
     "execution_count": 3,
     "metadata": {},
     "output_type": "execute_result"
    }
   ],
   "source": [
    "train.shape"
   ]
  },
  {
   "cell_type": "code",
   "execution_count": 4,
   "metadata": {
    "execution": {
     "iopub.execute_input": "2025-05-29T11:01:25.461445Z",
     "iopub.status.busy": "2025-05-29T11:01:25.461175Z",
     "iopub.status.idle": "2025-05-29T11:01:25.777113Z",
     "shell.execute_reply": "2025-05-29T11:01:25.776513Z",
     "shell.execute_reply.started": "2025-05-29T11:01:25.461425Z"
    },
    "trusted": true
   },
   "outputs": [],
   "source": [
    "train.timestamp = pd.to_datetime(train[\"timestamp\"], unit='s')"
   ]
  },
  {
   "cell_type": "code",
   "execution_count": 5,
   "metadata": {
    "execution": {
     "iopub.execute_input": "2025-05-29T11:01:26.903504Z",
     "iopub.status.busy": "2025-05-29T11:01:26.902979Z",
     "iopub.status.idle": "2025-05-29T11:01:26.932906Z",
     "shell.execute_reply": "2025-05-29T11:01:26.932180Z",
     "shell.execute_reply.started": "2025-05-29T11:01:26.903484Z"
    },
    "trusted": true
   },
   "outputs": [
    {
     "data": {
      "text/plain": [
       "(Timestamp('2017-11-24 16:00:00'), Timestamp('2017-12-02 23:59:59'))"
      ]
     },
     "execution_count": 5,
     "metadata": {},
     "output_type": "execute_result"
    }
   ],
   "source": [
    "train.timestamp.min(), train.timestamp.max()"
   ]
  },
  {
   "cell_type": "code",
   "execution_count": 6,
   "metadata": {},
   "outputs": [
    {
     "data": {
      "text/html": [
       "<div>\n",
       "<style scoped>\n",
       "    .dataframe tbody tr th:only-of-type {\n",
       "        vertical-align: middle;\n",
       "    }\n",
       "\n",
       "    .dataframe tbody tr th {\n",
       "        vertical-align: top;\n",
       "    }\n",
       "\n",
       "    .dataframe thead th {\n",
       "        text-align: right;\n",
       "    }\n",
       "</style>\n",
       "<table border=\"1\" class=\"dataframe\">\n",
       "  <thead>\n",
       "    <tr style=\"text-align: right;\">\n",
       "      <th></th>\n",
       "      <th>user_id</th>\n",
       "      <th>item_id</th>\n",
       "      <th>timestamp</th>\n",
       "      <th>days_ago</th>\n",
       "    </tr>\n",
       "  </thead>\n",
       "  <tbody>\n",
       "    <tr>\n",
       "      <th>0</th>\n",
       "      <td>258671</td>\n",
       "      <td>74254</td>\n",
       "      <td>2017-11-26 13:07:29</td>\n",
       "      <td>6</td>\n",
       "    </tr>\n",
       "    <tr>\n",
       "      <th>1</th>\n",
       "      <td>258671</td>\n",
       "      <td>115615</td>\n",
       "      <td>2017-11-28 03:57:15</td>\n",
       "      <td>4</td>\n",
       "    </tr>\n",
       "    <tr>\n",
       "      <th>2</th>\n",
       "      <td>258671</td>\n",
       "      <td>176624</td>\n",
       "      <td>2017-12-01 05:10:22</td>\n",
       "      <td>1</td>\n",
       "    </tr>\n",
       "    <tr>\n",
       "      <th>3</th>\n",
       "      <td>240498</td>\n",
       "      <td>45484</td>\n",
       "      <td>2017-11-25 10:24:02</td>\n",
       "      <td>7</td>\n",
       "    </tr>\n",
       "    <tr>\n",
       "      <th>4</th>\n",
       "      <td>240498</td>\n",
       "      <td>39504</td>\n",
       "      <td>2017-11-27 04:27:10</td>\n",
       "      <td>5</td>\n",
       "    </tr>\n",
       "  </tbody>\n",
       "</table>\n",
       "</div>"
      ],
      "text/plain": [
       "   user_id  item_id           timestamp  days_ago\n",
       "0   258671    74254 2017-11-26 13:07:29         6\n",
       "1   258671   115615 2017-11-28 03:57:15         4\n",
       "2   258671   176624 2017-12-01 05:10:22         1\n",
       "3   240498    45484 2017-11-25 10:24:02         7\n",
       "4   240498    39504 2017-11-27 04:27:10         5"
      ]
     },
     "execution_count": 6,
     "metadata": {},
     "output_type": "execute_result"
    }
   ],
   "source": [
    "max_timestamp = train['timestamp'].max()\n",
    "train['days_ago'] = (max_timestamp - train['timestamp']).dt.days\n",
    "train.head()"
   ]
  },
  {
   "cell_type": "markdown",
   "metadata": {},
   "source": [
    "То есть собраны данные за неделю"
   ]
  },
  {
   "cell_type": "code",
   "execution_count": 7,
   "metadata": {},
   "outputs": [],
   "source": [
    "ALL_USERS = train['user_id'].unique().tolist()\n",
    "ALL_ITEMS = train['item_id'].unique().tolist()\n",
    "\n",
    "user_ids = dict(list(enumerate(ALL_USERS)))\n",
    "item_ids = dict(list(enumerate(ALL_ITEMS)))\n",
    "\n",
    "user_map = {u: uidx for uidx, u in user_ids.items()}\n",
    "item_map = {i: iidx for iidx, i in item_ids.items()}\n",
    "\n",
    "train['user_ids'] = train['user_id'].map(user_map)\n",
    "train['item_ids'] = train['item_id'].map(item_map)"
   ]
  },
  {
   "cell_type": "code",
   "execution_count": 8,
   "metadata": {},
   "outputs": [],
   "source": [
    "row = train['user_ids'].values\n",
    "col = train['item_ids'].values\n",
    "data = np.ones(train.shape[0])\n",
    "coo_train = coo_matrix((data, (row, col)), shape=(len(ALL_USERS), len(ALL_ITEMS)))"
   ]
  },
  {
   "cell_type": "code",
   "execution_count": 9,
   "metadata": {},
   "outputs": [],
   "source": [
    "def to_user_item_coo(df, shape):\n",
    "    \"\"\" Turn a dataframe with transactions into a COO sparse users x items matrix\"\"\"\n",
    "    row = df['user_ids'].values\n",
    "    col = df['item_ids'].values\n",
    "    data = np.ones(df.shape[0])\n",
    "    return coo_matrix((data, (row, col)), shape=shape)\n",
    "\n",
    "\n",
    "def split_data(df, validation_days=1):\n",
    "    \"\"\" Split a pandas dataframe into training and validation data, using <<validation_days>>\n",
    "    \"\"\"\n",
    "    df_train = df[df['days_ago'] > validation_days]\n",
    "    df_val = df[df['days_ago'] <= validation_days]\n",
    "    print(f\"Train shape: {df_train.shape} - Validation shape: {df_val.shape}\")\n",
    "    print(f\"Train users: {df_train['user_ids'].nunique()} - Validation users: {df_val['user_ids'].nunique()}\")\n",
    "    print(f\"Train items: {df_train['item_ids'].nunique()} - Validation items: {df_val['item_ids'].nunique()}\")\n",
    "    print(f\"Validation days: {df_val['timestamp'].min()} - {df_val['timestamp'].max()}\")\n",
    "    print(f\"Train days: {df_train['timestamp'].min()} - {df_train['timestamp'].max()}\")\n",
    "    return df_train, df_val\n",
    "\n",
    "def get_val_matrices(df, validation_days=1):\n",
    "    df_train, df_val = split_data(df, validation_days=validation_days)\n",
    "    \n",
    "    # Оставляем в df_val только пользователей, которые были в df_train\n",
    "    train_users = set(df_train['user_ids'].unique())\n",
    "    df_val = df_val[df_val['user_ids'].isin(train_users)]\n",
    "    \n",
    "    shape = (len(ALL_USERS), len(ALL_ITEMS))\n",
    "    \n",
    "    coo_train = to_user_item_coo(df_train, shape=shape)\n",
    "    coo_val = to_user_item_coo(df_val, shape=shape)\n",
    "\n",
    "    csr_train = coo_train.tocsr()\n",
    "    csr_val = coo_val.tocsr()\n",
    "    \n",
    "    return {\n",
    "        'coo_train': coo_train,\n",
    "        'csr_train': csr_train,\n",
    "        'csr_val': csr_val\n",
    "    }\n",
    "\n",
    "\n",
    "def validate(matrices, factors=200, iterations=20, regularization=0.01, show_progress=True):\n",
    "    \"\"\" Train an ALS model with <<factors>> (embeddings dimension) \n",
    "    for <<iterations>> over matrices and validate with NDCG@20\n",
    "    \"\"\"\n",
    "    coo_train, csr_train, csr_val = matrices['coo_train'], matrices['csr_train'], matrices['csr_val']\n",
    "    \n",
    "    model = AlternatingLeastSquares(factors=factors, \n",
    "                                  iterations=iterations, \n",
    "                                  regularization=regularization, \n",
    "                                  random_state=42)\n",
    "    model.fit(coo_train, show_progress=show_progress)\n",
    "    \n",
    "    ndcg20 = ndcg_at_k(model, csr_train, csr_val, K=20, show_progress=show_progress)\n",
    "    print(f\"Factors: {factors:>3} - Iterations: {iterations:>2} - Regularization: {regularization:4.3f} ==> NDCG@20: {ndcg20}\")\n",
    "    return ndcg20"
   ]
  },
  {
   "cell_type": "code",
   "execution_count": 10,
   "metadata": {},
   "outputs": [
    {
     "name": "stdout",
     "output_type": "stream",
     "text": [
      "Train shape: (3783404, 6) - Validation shape: (1058934, 6)\n",
      "Train users: 667411 - Validation users: 329948\n",
      "Train items: 179795 - Validation items: 167634\n",
      "Validation days: 2017-12-01 00:00:00 - 2017-12-02 23:59:59\n",
      "Train days: 2017-11-24 16:00:00 - 2017-11-30 23:59:59\n"
     ]
    }
   ],
   "source": [
    "matrices = get_val_matrices(train, validation_days=1)"
   ]
  },
  {
   "cell_type": "code",
   "execution_count": 11,
   "metadata": {},
   "outputs": [],
   "source": [
    "import warnings\n",
    "warnings.simplefilter(action='ignore')"
   ]
  },
  {
   "cell_type": "code",
   "execution_count": 12,
   "metadata": {},
   "outputs": [
    {
     "name": "stderr",
     "output_type": "stream",
     "text": [
      "100%|██████████| 10/10 [07:12<00:00, 43.22s/it]\n",
      "100%|██████████| 295378/295378 [04:30<00:00, 1093.40it/s]\n"
     ]
    },
    {
     "name": "stdout",
     "output_type": "stream",
     "text": [
      "Factors:  50 - Iterations: 10 - Regularization: 0.010 ==> NDCG@20: 0.0034024333193364395\n",
      "Best NDCG@20 found. Updating: {'factors': 50, 'iterations': 10, 'regularization': 0.01}\n"
     ]
    },
    {
     "name": "stderr",
     "output_type": "stream",
     "text": [
      "100%|██████████| 15/15 [10:21<00:00, 41.43s/it]\n",
      "100%|██████████| 295378/295378 [04:15<00:00, 1155.65it/s]\n"
     ]
    },
    {
     "name": "stdout",
     "output_type": "stream",
     "text": [
      "Factors:  50 - Iterations: 15 - Regularization: 0.010 ==> NDCG@20: 0.003435213064699296\n",
      "Best NDCG@20 found. Updating: {'factors': 50, 'iterations': 15, 'regularization': 0.01}\n"
     ]
    },
    {
     "name": "stderr",
     "output_type": "stream",
     "text": [
      "100%|██████████| 20/20 [14:08<00:00, 42.45s/it]\n",
      "100%|██████████| 295378/295378 [04:37<00:00, 1065.21it/s]\n"
     ]
    },
    {
     "name": "stdout",
     "output_type": "stream",
     "text": [
      "Factors:  50 - Iterations: 20 - Regularization: 0.010 ==> NDCG@20: 0.0034199797412224307\n"
     ]
    },
    {
     "name": "stderr",
     "output_type": "stream",
     "text": [
      "100%|██████████| 10/10 [07:52<00:00, 47.22s/it]\n",
      "100%|██████████| 295378/295378 [05:06<00:00, 962.68it/s] \n"
     ]
    },
    {
     "name": "stdout",
     "output_type": "stream",
     "text": [
      "Factors: 100 - Iterations: 10 - Regularization: 0.010 ==> NDCG@20: 0.0035270107097415703\n",
      "Best NDCG@20 found. Updating: {'factors': 100, 'iterations': 10, 'regularization': 0.01}\n"
     ]
    },
    {
     "name": "stderr",
     "output_type": "stream",
     "text": [
      "100%|██████████| 15/15 [12:20<00:00, 49.35s/it]\n",
      "100%|██████████| 295378/295378 [05:06<00:00, 964.35it/s] \n"
     ]
    },
    {
     "name": "stdout",
     "output_type": "stream",
     "text": [
      "Factors: 100 - Iterations: 15 - Regularization: 0.010 ==> NDCG@20: 0.003568705990196665\n",
      "Best NDCG@20 found. Updating: {'factors': 100, 'iterations': 15, 'regularization': 0.01}\n"
     ]
    },
    {
     "name": "stderr",
     "output_type": "stream",
     "text": [
      "100%|██████████| 20/20 [16:22<00:00, 49.12s/it]\n",
      "100%|██████████| 295378/295378 [05:00<00:00, 982.87it/s] \n"
     ]
    },
    {
     "name": "stdout",
     "output_type": "stream",
     "text": [
      "Factors: 100 - Iterations: 20 - Regularization: 0.010 ==> NDCG@20: 0.003583068982511578\n",
      "Best NDCG@20 found. Updating: {'factors': 100, 'iterations': 20, 'regularization': 0.01}\n"
     ]
    },
    {
     "name": "stderr",
     "output_type": "stream",
     "text": [
      "100%|██████████| 10/10 [13:38<00:00, 81.89s/it]\n",
      "100%|██████████| 295378/295378 [15:03<00:00, 327.06it/s]\n"
     ]
    },
    {
     "name": "stdout",
     "output_type": "stream",
     "text": [
      "Factors: 500 - Iterations: 10 - Regularization: 0.010 ==> NDCG@20: 0.00425750949217909\n",
      "Best NDCG@20 found. Updating: {'factors': 500, 'iterations': 10, 'regularization': 0.01}\n"
     ]
    },
    {
     "name": "stderr",
     "output_type": "stream",
     "text": [
      "100%|██████████| 15/15 [21:09<00:00, 84.61s/it]\n",
      "100%|██████████| 295378/295378 [14:36<00:00, 336.86it/s]\n"
     ]
    },
    {
     "name": "stdout",
     "output_type": "stream",
     "text": [
      "Factors: 500 - Iterations: 15 - Regularization: 0.010 ==> NDCG@20: 0.004259534714370213\n",
      "Best NDCG@20 found. Updating: {'factors': 500, 'iterations': 15, 'regularization': 0.01}\n"
     ]
    },
    {
     "name": "stderr",
     "output_type": "stream",
     "text": [
      "100%|██████████| 20/20 [26:19<00:00, 78.97s/it]\n",
      "100%|██████████| 295378/295378 [12:06<00:00, 406.85it/s]\n"
     ]
    },
    {
     "name": "stdout",
     "output_type": "stream",
     "text": [
      "Factors: 500 - Iterations: 20 - Regularization: 0.010 ==> NDCG@20: 0.004256413105545322\n",
      "CPU times: total: 18h 56min 40s\n",
      "Wall time: 3h 20min 12s\n"
     ]
    }
   ],
   "source": [
    "%%time\n",
    "best_ndcg20 = 0\n",
    "regularization = 0.01\n",
    "for factors in [50, 100, 500]:\n",
    "    for iterations in [10, 15, 20]:\n",
    "        ndcg20 = validate(matrices, factors, iterations, regularization, show_progress=True)\n",
    "        if ndcg20 > best_ndcg20:\n",
    "            best_ndcg20 = ndcg20\n",
    "            best_params = {'factors': factors, 'iterations': iterations, 'regularization': regularization}\n",
    "            print(f\"Best NDCG@20 found. Updating: {best_params}\")"
   ]
  },
  {
   "cell_type": "markdown",
   "metadata": {},
   "source": [
    "# ALS. Бейзлайн 2"
   ]
  },
  {
   "cell_type": "code",
   "execution_count": 29,
   "metadata": {
    "execution": {
     "iopub.execute_input": "2025-05-29T05:39:13.239083Z",
     "iopub.status.busy": "2025-05-29T05:39:13.238206Z",
     "iopub.status.idle": "2025-05-29T05:39:13.555344Z",
     "shell.execute_reply": "2025-05-29T05:39:13.554593Z",
     "shell.execute_reply.started": "2025-05-29T05:39:13.239051Z"
    },
    "trusted": true
   },
   "outputs": [],
   "source": [
    "train_users = train['user_id'].unique()\n",
    "train_items = train['item_id'].unique()\n",
    "max_timestamp = train['timestamp'].max()\n",
    "train['days_ago'] = (max_timestamp - train['timestamp']).dt.days\n",
    "train['weight'] = 1 / (1 + train['days_ago'] / 30)"
   ]
  },
  {
   "cell_type": "code",
   "execution_count": 30,
   "metadata": {
    "execution": {
     "iopub.execute_input": "2025-05-29T05:39:13.825649Z",
     "iopub.status.busy": "2025-05-29T05:39:13.825134Z",
     "iopub.status.idle": "2025-05-29T05:39:13.833478Z",
     "shell.execute_reply": "2025-05-29T05:39:13.832897Z",
     "shell.execute_reply.started": "2025-05-29T05:39:13.825628Z"
    },
    "trusted": true
   },
   "outputs": [
    {
     "data": {
      "text/html": [
       "<div>\n",
       "<style scoped>\n",
       "    .dataframe tbody tr th:only-of-type {\n",
       "        vertical-align: middle;\n",
       "    }\n",
       "\n",
       "    .dataframe tbody tr th {\n",
       "        vertical-align: top;\n",
       "    }\n",
       "\n",
       "    .dataframe thead th {\n",
       "        text-align: right;\n",
       "    }\n",
       "</style>\n",
       "<table border=\"1\" class=\"dataframe\">\n",
       "  <thead>\n",
       "    <tr style=\"text-align: right;\">\n",
       "      <th></th>\n",
       "      <th>user_id</th>\n",
       "      <th>item_id</th>\n",
       "      <th>timestamp</th>\n",
       "      <th>days_ago</th>\n",
       "      <th>weight</th>\n",
       "    </tr>\n",
       "  </thead>\n",
       "  <tbody>\n",
       "    <tr>\n",
       "      <th>0</th>\n",
       "      <td>258671</td>\n",
       "      <td>74254</td>\n",
       "      <td>2017-11-26 13:07:29</td>\n",
       "      <td>6</td>\n",
       "      <td>0.833333</td>\n",
       "    </tr>\n",
       "    <tr>\n",
       "      <th>1</th>\n",
       "      <td>258671</td>\n",
       "      <td>115615</td>\n",
       "      <td>2017-11-28 03:57:15</td>\n",
       "      <td>4</td>\n",
       "      <td>0.882353</td>\n",
       "    </tr>\n",
       "    <tr>\n",
       "      <th>2</th>\n",
       "      <td>258671</td>\n",
       "      <td>176624</td>\n",
       "      <td>2017-12-01 05:10:22</td>\n",
       "      <td>1</td>\n",
       "      <td>0.967742</td>\n",
       "    </tr>\n",
       "    <tr>\n",
       "      <th>3</th>\n",
       "      <td>240498</td>\n",
       "      <td>45484</td>\n",
       "      <td>2017-11-25 10:24:02</td>\n",
       "      <td>7</td>\n",
       "      <td>0.810811</td>\n",
       "    </tr>\n",
       "    <tr>\n",
       "      <th>4</th>\n",
       "      <td>240498</td>\n",
       "      <td>39504</td>\n",
       "      <td>2017-11-27 04:27:10</td>\n",
       "      <td>5</td>\n",
       "      <td>0.857143</td>\n",
       "    </tr>\n",
       "  </tbody>\n",
       "</table>\n",
       "</div>"
      ],
      "text/plain": [
       "   user_id  item_id           timestamp  days_ago    weight\n",
       "0   258671    74254 2017-11-26 13:07:29         6  0.833333\n",
       "1   258671   115615 2017-11-28 03:57:15         4  0.882353\n",
       "2   258671   176624 2017-12-01 05:10:22         1  0.967742\n",
       "3   240498    45484 2017-11-25 10:24:02         7  0.810811\n",
       "4   240498    39504 2017-11-27 04:27:10         5  0.857143"
      ]
     },
     "execution_count": 30,
     "metadata": {},
     "output_type": "execute_result"
    }
   ],
   "source": [
    "train.head()"
   ]
  },
  {
   "cell_type": "code",
   "execution_count": 31,
   "metadata": {
    "execution": {
     "iopub.execute_input": "2025-05-29T05:39:14.902169Z",
     "iopub.status.busy": "2025-05-29T05:39:14.901595Z",
     "iopub.status.idle": "2025-05-29T05:39:16.006178Z",
     "shell.execute_reply": "2025-05-29T05:39:16.005441Z",
     "shell.execute_reply.started": "2025-05-29T05:39:14.902148Z"
    },
    "trusted": true
   },
   "outputs": [],
   "source": [
    "#Кодируем user_id и item_id\n",
    "user_encoder = LabelEncoder()\n",
    "item_encoder = LabelEncoder()\n",
    "train['user_id'] = user_encoder.fit_transform(train['user_id'])\n",
    "train['item_id'] = item_encoder.fit_transform(train['item_id'])"
   ]
  },
  {
   "cell_type": "code",
   "execution_count": 32,
   "metadata": {
    "execution": {
     "iopub.execute_input": "2025-05-29T05:39:17.500961Z",
     "iopub.status.busy": "2025-05-29T05:39:17.500491Z",
     "iopub.status.idle": "2025-05-29T05:39:17.640819Z",
     "shell.execute_reply": "2025-05-29T05:39:17.640126Z",
     "shell.execute_reply.started": "2025-05-29T05:39:17.500940Z"
    },
    "trusted": true
   },
   "outputs": [
    {
     "data": {
      "text/plain": [
       "(701981, 701980, 180599, 180598)"
      ]
     },
     "execution_count": 32,
     "metadata": {},
     "output_type": "execute_result"
    }
   ],
   "source": [
    "train['user_id'].nunique(), train['user_id'].max(), train['item_id'].nunique(), train['item_id'].max()"
   ]
  },
  {
   "cell_type": "code",
   "execution_count": 36,
   "metadata": {
    "execution": {
     "iopub.execute_input": "2025-05-29T05:41:01.658328Z",
     "iopub.status.busy": "2025-05-29T05:41:01.657789Z",
     "iopub.status.idle": "2025-05-29T05:41:01.889019Z",
     "shell.execute_reply": "2025-05-29T05:41:01.888421Z",
     "shell.execute_reply.started": "2025-05-29T05:41:01.658308Z"
    },
    "trusted": true
   },
   "outputs": [],
   "source": [
    "interactions = csr_matrix(\n",
    "    (train['weight'].values, \n",
    "     (train['user_id'], train['item_id'])),\n",
    "    shape=(train['user_id'].max()+1, train['item_id'].max()+1)\n",
    ")"
   ]
  },
  {
   "cell_type": "code",
   "execution_count": 154,
   "metadata": {
    "execution": {
     "iopub.execute_input": "2025-05-29T12:27:34.519854Z",
     "iopub.status.busy": "2025-05-29T12:27:34.519560Z",
     "iopub.status.idle": "2025-05-29T12:28:47.622239Z",
     "shell.execute_reply": "2025-05-29T12:28:47.621592Z",
     "shell.execute_reply.started": "2025-05-29T12:27:34.519835Z"
    },
    "trusted": true
   },
   "outputs": [
    {
     "name": "stderr",
     "output_type": "stream",
     "text": [
      "/usr/local/lib/python3.11/dist-packages/implicit/utils.py:164: ParameterWarning: Method expects CSR input, and was passed csc_matrix instead. Converting to CSR took 0.11676311492919922 seconds\n",
      "  warnings.warn(\n"
     ]
    },
    {
     "data": {
      "application/vnd.jupyter.widget-view+json": {
       "model_id": "6f22f02fecc2432eab345c1c80163dc0",
       "version_major": 2,
       "version_minor": 0
      },
      "text/plain": [
       "  0%|          | 0/15 [00:00<?, ?it/s]"
      ]
     },
     "metadata": {},
     "output_type": "display_data"
    }
   ],
   "source": [
    "model = AlternatingLeastSquares(factors=100, iterations=15, regularization=0.01)\n",
    "model.fit(interactions.T)"
   ]
  },
  {
   "cell_type": "code",
   "execution_count": 64,
   "metadata": {
    "execution": {
     "iopub.execute_input": "2025-05-29T06:38:00.080956Z",
     "iopub.status.busy": "2025-05-29T06:38:00.080685Z",
     "iopub.status.idle": "2025-05-29T10:40:00.168090Z",
     "shell.execute_reply": "2025-05-29T10:40:00.167292Z",
     "shell.execute_reply.started": "2025-05-29T06:38:00.080938Z"
    },
    "trusted": true
   },
   "outputs": [
    {
     "name": "stderr",
     "output_type": "stream",
     "text": [
      "100%|██████████| 701981/701981 [4:01:08<00:00, 48.52it/s]  \n"
     ]
    }
   ],
   "source": [
    "item_counts = train['item_id'].value_counts()\n",
    "popular_items = item_encoder.transform(item_counts.head(100).index.values)\n",
    "\n",
    "recommendations = []\n",
    "\n",
    "for user_id in tqdm(range(interactions.shape[0])):\n",
    "    # Получаем рекомендации\n",
    "    recommended = model.recommend(user_id, interactions[user_id], N=20, filter_already_liked_items=True)[0]\n",
    "    # Преобразование обратно к оригинальным ID\n",
    "    original_items = item_encoder.inverse_transform(recommended[:20])\n",
    "    original_user_id = user_encoder.inverse_transform([user_id])[0]\n",
    "    \n",
    "    # Сохранение результатов\n",
    "    for item_id in original_items:\n",
    "        recommendations.append({'user_id': original_user_id, 'items': item_id})\n",
    "df_submission = pd.DataFrame(recommendations)"
   ]
  },
  {
   "cell_type": "code",
   "execution_count": 65,
   "metadata": {
    "execution": {
     "iopub.execute_input": "2025-05-29T10:40:00.169945Z",
     "iopub.status.busy": "2025-05-29T10:40:00.169586Z",
     "iopub.status.idle": "2025-05-29T10:40:00.178153Z",
     "shell.execute_reply": "2025-05-29T10:40:00.177656Z",
     "shell.execute_reply.started": "2025-05-29T10:40:00.169924Z"
    },
    "trusted": true
   },
   "outputs": [
    {
     "data": {
      "text/html": [
       "<div>\n",
       "<style scoped>\n",
       "    .dataframe tbody tr th:only-of-type {\n",
       "        vertical-align: middle;\n",
       "    }\n",
       "\n",
       "    .dataframe tbody tr th {\n",
       "        vertical-align: top;\n",
       "    }\n",
       "\n",
       "    .dataframe thead th {\n",
       "        text-align: right;\n",
       "    }\n",
       "</style>\n",
       "<table border=\"1\" class=\"dataframe\">\n",
       "  <thead>\n",
       "    <tr style=\"text-align: right;\">\n",
       "      <th></th>\n",
       "      <th>user_id</th>\n",
       "      <th>items</th>\n",
       "    </tr>\n",
       "  </thead>\n",
       "  <tbody>\n",
       "    <tr>\n",
       "      <th>0</th>\n",
       "      <td>0</td>\n",
       "      <td>137568</td>\n",
       "    </tr>\n",
       "    <tr>\n",
       "      <th>1</th>\n",
       "      <td>0</td>\n",
       "      <td>3665</td>\n",
       "    </tr>\n",
       "    <tr>\n",
       "      <th>2</th>\n",
       "      <td>0</td>\n",
       "      <td>28020</td>\n",
       "    </tr>\n",
       "    <tr>\n",
       "      <th>3</th>\n",
       "      <td>0</td>\n",
       "      <td>102173</td>\n",
       "    </tr>\n",
       "    <tr>\n",
       "      <th>4</th>\n",
       "      <td>0</td>\n",
       "      <td>177158</td>\n",
       "    </tr>\n",
       "    <tr>\n",
       "      <th>...</th>\n",
       "      <td>...</td>\n",
       "      <td>...</td>\n",
       "    </tr>\n",
       "    <tr>\n",
       "      <th>14039615</th>\n",
       "      <td>701980</td>\n",
       "      <td>58593</td>\n",
       "    </tr>\n",
       "    <tr>\n",
       "      <th>14039616</th>\n",
       "      <td>701980</td>\n",
       "      <td>171750</td>\n",
       "    </tr>\n",
       "    <tr>\n",
       "      <th>14039617</th>\n",
       "      <td>701980</td>\n",
       "      <td>154143</td>\n",
       "    </tr>\n",
       "    <tr>\n",
       "      <th>14039618</th>\n",
       "      <td>701980</td>\n",
       "      <td>110938</td>\n",
       "    </tr>\n",
       "    <tr>\n",
       "      <th>14039619</th>\n",
       "      <td>701980</td>\n",
       "      <td>76985</td>\n",
       "    </tr>\n",
       "  </tbody>\n",
       "</table>\n",
       "<p>14039620 rows × 2 columns</p>\n",
       "</div>"
      ],
      "text/plain": [
       "          user_id   items\n",
       "0               0  137568\n",
       "1               0    3665\n",
       "2               0   28020\n",
       "3               0  102173\n",
       "4               0  177158\n",
       "...           ...     ...\n",
       "14039615   701980   58593\n",
       "14039616   701980  171750\n",
       "14039617   701980  154143\n",
       "14039618   701980  110938\n",
       "14039619   701980   76985\n",
       "\n",
       "[14039620 rows x 2 columns]"
      ]
     },
     "execution_count": 65,
     "metadata": {},
     "output_type": "execute_result"
    }
   ],
   "source": [
    "df_submission"
   ]
  },
  {
   "cell_type": "code",
   "execution_count": 66,
   "metadata": {
    "execution": {
     "iopub.execute_input": "2025-05-29T10:40:00.178912Z",
     "iopub.status.busy": "2025-05-29T10:40:00.178753Z",
     "iopub.status.idle": "2025-05-29T10:40:11.555693Z",
     "shell.execute_reply": "2025-05-29T10:40:11.555094Z",
     "shell.execute_reply.started": "2025-05-29T10:40:00.178900Z"
    },
    "trusted": true
   },
   "outputs": [],
   "source": [
    "df_submission.to_csv('als.csv', index=False)"
   ]
  }
 ],
 "metadata": {
  "kaggle": {
   "accelerator": "nvidiaTeslaT4",
   "dataSources": [
    {
     "datasetId": 7456332,
     "sourceId": 11865803,
     "sourceType": "datasetVersion"
    }
   ],
   "dockerImageVersionId": 31040,
   "isGpuEnabled": true,
   "isInternetEnabled": true,
   "language": "python",
   "sourceType": "notebook"
  },
  "kernelspec": {
   "display_name": ".venv",
   "language": "python",
   "name": "python3"
  },
  "language_info": {
   "codemirror_mode": {
    "name": "ipython",
    "version": 3
   },
   "file_extension": ".py",
   "mimetype": "text/x-python",
   "name": "python",
   "nbconvert_exporter": "python",
   "pygments_lexer": "ipython3",
   "version": "3.10.11"
  }
 },
 "nbformat": 4,
 "nbformat_minor": 4
}
