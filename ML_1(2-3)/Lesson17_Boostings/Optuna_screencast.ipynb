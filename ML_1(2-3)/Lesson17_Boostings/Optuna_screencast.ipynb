{
  "nbformat": 4,
  "nbformat_minor": 0,
  "metadata": {
    "colab": {
      "provenance": [],
      "include_colab_link": true
    },
    "kernelspec": {
      "name": "python3",
      "display_name": "Python 3"
    },
    "language_info": {
      "name": "python"
    }
  },
  "cells": [
    {
      "cell_type": "markdown",
      "metadata": {
        "id": "view-in-github",
        "colab_type": "text"
      },
      "source": [
        "<a href=\"https://colab.research.google.com/github/Murcha1990/ML_AI24/blob/main/Lesson17_Boostings/Optuna_screencast.ipynb\" target=\"_parent\"><img src=\"https://colab.research.google.com/assets/colab-badge.svg\" alt=\"Open In Colab\"/></a>"
      ]
    },
    {
      "cell_type": "markdown",
      "source": [
        "## Общий алгоритм работы с Optuna"
      ],
      "metadata": {
        "id": "ul3rzuwwsxr8"
      }
    },
    {
      "cell_type": "code",
      "source": [
        "!pip install optuna -q"
      ],
      "metadata": {
        "id": "_LL7Hsx7tDJZ",
        "colab": {
          "base_uri": "https://localhost:8080/"
        },
        "outputId": "dcae7f63-c216-4b3b-92db-33191a0a7e1d"
      },
      "execution_count": null,
      "outputs": [
        {
          "output_type": "stream",
          "name": "stdout",
          "text": [
            "\u001b[?25l   \u001b[90m━━━━━━━━━━━━━━━━━━━━━━━━━━━━━━━━━━━━━━━━\u001b[0m \u001b[32m0.0/383.4 kB\u001b[0m \u001b[31m?\u001b[0m eta \u001b[36m-:--:--\u001b[0m\r\u001b[2K   \u001b[90m━━━━━━━━━━━━━━━━━━━━━━━━━━━━━━━━━━━━━━━━\u001b[0m \u001b[32m383.4/383.4 kB\u001b[0m \u001b[31m9.7 MB/s\u001b[0m eta \u001b[36m0:00:00\u001b[0m\n",
            "\u001b[2K   \u001b[90m━━━━━━━━━━━━━━━━━━━━━━━━━━━━━━━━━━━━━━━━\u001b[0m \u001b[32m233.6/233.6 kB\u001b[0m \u001b[31m7.6 MB/s\u001b[0m eta \u001b[36m0:00:00\u001b[0m\n",
            "\u001b[2K   \u001b[90m━━━━━━━━━━━━━━━━━━━━━━━━━━━━━━━━━━━━━━━━\u001b[0m \u001b[32m78.6/78.6 kB\u001b[0m \u001b[31m3.2 MB/s\u001b[0m eta \u001b[36m0:00:00\u001b[0m\n",
            "\u001b[?25h"
          ]
        }
      ]
    },
    {
      "cell_type": "markdown",
      "source": [
        "1. Определяем целевую функцию objective, через аргументы она будет получать специальный объект trial. С его помощью можно назначать различные гипермараметры, Например, как в примере ниже, мы задаем x в интервале [-10,10].\n",
        "\n",
        "2. Далее создаем объект обучения с помощью метода optuna.create_study.\n",
        "\n",
        "3. Запускаем оптимизацию целевой функции objective на 10 итераций n_trials=10. Происходит 10 вызовов нашей функции с различными параметрами от -10 до 10. Какие именно параметры выбирает optuna будет описано ниже."
      ],
      "metadata": {
        "id": "FSX_n4jEs4bV"
      }
    },
    {
      "cell_type": "code",
      "source": [
        "import optuna\n",
        "\n",
        "def objective(trial):\n",
        "    x = trial.suggest_float('x', -10, 10)\n",
        "    return (x - 2) ** 2\n",
        "\n",
        "study = optuna.create_study()\n",
        "study.optimize(objective, n_trials=40)\n",
        "\n",
        "study.best_params"
      ],
      "metadata": {
        "colab": {
          "base_uri": "https://localhost:8080/"
        },
        "id": "38XypFszs1Ym",
        "outputId": "a85493b0-9adf-4770-ceb7-9829c9a40295"
      },
      "execution_count": null,
      "outputs": [
        {
          "output_type": "stream",
          "name": "stderr",
          "text": [
            "[I 2025-01-22 17:40:47,335] A new study created in memory with name: no-name-01bef281-ee1e-4094-be48-c41669c8282c\n",
            "[I 2025-01-22 17:40:47,344] Trial 0 finished with value: 100.40715349302097 and parameters: {'x': -8.020336994982802}. Best is trial 0 with value: 100.40715349302097.\n",
            "[I 2025-01-22 17:40:47,346] Trial 1 finished with value: 131.2387530576059 and parameters: {'x': -9.455948370065478}. Best is trial 0 with value: 100.40715349302097.\n",
            "[I 2025-01-22 17:40:47,350] Trial 2 finished with value: 41.011747746880324 and parameters: {'x': 8.404041516642465}. Best is trial 2 with value: 41.011747746880324.\n",
            "[I 2025-01-22 17:40:47,360] Trial 3 finished with value: 112.85515380067778 and parameters: {'x': -8.623330635948303}. Best is trial 2 with value: 41.011747746880324.\n",
            "[I 2025-01-22 17:40:47,366] Trial 4 finished with value: 65.68673511809047 and parameters: {'x': -6.104735351514599}. Best is trial 2 with value: 41.011747746880324.\n",
            "[I 2025-01-22 17:40:47,368] Trial 5 finished with value: 133.37568213724188 and parameters: {'x': -9.548838995208214}. Best is trial 2 with value: 41.011747746880324.\n",
            "[I 2025-01-22 17:40:47,369] Trial 6 finished with value: 41.932135701688125 and parameters: {'x': -4.475502737370136}. Best is trial 2 with value: 41.011747746880324.\n",
            "[I 2025-01-22 17:40:47,371] Trial 7 finished with value: 12.923735359687566 and parameters: {'x': -1.5949597160034443}. Best is trial 7 with value: 12.923735359687566.\n",
            "[I 2025-01-22 17:40:47,372] Trial 8 finished with value: 2.132417430861116 and parameters: {'x': 0.539720084757338}. Best is trial 8 with value: 2.132417430861116.\n",
            "[I 2025-01-22 17:40:47,376] Trial 9 finished with value: 48.76226139306466 and parameters: {'x': 8.982998023275151}. Best is trial 8 with value: 2.132417430861116.\n",
            "[I 2025-01-22 17:40:47,400] Trial 10 finished with value: 3.7608765100995085 and parameters: {'x': 3.939297942581157}. Best is trial 8 with value: 2.132417430861116.\n",
            "[I 2025-01-22 17:40:47,413] Trial 11 finished with value: 2.9849794246757706 and parameters: {'x': 3.7277092998174695}. Best is trial 8 with value: 2.132417430861116.\n",
            "[I 2025-01-22 17:40:47,423] Trial 12 finished with value: 0.02402138881143228 and parameters: {'x': 2.1549883505668483}. Best is trial 12 with value: 0.02402138881143228.\n",
            "[I 2025-01-22 17:40:47,436] Trial 13 finished with value: 3.168165139238529 and parameters: {'x': 0.22006597334661615}. Best is trial 12 with value: 0.02402138881143228.\n",
            "[I 2025-01-22 17:40:47,453] Trial 14 finished with value: 0.0018977183888416076 and parameters: {'x': 1.9564371903013407}. Best is trial 14 with value: 0.0018977183888416076.\n",
            "[I 2025-01-22 17:40:47,464] Trial 15 finished with value: 6.048980749915632 and parameters: {'x': 4.45946757447941}. Best is trial 14 with value: 0.0018977183888416076.\n",
            "[I 2025-01-22 17:40:47,474] Trial 16 finished with value: 19.052418720731605 and parameters: {'x': 6.364907641718391}. Best is trial 14 with value: 0.0018977183888416076.\n",
            "[I 2025-01-22 17:40:47,488] Trial 17 finished with value: 13.392249570467273 and parameters: {'x': -1.659542262423987}. Best is trial 14 with value: 0.0018977183888416076.\n",
            "[I 2025-01-22 17:40:47,498] Trial 18 finished with value: 0.0021839994216314895 and parameters: {'x': 2.0467332795942195}. Best is trial 14 with value: 0.0018977183888416076.\n",
            "[I 2025-01-22 17:40:47,507] Trial 19 finished with value: 33.96934135733826 and parameters: {'x': -3.8283223450096053}. Best is trial 14 with value: 0.0018977183888416076.\n",
            "[I 2025-01-22 17:40:47,518] Trial 20 finished with value: 0.35922439522024213 and parameters: {'x': 1.4006466858185882}. Best is trial 14 with value: 0.0018977183888416076.\n",
            "[I 2025-01-22 17:40:47,526] Trial 21 finished with value: 0.4112428652065991 and parameters: {'x': 2.641282204030799}. Best is trial 14 with value: 0.0018977183888416076.\n",
            "[I 2025-01-22 17:40:47,535] Trial 22 finished with value: 11.987631999315212 and parameters: {'x': 5.462315987791295}. Best is trial 14 with value: 0.0018977183888416076.\n",
            "[I 2025-01-22 17:40:47,544] Trial 23 finished with value: 0.00317400621850346 and parameters: {'x': 2.056338319272973}. Best is trial 14 with value: 0.0018977183888416076.\n",
            "[I 2025-01-22 17:40:47,553] Trial 24 finished with value: 14.709347546318147 and parameters: {'x': -1.8352767235648262}. Best is trial 14 with value: 0.0018977183888416076.\n",
            "[I 2025-01-22 17:40:47,564] Trial 25 finished with value: 17.910996878967534 and parameters: {'x': 6.232138570388207}. Best is trial 14 with value: 0.0018977183888416076.\n",
            "[I 2025-01-22 17:40:47,574] Trial 26 finished with value: 7.777074407976517 and parameters: {'x': -0.7887406491060651}. Best is trial 14 with value: 0.0018977183888416076.\n",
            "[I 2025-01-22 17:40:47,582] Trial 27 finished with value: 0.4499853806384992 and parameters: {'x': 2.6708094965327334}. Best is trial 14 with value: 0.0018977183888416076.\n",
            "[I 2025-01-22 17:40:47,591] Trial 28 finished with value: 1.0758972347324105 and parameters: {'x': 0.9627453375701749}. Best is trial 14 with value: 0.0018977183888416076.\n",
            "[I 2025-01-22 17:40:47,598] Trial 29 finished with value: 36.45961026714664 and parameters: {'x': -4.038179383485277}. Best is trial 14 with value: 0.0018977183888416076.\n",
            "[I 2025-01-22 17:40:47,607] Trial 30 finished with value: 22.440050326913152 and parameters: {'x': 6.737093024937673}. Best is trial 14 with value: 0.0018977183888416076.\n",
            "[I 2025-01-22 17:40:47,616] Trial 31 finished with value: 0.0015409841441809164 and parameters: {'x': 2.0392553708959795}. Best is trial 31 with value: 0.0015409841441809164.\n",
            "[I 2025-01-22 17:40:47,628] Trial 32 finished with value: 0.0021142992837661664 and parameters: {'x': 1.9540184897620123}. Best is trial 31 with value: 0.0015409841441809164.\n",
            "[I 2025-01-22 17:40:47,640] Trial 33 finished with value: 7.127386854410518 and parameters: {'x': 4.669716624364938}. Best is trial 31 with value: 0.0015409841441809164.\n",
            "[I 2025-01-22 17:40:47,650] Trial 34 finished with value: 6.597298452207928 and parameters: {'x': -0.5685206738914772}. Best is trial 31 with value: 0.0015409841441809164.\n",
            "[I 2025-01-22 17:40:47,662] Trial 35 finished with value: 1.9699447642595864 and parameters: {'x': 3.4035472077060986}. Best is trial 31 with value: 0.0015409841441809164.\n",
            "[I 2025-01-22 17:40:47,673] Trial 36 finished with value: 28.309623959193974 and parameters: {'x': 7.320678900215082}. Best is trial 31 with value: 0.0015409841441809164.\n",
            "[I 2025-01-22 17:40:47,685] Trial 37 finished with value: 22.136447159562778 and parameters: {'x': -2.7049385925389906}. Best is trial 31 with value: 0.0015409841441809164.\n",
            "[I 2025-01-22 17:40:47,694] Trial 38 finished with value: 0.33073112263345883 and parameters: {'x': 1.4249077268529347}. Best is trial 31 with value: 0.0015409841441809164.\n",
            "[I 2025-01-22 17:40:47,702] Trial 39 finished with value: 83.82121497910428 and parameters: {'x': -7.1553926720323835}. Best is trial 31 with value: 0.0015409841441809164.\n"
          ]
        },
        {
          "output_type": "execute_result",
          "data": {
            "text/plain": [
              "{'x': 2.0392553708959795}"
            ]
          },
          "metadata": {},
          "execution_count": 3
        }
      ]
    },
    {
      "cell_type": "markdown",
      "source": [
        "## Загрузка данных и импорт библиотек"
      ],
      "metadata": {
        "id": "nOQp8no8gSN-"
      }
    },
    {
      "cell_type": "code",
      "source": [
        "from sklearn.model_selection import cross_val_score, train_test_split\n",
        "from sklearn.metrics import r2_score\n",
        "\n",
        "from sklearn.datasets import fetch_california_housing"
      ],
      "metadata": {
        "id": "oZyZjRRMew4L"
      },
      "execution_count": null,
      "outputs": []
    },
    {
      "cell_type": "code",
      "source": [
        "RANDOM_STATE = 42"
      ],
      "metadata": {
        "id": "H1qNhioLgPbo"
      },
      "execution_count": null,
      "outputs": []
    },
    {
      "cell_type": "code",
      "source": [
        "!pip install lightgbm -q"
      ],
      "metadata": {
        "id": "5wBR-CrirYoA"
      },
      "execution_count": null,
      "outputs": []
    },
    {
      "cell_type": "code",
      "source": [
        "from lightgbm import LGBMRegressor"
      ],
      "metadata": {
        "id": "gkk84uFzr663",
        "outputId": "137f37a5-afa9-4d6d-c475-9ea191e48b1a",
        "colab": {
          "base_uri": "https://localhost:8080/"
        }
      },
      "execution_count": null,
      "outputs": [
        {
          "output_type": "stream",
          "name": "stderr",
          "text": [
            "/usr/local/lib/python3.11/dist-packages/dask/dataframe/__init__.py:42: FutureWarning: \n",
            "Dask dataframe query planning is disabled because dask-expr is not installed.\n",
            "\n",
            "You can install it with `pip install dask[dataframe]` or `conda install dask`.\n",
            "This will raise in a future version.\n",
            "\n",
            "  warnings.warn(msg, FutureWarning)\n"
          ]
        }
      ]
    },
    {
      "cell_type": "code",
      "source": [
        "data = fetch_california_housing(as_frame=True)\n",
        "\n",
        "X = data.data\n",
        "y = data.target"
      ],
      "metadata": {
        "id": "ovU_nNxQroO3"
      },
      "execution_count": null,
      "outputs": []
    },
    {
      "cell_type": "code",
      "source": [
        "Xtrain, Xtest, ytrain, ytest = train_test_split(X, y, test_size=0.25, random_state=RANDOM_STATE)"
      ],
      "metadata": {
        "id": "W7wTqHnWgJCl"
      },
      "execution_count": null,
      "outputs": []
    },
    {
      "cell_type": "markdown",
      "source": [
        "## Подбор гиперпараметров с Optuna"
      ],
      "metadata": {
        "id": "q7lbcbZ-fiz_"
      }
    },
    {
      "cell_type": "markdown",
      "source": [
        "Разобъем данные на тренировочную и тестовую часть. На тренировочной части по кросс-валидации подберем гиперпараметры моделей, а затем проверим качество на тестовой части."
      ],
      "metadata": {
        "id": "o56djzYIhrKB"
      }
    },
    {
      "cell_type": "code",
      "source": [
        "def objective_lgbm(trial):\n",
        "    max_depth = trial.suggest_int(\"max_depth\", 2, 20)\n",
        "    learning_rate = trial.suggest_float(\"learning_rate\", 1e-5, 1, log=True)\n",
        "    n_estimators = trial.suggest_int(\"n_estimators\", 10, 1000)\n",
        "\n",
        "    score = cross_val_score(LGBMRegressor(max_depth=max_depth, learning_rate=learning_rate, n_estimators=n_estimators),\n",
        "                            Xtrain, ytrain, cv=3, scoring='r2', n_jobs=-1).mean()\n",
        "    return score\n",
        "\n",
        "\n",
        "study = optuna.create_study(direction=\"maximize\")\n",
        "study.optimize(objective_lgbm, n_trials=100)"
      ],
      "metadata": {
        "colab": {
          "base_uri": "https://localhost:8080/"
        },
        "id": "ZVuWYnXzqlzx",
        "outputId": "2832a035-3305-4a0a-f30b-ec158dfa39a5"
      },
      "execution_count": null,
      "outputs": [
        {
          "output_type": "stream",
          "name": "stderr",
          "text": [
            "[I 2025-01-22 17:41:15,745] A new study created in memory with name: no-name-5f49ff2b-a414-4486-9ada-9f5687265e4a\n",
            "/usr/local/lib/python3.11/dist-packages/sklearn/utils/_tags.py:354: FutureWarning: The LGBMRegressor or classes from which it inherits use `_get_tags` and `_more_tags`. Please define the `__sklearn_tags__` method, or inherit from `sklearn.base.BaseEstimator` and/or other appropriate mixins such as `sklearn.base.TransformerMixin`, `sklearn.base.ClassifierMixin`, `sklearn.base.RegressorMixin`, and `sklearn.base.OutlierMixin`. From scikit-learn 1.7, not defining `__sklearn_tags__` will raise an error.\n",
            "  warnings.warn(\n",
            "[I 2025-01-22 17:41:26,619] Trial 0 finished with value: 0.014144943114676992 and parameters: {'max_depth': 15, 'learning_rate': 5.6295290241378764e-05, 'n_estimators': 199}. Best is trial 0 with value: 0.014144943114676992.\n",
            "[I 2025-01-22 17:41:32,186] Trial 1 finished with value: 0.024778902490216748 and parameters: {'max_depth': 4, 'learning_rate': 2.5315080282900307e-05, 'n_estimators': 866}. Best is trial 1 with value: 0.024778902490216748.\n",
            "[I 2025-01-22 17:41:44,349] Trial 2 finished with value: 0.2185662587562364 and parameters: {'max_depth': 10, 'learning_rate': 0.00020976315329674416, 'n_estimators': 969}. Best is trial 2 with value: 0.2185662587562364.\n",
            "[I 2025-01-22 17:41:46,512] Trial 3 finished with value: 0.013059043596351757 and parameters: {'max_depth': 3, 'learning_rate': 1.6671923628262035e-05, 'n_estimators': 758}. Best is trial 2 with value: 0.2185662587562364.\n",
            "[I 2025-01-22 17:41:47,103] Trial 4 finished with value: 0.8214564473573936 and parameters: {'max_depth': 4, 'learning_rate': 0.4483590749958389, 'n_estimators': 137}. Best is trial 4 with value: 0.8214564473573936.\n",
            "[I 2025-01-22 17:41:47,725] Trial 5 finished with value: 0.8156867827061268 and parameters: {'max_depth': 18, 'learning_rate': 0.4256367758414484, 'n_estimators': 105}. Best is trial 4 with value: 0.8214564473573936.\n",
            "[I 2025-01-22 17:41:49,244] Trial 6 finished with value: 0.004220457458407008 and parameters: {'max_depth': 12, 'learning_rate': 1.4743391049631491e-05, 'n_estimators': 230}. Best is trial 4 with value: 0.8214564473573936.\n",
            "[I 2025-01-22 17:41:52,244] Trial 7 finished with value: 0.5632867922406936 and parameters: {'max_depth': 11, 'learning_rate': 0.0017852508033417073, 'n_estimators': 463}. Best is trial 4 with value: 0.8214564473573936.\n",
            "[I 2025-01-22 17:41:58,606] Trial 8 finished with value: 0.08827543857388849 and parameters: {'max_depth': 9, 'learning_rate': 9.501706212483941e-05, 'n_estimators': 774}. Best is trial 4 with value: 0.8214564473573936.\n",
            "[I 2025-01-22 17:41:59,797] Trial 9 finished with value: 0.8203256678083118 and parameters: {'max_depth': 3, 'learning_rate': 0.0808229733338892, 'n_estimators': 427}. Best is trial 4 with value: 0.8214564473573936.\n",
            "[I 2025-01-22 17:42:00,093] Trial 10 finished with value: 0.5175147176320148 and parameters: {'max_depth': 6, 'learning_rate': 0.024535117534370827, 'n_estimators': 29}. Best is trial 4 with value: 0.8214564473573936.\n",
            "[I 2025-01-22 17:42:01,070] Trial 11 finished with value: 0.8173777532504946 and parameters: {'max_depth': 2, 'learning_rate': 0.9488980939299746, 'n_estimators': 446}. Best is trial 4 with value: 0.8214564473573936.\n",
            "[I 2025-01-22 17:42:02,861] Trial 12 finished with value: 0.8357729100405099 and parameters: {'max_depth': 6, 'learning_rate': 0.07090968384957931, 'n_estimators': 352}. Best is trial 12 with value: 0.8357729100405099.\n",
            "[I 2025-01-22 17:42:04,231] Trial 13 finished with value: 0.8323052846681168 and parameters: {'max_depth': 7, 'learning_rate': 0.04578466489518592, 'n_estimators': 289}. Best is trial 12 with value: 0.8357729100405099.\n",
            "[I 2025-01-22 17:42:05,952] Trial 14 finished with value: 0.7764738929906315 and parameters: {'max_depth': 7, 'learning_rate': 0.008915343509467922, 'n_estimators': 320}. Best is trial 12 with value: 0.8357729100405099.\n",
            "[I 2025-01-22 17:42:10,015] Trial 15 finished with value: 0.840156142150957 and parameters: {'max_depth': 7, 'learning_rate': 0.07548152373483252, 'n_estimators': 609}. Best is trial 15 with value: 0.840156142150957.\n",
            "[I 2025-01-22 17:42:14,349] Trial 16 finished with value: 0.6123389458190569 and parameters: {'max_depth': 13, 'learning_rate': 0.0015958167333482156, 'n_estimators': 629}. Best is trial 15 with value: 0.840156142150957.\n",
            "[I 2025-01-22 17:42:17,036] Trial 17 finished with value: 0.8371914285022202 and parameters: {'max_depth': 8, 'learning_rate': 0.1301425354343801, 'n_estimators': 595}. Best is trial 15 with value: 0.840156142150957.\n",
            "[I 2025-01-22 17:42:20,511] Trial 18 finished with value: 0.818851221085164 and parameters: {'max_depth': 9, 'learning_rate': 0.009307356366256708, 'n_estimators': 604}. Best is trial 15 with value: 0.840156142150957.\n",
            "[I 2025-01-22 17:42:23,756] Trial 19 finished with value: 0.8340565831420323 and parameters: {'max_depth': 14, 'learning_rate': 0.17655398992868532, 'n_estimators': 591}. Best is trial 15 with value: 0.840156142150957.\n",
            "[I 2025-01-22 17:42:29,490] Trial 20 finished with value: 0.38394855366576347 and parameters: {'max_depth': 17, 'learning_rate': 0.0005906883748871307, 'n_estimators': 722}. Best is trial 15 with value: 0.840156142150957.\n",
            "[I 2025-01-22 17:42:31,149] Trial 21 finished with value: 0.8370278273705009 and parameters: {'max_depth': 6, 'learning_rate': 0.12393737185003073, 'n_estimators': 347}. Best is trial 15 with value: 0.840156142150957.\n",
            "[I 2025-01-22 17:42:33,647] Trial 22 finished with value: 0.8330242137169156 and parameters: {'max_depth': 8, 'learning_rate': 0.2018904703709024, 'n_estimators': 542}. Best is trial 15 with value: 0.840156142150957.\n",
            "[I 2025-01-22 17:42:36,530] Trial 23 finished with value: 0.8141898004868153 and parameters: {'max_depth': 5, 'learning_rate': 0.012802267047271833, 'n_estimators': 656}. Best is trial 15 with value: 0.840156142150957.\n",
            "[I 2025-01-22 17:42:39,717] Trial 24 finished with value: 0.8353935788709714 and parameters: {'max_depth': 8, 'learning_rate': 0.15431299482348043, 'n_estimators': 525}. Best is trial 15 with value: 0.840156142150957.\n",
            "[I 2025-01-22 17:42:42,935] Trial 25 finished with value: 0.8311569265630481 and parameters: {'max_depth': 20, 'learning_rate': 0.024764828281351806, 'n_estimators': 377}. Best is trial 15 with value: 0.840156142150957.\n",
            "[I 2025-01-22 17:42:47,906] Trial 26 finished with value: 0.8017859982630178 and parameters: {'max_depth': 10, 'learning_rate': 0.004342489223756769, 'n_estimators': 820}. Best is trial 15 with value: 0.840156142150957.\n",
            "[I 2025-01-22 17:42:51,277] Trial 27 finished with value: 0.7160061100884033 and parameters: {'max_depth': 6, 'learning_rate': 0.9878305182747192, 'n_estimators': 699}. Best is trial 15 with value: 0.840156142150957.\n",
            "[I 2025-01-22 17:42:54,648] Trial 28 finished with value: 0.8379590030718771 and parameters: {'max_depth': 8, 'learning_rate': 0.03827211574684481, 'n_estimators': 525}. Best is trial 15 with value: 0.840156142150957.\n",
            "[I 2025-01-22 17:42:58,410] Trial 29 finished with value: 0.8387852931330992 and parameters: {'max_depth': 11, 'learning_rate': 0.03512602670234755, 'n_estimators': 524}. Best is trial 15 with value: 0.840156142150957.\n",
            "[I 2025-01-22 17:43:01,146] Trial 30 finished with value: 0.8366418758965031 and parameters: {'max_depth': 16, 'learning_rate': 0.028164809633506933, 'n_estimators': 509}. Best is trial 15 with value: 0.840156142150957.\n",
            "[I 2025-01-22 17:43:04,022] Trial 31 finished with value: 0.8403028866290337 and parameters: {'max_depth': 12, 'learning_rate': 0.04101661074334355, 'n_estimators': 567}. Best is trial 31 with value: 0.8403028866290337.\n",
            "[I 2025-01-22 17:43:06,740] Trial 32 finished with value: 0.8406213533691188 and parameters: {'max_depth': 12, 'learning_rate': 0.04773256581889332, 'n_estimators': 550}. Best is trial 32 with value: 0.8406213533691188.\n",
            "[I 2025-01-22 17:43:14,338] Trial 33 finished with value: 0.8249424917034799 and parameters: {'max_depth': 14, 'learning_rate': 0.007511141282593263, 'n_estimators': 886}. Best is trial 32 with value: 0.8406213533691188.\n",
            "[I 2025-01-22 17:43:17,198] Trial 34 finished with value: 0.8197577437606708 and parameters: {'max_depth': 12, 'learning_rate': 0.32209659026776066, 'n_estimators': 675}. Best is trial 32 with value: 0.8406213533691188.\n",
            "[I 2025-01-22 17:43:19,631] Trial 35 finished with value: 0.823156447917809 and parameters: {'max_depth': 12, 'learning_rate': 0.014634079543470327, 'n_estimators': 424}. Best is trial 32 with value: 0.8406213533691188.\n",
            "[I 2025-01-22 17:43:23,181] Trial 36 finished with value: 0.8407818493763016 and parameters: {'max_depth': 15, 'learning_rate': 0.06579025260479564, 'n_estimators': 579}. Best is trial 36 with value: 0.8407818493763016.\n",
            "[I 2025-01-22 17:43:28,479] Trial 37 finished with value: 0.8400939917155402 and parameters: {'max_depth': 15, 'learning_rate': 0.07311860718620872, 'n_estimators': 758}. Best is trial 36 with value: 0.8407818493763016.\n",
            "[I 2025-01-22 17:43:34,121] Trial 38 finished with value: 0.8062072598478026 and parameters: {'max_depth': 14, 'learning_rate': 0.004054861916718293, 'n_estimators': 937}. Best is trial 36 with value: 0.8407818493763016.\n",
            "[I 2025-01-22 17:43:36,496] Trial 39 finished with value: 0.8228523640517219 and parameters: {'max_depth': 19, 'learning_rate': 0.33582194526164993, 'n_estimators': 560}. Best is trial 36 with value: 0.8407818493763016.\n",
            "[I 2025-01-22 17:43:40,385] Trial 40 finished with value: 0.8423208151597349 and parameters: {'max_depth': 16, 'learning_rate': 0.0603323469165303, 'n_estimators': 646}. Best is trial 40 with value: 0.8423208151597349.\n",
            "[I 2025-01-22 17:43:44,322] Trial 41 finished with value: 0.8414242640374159 and parameters: {'max_depth': 16, 'learning_rate': 0.06560364993069029, 'n_estimators': 643}. Best is trial 40 with value: 0.8423208151597349.\n",
            "[I 2025-01-22 17:43:47,739] Trial 42 finished with value: 0.841160839282308 and parameters: {'max_depth': 16, 'learning_rate': 0.05985280044540987, 'n_estimators': 709}. Best is trial 40 with value: 0.8423208151597349.\n",
            "[I 2025-01-22 17:43:52,034] Trial 43 finished with value: 0.8375092855647037 and parameters: {'max_depth': 16, 'learning_rate': 0.020114612410958334, 'n_estimators': 795}. Best is trial 40 with value: 0.8423208151597349.\n",
            "[I 2025-01-22 17:43:58,326] Trial 44 finished with value: 0.03089719884570889 and parameters: {'max_depth': 17, 'learning_rate': 3.408371808048687e-05, 'n_estimators': 724}. Best is trial 40 with value: 0.8423208151597349.\n",
            "[I 2025-01-22 17:44:01,196] Trial 45 finished with value: 0.8032329259136922 and parameters: {'max_depth': 18, 'learning_rate': 0.461159926721246, 'n_estimators': 662}. Best is trial 40 with value: 0.8423208151597349.\n",
            "[I 2025-01-22 17:44:05,247] Trial 46 finished with value: 0.842591947050254 and parameters: {'max_depth': 15, 'learning_rate': 0.052755583644055234, 'n_estimators': 837}. Best is trial 46 with value: 0.842591947050254.\n",
            "[I 2025-01-22 17:44:10,005] Trial 47 finished with value: 0.8401106962438375 and parameters: {'max_depth': 16, 'learning_rate': 0.09389293491403009, 'n_estimators': 870}. Best is trial 46 with value: 0.842591947050254.\n",
            "[I 2025-01-22 17:44:16,058] Trial 48 finished with value: 0.7403194345847165 and parameters: {'max_depth': 15, 'learning_rate': 0.002383557633729729, 'n_estimators': 825}. Best is trial 46 with value: 0.842591947050254.\n",
            "[I 2025-01-22 17:44:20,419] Trial 49 finished with value: 0.7826813622357669 and parameters: {'max_depth': 18, 'learning_rate': 0.6158834765606679, 'n_estimators': 995}. Best is trial 46 with value: 0.842591947050254.\n",
            "[I 2025-01-22 17:44:24,052] Trial 50 finished with value: 0.8249953317493506 and parameters: {'max_depth': 17, 'learning_rate': 0.27101863225077466, 'n_estimators': 735}. Best is trial 46 with value: 0.842591947050254.\n",
            "[I 2025-01-22 17:44:27,612] Trial 51 finished with value: 0.8399272055236825 and parameters: {'max_depth': 15, 'learning_rate': 0.05973187789382266, 'n_estimators': 476}. Best is trial 46 with value: 0.842591947050254.\n",
            "[I 2025-01-22 17:44:30,872] Trial 52 finished with value: 0.8421213776808153 and parameters: {'max_depth': 13, 'learning_rate': 0.053296427635879995, 'n_estimators': 648}. Best is trial 46 with value: 0.842591947050254.\n",
            "[I 2025-01-22 17:44:34,448] Trial 53 finished with value: 0.8331926477290658 and parameters: {'max_depth': 13, 'learning_rate': 0.017013088612145375, 'n_estimators': 646}. Best is trial 46 with value: 0.842591947050254.\n",
            "[I 2025-01-22 17:44:38,247] Trial 54 finished with value: 0.8407789982762921 and parameters: {'max_depth': 16, 'learning_rate': 0.08812516217336183, 'n_estimators': 774}. Best is trial 46 with value: 0.842591947050254.\n",
            "[I 2025-01-22 17:44:45,932] Trial 55 finished with value: 0.22775513090028418 and parameters: {'max_depth': 13, 'learning_rate': 0.00022944575246188698, 'n_estimators': 931}. Best is trial 46 with value: 0.842591947050254.\n",
            "[I 2025-01-22 17:44:49,022] Trial 56 finished with value: 0.83884564611377 and parameters: {'max_depth': 15, 'learning_rate': 0.11975841091556741, 'n_estimators': 682}. Best is trial 46 with value: 0.842591947050254.\n",
            "[I 2025-01-22 17:44:53,067] Trial 57 finished with value: 0.8431661957965705 and parameters: {'max_depth': 14, 'learning_rate': 0.05328565276292421, 'n_estimators': 834}. Best is trial 57 with value: 0.8431661957965705.\n",
            "[I 2025-01-22 17:44:59,948] Trial 58 finished with value: 0.8252952600038087 and parameters: {'max_depth': 14, 'learning_rate': 0.008252065620282103, 'n_estimators': 834}. Best is trial 57 with value: 0.8431661957965705.\n",
            "[I 2025-01-22 17:45:03,906] Trial 59 finished with value: 0.8298233067321942 and parameters: {'max_depth': 18, 'learning_rate': 0.20613941087180973, 'n_estimators': 893}. Best is trial 57 with value: 0.8431661957965705.\n",
            "[I 2025-01-22 17:45:07,226] Trial 60 finished with value: 0.8374041967772654 and parameters: {'max_depth': 17, 'learning_rate': 0.025482788219577016, 'n_estimators': 626}. Best is trial 57 with value: 0.8431661957965705.\n",
            "[I 2025-01-22 17:45:12,025] Trial 61 finished with value: 0.8416059289481813 and parameters: {'max_depth': 15, 'learning_rate': 0.054604781917816, 'n_estimators': 700}. Best is trial 57 with value: 0.8431661957965705.\n",
            "[I 2025-01-22 17:45:17,730] Trial 62 finished with value: 0.8411366222853726 and parameters: {'max_depth': 13, 'learning_rate': 0.053701018329768514, 'n_estimators': 712}. Best is trial 57 with value: 0.8431661957965705.\n",
            "[I 2025-01-22 17:45:21,467] Trial 63 finished with value: 0.8392587415174894 and parameters: {'max_depth': 14, 'learning_rate': 0.1014978897955051, 'n_estimators': 796}. Best is trial 57 with value: 0.8431661957965705.\n",
            "[I 2025-01-22 17:45:25,344] Trial 64 finished with value: 0.8416530027250978 and parameters: {'max_depth': 16, 'learning_rate': 0.03244812089648174, 'n_estimators': 747}. Best is trial 57 with value: 0.8431661957965705.\n",
            "[I 2025-01-22 17:45:30,516] Trial 65 finished with value: 0.8403127946598338 and parameters: {'max_depth': 14, 'learning_rate': 0.03239233229970691, 'n_estimators': 753}. Best is trial 57 with value: 0.8431661957965705.\n",
            "[I 2025-01-22 17:45:34,715] Trial 66 finished with value: 0.8320009515569288 and parameters: {'max_depth': 17, 'learning_rate': 0.19273319712839504, 'n_estimators': 837}. Best is trial 57 with value: 0.8431661957965705.\n",
            "[I 2025-01-22 17:45:38,989] Trial 67 finished with value: 0.8356137572062838 and parameters: {'max_depth': 15, 'learning_rate': 0.13608884354748776, 'n_estimators': 925}. Best is trial 57 with value: 0.8431661957965705.\n",
            "[I 2025-01-22 17:45:43,989] Trial 68 finished with value: 0.8378697802522003 and parameters: {'max_depth': 13, 'learning_rate': 0.020190059344936867, 'n_estimators': 784}. Best is trial 57 with value: 0.8431661957965705.\n",
            "[I 2025-01-22 17:45:47,951] Trial 69 finished with value: 0.8380607988881792 and parameters: {'max_depth': 19, 'learning_rate': 0.02707618889404088, 'n_estimators': 628}. Best is trial 57 with value: 0.8431661957965705.\n",
            "[I 2025-01-22 17:45:52,097] Trial 70 finished with value: 0.8085208844123867 and parameters: {'max_depth': 16, 'learning_rate': 0.00577950455577563, 'n_estimators': 687}. Best is trial 57 with value: 0.8431661957965705.\n",
            "[I 2025-01-22 17:45:55,775] Trial 71 finished with value: 0.8422607876603921 and parameters: {'max_depth': 16, 'learning_rate': 0.050851594164062076, 'n_estimators': 741}. Best is trial 57 with value: 0.8431661957965705.\n",
            "[I 2025-01-22 17:46:02,159] Trial 72 finished with value: 0.8300359710508824 and parameters: {'max_depth': 15, 'learning_rate': 0.011600321687927323, 'n_estimators': 754}. Best is trial 57 with value: 0.8431661957965705.\n",
            "[I 2025-01-22 17:46:06,129] Trial 73 finished with value: 0.8426869809913788 and parameters: {'max_depth': 16, 'learning_rate': 0.04075839379021967, 'n_estimators': 808}. Best is trial 57 with value: 0.8431661957965705.\n",
            "[I 2025-01-22 17:46:11,031] Trial 74 finished with value: 0.5739160318823566 and parameters: {'max_depth': 17, 'learning_rate': 0.0010795415395291887, 'n_estimators': 798}. Best is trial 57 with value: 0.8431661957965705.\n",
            "[I 2025-01-22 17:46:17,941] Trial 75 finished with value: 0.8329708726338957 and parameters: {'max_depth': 14, 'learning_rate': 0.01241858212287422, 'n_estimators': 873}. Best is trial 57 with value: 0.8431661957965705.\n",
            "[I 2025-01-22 17:46:22,238] Trial 76 finished with value: 0.8412123320431818 and parameters: {'max_depth': 10, 'learning_rate': 0.03383074314232512, 'n_estimators': 853}. Best is trial 57 with value: 0.8431661957965705.\n",
            "[I 2025-01-22 17:46:26,044] Trial 77 finished with value: 0.8416302636210299 and parameters: {'max_depth': 13, 'learning_rate': 0.03625922554113202, 'n_estimators': 740}. Best is trial 57 with value: 0.8431661957965705.\n",
            "[I 2025-01-22 17:46:27,421] Trial 78 finished with value: 0.8264427098000541 and parameters: {'max_depth': 13, 'learning_rate': 0.042039744215107665, 'n_estimators': 178}. Best is trial 57 with value: 0.8431661957965705.\n",
            "[I 2025-01-22 17:46:33,123] Trial 79 finished with value: 0.8337124146913443 and parameters: {'max_depth': 11, 'learning_rate': 0.016017524186934067, 'n_estimators': 744}. Best is trial 57 with value: 0.8431661957965705.\n",
            "[I 2025-01-22 17:46:36,981] Trial 80 finished with value: 0.8389325581725782 and parameters: {'max_depth': 11, 'learning_rate': 0.09086577835528738, 'n_estimators': 815}. Best is trial 57 with value: 0.8431661957965705.\n",
            "[I 2025-01-22 17:46:40,451] Trial 81 finished with value: 0.8408930107389013 and parameters: {'max_depth': 15, 'learning_rate': 0.044614129557215186, 'n_estimators': 692}. Best is trial 57 with value: 0.8431661957965705.\n",
            "[I 2025-01-22 17:46:45,723] Trial 82 finished with value: 0.8420147524993052 and parameters: {'max_depth': 16, 'learning_rate': 0.04849608509466156, 'n_estimators': 780}. Best is trial 57 with value: 0.8431661957965705.\n",
            "[I 2025-01-22 17:46:51,570] Trial 83 finished with value: 0.011508719673267054 and parameters: {'max_depth': 16, 'learning_rate': 1.005019088754129e-05, 'n_estimators': 907}. Best is trial 57 with value: 0.8431661957965705.\n",
            "[I 2025-01-22 17:46:56,050] Trial 84 finished with value: 0.8391637985661412 and parameters: {'max_depth': 14, 'learning_rate': 0.02210140227300141, 'n_estimators': 844}. Best is trial 57 with value: 0.8431661957965705.\n",
            "[I 2025-01-22 17:47:01,239] Trial 85 finished with value: 0.8364444049682905 and parameters: {'max_depth': 18, 'learning_rate': 0.14825081318308597, 'n_estimators': 775}. Best is trial 57 with value: 0.8431661957965705.\n",
            "[I 2025-01-22 17:47:05,489] Trial 86 finished with value: 0.8420050769547928 and parameters: {'max_depth': 17, 'learning_rate': 0.035597534749992554, 'n_estimators': 810}. Best is trial 57 with value: 0.8431661957965705.\n",
            "[I 2025-01-22 17:47:09,237] Trial 87 finished with value: 0.8395512769113358 and parameters: {'max_depth': 19, 'learning_rate': 0.11382345712509483, 'n_estimators': 812}. Best is trial 57 with value: 0.8431661957965705.\n",
            "[I 2025-01-22 17:47:14,717] Trial 88 finished with value: 0.8408068107045882 and parameters: {'max_depth': 17, 'learning_rate': 0.07711646129938969, 'n_estimators': 963}. Best is trial 57 with value: 0.8431661957965705.\n",
            "[I 2025-01-22 17:47:19,880] Trial 89 finished with value: 0.8427425940127806 and parameters: {'max_depth': 16, 'learning_rate': 0.04868900793452591, 'n_estimators': 856}. Best is trial 57 with value: 0.8431661957965705.\n",
            "[I 2025-01-22 17:47:24,008] Trial 90 finished with value: 0.8428553633198353 and parameters: {'max_depth': 18, 'learning_rate': 0.051759212873443074, 'n_estimators': 854}. Best is trial 57 with value: 0.8431661957965705.\n",
            "[I 2025-01-22 17:47:28,976] Trial 91 finished with value: 0.8430590764157265 and parameters: {'max_depth': 18, 'learning_rate': 0.051986590985285464, 'n_estimators': 860}. Best is trial 57 with value: 0.8431661957965705.\n",
            "[I 2025-01-22 17:47:34,239] Trial 92 finished with value: 0.8429330230239316 and parameters: {'max_depth': 20, 'learning_rate': 0.0464076221477092, 'n_estimators': 860}. Best is trial 57 with value: 0.8431661957965705.\n",
            "[I 2025-01-22 17:47:38,507] Trial 93 finished with value: 0.8420389072274351 and parameters: {'max_depth': 20, 'learning_rate': 0.06947381801736692, 'n_estimators': 900}. Best is trial 57 with value: 0.8431661957965705.\n",
            "[I 2025-01-22 17:47:43,529] Trial 94 finished with value: 0.8258364191661878 and parameters: {'max_depth': 20, 'learning_rate': 0.25404785905231986, 'n_estimators': 960}. Best is trial 57 with value: 0.8431661957965705.\n",
            "[I 2025-01-22 17:47:49,205] Trial 95 finished with value: 0.8373266941997324 and parameters: {'max_depth': 19, 'learning_rate': 0.01806205815444532, 'n_estimators': 855}. Best is trial 57 with value: 0.8431661957965705.\n",
            "[I 2025-01-22 17:47:53,331] Trial 96 finished with value: 0.8412390542064426 and parameters: {'max_depth': 18, 'learning_rate': 0.09453356937292787, 'n_estimators': 877}. Best is trial 57 with value: 0.8431661957965705.\n",
            "[I 2025-01-22 17:47:53,812] Trial 97 finished with value: 0.8020281262180721 and parameters: {'max_depth': 20, 'learning_rate': 0.05091673357541088, 'n_estimators': 69}. Best is trial 57 with value: 0.8431661957965705.\n",
            "[I 2025-01-22 17:47:59,271] Trial 98 finished with value: 0.8399217218214288 and parameters: {'max_depth': 18, 'learning_rate': 0.025985567337387255, 'n_estimators': 855}. Best is trial 57 with value: 0.8431661957965705.\n",
            "[I 2025-01-22 17:48:04,572] Trial 99 finished with value: 0.8325833874663257 and parameters: {'max_depth': 17, 'learning_rate': 0.16835193373070428, 'n_estimators': 998}. Best is trial 57 with value: 0.8431661957965705.\n"
          ]
        }
      ]
    },
    {
      "cell_type": "code",
      "source": [
        "import optuna.visualization as vis\n",
        "\n",
        "\n",
        "vis.plot_param_importances(study).show()\n",
        "vis.plot_optimization_history(study).show()\n",
        "vis.plot_parallel_coordinate(study).show()"
      ],
      "metadata": {
        "id": "omSTkoqDEAPc",
        "outputId": "7b14efde-167d-4831-8af7-73641eb6839d",
        "colab": {
          "base_uri": "https://localhost:8080/",
          "height": 1000
        }
      },
      "execution_count": null,
      "outputs": [
        {
          "output_type": "display_data",
          "data": {
            "text/html": [
              "<html>\n",
              "<head><meta charset=\"utf-8\" /></head>\n",
              "<body>\n",
              "    <div>            <script src=\"https://cdnjs.cloudflare.com/ajax/libs/mathjax/2.7.5/MathJax.js?config=TeX-AMS-MML_SVG\"></script><script type=\"text/javascript\">if (window.MathJax && window.MathJax.Hub && window.MathJax.Hub.Config) {window.MathJax.Hub.Config({SVG: {font: \"STIX-Web\"}});}</script>                <script type=\"text/javascript\">window.PlotlyConfig = {MathJaxConfig: 'local'};</script>\n",
              "        <script charset=\"utf-8\" src=\"https://cdn.plot.ly/plotly-2.35.2.min.js\"></script>                <div id=\"900d562b-7551-422e-b3f8-518bcd5d124f\" class=\"plotly-graph-div\" style=\"height:525px; width:100%;\"></div>            <script type=\"text/javascript\">                                    window.PLOTLYENV=window.PLOTLYENV || {};                                    if (document.getElementById(\"900d562b-7551-422e-b3f8-518bcd5d124f\")) {                    Plotly.newPlot(                        \"900d562b-7551-422e-b3f8-518bcd5d124f\",                        [{\"cliponaxis\":false,\"hovertemplate\":[\"max_depth (IntDistribution): 0.0035654221372958647\\u003cextra\\u003e\\u003c\\u002fextra\\u003e\",\"learning_rate (FloatDistribution): 0.4683186988045299\\u003cextra\\u003e\\u003c\\u002fextra\\u003e\",\"n_estimators (IntDistribution): 0.5281158790581743\\u003cextra\\u003e\\u003c\\u002fextra\\u003e\"],\"name\":\"Objective Value\",\"orientation\":\"h\",\"text\":[\"\\u003c0.01\",\"0.47\",\"0.53\"],\"textposition\":\"outside\",\"x\":[0.0035654221372958647,0.4683186988045299,0.5281158790581743],\"y\":[\"max_depth\",\"learning_rate\",\"n_estimators\"],\"type\":\"bar\"}],                        {\"title\":{\"text\":\"Hyperparameter Importances\"},\"xaxis\":{\"title\":{\"text\":\"Hyperparameter Importance\"}},\"yaxis\":{\"title\":{\"text\":\"Hyperparameter\"}},\"template\":{\"data\":{\"histogram2dcontour\":[{\"type\":\"histogram2dcontour\",\"colorbar\":{\"outlinewidth\":0,\"ticks\":\"\"},\"colorscale\":[[0.0,\"#0d0887\"],[0.1111111111111111,\"#46039f\"],[0.2222222222222222,\"#7201a8\"],[0.3333333333333333,\"#9c179e\"],[0.4444444444444444,\"#bd3786\"],[0.5555555555555556,\"#d8576b\"],[0.6666666666666666,\"#ed7953\"],[0.7777777777777778,\"#fb9f3a\"],[0.8888888888888888,\"#fdca26\"],[1.0,\"#f0f921\"]]}],\"choropleth\":[{\"type\":\"choropleth\",\"colorbar\":{\"outlinewidth\":0,\"ticks\":\"\"}}],\"histogram2d\":[{\"type\":\"histogram2d\",\"colorbar\":{\"outlinewidth\":0,\"ticks\":\"\"},\"colorscale\":[[0.0,\"#0d0887\"],[0.1111111111111111,\"#46039f\"],[0.2222222222222222,\"#7201a8\"],[0.3333333333333333,\"#9c179e\"],[0.4444444444444444,\"#bd3786\"],[0.5555555555555556,\"#d8576b\"],[0.6666666666666666,\"#ed7953\"],[0.7777777777777778,\"#fb9f3a\"],[0.8888888888888888,\"#fdca26\"],[1.0,\"#f0f921\"]]}],\"heatmap\":[{\"type\":\"heatmap\",\"colorbar\":{\"outlinewidth\":0,\"ticks\":\"\"},\"colorscale\":[[0.0,\"#0d0887\"],[0.1111111111111111,\"#46039f\"],[0.2222222222222222,\"#7201a8\"],[0.3333333333333333,\"#9c179e\"],[0.4444444444444444,\"#bd3786\"],[0.5555555555555556,\"#d8576b\"],[0.6666666666666666,\"#ed7953\"],[0.7777777777777778,\"#fb9f3a\"],[0.8888888888888888,\"#fdca26\"],[1.0,\"#f0f921\"]]}],\"heatmapgl\":[{\"type\":\"heatmapgl\",\"colorbar\":{\"outlinewidth\":0,\"ticks\":\"\"},\"colorscale\":[[0.0,\"#0d0887\"],[0.1111111111111111,\"#46039f\"],[0.2222222222222222,\"#7201a8\"],[0.3333333333333333,\"#9c179e\"],[0.4444444444444444,\"#bd3786\"],[0.5555555555555556,\"#d8576b\"],[0.6666666666666666,\"#ed7953\"],[0.7777777777777778,\"#fb9f3a\"],[0.8888888888888888,\"#fdca26\"],[1.0,\"#f0f921\"]]}],\"contourcarpet\":[{\"type\":\"contourcarpet\",\"colorbar\":{\"outlinewidth\":0,\"ticks\":\"\"}}],\"contour\":[{\"type\":\"contour\",\"colorbar\":{\"outlinewidth\":0,\"ticks\":\"\"},\"colorscale\":[[0.0,\"#0d0887\"],[0.1111111111111111,\"#46039f\"],[0.2222222222222222,\"#7201a8\"],[0.3333333333333333,\"#9c179e\"],[0.4444444444444444,\"#bd3786\"],[0.5555555555555556,\"#d8576b\"],[0.6666666666666666,\"#ed7953\"],[0.7777777777777778,\"#fb9f3a\"],[0.8888888888888888,\"#fdca26\"],[1.0,\"#f0f921\"]]}],\"surface\":[{\"type\":\"surface\",\"colorbar\":{\"outlinewidth\":0,\"ticks\":\"\"},\"colorscale\":[[0.0,\"#0d0887\"],[0.1111111111111111,\"#46039f\"],[0.2222222222222222,\"#7201a8\"],[0.3333333333333333,\"#9c179e\"],[0.4444444444444444,\"#bd3786\"],[0.5555555555555556,\"#d8576b\"],[0.6666666666666666,\"#ed7953\"],[0.7777777777777778,\"#fb9f3a\"],[0.8888888888888888,\"#fdca26\"],[1.0,\"#f0f921\"]]}],\"mesh3d\":[{\"type\":\"mesh3d\",\"colorbar\":{\"outlinewidth\":0,\"ticks\":\"\"}}],\"scatter\":[{\"fillpattern\":{\"fillmode\":\"overlay\",\"size\":10,\"solidity\":0.2},\"type\":\"scatter\"}],\"parcoords\":[{\"type\":\"parcoords\",\"line\":{\"colorbar\":{\"outlinewidth\":0,\"ticks\":\"\"}}}],\"scatterpolargl\":[{\"type\":\"scatterpolargl\",\"marker\":{\"colorbar\":{\"outlinewidth\":0,\"ticks\":\"\"}}}],\"bar\":[{\"error_x\":{\"color\":\"#2a3f5f\"},\"error_y\":{\"color\":\"#2a3f5f\"},\"marker\":{\"line\":{\"color\":\"#E5ECF6\",\"width\":0.5},\"pattern\":{\"fillmode\":\"overlay\",\"size\":10,\"solidity\":0.2}},\"type\":\"bar\"}],\"scattergeo\":[{\"type\":\"scattergeo\",\"marker\":{\"colorbar\":{\"outlinewidth\":0,\"ticks\":\"\"}}}],\"scatterpolar\":[{\"type\":\"scatterpolar\",\"marker\":{\"colorbar\":{\"outlinewidth\":0,\"ticks\":\"\"}}}],\"histogram\":[{\"marker\":{\"pattern\":{\"fillmode\":\"overlay\",\"size\":10,\"solidity\":0.2}},\"type\":\"histogram\"}],\"scattergl\":[{\"type\":\"scattergl\",\"marker\":{\"colorbar\":{\"outlinewidth\":0,\"ticks\":\"\"}}}],\"scatter3d\":[{\"type\":\"scatter3d\",\"line\":{\"colorbar\":{\"outlinewidth\":0,\"ticks\":\"\"}},\"marker\":{\"colorbar\":{\"outlinewidth\":0,\"ticks\":\"\"}}}],\"scattermapbox\":[{\"type\":\"scattermapbox\",\"marker\":{\"colorbar\":{\"outlinewidth\":0,\"ticks\":\"\"}}}],\"scatterternary\":[{\"type\":\"scatterternary\",\"marker\":{\"colorbar\":{\"outlinewidth\":0,\"ticks\":\"\"}}}],\"scattercarpet\":[{\"type\":\"scattercarpet\",\"marker\":{\"colorbar\":{\"outlinewidth\":0,\"ticks\":\"\"}}}],\"carpet\":[{\"aaxis\":{\"endlinecolor\":\"#2a3f5f\",\"gridcolor\":\"white\",\"linecolor\":\"white\",\"minorgridcolor\":\"white\",\"startlinecolor\":\"#2a3f5f\"},\"baxis\":{\"endlinecolor\":\"#2a3f5f\",\"gridcolor\":\"white\",\"linecolor\":\"white\",\"minorgridcolor\":\"white\",\"startlinecolor\":\"#2a3f5f\"},\"type\":\"carpet\"}],\"table\":[{\"cells\":{\"fill\":{\"color\":\"#EBF0F8\"},\"line\":{\"color\":\"white\"}},\"header\":{\"fill\":{\"color\":\"#C8D4E3\"},\"line\":{\"color\":\"white\"}},\"type\":\"table\"}],\"barpolar\":[{\"marker\":{\"line\":{\"color\":\"#E5ECF6\",\"width\":0.5},\"pattern\":{\"fillmode\":\"overlay\",\"size\":10,\"solidity\":0.2}},\"type\":\"barpolar\"}],\"pie\":[{\"automargin\":true,\"type\":\"pie\"}]},\"layout\":{\"autotypenumbers\":\"strict\",\"colorway\":[\"#636efa\",\"#EF553B\",\"#00cc96\",\"#ab63fa\",\"#FFA15A\",\"#19d3f3\",\"#FF6692\",\"#B6E880\",\"#FF97FF\",\"#FECB52\"],\"font\":{\"color\":\"#2a3f5f\"},\"hovermode\":\"closest\",\"hoverlabel\":{\"align\":\"left\"},\"paper_bgcolor\":\"white\",\"plot_bgcolor\":\"#E5ECF6\",\"polar\":{\"bgcolor\":\"#E5ECF6\",\"angularaxis\":{\"gridcolor\":\"white\",\"linecolor\":\"white\",\"ticks\":\"\"},\"radialaxis\":{\"gridcolor\":\"white\",\"linecolor\":\"white\",\"ticks\":\"\"}},\"ternary\":{\"bgcolor\":\"#E5ECF6\",\"aaxis\":{\"gridcolor\":\"white\",\"linecolor\":\"white\",\"ticks\":\"\"},\"baxis\":{\"gridcolor\":\"white\",\"linecolor\":\"white\",\"ticks\":\"\"},\"caxis\":{\"gridcolor\":\"white\",\"linecolor\":\"white\",\"ticks\":\"\"}},\"coloraxis\":{\"colorbar\":{\"outlinewidth\":0,\"ticks\":\"\"}},\"colorscale\":{\"sequential\":[[0.0,\"#0d0887\"],[0.1111111111111111,\"#46039f\"],[0.2222222222222222,\"#7201a8\"],[0.3333333333333333,\"#9c179e\"],[0.4444444444444444,\"#bd3786\"],[0.5555555555555556,\"#d8576b\"],[0.6666666666666666,\"#ed7953\"],[0.7777777777777778,\"#fb9f3a\"],[0.8888888888888888,\"#fdca26\"],[1.0,\"#f0f921\"]],\"sequentialminus\":[[0.0,\"#0d0887\"],[0.1111111111111111,\"#46039f\"],[0.2222222222222222,\"#7201a8\"],[0.3333333333333333,\"#9c179e\"],[0.4444444444444444,\"#bd3786\"],[0.5555555555555556,\"#d8576b\"],[0.6666666666666666,\"#ed7953\"],[0.7777777777777778,\"#fb9f3a\"],[0.8888888888888888,\"#fdca26\"],[1.0,\"#f0f921\"]],\"diverging\":[[0,\"#8e0152\"],[0.1,\"#c51b7d\"],[0.2,\"#de77ae\"],[0.3,\"#f1b6da\"],[0.4,\"#fde0ef\"],[0.5,\"#f7f7f7\"],[0.6,\"#e6f5d0\"],[0.7,\"#b8e186\"],[0.8,\"#7fbc41\"],[0.9,\"#4d9221\"],[1,\"#276419\"]]},\"xaxis\":{\"gridcolor\":\"white\",\"linecolor\":\"white\",\"ticks\":\"\",\"title\":{\"standoff\":15},\"zerolinecolor\":\"white\",\"automargin\":true,\"zerolinewidth\":2},\"yaxis\":{\"gridcolor\":\"white\",\"linecolor\":\"white\",\"ticks\":\"\",\"title\":{\"standoff\":15},\"zerolinecolor\":\"white\",\"automargin\":true,\"zerolinewidth\":2},\"scene\":{\"xaxis\":{\"backgroundcolor\":\"#E5ECF6\",\"gridcolor\":\"white\",\"linecolor\":\"white\",\"showbackground\":true,\"ticks\":\"\",\"zerolinecolor\":\"white\",\"gridwidth\":2},\"yaxis\":{\"backgroundcolor\":\"#E5ECF6\",\"gridcolor\":\"white\",\"linecolor\":\"white\",\"showbackground\":true,\"ticks\":\"\",\"zerolinecolor\":\"white\",\"gridwidth\":2},\"zaxis\":{\"backgroundcolor\":\"#E5ECF6\",\"gridcolor\":\"white\",\"linecolor\":\"white\",\"showbackground\":true,\"ticks\":\"\",\"zerolinecolor\":\"white\",\"gridwidth\":2}},\"shapedefaults\":{\"line\":{\"color\":\"#2a3f5f\"}},\"annotationdefaults\":{\"arrowcolor\":\"#2a3f5f\",\"arrowhead\":0,\"arrowwidth\":1},\"geo\":{\"bgcolor\":\"white\",\"landcolor\":\"#E5ECF6\",\"subunitcolor\":\"white\",\"showland\":true,\"showlakes\":true,\"lakecolor\":\"white\"},\"title\":{\"x\":0.05},\"mapbox\":{\"style\":\"light\"}}}},                        {\"responsive\": true}                    ).then(function(){\n",
              "                            \n",
              "var gd = document.getElementById('900d562b-7551-422e-b3f8-518bcd5d124f');\n",
              "var x = new MutationObserver(function (mutations, observer) {{\n",
              "        var display = window.getComputedStyle(gd).display;\n",
              "        if (!display || display === 'none') {{\n",
              "            console.log([gd, 'removed!']);\n",
              "            Plotly.purge(gd);\n",
              "            observer.disconnect();\n",
              "        }}\n",
              "}});\n",
              "\n",
              "// Listen for the removal of the full notebook cells\n",
              "var notebookContainer = gd.closest('#notebook-container');\n",
              "if (notebookContainer) {{\n",
              "    x.observe(notebookContainer, {childList: true});\n",
              "}}\n",
              "\n",
              "// Listen for the clearing of the current output cell\n",
              "var outputEl = gd.closest('.output');\n",
              "if (outputEl) {{\n",
              "    x.observe(outputEl, {childList: true});\n",
              "}}\n",
              "\n",
              "                        })                };                            </script>        </div>\n",
              "</body>\n",
              "</html>"
            ]
          },
          "metadata": {}
        },
        {
          "output_type": "display_data",
          "data": {
            "text/html": [
              "<html>\n",
              "<head><meta charset=\"utf-8\" /></head>\n",
              "<body>\n",
              "    <div>            <script src=\"https://cdnjs.cloudflare.com/ajax/libs/mathjax/2.7.5/MathJax.js?config=TeX-AMS-MML_SVG\"></script><script type=\"text/javascript\">if (window.MathJax && window.MathJax.Hub && window.MathJax.Hub.Config) {window.MathJax.Hub.Config({SVG: {font: \"STIX-Web\"}});}</script>                <script type=\"text/javascript\">window.PlotlyConfig = {MathJaxConfig: 'local'};</script>\n",
              "        <script charset=\"utf-8\" src=\"https://cdn.plot.ly/plotly-2.35.2.min.js\"></script>                <div id=\"b62a1b41-3443-473c-bc1f-9e1bbd21b127\" class=\"plotly-graph-div\" style=\"height:525px; width:100%;\"></div>            <script type=\"text/javascript\">                                    window.PLOTLYENV=window.PLOTLYENV || {};                                    if (document.getElementById(\"b62a1b41-3443-473c-bc1f-9e1bbd21b127\")) {                    Plotly.newPlot(                        \"b62a1b41-3443-473c-bc1f-9e1bbd21b127\",                        [{\"mode\":\"markers\",\"name\":\"Objective Value\",\"x\":[0,1,2,3,4,5,6,7,8,9,10,11,12,13,14,15,16,17,18,19,20,21,22,23,24,25,26,27,28,29,30,31,32,33,34,35,36,37,38,39,40,41,42,43,44,45,46,47,48,49,50,51,52,53,54,55,56,57,58,59,60,61,62,63,64,65,66,67,68,69,70,71,72,73,74,75,76,77,78,79,80,81,82,83,84,85,86,87,88,89,90,91,92,93,94,95,96,97,98,99],\"y\":[0.014144943114676992,0.024778902490216748,0.2185662587562364,0.013059043596351757,0.8214564473573936,0.8156867827061268,0.004220457458407008,0.5632867922406936,0.08827543857388849,0.8203256678083118,0.5175147176320148,0.8173777532504946,0.8357729100405099,0.8323052846681168,0.7764738929906315,0.840156142150957,0.6123389458190569,0.8371914285022202,0.818851221085164,0.8340565831420323,0.38394855366576347,0.8370278273705009,0.8330242137169156,0.8141898004868153,0.8353935788709714,0.8311569265630481,0.8017859982630178,0.7160061100884033,0.8379590030718771,0.8387852931330992,0.8366418758965031,0.8403028866290337,0.8406213533691188,0.8249424917034799,0.8197577437606708,0.823156447917809,0.8407818493763016,0.8400939917155402,0.8062072598478026,0.8228523640517219,0.8423208151597349,0.8414242640374159,0.841160839282308,0.8375092855647037,0.03089719884570889,0.8032329259136922,0.842591947050254,0.8401106962438375,0.7403194345847165,0.7826813622357669,0.8249953317493506,0.8399272055236825,0.8421213776808153,0.8331926477290658,0.8407789982762921,0.22775513090028418,0.83884564611377,0.8431661957965705,0.8252952600038087,0.8298233067321942,0.8374041967772654,0.8416059289481813,0.8411366222853726,0.8392587415174894,0.8416530027250978,0.8403127946598338,0.8320009515569288,0.8356137572062838,0.8378697802522003,0.8380607988881792,0.8085208844123867,0.8422607876603921,0.8300359710508824,0.8426869809913788,0.5739160318823566,0.8329708726338957,0.8412123320431818,0.8416302636210299,0.8264427098000541,0.8337124146913443,0.8389325581725782,0.8408930107389013,0.8420147524993052,0.011508719673267054,0.8391637985661412,0.8364444049682905,0.8420050769547928,0.8395512769113358,0.8408068107045882,0.8427425940127806,0.8428553633198353,0.8430590764157265,0.8429330230239316,0.8420389072274351,0.8258364191661878,0.8373266941997324,0.8412390542064426,0.8020281262180721,0.8399217218214288,0.8325833874663257],\"type\":\"scatter\"},{\"mode\":\"lines\",\"name\":\"Best Value\",\"x\":[0,1,2,3,4,5,6,7,8,9,10,11,12,13,14,15,16,17,18,19,20,21,22,23,24,25,26,27,28,29,30,31,32,33,34,35,36,37,38,39,40,41,42,43,44,45,46,47,48,49,50,51,52,53,54,55,56,57,58,59,60,61,62,63,64,65,66,67,68,69,70,71,72,73,74,75,76,77,78,79,80,81,82,83,84,85,86,87,88,89,90,91,92,93,94,95,96,97,98,99],\"y\":[0.014144943114676992,0.024778902490216748,0.2185662587562364,0.2185662587562364,0.8214564473573936,0.8214564473573936,0.8214564473573936,0.8214564473573936,0.8214564473573936,0.8214564473573936,0.8214564473573936,0.8214564473573936,0.8357729100405099,0.8357729100405099,0.8357729100405099,0.840156142150957,0.840156142150957,0.840156142150957,0.840156142150957,0.840156142150957,0.840156142150957,0.840156142150957,0.840156142150957,0.840156142150957,0.840156142150957,0.840156142150957,0.840156142150957,0.840156142150957,0.840156142150957,0.840156142150957,0.840156142150957,0.8403028866290337,0.8406213533691188,0.8406213533691188,0.8406213533691188,0.8406213533691188,0.8407818493763016,0.8407818493763016,0.8407818493763016,0.8407818493763016,0.8423208151597349,0.8423208151597349,0.8423208151597349,0.8423208151597349,0.8423208151597349,0.8423208151597349,0.842591947050254,0.842591947050254,0.842591947050254,0.842591947050254,0.842591947050254,0.842591947050254,0.842591947050254,0.842591947050254,0.842591947050254,0.842591947050254,0.842591947050254,0.8431661957965705,0.8431661957965705,0.8431661957965705,0.8431661957965705,0.8431661957965705,0.8431661957965705,0.8431661957965705,0.8431661957965705,0.8431661957965705,0.8431661957965705,0.8431661957965705,0.8431661957965705,0.8431661957965705,0.8431661957965705,0.8431661957965705,0.8431661957965705,0.8431661957965705,0.8431661957965705,0.8431661957965705,0.8431661957965705,0.8431661957965705,0.8431661957965705,0.8431661957965705,0.8431661957965705,0.8431661957965705,0.8431661957965705,0.8431661957965705,0.8431661957965705,0.8431661957965705,0.8431661957965705,0.8431661957965705,0.8431661957965705,0.8431661957965705,0.8431661957965705,0.8431661957965705,0.8431661957965705,0.8431661957965705,0.8431661957965705,0.8431661957965705,0.8431661957965705,0.8431661957965705,0.8431661957965705,0.8431661957965705],\"type\":\"scatter\"},{\"marker\":{\"color\":\"#cccccc\"},\"mode\":\"markers\",\"name\":\"Infeasible Trial\",\"showlegend\":false,\"x\":[],\"y\":[],\"type\":\"scatter\"}],                        {\"title\":{\"text\":\"Optimization History Plot\"},\"xaxis\":{\"title\":{\"text\":\"Trial\"}},\"yaxis\":{\"title\":{\"text\":\"Objective Value\"}},\"template\":{\"data\":{\"histogram2dcontour\":[{\"type\":\"histogram2dcontour\",\"colorbar\":{\"outlinewidth\":0,\"ticks\":\"\"},\"colorscale\":[[0.0,\"#0d0887\"],[0.1111111111111111,\"#46039f\"],[0.2222222222222222,\"#7201a8\"],[0.3333333333333333,\"#9c179e\"],[0.4444444444444444,\"#bd3786\"],[0.5555555555555556,\"#d8576b\"],[0.6666666666666666,\"#ed7953\"],[0.7777777777777778,\"#fb9f3a\"],[0.8888888888888888,\"#fdca26\"],[1.0,\"#f0f921\"]]}],\"choropleth\":[{\"type\":\"choropleth\",\"colorbar\":{\"outlinewidth\":0,\"ticks\":\"\"}}],\"histogram2d\":[{\"type\":\"histogram2d\",\"colorbar\":{\"outlinewidth\":0,\"ticks\":\"\"},\"colorscale\":[[0.0,\"#0d0887\"],[0.1111111111111111,\"#46039f\"],[0.2222222222222222,\"#7201a8\"],[0.3333333333333333,\"#9c179e\"],[0.4444444444444444,\"#bd3786\"],[0.5555555555555556,\"#d8576b\"],[0.6666666666666666,\"#ed7953\"],[0.7777777777777778,\"#fb9f3a\"],[0.8888888888888888,\"#fdca26\"],[1.0,\"#f0f921\"]]}],\"heatmap\":[{\"type\":\"heatmap\",\"colorbar\":{\"outlinewidth\":0,\"ticks\":\"\"},\"colorscale\":[[0.0,\"#0d0887\"],[0.1111111111111111,\"#46039f\"],[0.2222222222222222,\"#7201a8\"],[0.3333333333333333,\"#9c179e\"],[0.4444444444444444,\"#bd3786\"],[0.5555555555555556,\"#d8576b\"],[0.6666666666666666,\"#ed7953\"],[0.7777777777777778,\"#fb9f3a\"],[0.8888888888888888,\"#fdca26\"],[1.0,\"#f0f921\"]]}],\"heatmapgl\":[{\"type\":\"heatmapgl\",\"colorbar\":{\"outlinewidth\":0,\"ticks\":\"\"},\"colorscale\":[[0.0,\"#0d0887\"],[0.1111111111111111,\"#46039f\"],[0.2222222222222222,\"#7201a8\"],[0.3333333333333333,\"#9c179e\"],[0.4444444444444444,\"#bd3786\"],[0.5555555555555556,\"#d8576b\"],[0.6666666666666666,\"#ed7953\"],[0.7777777777777778,\"#fb9f3a\"],[0.8888888888888888,\"#fdca26\"],[1.0,\"#f0f921\"]]}],\"contourcarpet\":[{\"type\":\"contourcarpet\",\"colorbar\":{\"outlinewidth\":0,\"ticks\":\"\"}}],\"contour\":[{\"type\":\"contour\",\"colorbar\":{\"outlinewidth\":0,\"ticks\":\"\"},\"colorscale\":[[0.0,\"#0d0887\"],[0.1111111111111111,\"#46039f\"],[0.2222222222222222,\"#7201a8\"],[0.3333333333333333,\"#9c179e\"],[0.4444444444444444,\"#bd3786\"],[0.5555555555555556,\"#d8576b\"],[0.6666666666666666,\"#ed7953\"],[0.7777777777777778,\"#fb9f3a\"],[0.8888888888888888,\"#fdca26\"],[1.0,\"#f0f921\"]]}],\"surface\":[{\"type\":\"surface\",\"colorbar\":{\"outlinewidth\":0,\"ticks\":\"\"},\"colorscale\":[[0.0,\"#0d0887\"],[0.1111111111111111,\"#46039f\"],[0.2222222222222222,\"#7201a8\"],[0.3333333333333333,\"#9c179e\"],[0.4444444444444444,\"#bd3786\"],[0.5555555555555556,\"#d8576b\"],[0.6666666666666666,\"#ed7953\"],[0.7777777777777778,\"#fb9f3a\"],[0.8888888888888888,\"#fdca26\"],[1.0,\"#f0f921\"]]}],\"mesh3d\":[{\"type\":\"mesh3d\",\"colorbar\":{\"outlinewidth\":0,\"ticks\":\"\"}}],\"scatter\":[{\"fillpattern\":{\"fillmode\":\"overlay\",\"size\":10,\"solidity\":0.2},\"type\":\"scatter\"}],\"parcoords\":[{\"type\":\"parcoords\",\"line\":{\"colorbar\":{\"outlinewidth\":0,\"ticks\":\"\"}}}],\"scatterpolargl\":[{\"type\":\"scatterpolargl\",\"marker\":{\"colorbar\":{\"outlinewidth\":0,\"ticks\":\"\"}}}],\"bar\":[{\"error_x\":{\"color\":\"#2a3f5f\"},\"error_y\":{\"color\":\"#2a3f5f\"},\"marker\":{\"line\":{\"color\":\"#E5ECF6\",\"width\":0.5},\"pattern\":{\"fillmode\":\"overlay\",\"size\":10,\"solidity\":0.2}},\"type\":\"bar\"}],\"scattergeo\":[{\"type\":\"scattergeo\",\"marker\":{\"colorbar\":{\"outlinewidth\":0,\"ticks\":\"\"}}}],\"scatterpolar\":[{\"type\":\"scatterpolar\",\"marker\":{\"colorbar\":{\"outlinewidth\":0,\"ticks\":\"\"}}}],\"histogram\":[{\"marker\":{\"pattern\":{\"fillmode\":\"overlay\",\"size\":10,\"solidity\":0.2}},\"type\":\"histogram\"}],\"scattergl\":[{\"type\":\"scattergl\",\"marker\":{\"colorbar\":{\"outlinewidth\":0,\"ticks\":\"\"}}}],\"scatter3d\":[{\"type\":\"scatter3d\",\"line\":{\"colorbar\":{\"outlinewidth\":0,\"ticks\":\"\"}},\"marker\":{\"colorbar\":{\"outlinewidth\":0,\"ticks\":\"\"}}}],\"scattermapbox\":[{\"type\":\"scattermapbox\",\"marker\":{\"colorbar\":{\"outlinewidth\":0,\"ticks\":\"\"}}}],\"scatterternary\":[{\"type\":\"scatterternary\",\"marker\":{\"colorbar\":{\"outlinewidth\":0,\"ticks\":\"\"}}}],\"scattercarpet\":[{\"type\":\"scattercarpet\",\"marker\":{\"colorbar\":{\"outlinewidth\":0,\"ticks\":\"\"}}}],\"carpet\":[{\"aaxis\":{\"endlinecolor\":\"#2a3f5f\",\"gridcolor\":\"white\",\"linecolor\":\"white\",\"minorgridcolor\":\"white\",\"startlinecolor\":\"#2a3f5f\"},\"baxis\":{\"endlinecolor\":\"#2a3f5f\",\"gridcolor\":\"white\",\"linecolor\":\"white\",\"minorgridcolor\":\"white\",\"startlinecolor\":\"#2a3f5f\"},\"type\":\"carpet\"}],\"table\":[{\"cells\":{\"fill\":{\"color\":\"#EBF0F8\"},\"line\":{\"color\":\"white\"}},\"header\":{\"fill\":{\"color\":\"#C8D4E3\"},\"line\":{\"color\":\"white\"}},\"type\":\"table\"}],\"barpolar\":[{\"marker\":{\"line\":{\"color\":\"#E5ECF6\",\"width\":0.5},\"pattern\":{\"fillmode\":\"overlay\",\"size\":10,\"solidity\":0.2}},\"type\":\"barpolar\"}],\"pie\":[{\"automargin\":true,\"type\":\"pie\"}]},\"layout\":{\"autotypenumbers\":\"strict\",\"colorway\":[\"#636efa\",\"#EF553B\",\"#00cc96\",\"#ab63fa\",\"#FFA15A\",\"#19d3f3\",\"#FF6692\",\"#B6E880\",\"#FF97FF\",\"#FECB52\"],\"font\":{\"color\":\"#2a3f5f\"},\"hovermode\":\"closest\",\"hoverlabel\":{\"align\":\"left\"},\"paper_bgcolor\":\"white\",\"plot_bgcolor\":\"#E5ECF6\",\"polar\":{\"bgcolor\":\"#E5ECF6\",\"angularaxis\":{\"gridcolor\":\"white\",\"linecolor\":\"white\",\"ticks\":\"\"},\"radialaxis\":{\"gridcolor\":\"white\",\"linecolor\":\"white\",\"ticks\":\"\"}},\"ternary\":{\"bgcolor\":\"#E5ECF6\",\"aaxis\":{\"gridcolor\":\"white\",\"linecolor\":\"white\",\"ticks\":\"\"},\"baxis\":{\"gridcolor\":\"white\",\"linecolor\":\"white\",\"ticks\":\"\"},\"caxis\":{\"gridcolor\":\"white\",\"linecolor\":\"white\",\"ticks\":\"\"}},\"coloraxis\":{\"colorbar\":{\"outlinewidth\":0,\"ticks\":\"\"}},\"colorscale\":{\"sequential\":[[0.0,\"#0d0887\"],[0.1111111111111111,\"#46039f\"],[0.2222222222222222,\"#7201a8\"],[0.3333333333333333,\"#9c179e\"],[0.4444444444444444,\"#bd3786\"],[0.5555555555555556,\"#d8576b\"],[0.6666666666666666,\"#ed7953\"],[0.7777777777777778,\"#fb9f3a\"],[0.8888888888888888,\"#fdca26\"],[1.0,\"#f0f921\"]],\"sequentialminus\":[[0.0,\"#0d0887\"],[0.1111111111111111,\"#46039f\"],[0.2222222222222222,\"#7201a8\"],[0.3333333333333333,\"#9c179e\"],[0.4444444444444444,\"#bd3786\"],[0.5555555555555556,\"#d8576b\"],[0.6666666666666666,\"#ed7953\"],[0.7777777777777778,\"#fb9f3a\"],[0.8888888888888888,\"#fdca26\"],[1.0,\"#f0f921\"]],\"diverging\":[[0,\"#8e0152\"],[0.1,\"#c51b7d\"],[0.2,\"#de77ae\"],[0.3,\"#f1b6da\"],[0.4,\"#fde0ef\"],[0.5,\"#f7f7f7\"],[0.6,\"#e6f5d0\"],[0.7,\"#b8e186\"],[0.8,\"#7fbc41\"],[0.9,\"#4d9221\"],[1,\"#276419\"]]},\"xaxis\":{\"gridcolor\":\"white\",\"linecolor\":\"white\",\"ticks\":\"\",\"title\":{\"standoff\":15},\"zerolinecolor\":\"white\",\"automargin\":true,\"zerolinewidth\":2},\"yaxis\":{\"gridcolor\":\"white\",\"linecolor\":\"white\",\"ticks\":\"\",\"title\":{\"standoff\":15},\"zerolinecolor\":\"white\",\"automargin\":true,\"zerolinewidth\":2},\"scene\":{\"xaxis\":{\"backgroundcolor\":\"#E5ECF6\",\"gridcolor\":\"white\",\"linecolor\":\"white\",\"showbackground\":true,\"ticks\":\"\",\"zerolinecolor\":\"white\",\"gridwidth\":2},\"yaxis\":{\"backgroundcolor\":\"#E5ECF6\",\"gridcolor\":\"white\",\"linecolor\":\"white\",\"showbackground\":true,\"ticks\":\"\",\"zerolinecolor\":\"white\",\"gridwidth\":2},\"zaxis\":{\"backgroundcolor\":\"#E5ECF6\",\"gridcolor\":\"white\",\"linecolor\":\"white\",\"showbackground\":true,\"ticks\":\"\",\"zerolinecolor\":\"white\",\"gridwidth\":2}},\"shapedefaults\":{\"line\":{\"color\":\"#2a3f5f\"}},\"annotationdefaults\":{\"arrowcolor\":\"#2a3f5f\",\"arrowhead\":0,\"arrowwidth\":1},\"geo\":{\"bgcolor\":\"white\",\"landcolor\":\"#E5ECF6\",\"subunitcolor\":\"white\",\"showland\":true,\"showlakes\":true,\"lakecolor\":\"white\"},\"title\":{\"x\":0.05},\"mapbox\":{\"style\":\"light\"}}}},                        {\"responsive\": true}                    ).then(function(){\n",
              "                            \n",
              "var gd = document.getElementById('b62a1b41-3443-473c-bc1f-9e1bbd21b127');\n",
              "var x = new MutationObserver(function (mutations, observer) {{\n",
              "        var display = window.getComputedStyle(gd).display;\n",
              "        if (!display || display === 'none') {{\n",
              "            console.log([gd, 'removed!']);\n",
              "            Plotly.purge(gd);\n",
              "            observer.disconnect();\n",
              "        }}\n",
              "}});\n",
              "\n",
              "// Listen for the removal of the full notebook cells\n",
              "var notebookContainer = gd.closest('#notebook-container');\n",
              "if (notebookContainer) {{\n",
              "    x.observe(notebookContainer, {childList: true});\n",
              "}}\n",
              "\n",
              "// Listen for the clearing of the current output cell\n",
              "var outputEl = gd.closest('.output');\n",
              "if (outputEl) {{\n",
              "    x.observe(outputEl, {childList: true});\n",
              "}}\n",
              "\n",
              "                        })                };                            </script>        </div>\n",
              "</body>\n",
              "</html>"
            ]
          },
          "metadata": {}
        },
        {
          "output_type": "display_data",
          "data": {
            "text/html": [
              "<html>\n",
              "<head><meta charset=\"utf-8\" /></head>\n",
              "<body>\n",
              "    <div>            <script src=\"https://cdnjs.cloudflare.com/ajax/libs/mathjax/2.7.5/MathJax.js?config=TeX-AMS-MML_SVG\"></script><script type=\"text/javascript\">if (window.MathJax && window.MathJax.Hub && window.MathJax.Hub.Config) {window.MathJax.Hub.Config({SVG: {font: \"STIX-Web\"}});}</script>                <script type=\"text/javascript\">window.PlotlyConfig = {MathJaxConfig: 'local'};</script>\n",
              "        <script charset=\"utf-8\" src=\"https://cdn.plot.ly/plotly-2.35.2.min.js\"></script>                <div id=\"2798ecd6-a134-44eb-b864-ceb961f637cf\" class=\"plotly-graph-div\" style=\"height:525px; width:100%;\"></div>            <script type=\"text/javascript\">                                    window.PLOTLYENV=window.PLOTLYENV || {};                                    if (document.getElementById(\"2798ecd6-a134-44eb-b864-ceb961f637cf\")) {                    Plotly.newPlot(                        \"2798ecd6-a134-44eb-b864-ceb961f637cf\",                        [{\"dimensions\":[{\"label\":\"Objective Value\",\"range\":[0.004220457458407008,0.8431661957965705],\"values\":[0.014144943114676992,0.024778902490216748,0.2185662587562364,0.013059043596351757,0.8214564473573936,0.8156867827061268,0.004220457458407008,0.5632867922406936,0.08827543857388849,0.8203256678083118,0.5175147176320148,0.8173777532504946,0.8357729100405099,0.8323052846681168,0.7764738929906315,0.840156142150957,0.6123389458190569,0.8371914285022202,0.818851221085164,0.8340565831420323,0.38394855366576347,0.8370278273705009,0.8330242137169156,0.8141898004868153,0.8353935788709714,0.8311569265630481,0.8017859982630178,0.7160061100884033,0.8379590030718771,0.8387852931330992,0.8366418758965031,0.8403028866290337,0.8406213533691188,0.8249424917034799,0.8197577437606708,0.823156447917809,0.8407818493763016,0.8400939917155402,0.8062072598478026,0.8228523640517219,0.8423208151597349,0.8414242640374159,0.841160839282308,0.8375092855647037,0.03089719884570889,0.8032329259136922,0.842591947050254,0.8401106962438375,0.7403194345847165,0.7826813622357669,0.8249953317493506,0.8399272055236825,0.8421213776808153,0.8331926477290658,0.8407789982762921,0.22775513090028418,0.83884564611377,0.8431661957965705,0.8252952600038087,0.8298233067321942,0.8374041967772654,0.8416059289481813,0.8411366222853726,0.8392587415174894,0.8416530027250978,0.8403127946598338,0.8320009515569288,0.8356137572062838,0.8378697802522003,0.8380607988881792,0.8085208844123867,0.8422607876603921,0.8300359710508824,0.8426869809913788,0.5739160318823566,0.8329708726338957,0.8412123320431818,0.8416302636210299,0.8264427098000541,0.8337124146913443,0.8389325581725782,0.8408930107389013,0.8420147524993052,0.011508719673267054,0.8391637985661412,0.8364444049682905,0.8420050769547928,0.8395512769113358,0.8408068107045882,0.8427425940127806,0.8428553633198353,0.8430590764157265,0.8429330230239316,0.8420389072274351,0.8258364191661878,0.8373266941997324,0.8412390542064426,0.8020281262180721,0.8399217218214288,0.8325833874663257]},{\"label\":\"learning_rate\",\"range\":[-4.997825689425726,-0.005317560768547541],\"ticktext\":[\"1.01e-05\",\"0.0001\",\"0.001\",\"0.01\",\"0.1\",\"0.988\"],\"tickvals\":[-4.997825689425726,-4,-3,-2,-1,-0.005317560768547541],\"values\":[-4.249527937435326,-4.596620690976516,-3.6782707970065727,-4.77801428781797,-0.3483740354941319,-0.3709608552078336,-4.831402615203953,-2.748300762825779,-4.022198401855096,-1.0924651766755005,-1.6102118572100101,-0.022780425739496745,-1.1492944509206149,-1.3392799601318717,-2.049861918737385,-1.1221593413773994,-2.7970169853321836,-0.8855807366029746,-2.0311736572125465,-0.7531224634057194,-3.228641576242357,-0.9067977175064227,-0.6948841801301929,-1.8927131179348737,-0.8115975001034172,-1.6061646790572532,-2.362261250616909,-0.005317560768547541,-1.4171175285834088,-1.4543709728620229,-1.5502931798235133,-1.387040228811045,-1.321185219917503,-2.1242940689779104,-0.49201387262127216,-1.8346345886906024,-1.1818384461053495,-1.13597208993704,-2.392023930559695,-0.47389092703470065,-1.219449780384342,-1.1830719975044972,-1.222915524630416,-1.6964883314448842,-4.467453035567248,-0.33614843849783005,-1.2777315679265806,-1.027367085511184,-2.622774342495831,-0.21050144737067364,-0.5670008508025826,-1.2237938313754029,-1.273301899979417,-1.7692168359790832,-1.0549000707843026,-3.639319977626932,-0.9216939753167996,-1.2733897096349678,-2.083437327182998,-0.6858389694634305,-1.5937530550600796,-1.2627693230538082,-1.2700174787174654,-0.9935429869103204,-1.4888104485683449,-1.4895577809670817,-0.7150434743016993,-0.8661774764451623,-1.6948624045263592,-1.5674124647567313,-2.2381093895924584,-1.2936954276811945,-1.9355299672080293,-1.3897829390372771,-2.9667606418510877,-1.9059279863947987,-1.4706884621864125,-1.4405814762141662,-1.3763399350392578,-1.7954046115381266,-1.0415996488991,-1.3505275758862327,-1.314293318931964,-4.997825689425726,-1.655580170653959,-0.8290029157717373,-1.4485800773514723,-0.9437682278337317,-1.1128529074429934,-1.3125690743542997,-1.2860123368084349,-1.2841086604433303,-1.33341068356513,-1.1581788332933316,-0.5950844606855155,-1.7432327637572766,-1.0244139438232445,-1.2931394651062953,-1.585267796878184,-0.7737818908366219]},{\"label\":\"max_depth\",\"range\":[2,20],\"values\":[15,4,10,3,4,18,12,11,9,3,6,2,6,7,7,7,13,8,9,14,17,6,8,5,8,20,10,6,8,11,16,12,12,14,12,12,15,15,14,19,16,16,16,16,17,18,15,16,15,18,17,15,13,13,16,13,15,14,14,18,17,15,13,14,16,14,17,15,13,19,16,16,15,16,17,14,10,13,13,11,11,15,16,16,14,18,17,19,17,16,18,18,20,20,20,19,18,20,18,17]},{\"label\":\"n_estimators\",\"range\":[29,998],\"values\":[199,866,969,758,137,105,230,463,774,427,29,446,352,289,320,609,629,595,604,591,722,347,542,656,525,377,820,699,525,524,509,567,550,886,675,424,579,758,937,560,646,643,709,795,724,662,837,870,825,995,735,476,648,646,774,931,682,834,834,893,626,700,712,796,747,753,837,925,784,628,687,741,754,808,798,873,853,740,178,744,815,692,780,907,844,775,810,812,963,856,854,860,860,900,960,855,877,69,855,998]}],\"labelangle\":30,\"labelside\":\"bottom\",\"line\":{\"color\":[0.014144943114676992,0.024778902490216748,0.2185662587562364,0.013059043596351757,0.8214564473573936,0.8156867827061268,0.004220457458407008,0.5632867922406936,0.08827543857388849,0.8203256678083118,0.5175147176320148,0.8173777532504946,0.8357729100405099,0.8323052846681168,0.7764738929906315,0.840156142150957,0.6123389458190569,0.8371914285022202,0.818851221085164,0.8340565831420323,0.38394855366576347,0.8370278273705009,0.8330242137169156,0.8141898004868153,0.8353935788709714,0.8311569265630481,0.8017859982630178,0.7160061100884033,0.8379590030718771,0.8387852931330992,0.8366418758965031,0.8403028866290337,0.8406213533691188,0.8249424917034799,0.8197577437606708,0.823156447917809,0.8407818493763016,0.8400939917155402,0.8062072598478026,0.8228523640517219,0.8423208151597349,0.8414242640374159,0.841160839282308,0.8375092855647037,0.03089719884570889,0.8032329259136922,0.842591947050254,0.8401106962438375,0.7403194345847165,0.7826813622357669,0.8249953317493506,0.8399272055236825,0.8421213776808153,0.8331926477290658,0.8407789982762921,0.22775513090028418,0.83884564611377,0.8431661957965705,0.8252952600038087,0.8298233067321942,0.8374041967772654,0.8416059289481813,0.8411366222853726,0.8392587415174894,0.8416530027250978,0.8403127946598338,0.8320009515569288,0.8356137572062838,0.8378697802522003,0.8380607988881792,0.8085208844123867,0.8422607876603921,0.8300359710508824,0.8426869809913788,0.5739160318823566,0.8329708726338957,0.8412123320431818,0.8416302636210299,0.8264427098000541,0.8337124146913443,0.8389325581725782,0.8408930107389013,0.8420147524993052,0.011508719673267054,0.8391637985661412,0.8364444049682905,0.8420050769547928,0.8395512769113358,0.8408068107045882,0.8427425940127806,0.8428553633198353,0.8430590764157265,0.8429330230239316,0.8420389072274351,0.8258364191661878,0.8373266941997324,0.8412390542064426,0.8020281262180721,0.8399217218214288,0.8325833874663257],\"colorbar\":{\"title\":{\"text\":\"Objective Value\"}},\"colorscale\":[[0.0,\"rgb(247,251,255)\"],[0.125,\"rgb(222,235,247)\"],[0.25,\"rgb(198,219,239)\"],[0.375,\"rgb(158,202,225)\"],[0.5,\"rgb(107,174,214)\"],[0.625,\"rgb(66,146,198)\"],[0.75,\"rgb(33,113,181)\"],[0.875,\"rgb(8,81,156)\"],[1.0,\"rgb(8,48,107)\"]],\"reversescale\":false,\"showscale\":true},\"type\":\"parcoords\"}],                        {\"title\":{\"text\":\"Parallel Coordinate Plot\"},\"template\":{\"data\":{\"histogram2dcontour\":[{\"type\":\"histogram2dcontour\",\"colorbar\":{\"outlinewidth\":0,\"ticks\":\"\"},\"colorscale\":[[0.0,\"#0d0887\"],[0.1111111111111111,\"#46039f\"],[0.2222222222222222,\"#7201a8\"],[0.3333333333333333,\"#9c179e\"],[0.4444444444444444,\"#bd3786\"],[0.5555555555555556,\"#d8576b\"],[0.6666666666666666,\"#ed7953\"],[0.7777777777777778,\"#fb9f3a\"],[0.8888888888888888,\"#fdca26\"],[1.0,\"#f0f921\"]]}],\"choropleth\":[{\"type\":\"choropleth\",\"colorbar\":{\"outlinewidth\":0,\"ticks\":\"\"}}],\"histogram2d\":[{\"type\":\"histogram2d\",\"colorbar\":{\"outlinewidth\":0,\"ticks\":\"\"},\"colorscale\":[[0.0,\"#0d0887\"],[0.1111111111111111,\"#46039f\"],[0.2222222222222222,\"#7201a8\"],[0.3333333333333333,\"#9c179e\"],[0.4444444444444444,\"#bd3786\"],[0.5555555555555556,\"#d8576b\"],[0.6666666666666666,\"#ed7953\"],[0.7777777777777778,\"#fb9f3a\"],[0.8888888888888888,\"#fdca26\"],[1.0,\"#f0f921\"]]}],\"heatmap\":[{\"type\":\"heatmap\",\"colorbar\":{\"outlinewidth\":0,\"ticks\":\"\"},\"colorscale\":[[0.0,\"#0d0887\"],[0.1111111111111111,\"#46039f\"],[0.2222222222222222,\"#7201a8\"],[0.3333333333333333,\"#9c179e\"],[0.4444444444444444,\"#bd3786\"],[0.5555555555555556,\"#d8576b\"],[0.6666666666666666,\"#ed7953\"],[0.7777777777777778,\"#fb9f3a\"],[0.8888888888888888,\"#fdca26\"],[1.0,\"#f0f921\"]]}],\"heatmapgl\":[{\"type\":\"heatmapgl\",\"colorbar\":{\"outlinewidth\":0,\"ticks\":\"\"},\"colorscale\":[[0.0,\"#0d0887\"],[0.1111111111111111,\"#46039f\"],[0.2222222222222222,\"#7201a8\"],[0.3333333333333333,\"#9c179e\"],[0.4444444444444444,\"#bd3786\"],[0.5555555555555556,\"#d8576b\"],[0.6666666666666666,\"#ed7953\"],[0.7777777777777778,\"#fb9f3a\"],[0.8888888888888888,\"#fdca26\"],[1.0,\"#f0f921\"]]}],\"contourcarpet\":[{\"type\":\"contourcarpet\",\"colorbar\":{\"outlinewidth\":0,\"ticks\":\"\"}}],\"contour\":[{\"type\":\"contour\",\"colorbar\":{\"outlinewidth\":0,\"ticks\":\"\"},\"colorscale\":[[0.0,\"#0d0887\"],[0.1111111111111111,\"#46039f\"],[0.2222222222222222,\"#7201a8\"],[0.3333333333333333,\"#9c179e\"],[0.4444444444444444,\"#bd3786\"],[0.5555555555555556,\"#d8576b\"],[0.6666666666666666,\"#ed7953\"],[0.7777777777777778,\"#fb9f3a\"],[0.8888888888888888,\"#fdca26\"],[1.0,\"#f0f921\"]]}],\"surface\":[{\"type\":\"surface\",\"colorbar\":{\"outlinewidth\":0,\"ticks\":\"\"},\"colorscale\":[[0.0,\"#0d0887\"],[0.1111111111111111,\"#46039f\"],[0.2222222222222222,\"#7201a8\"],[0.3333333333333333,\"#9c179e\"],[0.4444444444444444,\"#bd3786\"],[0.5555555555555556,\"#d8576b\"],[0.6666666666666666,\"#ed7953\"],[0.7777777777777778,\"#fb9f3a\"],[0.8888888888888888,\"#fdca26\"],[1.0,\"#f0f921\"]]}],\"mesh3d\":[{\"type\":\"mesh3d\",\"colorbar\":{\"outlinewidth\":0,\"ticks\":\"\"}}],\"scatter\":[{\"fillpattern\":{\"fillmode\":\"overlay\",\"size\":10,\"solidity\":0.2},\"type\":\"scatter\"}],\"parcoords\":[{\"type\":\"parcoords\",\"line\":{\"colorbar\":{\"outlinewidth\":0,\"ticks\":\"\"}}}],\"scatterpolargl\":[{\"type\":\"scatterpolargl\",\"marker\":{\"colorbar\":{\"outlinewidth\":0,\"ticks\":\"\"}}}],\"bar\":[{\"error_x\":{\"color\":\"#2a3f5f\"},\"error_y\":{\"color\":\"#2a3f5f\"},\"marker\":{\"line\":{\"color\":\"#E5ECF6\",\"width\":0.5},\"pattern\":{\"fillmode\":\"overlay\",\"size\":10,\"solidity\":0.2}},\"type\":\"bar\"}],\"scattergeo\":[{\"type\":\"scattergeo\",\"marker\":{\"colorbar\":{\"outlinewidth\":0,\"ticks\":\"\"}}}],\"scatterpolar\":[{\"type\":\"scatterpolar\",\"marker\":{\"colorbar\":{\"outlinewidth\":0,\"ticks\":\"\"}}}],\"histogram\":[{\"marker\":{\"pattern\":{\"fillmode\":\"overlay\",\"size\":10,\"solidity\":0.2}},\"type\":\"histogram\"}],\"scattergl\":[{\"type\":\"scattergl\",\"marker\":{\"colorbar\":{\"outlinewidth\":0,\"ticks\":\"\"}}}],\"scatter3d\":[{\"type\":\"scatter3d\",\"line\":{\"colorbar\":{\"outlinewidth\":0,\"ticks\":\"\"}},\"marker\":{\"colorbar\":{\"outlinewidth\":0,\"ticks\":\"\"}}}],\"scattermapbox\":[{\"type\":\"scattermapbox\",\"marker\":{\"colorbar\":{\"outlinewidth\":0,\"ticks\":\"\"}}}],\"scatterternary\":[{\"type\":\"scatterternary\",\"marker\":{\"colorbar\":{\"outlinewidth\":0,\"ticks\":\"\"}}}],\"scattercarpet\":[{\"type\":\"scattercarpet\",\"marker\":{\"colorbar\":{\"outlinewidth\":0,\"ticks\":\"\"}}}],\"carpet\":[{\"aaxis\":{\"endlinecolor\":\"#2a3f5f\",\"gridcolor\":\"white\",\"linecolor\":\"white\",\"minorgridcolor\":\"white\",\"startlinecolor\":\"#2a3f5f\"},\"baxis\":{\"endlinecolor\":\"#2a3f5f\",\"gridcolor\":\"white\",\"linecolor\":\"white\",\"minorgridcolor\":\"white\",\"startlinecolor\":\"#2a3f5f\"},\"type\":\"carpet\"}],\"table\":[{\"cells\":{\"fill\":{\"color\":\"#EBF0F8\"},\"line\":{\"color\":\"white\"}},\"header\":{\"fill\":{\"color\":\"#C8D4E3\"},\"line\":{\"color\":\"white\"}},\"type\":\"table\"}],\"barpolar\":[{\"marker\":{\"line\":{\"color\":\"#E5ECF6\",\"width\":0.5},\"pattern\":{\"fillmode\":\"overlay\",\"size\":10,\"solidity\":0.2}},\"type\":\"barpolar\"}],\"pie\":[{\"automargin\":true,\"type\":\"pie\"}]},\"layout\":{\"autotypenumbers\":\"strict\",\"colorway\":[\"#636efa\",\"#EF553B\",\"#00cc96\",\"#ab63fa\",\"#FFA15A\",\"#19d3f3\",\"#FF6692\",\"#B6E880\",\"#FF97FF\",\"#FECB52\"],\"font\":{\"color\":\"#2a3f5f\"},\"hovermode\":\"closest\",\"hoverlabel\":{\"align\":\"left\"},\"paper_bgcolor\":\"white\",\"plot_bgcolor\":\"#E5ECF6\",\"polar\":{\"bgcolor\":\"#E5ECF6\",\"angularaxis\":{\"gridcolor\":\"white\",\"linecolor\":\"white\",\"ticks\":\"\"},\"radialaxis\":{\"gridcolor\":\"white\",\"linecolor\":\"white\",\"ticks\":\"\"}},\"ternary\":{\"bgcolor\":\"#E5ECF6\",\"aaxis\":{\"gridcolor\":\"white\",\"linecolor\":\"white\",\"ticks\":\"\"},\"baxis\":{\"gridcolor\":\"white\",\"linecolor\":\"white\",\"ticks\":\"\"},\"caxis\":{\"gridcolor\":\"white\",\"linecolor\":\"white\",\"ticks\":\"\"}},\"coloraxis\":{\"colorbar\":{\"outlinewidth\":0,\"ticks\":\"\"}},\"colorscale\":{\"sequential\":[[0.0,\"#0d0887\"],[0.1111111111111111,\"#46039f\"],[0.2222222222222222,\"#7201a8\"],[0.3333333333333333,\"#9c179e\"],[0.4444444444444444,\"#bd3786\"],[0.5555555555555556,\"#d8576b\"],[0.6666666666666666,\"#ed7953\"],[0.7777777777777778,\"#fb9f3a\"],[0.8888888888888888,\"#fdca26\"],[1.0,\"#f0f921\"]],\"sequentialminus\":[[0.0,\"#0d0887\"],[0.1111111111111111,\"#46039f\"],[0.2222222222222222,\"#7201a8\"],[0.3333333333333333,\"#9c179e\"],[0.4444444444444444,\"#bd3786\"],[0.5555555555555556,\"#d8576b\"],[0.6666666666666666,\"#ed7953\"],[0.7777777777777778,\"#fb9f3a\"],[0.8888888888888888,\"#fdca26\"],[1.0,\"#f0f921\"]],\"diverging\":[[0,\"#8e0152\"],[0.1,\"#c51b7d\"],[0.2,\"#de77ae\"],[0.3,\"#f1b6da\"],[0.4,\"#fde0ef\"],[0.5,\"#f7f7f7\"],[0.6,\"#e6f5d0\"],[0.7,\"#b8e186\"],[0.8,\"#7fbc41\"],[0.9,\"#4d9221\"],[1,\"#276419\"]]},\"xaxis\":{\"gridcolor\":\"white\",\"linecolor\":\"white\",\"ticks\":\"\",\"title\":{\"standoff\":15},\"zerolinecolor\":\"white\",\"automargin\":true,\"zerolinewidth\":2},\"yaxis\":{\"gridcolor\":\"white\",\"linecolor\":\"white\",\"ticks\":\"\",\"title\":{\"standoff\":15},\"zerolinecolor\":\"white\",\"automargin\":true,\"zerolinewidth\":2},\"scene\":{\"xaxis\":{\"backgroundcolor\":\"#E5ECF6\",\"gridcolor\":\"white\",\"linecolor\":\"white\",\"showbackground\":true,\"ticks\":\"\",\"zerolinecolor\":\"white\",\"gridwidth\":2},\"yaxis\":{\"backgroundcolor\":\"#E5ECF6\",\"gridcolor\":\"white\",\"linecolor\":\"white\",\"showbackground\":true,\"ticks\":\"\",\"zerolinecolor\":\"white\",\"gridwidth\":2},\"zaxis\":{\"backgroundcolor\":\"#E5ECF6\",\"gridcolor\":\"white\",\"linecolor\":\"white\",\"showbackground\":true,\"ticks\":\"\",\"zerolinecolor\":\"white\",\"gridwidth\":2}},\"shapedefaults\":{\"line\":{\"color\":\"#2a3f5f\"}},\"annotationdefaults\":{\"arrowcolor\":\"#2a3f5f\",\"arrowhead\":0,\"arrowwidth\":1},\"geo\":{\"bgcolor\":\"white\",\"landcolor\":\"#E5ECF6\",\"subunitcolor\":\"white\",\"showland\":true,\"showlakes\":true,\"lakecolor\":\"white\"},\"title\":{\"x\":0.05},\"mapbox\":{\"style\":\"light\"}}}},                        {\"responsive\": true}                    ).then(function(){\n",
              "                            \n",
              "var gd = document.getElementById('2798ecd6-a134-44eb-b864-ceb961f637cf');\n",
              "var x = new MutationObserver(function (mutations, observer) {{\n",
              "        var display = window.getComputedStyle(gd).display;\n",
              "        if (!display || display === 'none') {{\n",
              "            console.log([gd, 'removed!']);\n",
              "            Plotly.purge(gd);\n",
              "            observer.disconnect();\n",
              "        }}\n",
              "}});\n",
              "\n",
              "// Listen for the removal of the full notebook cells\n",
              "var notebookContainer = gd.closest('#notebook-container');\n",
              "if (notebookContainer) {{\n",
              "    x.observe(notebookContainer, {childList: true});\n",
              "}}\n",
              "\n",
              "// Listen for the clearing of the current output cell\n",
              "var outputEl = gd.closest('.output');\n",
              "if (outputEl) {{\n",
              "    x.observe(outputEl, {childList: true});\n",
              "}}\n",
              "\n",
              "                        })                };                            </script>        </div>\n",
              "</body>\n",
              "</html>"
            ]
          },
          "metadata": {}
        }
      ]
    },
    {
      "cell_type": "code",
      "source": [
        "study.best_params"
      ],
      "metadata": {
        "colab": {
          "base_uri": "https://localhost:8080/"
        },
        "id": "beUZXBdUtLsT",
        "outputId": "1e947f45-ebff-46ee-ef26-ec9d74f404e3"
      },
      "execution_count": null,
      "outputs": [
        {
          "output_type": "execute_result",
          "data": {
            "text/plain": [
              "{'max_depth': 13, 'learning_rate': 0.04232599692911454, 'n_estimators': 974}"
            ]
          },
          "metadata": {},
          "execution_count": 11
        }
      ]
    },
    {
      "cell_type": "code",
      "source": [
        "model = LGBMRegressor(**study.best_params)\n",
        "model.fit(Xtrain, ytrain)\n",
        "\n",
        "pred = model.predict(Xtest)\n",
        "\n",
        "r2_score(ytest, pred)"
      ],
      "metadata": {
        "colab": {
          "base_uri": "https://localhost:8080/"
        },
        "id": "ecgWbLiRgruR",
        "outputId": "c5fe467e-1abb-43bb-a609-429320adbf41"
      },
      "execution_count": null,
      "outputs": [
        {
          "output_type": "execute_result",
          "data": {
            "text/plain": [
              "0.855095804413975"
            ]
          },
          "metadata": {},
          "execution_count": 12
        }
      ]
    },
    {
      "cell_type": "code",
      "source": [],
      "metadata": {
        "id": "azqbRUqn3MaN"
      },
      "execution_count": null,
      "outputs": []
    }
  ]
}